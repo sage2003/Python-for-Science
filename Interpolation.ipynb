{
 "cells": [
  {
   "cell_type": "markdown",
   "id": "f0945a42-36c3-4699-acb5-b2312367cbbd",
   "metadata": {},
   "source": [
    "# Interpolation"
   ]
  },
  {
   "cell_type": "markdown",
   "id": "5e64e17b-fc86-4349-a462-6a2d0ce5e5be",
   "metadata": {},
   "source": [
    "## Newton's Forward Interpolation\n",
    "\n",
    "Formula: $$f(x) = y = y_0 + \\begin{pmatrix} u \\\\ 1 \\end{pmatrix} \\Delta y_0 + \\begin{pmatrix} u \\\\ 2 \\end{pmatrix} \\Delta^2 y_0 + \\dots + \\begin{pmatrix} u \\\\ n \\end{pmatrix} \\Delta^n y_0$$\n",
    "\n",
    "$\\bullet x_1 - x_0 = x_n - x_{n-1} = h\\ (equispaced\\ values)$\n",
    "\n",
    "$\\bullet u = \\dfrac{x - x_0}{h}$\n",
    "\n",
    "$\\bullet x_i = x_0 + (i \\times h)$\n",
    "\n",
    "$\\bullet \\Delta y_i = y_{i+1} - y_i$\n",
    "\n",
    "$\\bullet \\Delta^k y_i = \\Delta^{k-1} y_{i+1} - \\Delta^{k-1} y_{i}$"
   ]
  },
  {
   "cell_type": "code",
   "execution_count": 45,
   "id": "22fbc706-d512-4667-9108-58d903e6a0a4",
   "metadata": {},
   "outputs": [
    {
     "name": "stdout",
     "output_type": "stream",
     "text": [
      "The Forward Difference Table is as follows:\n",
      "45.0000 \t\t0.7071 \t\t0.0589 \t\t-0.0057 \t\t-0.0007 \t\t0.0006 \n",
      "50.0000 \t\t0.7660 \t\t0.0532 \t\t-0.0064 \t\t-0.0001 \n",
      "55.0000 \t\t0.8192 \t\t0.0468 \t\t-0.0065 \n",
      "60.0000 \t\t0.8660 \t\t0.0403 \n",
      "65.0000 \t\t0.9063 \n"
     ]
    },
    {
     "name": "stdin",
     "output_type": "stream",
     "text": [
      "Enter value:  46\n"
     ]
    },
    {
     "name": "stdout",
     "output_type": "stream",
     "text": [
      "0.71928224\n"
     ]
    }
   ],
   "source": [
    "import numpy as np\n",
    "import math\n",
    "import matplotlib.pyplot as plt\n",
    "\n",
    "def fact(n):\n",
    "    if n<2:\n",
    "        return 1\n",
    "    else:\n",
    "        return n * fact(n-1)\n",
    "    \n",
    "#calculating (u i)\n",
    "def u_comb(u, n):\n",
    "    temp = u\n",
    "    for i in range (1, n):\n",
    "        temp = temp * (u-i)\n",
    "    return temp/fact(n)\n",
    "\n",
    "#x = np.arange(1, 6, 1)\n",
    "x = [45, 50, 55, 60, 65]\n",
    "y = [0.7071, 0.7660, 0.8192, 0.866, 0.9063]\n",
    "\n",
    "z = np.zeros((5,5))\n",
    "\n",
    "for i in range (0, 5):\n",
    "    z[i][0] = y[i]\n",
    "    \n",
    "#Generating forward difference table\n",
    "for i in range (1, 5):\n",
    "    for j in range (0, 5-i):\n",
    "        z[j][i] = z[j+1][i-1] - z[j][i-1]\n",
    "        \n",
    "#print(z)\n",
    "        \n",
    "#printing the forward difference table\n",
    "print(\"The Forward Difference Table is as follows:\")\n",
    "for i in range (0, 5):\n",
    "    print(\"%0.4f\"%(x[i]), end=' ')\n",
    "    for j in range (0, 5-i):\n",
    "        print(\"\\t\\t%0.4f\"%(z[i][j]), end=' ')\n",
    "    print()\n",
    "    \n",
    "    \n",
    "#taking input from user\n",
    "val = int(input(\"Enter value: \"))\n",
    "\n",
    "f_x = z[0][0]\n",
    "u = (val - x[0])/(x[1] - x[0])\n",
    "for i in range (1, 5):\n",
    "    f_x = f_x + (u_comb(u, i)*z[0][i])\n",
    "    \n",
    "print(f_x)"
   ]
  },
  {
   "cell_type": "markdown",
   "id": "1e3a86bd-c4c5-4adf-8ce5-fbf373ce1903",
   "metadata": {},
   "source": [
    "## Lagrange's Interpolation Formula\n",
    "\n",
    "Formula: $$P_i(x) = \\prod\\limits_{j = 0, j\\ne i}^n\\frac{x - x_j}{x_i - x_j}$$\n",
    "$$L(x) = \\sum_{i = 0}^n y_i P_i(x)$$\n",
    "\n",
    "Therefore, the algorithm for Lagrange Interpolation is: $L(x) = \\sum\\limits_{i = 0}^n \\left( \\prod\\limits_{j = 0, j\\ne i}^n\\frac{x - x_j}{x_i - x_j} \\right) y_i $\n",
    "\n",
    "You will notice that by construction, $P_i(x)$ has the property that $P_i(x_j)=1$ when $i=j$ and $P_i(x_j)=0$ when $i\\ne j$. Since $L(x)$ is a sum of these polynomials, you can observe that $L(x_i)=y_i$ for every point, exactly as desired.\n",
    "\n",
    "For x = [0, 1, 2] and y = [1, 3, 2], \n",
    "\n",
    "\\begin{eqnarray*}\n",
    "P_0(x) &=& \\frac{(x - x_1)(x - x_2)}{(x_0-x_1)(x_0-x_2)} = \\frac{(x - 1)(x - 2)}{(0-1)(0-2)} = \\frac{1}{2}(x^2 - 3x + 2),\\\\\n",
    "P_1(x) &=& \\frac{(x - x_0)(x - x_2)}{(x_1-x_0)(x_1-x_2)} = \\frac{(x - 0)(x - 2)}{(1-0)(1-2)} = -x^2 + 2x,\\\\\n",
    "P_2(x) &=& \\frac{(x - x_0)(x - x_1)}{(x_2-x_0)(x_2-x_1)} = \\frac{(x - 0)(x - 1)}{(2-0)(2-1)} = \\frac{1}{2}(x^2 - x).\n",
    "\\end{eqnarray*}\n",
    "\n",
    "$$L(x) = f(x) = y = P_0(x) \\cdot 1 + P_1(x) \\cdot 3 + P_2(x) \\cdot 2$$\n",
    "\n",
    "NOTE: Notice that the highest subscript of $P_i(x)$ or, simply, $n$ is also the degree of the resulting polynomial $L(x)$!"
   ]
  },
  {
   "cell_type": "code",
   "execution_count": 47,
   "id": "fc295184-312f-4736-a28e-daadf0ab7f77",
   "metadata": {},
   "outputs": [
    {
     "name": "stdin",
     "output_type": "stream",
     "text": [
      "Enter value:  46\n"
     ]
    },
    {
     "name": "stdout",
     "output_type": "stream",
     "text": [
      "0.71928224\n"
     ]
    }
   ],
   "source": [
    "import numpy as np\n",
    "import math\n",
    "import matplotlib.pyplot as plt\n",
    "\n",
    "x = [45, 50, 55, 60, 65]\n",
    "y = [0.7071, 0.7660, 0.8192, 0.866, 0.9063]\n",
    "\n",
    "m = len(x)\n",
    "n = m-1 #the degree of the resulting polynomial\n",
    "\n",
    "xp = int(input(\"Enter value: \"))#taking input from user\n",
    "yp = 0\n",
    "\n",
    "for i in range (0, n+1):\n",
    "    p = 1\n",
    "    for j in range (0, n+1):\n",
    "        if j!=i:\n",
    "            p *= (xp - x[j])/(x[i] - x[j])\n",
    "    yp += y[i]*p\n",
    "    \n",
    "print(yp)"
   ]
  },
  {
   "cell_type": "markdown",
   "id": "bf76aa03-6747-4113-9695-3d0144280924",
   "metadata": {},
   "source": [
    "### Optimization using NumPy Arrays"
   ]
  },
  {
   "cell_type": "code",
   "execution_count": 49,
   "id": "1db5ebf5-1bcb-4390-ac32-80068d4edb27",
   "metadata": {},
   "outputs": [
    {
     "name": "stdin",
     "output_type": "stream",
     "text": [
      "Enter value:  46\n"
     ]
    },
    {
     "name": "stdout",
     "output_type": "stream",
     "text": [
      "0.71928224\n"
     ]
    }
   ],
   "source": [
    "x = np.array([45, 50, 55, 60, 65], float)\n",
    "y = np.array([0.7071, 0.7660, 0.8192, 0.866, 0.9063], float)\n",
    "\n",
    "xp = float(input(\"Enter value: \"))#taking input from user\n",
    "yp = 0\n",
    "\n",
    "for xi,yi in zip(x,y):\n",
    "    yp += yi * np.prod((xp - x[x != xi])/(xi - x[x != xi]))\n",
    "    \n",
    "print(yp)"
   ]
  },
  {
   "cell_type": "code",
   "execution_count": null,
   "id": "cc3753f5-7de3-4485-86bf-20549113b5cd",
   "metadata": {},
   "outputs": [],
   "source": []
  }
 ],
 "metadata": {
  "kernelspec": {
   "display_name": "Python 3 (ipykernel)",
   "language": "python",
   "name": "python3"
  },
  "language_info": {
   "codemirror_mode": {
    "name": "ipython",
    "version": 3
   },
   "file_extension": ".py",
   "mimetype": "text/x-python",
   "name": "python",
   "nbconvert_exporter": "python",
   "pygments_lexer": "ipython3",
   "version": "3.10.2"
  }
 },
 "nbformat": 4,
 "nbformat_minor": 5
}
