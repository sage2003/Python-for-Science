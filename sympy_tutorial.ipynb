{
 "cells": [
  {
   "cell_type": "code",
   "execution_count": 1,
   "id": "ca627104-e287-4b81-9095-b66c847f59e5",
   "metadata": {},
   "outputs": [],
   "source": [
    "#importing necessary libraries\n",
    "import sympy as smp\n",
    "import numpy as np\n",
    "import matplotlib.pyplot as plt"
   ]
  },
  {
   "cell_type": "markdown",
   "id": "4b895e07-2152-4df4-ad9e-f1141ee97c09",
   "metadata": {},
   "source": [
    "# Introduction\n",
    "\n",
    "Symbols can be defined as follows:"
   ]
  },
  {
   "cell_type": "code",
   "execution_count": 2,
   "id": "bbaab95b-e636-4a5b-aa75-1f5251719f13",
   "metadata": {},
   "outputs": [],
   "source": [
    "x = smp.symbols('x')"
   ]
  },
  {
   "cell_type": "markdown",
   "id": "ca1139c8-82de-45a7-bd07-d12d86134df0",
   "metadata": {},
   "source": [
    "You can then use various mathematical operators on the defined symbols"
   ]
  },
  {
   "cell_type": "code",
   "execution_count": 3,
   "id": "8952e1db-66dc-4998-bc32-d21bb2960f6e",
   "metadata": {},
   "outputs": [
    {
     "data": {
      "text/latex": [
       "$\\displaystyle x^{2}$"
      ],
      "text/plain": [
       "x**2"
      ]
     },
     "execution_count": 3,
     "metadata": {},
     "output_type": "execute_result"
    }
   ],
   "source": [
    "x**2"
   ]
  },
  {
   "cell_type": "code",
   "execution_count": 4,
   "id": "9d38404a-142b-43a7-9cb6-369bfa0b2544",
   "metadata": {},
   "outputs": [
    {
     "data": {
      "text/latex": [
       "$\\displaystyle \\sin{\\left(x \\right)}$"
      ],
      "text/plain": [
       "sin(x)"
      ]
     },
     "execution_count": 4,
     "metadata": {},
     "output_type": "execute_result"
    }
   ],
   "source": [
    "smp.sin(x)"
   ]
  },
  {
   "cell_type": "code",
   "execution_count": 5,
   "id": "a304c6eb-0491-41e6-8224-ed2babc1d03e",
   "metadata": {},
   "outputs": [
    {
     "data": {
      "text/latex": [
       "$\\displaystyle \\cos{\\left(x \\right)}$"
      ],
      "text/plain": [
       "cos(x)"
      ]
     },
     "execution_count": 5,
     "metadata": {},
     "output_type": "execute_result"
    }
   ],
   "source": [
    "smp.cos(x)"
   ]
  },
  {
   "cell_type": "markdown",
   "id": "279dcae6-638e-40c1-a7ed-9391fce5d7c4",
   "metadata": {},
   "source": [
    "Can save expressions in separate variables"
   ]
  },
  {
   "cell_type": "code",
   "execution_count": 6,
   "id": "7976666c-c8a2-4c6b-ad93-d87b9a630b68",
   "metadata": {},
   "outputs": [
    {
     "data": {
      "text/latex": [
       "$\\displaystyle x^{2} + 4 x + 5$"
      ],
      "text/plain": [
       "x**2 + 4*x + 5"
      ]
     },
     "execution_count": 6,
     "metadata": {},
     "output_type": "execute_result"
    }
   ],
   "source": [
    "y = x**2 + 4*x + 5\n",
    "y"
   ]
  },
  {
   "cell_type": "markdown",
   "id": "d1cef7d6-362b-454e-a6ee-e7206636a67d",
   "metadata": {},
   "source": [
    "Do operations on the new variable"
   ]
  },
  {
   "cell_type": "code",
   "execution_count": 7,
   "id": "00766d08-7604-403b-a67d-5324275e801c",
   "metadata": {},
   "outputs": [
    {
     "data": {
      "text/latex": [
       "$\\displaystyle \\left(x^{2} + 4 x + 5\\right)^{3}$"
      ],
      "text/plain": [
       "(x**2 + 4*x + 5)**3"
      ]
     },
     "execution_count": 7,
     "metadata": {},
     "output_type": "execute_result"
    }
   ],
   "source": [
    "z = y**3\n",
    "z"
   ]
  },
  {
   "cell_type": "code",
   "execution_count": null,
   "id": "55b16e57-50f7-4985-86f4-82facd2a9ece",
   "metadata": {},
   "outputs": [],
   "source": []
  }
 ],
 "metadata": {
  "kernelspec": {
   "display_name": "Python 3 (ipykernel)",
   "language": "python",
   "name": "python3"
  },
  "language_info": {
   "codemirror_mode": {
    "name": "ipython",
    "version": 3
   },
   "file_extension": ".py",
   "mimetype": "text/x-python",
   "name": "python",
   "nbconvert_exporter": "python",
   "pygments_lexer": "ipython3",
   "version": "3.10.12"
  }
 },
 "nbformat": 4,
 "nbformat_minor": 5
}
