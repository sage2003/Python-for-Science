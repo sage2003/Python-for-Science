{
 "cells": [
  {
   "cell_type": "markdown",
   "id": "e92c1a69-4649-4307-b55b-0fb1bd4a2233",
   "metadata": {
    "canvas": {
     "comments": [],
     "componentType": "CodeCell",
     "copiedOriginId": null,
     "diskcache": false,
     "headerColor": "transparent",
     "id": "d24147a8-67db-4058-831e-42f1d750ca52",
     "isComponent": false,
     "name": "",
     "parents": []
    },
    "tags": []
   },
   "source": [
    "# Rectangular Approximation\n",
    "## (Reimann Sums)\n",
    "\n",
    "<img src='Reimann.png' width=\"500\" height=\"500\">\n",
    "\n",
    "$$I = \\sum_{i = 1}^{n} f(x_i) \\cdot \\Delta x$$"
   ]
  },
  {
   "cell_type": "code",
   "execution_count": 9,
   "id": "5ff3526f-77f2-4146-b131-f889f7fecc01",
   "metadata": {
    "canvas": {
     "comments": [],
     "componentType": "CodeCell",
     "copiedOriginId": null,
     "diskcache": false,
     "headerColor": "transparent",
     "id": "91d8bae9-0c66-4707-869f-631953a5ca7c",
     "isComponent": false,
     "name": "",
     "parents": []
    }
   },
   "outputs": [
    {
     "data": {
      "text/plain": [
       "666.6788804222177"
      ]
     },
     "execution_count": 9,
     "metadata": {},
     "output_type": "execute_result"
    }
   ],
   "source": [
    "import numpy as np\n",
    "\n",
    "def integral(f, a, b, n): #f: function, a,b: limits of integration, n: no. of rectangles\n",
    "    delta_x = (b - a) / n\n",
    "    sum = 0\n",
    "    for i in range (1, n+1):\n",
    "        sum += f(a + (i - 1) * delta_x) * delta_x\n",
    "    return sum\n",
    "\n",
    "integral(lambda x: np.sin(x) + x**2, -10, 10, 1000)"
   ]
  },
  {
   "cell_type": "markdown",
   "id": "45b6c363-17af-4e87-98a6-339f3940abe7",
   "metadata": {
    "canvas": {
     "comments": [],
     "componentType": "CodeCell",
     "copiedOriginId": null,
     "diskcache": false,
     "headerColor": "transparent",
     "id": "5c401749-cafd-4419-bd40-67b4652b0c11",
     "isComponent": false,
     "name": "",
     "parents": []
    },
    "tags": []
   },
   "source": [
    "# Trapezoidal Rule\n",
    "\n",
    "<img src='Trapezoidal Rule.png' width=\"800\" height=\"800\">\n",
    "\n",
    "\n",
    "$$I = \\dfrac{h}{2} \\left[ f(x_0) + 2 \\sum_{i = 1}^{n - 1} f(x_i) + f(x_n) \\right]$$"
   ]
  },
  {
   "cell_type": "code",
   "execution_count": 30,
   "id": "6d2d8bad-da47-4aa7-8e59-5f8fd4f00189",
   "metadata": {
    "canvas": {
     "comments": [],
     "componentType": "CodeCell",
     "copiedOriginId": null,
     "diskcache": false,
     "headerColor": "transparent",
     "id": "a2e63c16-2fb1-4c0d-851e-3e66ecba9822",
     "isComponent": false,
     "name": "",
     "parents": []
    }
   },
   "outputs": [
    {
     "data": {
      "text/plain": [
       "2.1588747500749483"
      ]
     },
     "execution_count": 30,
     "metadata": {},
     "output_type": "execute_result"
    }
   ],
   "source": [
    "import math\n",
    "\n",
    "def integral(f, a, b, n):\n",
    "    sum = 0\n",
    "    \n",
    "    #calculating no. of segments\n",
    "    h = (b - a) / n\n",
    "        \n",
    "    #calculating the summation\n",
    "    for i in range (1, n):\n",
    "        sum += 2 * f(a + i*h)\n",
    "        \n",
    "    #calculating the integral estimate\n",
    "    int_est = (h/2) * (f(a) + sum + f(b))        \n",
    "        \n",
    "    return int_est\n",
    "        \n",
    "integral(lambda x: math.log(x), 2, 4, 100)"
   ]
  },
  {
   "cell_type": "markdown",
   "id": "99b773d6-1287-4298-afba-af95e51f431c",
   "metadata": {
    "canvas": {
     "comments": [],
     "componentType": "CodeCell",
     "copiedOriginId": null,
     "diskcache": false,
     "headerColor": "transparent",
     "id": "761c4281-089d-46a4-9d00-ad0f355fb574",
     "isComponent": false,
     "name": "",
     "parents": []
    }
   },
   "source": [
    "# Simpson's $\\frac{1}{3}^{rd}$ Rule\n",
    "\n",
    "<img src='Simpson.png' width=\"1500\" height=\"900\">\n",
    "\n",
    "$$I = \\dfrac{h}{3} \\left[ f(x_0) + 4 \\sum_{i = 1,3,5}^{n-1} f(x_i) + 2 \\sum_{i = 2,4,6}^{n-2} f(x_i) + f(x_n) \\right]$$"
   ]
  },
  {
   "cell_type": "code",
   "execution_count": 29,
   "id": "efd7ca5b-7421-49e2-97e3-d92e817d7d45",
   "metadata": {
    "canvas": {
     "comments": [],
     "componentType": "CodeCell",
     "copiedOriginId": null,
     "diskcache": false,
     "headerColor": "transparent",
     "id": "7718be85-f08d-4c75-82bc-d36baedf7b22",
     "isComponent": false,
     "name": "",
     "parents": []
    }
   },
   "outputs": [
    {
     "data": {
      "text/plain": [
       "2.158883083359657"
      ]
     },
     "execution_count": 29,
     "metadata": {},
     "output_type": "execute_result"
    }
   ],
   "source": [
    "import math\n",
    "\n",
    "def integral(f, a, b, n):\n",
    "    sum1 = 0\n",
    "    sum2 = 0\n",
    "    \n",
    "    h = (b - a) / n\n",
    "    \n",
    "    for i in range (1, n, 2):\n",
    "        sum1 += 4 * f(a + i*h)\n",
    "        \n",
    "    for i in range (2, n-1, 2):\n",
    "        sum1 += 2 * f(a + i*h)\n",
    "        \n",
    "    int_est = (h/3) * (f(a) + sum1 + sum2 + f(b))\n",
    "    \n",
    "    return int_est\n",
    "\n",
    "integral(lambda x: math.log(x), 2, 4, 1000)"
   ]
  },
  {
   "cell_type": "code",
   "execution_count": null,
   "id": "1f63495b-2942-4125-b1cc-9d7b6542d610",
   "metadata": {
    "canvas": {
     "comments": [],
     "componentType": "CodeCell",
     "copiedOriginId": null,
     "diskcache": false,
     "headerColor": "transparent",
     "id": "6eb89f7a-83b1-4d19-9a9e-4d1847e26b9d",
     "isComponent": false,
     "name": "",
     "parents": []
    }
   },
   "outputs": [],
   "source": []
  }
 ],
 "metadata": {
  "canvas": {
   "colorPalette": [
    "inherit",
    "inherit",
    "inherit",
    "inherit",
    "inherit",
    "inherit",
    "inherit",
    "inherit",
    "inherit",
    "inherit"
   ],
   "parameters": []
  },
  "kernelspec": {
   "display_name": "Python 3 (ipykernel)",
   "language": "python",
   "name": "python3"
  },
  "language_info": {
   "codemirror_mode": {
    "name": "ipython",
    "version": 3
   },
   "file_extension": ".py",
   "mimetype": "text/x-python",
   "name": "python",
   "nbconvert_exporter": "python",
   "pygments_lexer": "ipython3",
   "version": "3.10.2"
  }
 },
 "nbformat": 4,
 "nbformat_minor": 5
}
