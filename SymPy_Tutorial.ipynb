{
 "cells": [
  {
   "cell_type": "code",
   "execution_count": 1,
   "metadata": {
    "tags": []
   },
   "outputs": [],
   "source": [
    "import sympy as smp\n",
    "import numpy as np\n",
    "from scipy.integrate import odeint\n",
    "import matplotlib.pyplot as plt\n",
    "from matplotlib import animation\n",
    "from mpl_toolkits.mplot3d import Axes3D\n",
    "from matplotlib.animation import PillowWriter"
   ]
  },
  {
   "cell_type": "markdown",
   "metadata": {},
   "source": [
    "# Introduction"
   ]
  },
  {
   "cell_type": "markdown",
   "metadata": {},
   "source": [
    "Symbols can be defined as follows:"
   ]
  },
  {
   "cell_type": "code",
   "execution_count": 52,
   "metadata": {},
   "outputs": [],
   "source": [
    "x = smp.symbols('x')"
   ]
  },
  {
   "cell_type": "markdown",
   "metadata": {},
   "source": [
    "You can then use various mathematical operators on the defined symbols"
   ]
  },
  {
   "cell_type": "code",
   "execution_count": 53,
   "metadata": {},
   "outputs": [
    {
     "data": {
      "text/latex": [
       "$\\displaystyle x^{2}$"
      ],
      "text/plain": [
       "x**2"
      ]
     },
     "execution_count": 53,
     "metadata": {},
     "output_type": "execute_result"
    }
   ],
   "source": [
    "x**2"
   ]
  },
  {
   "cell_type": "code",
   "execution_count": 54,
   "metadata": {},
   "outputs": [
    {
     "data": {
      "text/latex": [
       "$\\displaystyle \\sin{\\left(x \\right)}$"
      ],
      "text/plain": [
       "sin(x)"
      ]
     },
     "execution_count": 54,
     "metadata": {},
     "output_type": "execute_result"
    }
   ],
   "source": [
    "smp.sin(x)"
   ]
  },
  {
   "cell_type": "markdown",
   "metadata": {},
   "source": [
    "There are many many functions built into sympy"
   ]
  },
  {
   "cell_type": "code",
   "execution_count": 55,
   "metadata": {},
   "outputs": [
    {
     "ename": "SyntaxError",
     "evalue": "invalid syntax (1772782272.py, line 1)",
     "output_type": "error",
     "traceback": [
      "\u001b[0;36m  Cell \u001b[0;32mIn[55], line 1\u001b[0;36m\u001b[0m\n\u001b[0;31m    smp.\u001b[0m\n\u001b[0m        ^\u001b[0m\n\u001b[0;31mSyntaxError\u001b[0m\u001b[0;31m:\u001b[0m invalid syntax\n"
     ]
    }
   ],
   "source": [
    "smp."
   ]
  },
  {
   "cell_type": "markdown",
   "metadata": {},
   "source": [
    "Can save expressions in new variables"
   ]
  },
  {
   "cell_type": "code",
   "execution_count": null,
   "metadata": {},
   "outputs": [],
   "source": [
    "y = x**2 + 4*x + 3\n",
    "y"
   ]
  },
  {
   "cell_type": "markdown",
   "metadata": {},
   "source": [
    "Do operations on the new variables:"
   ]
  },
  {
   "cell_type": "code",
   "execution_count": null,
   "metadata": {},
   "outputs": [],
   "source": [
    "z = y**2\n",
    "z"
   ]
  },
  {
   "cell_type": "markdown",
   "metadata": {},
   "source": [
    "Note that it doesn't expand. There are different methods you need to call to do different things with the expression:"
   ]
  },
  {
   "cell_type": "code",
   "execution_count": null,
   "metadata": {},
   "outputs": [],
   "source": [
    "z.factor()"
   ]
  },
  {
   "cell_type": "code",
   "execution_count": null,
   "metadata": {},
   "outputs": [],
   "source": [
    "z.expand()"
   ]
  },
  {
   "cell_type": "markdown",
   "metadata": {},
   "source": [
    "In the notation `smp.solve(f,x)`, sympy finds the value of $x$ that makes $f(x)=0$. "
   ]
  },
  {
   "cell_type": "code",
   "execution_count": null,
   "metadata": {},
   "outputs": [],
   "source": [
    "smp.solve(z,x)"
   ]
  },
  {
   "cell_type": "code",
   "execution_count": null,
   "metadata": {},
   "outputs": [],
   "source": [
    "smp.solve(smp.sin(x), x)"
   ]
  },
  {
   "cell_type": "markdown",
   "metadata": {},
   "source": [
    "**Good Practice**: If you know that your variable $x$ is real (and in some cases non-negative) it's good to specify this when you define your variables to prevent complicated issues when solving complicated problems (especially with integrals)."
   ]
  },
  {
   "cell_type": "code",
   "execution_count": null,
   "metadata": {},
   "outputs": [],
   "source": [
    "x = smp.symbols('x')\n",
    "smp.solve(x**2+1, x)"
   ]
  },
  {
   "cell_type": "code",
   "execution_count": null,
   "metadata": {},
   "outputs": [],
   "source": [
    "x = smp.symbols('x', real=True, positive=True)\n",
    "smp.solve(x+4, x)"
   ]
  },
  {
   "cell_type": "code",
   "execution_count": 56,
   "metadata": {},
   "outputs": [
    {
     "data": {
      "text/plain": [
       "[1]"
      ]
     },
     "execution_count": 56,
     "metadata": {},
     "output_type": "execute_result"
    }
   ],
   "source": [
    "x = smp.symbols('x', real=True, positive=True)\n",
    "smp.solve(x**2-1, x)"
   ]
  },
  {
   "cell_type": "markdown",
   "metadata": {},
   "source": [
    "Can define many variables at once"
   ]
  },
  {
   "cell_type": "code",
   "execution_count": 57,
   "metadata": {},
   "outputs": [
    {
     "data": {
      "text/latex": [
       "$\\displaystyle x^{2} + y \\sin{\\left(z \\right)}$"
      ],
      "text/plain": [
       "x**2 + y*sin(z)"
      ]
     },
     "execution_count": 57,
     "metadata": {},
     "output_type": "execute_result"
    }
   ],
   "source": [
    "x, y, z = smp.symbols('x y z')\n",
    "F = x**2+smp.sin(z)*y\n",
    "F"
   ]
  },
  {
   "cell_type": "markdown",
   "metadata": {},
   "source": [
    "Can also solve multivariable expressions, specifying which variable we want to solve for. In each case, $F=0$ is being solved for"
   ]
  },
  {
   "cell_type": "code",
   "execution_count": 58,
   "metadata": {},
   "outputs": [
    {
     "data": {
      "text/plain": [
       "[-sqrt(-y*sin(z)), sqrt(-y*sin(z))]"
      ]
     },
     "execution_count": 58,
     "metadata": {},
     "output_type": "execute_result"
    }
   ],
   "source": [
    "x_sols = smp.solve(F, x)\n",
    "x_sols"
   ]
  },
  {
   "cell_type": "code",
   "execution_count": 59,
   "metadata": {},
   "outputs": [
    {
     "data": {
      "text/plain": [
       "[-x**2/sin(z)]"
      ]
     },
     "execution_count": 59,
     "metadata": {},
     "output_type": "execute_result"
    }
   ],
   "source": [
    "y_sols = smp.solve(F,y)\n",
    "y_sols"
   ]
  },
  {
   "cell_type": "code",
   "execution_count": 60,
   "metadata": {},
   "outputs": [
    {
     "data": {
      "text/plain": [
       "[asin(x**2/y) + pi, -asin(x**2/y)]"
      ]
     },
     "execution_count": 60,
     "metadata": {},
     "output_type": "execute_result"
    }
   ],
   "source": [
    "z_sols = smp.solve(F,z)\n",
    "z_sols"
   ]
  },
  {
   "cell_type": "markdown",
   "metadata": {},
   "source": [
    "Finally, it may be the case that one has a sympy expression but wants to convert it into a numerical function so they can plot on a computer"
   ]
  },
  {
   "cell_type": "code",
   "execution_count": 61,
   "metadata": {},
   "outputs": [
    {
     "data": {
      "text/latex": [
       "$\\displaystyle \\operatorname{asin}{\\left(\\frac{x^{2}}{y} \\right)} + \\pi$"
      ],
      "text/plain": [
       "asin(x**2/y) + pi"
      ]
     },
     "execution_count": 61,
     "metadata": {},
     "output_type": "execute_result"
    }
   ],
   "source": [
    "expr = z_sols[0]\n",
    "expr"
   ]
  },
  {
   "cell_type": "code",
   "execution_count": 62,
   "metadata": {},
   "outputs": [
    {
     "data": {
      "text/plain": [
       "3.6651914291880923"
      ]
     },
     "execution_count": 62,
     "metadata": {},
     "output_type": "execute_result"
    }
   ],
   "source": [
    "expr_f = smp.lambdify([x,y], expr)\n",
    "expr_f(1,2)"
   ]
  },
  {
   "cell_type": "code",
   "execution_count": 63,
   "metadata": {},
   "outputs": [
    {
     "data": {
      "image/png": "[encoded data removed]",
      "text/plain": [
       "<Figure size 640x480 with 1 Axes>"
      ]
     },
     "metadata": {},
     "output_type": "display_data"
    }
   ],
   "source": [
    "x_num = np.linspace(0,1,100)\n",
    "y_num = 2\n",
    "plt.plot(x_num, expr_f(x_num,y_num))\n",
    "plt.show()"
   ]
  },
  {
   "cell_type": "markdown",
   "metadata": {},
   "source": [
    "For multivariable expressions, can also substitute values in"
   ]
  },
  {
   "cell_type": "code",
   "execution_count": 64,
   "metadata": {},
   "outputs": [
    {
     "data": {
      "text/latex": [
       "$\\displaystyle x^{2} + y \\sin{\\left(z \\right)}$"
      ],
      "text/plain": [
       "x**2 + y*sin(z)"
      ]
     },
     "execution_count": 64,
     "metadata": {},
     "output_type": "execute_result"
    }
   ],
   "source": [
    "F"
   ]
  },
  {
   "cell_type": "code",
   "execution_count": 65,
   "metadata": {},
   "outputs": [
    {
     "data": {
      "text/latex": [
       "$\\displaystyle x^{2} + \\sin{\\left(20 \\right)} \\cos{\\left(x \\right)}$"
      ],
      "text/plain": [
       "x**2 + sin(20)*cos(x)"
      ]
     },
     "execution_count": 65,
     "metadata": {},
     "output_type": "execute_result"
    }
   ],
   "source": [
    "F.subs([(y,smp.cos(x)),(z,20)]) #substitutes y with cos(z) and z with y"
   ]
  },
  {
   "cell_type": "markdown",
   "metadata": {},
   "source": [
    "# Examples"
   ]
  },
  {
   "cell_type": "markdown",
   "metadata": {},
   "source": [
    "A falling object encounters a moving platform accelerating upwards:\n",
    "\n",
    "1. Object $h_o(t) = h_0 - v_o t - \\frac{1}{2}gt^2$\n",
    "2. Platform $h_p(t) = v_p t + \\frac{1}{2}qt^2$\n",
    "\n",
    "**Find the initial velocity $v_0$ such that when the object and platform collide, they are moving at the same speed.**\n",
    "\n",
    "We need to solve for $v_0$ and $t$ in the two equations\n",
    "\n",
    "1. $h_0(t) = h_p(t)$\n",
    "2. $ \\frac{dh_0}{dt} (t) = - \\frac{dh_p}{dt}(t) $\n",
    "\n",
    "In sympy, need to construct our system of equations as $EQ_1=0$, $EQ_2=0$, ... In our case, we rewrite them as\n",
    "\n",
    "1. $h_0(t) - h_p(t) = 0$\n",
    "2. $\\frac{dh_0}{dt} + \\frac{dh_p}{dt} = 0$"
   ]
  },
  {
   "cell_type": "code",
   "execution_count": 66,
   "metadata": {},
   "outputs": [],
   "source": [
    "t, h0, v0, g, vp, q = smp.symbols('t h_0 v_0 g v_p q', real=True, positive=True)"
   ]
  },
  {
   "cell_type": "markdown",
   "metadata": {},
   "source": [
    "Define expressions"
   ]
  },
  {
   "cell_type": "code",
   "execution_count": 67,
   "metadata": {},
   "outputs": [],
   "source": [
    "h0t = h0 - v0*t - smp.Rational(1,2)*g*t**2\n",
    "dh0dt = -g*t - v0\n",
    "hpt = vp*t + smp.Rational(1,2)*q*t**2\n",
    "dhpdt = vp + q*t"
   ]
  },
  {
   "cell_type": "markdown",
   "metadata": {},
   "source": [
    "Define equations"
   ]
  },
  {
   "cell_type": "code",
   "execution_count": 68,
   "metadata": {},
   "outputs": [],
   "source": [
    "eq1 = h0t - hpt\n",
    "eq2 = dh0dt + dhpdt"
   ]
  },
  {
   "cell_type": "markdown",
   "metadata": {},
   "source": [
    "Solve the equations"
   ]
  },
  {
   "cell_type": "code",
   "execution_count": 69,
   "metadata": {},
   "outputs": [
    {
     "data": {
      "text/plain": [
       "((-v_p + v_p*(g + q)/(-g + 3*q) - sqrt(2)*(-g + q)*sqrt(-g*h_0 + 3*h_0*q + 2*v_p**2)/(-g + 3*q))/(-g + q),\n",
       " v_p*(g + q)/(-g + 3*q) - sqrt(2)*(-g + q)*sqrt(-g*h_0 + 3*h_0*q + 2*v_p**2)/(-g + 3*q))"
      ]
     },
     "execution_count": 69,
     "metadata": {},
     "output_type": "execute_result"
    }
   ],
   "source": [
    "smp.solve([eq1, eq2], [t, v0])[0] #solve eq1 for t and eq2 for v0"
   ]
  },
  {
   "cell_type": "code",
   "execution_count": 70,
   "metadata": {},
   "outputs": [],
   "source": [
    "t_collide, v_initfall = smp.solve([eq1, eq2], [t, v0])[0]"
   ]
  },
  {
   "cell_type": "code",
   "execution_count": 71,
   "metadata": {},
   "outputs": [
    {
     "data": {
      "text/latex": [
       "$\\displaystyle \\frac{v_{p} \\left(g + q\\right)}{- g + 3 q} - \\frac{\\sqrt{2} \\left(- g + q\\right) \\sqrt{- g h_{0} + 3 h_{0} q + 2 v_{p}^{2}}}{- g + 3 q}$"
      ],
      "text/plain": [
       "v_p*(g + q)/(-g + 3*q) - sqrt(2)*(-g + q)*sqrt(-g*h_0 + 3*h_0*q + 2*v_p**2)/(-g + 3*q)"
      ]
     },
     "execution_count": 71,
     "metadata": {},
     "output_type": "execute_result"
    }
   ],
   "source": [
    "v_initfall"
   ]
  },
  {
   "cell_type": "code",
   "execution_count": 72,
   "metadata": {},
   "outputs": [
    {
     "data": {
      "text/latex": [
       "$\\displaystyle \\frac{- v_{p} + \\frac{v_{p} \\left(g + q\\right)}{- g + 3 q} - \\frac{\\sqrt{2} \\left(- g + q\\right) \\sqrt{- g h_{0} + 3 h_{0} q + 2 v_{p}^{2}}}{- g + 3 q}}{- g + q}$"
      ],
      "text/plain": [
       "(-v_p + v_p*(g + q)/(-g + 3*q) - sqrt(2)*(-g + q)*sqrt(-g*h_0 + 3*h_0*q + 2*v_p**2)/(-g + 3*q))/(-g + q)"
      ]
     },
     "execution_count": 72,
     "metadata": {},
     "output_type": "execute_result"
    }
   ],
   "source": [
    "t_collide"
   ]
  },
  {
   "cell_type": "markdown",
   "metadata": {},
   "source": [
    "**What is the velocity when they collide?**"
   ]
  },
  {
   "cell_type": "code",
   "execution_count": 73,
   "metadata": {},
   "outputs": [
    {
     "data": {
      "text/latex": [
       "$\\displaystyle \\frac{g v_{p} - q v_{p} + q \\sqrt{- 2 g h_{0} + 6 h_{0} q + 4 v_{p}^{2}}}{- g + 3 q}$"
      ],
      "text/plain": [
       "(g*v_p - q*v_p + q*sqrt(-2*g*h_0 + 6*h_0*q + 4*v_p**2))/(-g + 3*q)"
      ]
     },
     "execution_count": 73,
     "metadata": {},
     "output_type": "execute_result"
    }
   ],
   "source": [
    "dh0dt.subs([(t,t_collide),(v0,v_initfall)]).simplify()"
   ]
  },
  {
   "cell_type": "code",
   "execution_count": 74,
   "metadata": {},
   "outputs": [
    {
     "data": {
      "text/latex": [
       "$\\displaystyle \\frac{- g v_{p} + q v_{p} - q \\sqrt{- 2 g h_{0} + 6 h_{0} q + 4 v_{p}^{2}}}{- g + 3 q}$"
      ],
      "text/plain": [
       "(-g*v_p + q*v_p - q*sqrt(-2*g*h_0 + 6*h_0*q + 4*v_p**2))/(-g + 3*q)"
      ]
     },
     "execution_count": 74,
     "metadata": {},
     "output_type": "execute_result"
    }
   ],
   "source": [
    "dhpdt.subs([(t,t_collide),(v0,v_initfall)]).simplify()"
   ]
  },
  {
   "cell_type": "markdown",
   "metadata": {},
   "source": [
    "# Calculus (1st year)"
   ]
  },
  {
   "cell_type": "markdown",
   "metadata": {},
   "source": [
    "Watch my video here for a more in depth discussion: https://www.youtube.com/watch?v=-SdIZHPuW9o"
   ]
  },
  {
   "cell_type": "code",
   "execution_count": 75,
   "metadata": {},
   "outputs": [],
   "source": [
    "x = smp.symbols('x')"
   ]
  },
  {
   "cell_type": "markdown",
   "metadata": {},
   "source": [
    "## Limits"
   ]
  },
  {
   "cell_type": "markdown",
   "metadata": {},
   "source": [
    "$$\\lim_{x \\to \\pi} \\sin(x/2+ \\sin(x))$$"
   ]
  },
  {
   "cell_type": "code",
   "execution_count": 76,
   "metadata": {},
   "outputs": [
    {
     "data": {
      "text/latex": [
       "$\\displaystyle 1$"
      ],
      "text/plain": [
       "1"
      ]
     },
     "execution_count": 76,
     "metadata": {},
     "output_type": "execute_result"
    }
   ],
   "source": [
    "smp.limit(smp.sin(x/2 + smp.sin(x)), x, smp.pi)"
   ]
  },
  {
   "cell_type": "markdown",
   "metadata": {},
   "source": [
    "## Derivatives"
   ]
  },
  {
   "cell_type": "markdown",
   "metadata": {},
   "source": [
    "$$ \\frac{d}{dx} \\left( \\frac{1+\\sin x}{1 - \\cos x} \\right)^2 $$"
   ]
  },
  {
   "cell_type": "code",
   "execution_count": 77,
   "metadata": {},
   "outputs": [
    {
     "data": {
      "text/latex": [
       "$\\displaystyle \\frac{2 \\left(\\sin{\\left(x \\right)} + 1\\right) \\cos{\\left(x \\right)}}{\\left(1 - \\cos{\\left(x \\right)}\\right)^{2}} - \\frac{2 \\left(\\sin{\\left(x \\right)} + 1\\right)^{2} \\sin{\\left(x \\right)}}{\\left(1 - \\cos{\\left(x \\right)}\\right)^{3}}$"
      ],
      "text/plain": [
       "2*(sin(x) + 1)*cos(x)/(1 - cos(x))**2 - 2*(sin(x) + 1)**2*sin(x)/(1 - cos(x))**3"
      ]
     },
     "execution_count": 77,
     "metadata": {},
     "output_type": "execute_result"
    }
   ],
   "source": [
    "smp.diff(((1 + smp.sin(x)) / (1 - smp.cos(x)))**2, x)"
   ]
  },
  {
   "cell_type": "markdown",
   "metadata": {},
   "source": [
    "$$\\frac{d}{dx} f(x+g(x)) $$"
   ]
  },
  {
   "cell_type": "code",
   "execution_count": 78,
   "metadata": {},
   "outputs": [],
   "source": [
    "f, g = smp.symbols('f g', cls=smp.Function) #f and g are abstract functions"
   ]
  },
  {
   "cell_type": "code",
   "execution_count": 79,
   "metadata": {},
   "outputs": [],
   "source": [
    "f, g = smp.symbols('f g', cls=smp.Function)\n",
    "g = g(x)\n",
    "f = f(x+g)"
   ]
  },
  {
   "cell_type": "code",
   "execution_count": 80,
   "metadata": {
    "tags": []
   },
   "outputs": [
    {
     "data": {
      "text/latex": [
       "$\\displaystyle g{\\left(x \\right)}$"
      ],
      "text/plain": [
       "g(x)"
      ]
     },
     "execution_count": 80,
     "metadata": {},
     "output_type": "execute_result"
    }
   ],
   "source": [
    "g"
   ]
  },
  {
   "cell_type": "code",
   "execution_count": 81,
   "metadata": {},
   "outputs": [
    {
     "data": {
      "text/latex": [
       "$\\displaystyle f{\\left(x + g{\\left(x \\right)} \\right)}$"
      ],
      "text/plain": [
       "f(x + g(x))"
      ]
     },
     "execution_count": 81,
     "metadata": {},
     "output_type": "execute_result"
    }
   ],
   "source": [
    "f"
   ]
  },
  {
   "cell_type": "code",
   "execution_count": 82,
   "metadata": {},
   "outputs": [
    {
     "data": {
      "text/latex": [
       "$\\displaystyle \\left(\\frac{d}{d x} g{\\left(x \\right)} + 1\\right) \\left. \\frac{d}{d \\xi_{1}} f{\\left(\\xi_{1} \\right)} \\right|_{\\substack{ \\xi_{1}=x + g{\\left(x \\right)} }}$"
      ],
      "text/plain": [
       "(Derivative(g(x), x) + 1)*Subs(Derivative(f(_xi_1), _xi_1), _xi_1, x + g(x))"
      ]
     },
     "execution_count": 82,
     "metadata": {},
     "output_type": "execute_result"
    }
   ],
   "source": [
    "dfdx = smp.diff(f,x)\n",
    "dfdx"
   ]
  },
  {
   "cell_type": "code",
   "execution_count": 83,
   "metadata": {
    "tags": []
   },
   "outputs": [
    {
     "data": {
      "text/latex": [
       "$\\displaystyle \\left(\\frac{d}{d x} \\sin{\\left(x \\right)} + 1\\right) \\left. \\frac{d}{d \\xi_{1}} f{\\left(\\xi_{1} \\right)} \\right|_{\\substack{ \\xi_{1}=x + \\sin{\\left(x \\right)} }}$"
      ],
      "text/plain": [
       "(Derivative(sin(x), x) + 1)*Subs(Derivative(f(_xi_1), _xi_1), _xi_1, x + sin(x))"
      ]
     },
     "execution_count": 83,
     "metadata": {},
     "output_type": "execute_result"
    }
   ],
   "source": [
    "dfdx.subs([(g, smp.sin(x))]) #.doit()"
   ]
  },
  {
   "cell_type": "code",
   "execution_count": 84,
   "metadata": {},
   "outputs": [
    {
     "data": {
      "text/latex": [
       "$\\displaystyle \\left(\\cos{\\left(x \\right)} + 1\\right) \\left. \\frac{d}{d \\xi_{1}} f{\\left(\\xi_{1} \\right)} \\right|_{\\substack{ \\xi_{1}=x + \\sin{\\left(x \\right)} }}$"
      ],
      "text/plain": [
       "(cos(x) + 1)*Subs(Derivative(f(_xi_1), _xi_1), _xi_1, x + sin(x))"
      ]
     },
     "execution_count": 84,
     "metadata": {},
     "output_type": "execute_result"
    }
   ],
   "source": [
    "dfdx.subs([(g, smp.sin(x))]).doit() # need to call doit"
   ]
  },
  {
   "cell_type": "markdown",
   "metadata": {},
   "source": [
    "## Basic Antiderivatives"
   ]
  },
  {
   "cell_type": "markdown",
   "metadata": {},
   "source": [
    "$$ \\int \\csc(x) \\cot (x)  dx $$"
   ]
  },
  {
   "cell_type": "code",
   "execution_count": 85,
   "metadata": {},
   "outputs": [
    {
     "data": {
      "text/latex": [
       "$\\displaystyle - \\frac{1}{\\sin{\\left(x \\right)}}$"
      ],
      "text/plain": [
       "-1/sin(x)"
      ]
     },
     "execution_count": 85,
     "metadata": {},
     "output_type": "execute_result"
    }
   ],
   "source": [
    "smp.integrate(smp.csc(x)*smp.cot(x), x)"
   ]
  },
  {
   "cell_type": "markdown",
   "metadata": {},
   "source": [
    "## Definite Integrals"
   ]
  },
  {
   "cell_type": "markdown",
   "metadata": {},
   "source": [
    "$$\\int_{0}^{\\ln(4)}\\frac{e^x dx}{\\sqrt{e^{2x}+9}} $$"
   ]
  },
  {
   "cell_type": "code",
   "execution_count": 86,
   "metadata": {},
   "outputs": [
    {
     "data": {
      "text/latex": [
       "$\\displaystyle - \\operatorname{asinh}{\\left(\\frac{1}{3} \\right)} + \\operatorname{asinh}{\\left(\\frac{4}{3} \\right)}$"
      ],
      "text/plain": [
       "-asinh(1/3) + asinh(4/3)"
      ]
     },
     "execution_count": 86,
     "metadata": {},
     "output_type": "execute_result"
    }
   ],
   "source": [
    "smp.integrate(smp.exp(x) / smp.sqrt(smp.exp(2*x) + 9), (x, 0, smp.log(4)))"
   ]
  },
  {
   "cell_type": "markdown",
   "metadata": {},
   "source": [
    "$$\\int_1^t x^{10} e^x dx $$"
   ]
  },
  {
   "cell_type": "code",
   "execution_count": 87,
   "metadata": {},
   "outputs": [],
   "source": [
    "t= smp.symbols('t')"
   ]
  },
  {
   "cell_type": "code",
   "execution_count": 88,
   "metadata": {},
   "outputs": [
    {
     "data": {
      "text/latex": [
       "$\\displaystyle \\left(t^{10} - 10 t^{9} + 90 t^{8} - 720 t^{7} + 5040 t^{6} - 30240 t^{5} + 151200 t^{4} - 604800 t^{3} + 1814400 t^{2} - 3628800 t + 3628800\\right) e^{t} - 1334961 e$"
      ],
      "text/plain": [
       "(t**10 - 10*t**9 + 90*t**8 - 720*t**7 + 5040*t**6 - 30240*t**5 + 151200*t**4 - 604800*t**3 + 1814400*t**2 - 3628800*t + 3628800)*exp(t) - 1334961*E"
      ]
     },
     "execution_count": 88,
     "metadata": {},
     "output_type": "execute_result"
    }
   ],
   "source": [
    "smp.integrate(x**10*smp.exp(x), (x, 1, t))"
   ]
  },
  {
   "cell_type": "markdown",
   "metadata": {},
   "source": [
    "# Examples"
   ]
  },
  {
   "cell_type": "markdown",
   "metadata": {},
   "source": [
    "The hydrogen wave function is given by\n",
    "\n",
    "$$\\psi_{nlm} = R_{nl}(r)Y_l^m(\\theta, \\phi) $$\n",
    "\n",
    "$$R_{nl}(r) =  \\sqrt{\\left(\\frac{2}{na}\\right)^3 \\frac{(n-l-1)!}{2n[(n+1)!]}} e^{-r/na} \\left(\\frac{2r}{na}\\right)^l \\left[L_{n-l-1}^{2l+1}(2r/na)\\right]$$\n",
    "\n",
    "The mean distance from the nucleus of the electron:\n",
    "\n",
    "$$\\left<r\\right> = \\int R_{nl}^2 r^3 dr$$\n",
    "\n",
    "The standard deviation in the distance from the nucleus of the electron:\n",
    "\n",
    "$$\\sigma = \\sqrt{\\left<r^2\\right> - \\left<r\\right>^2} =  \\sqrt{\\left(\\int_{0}^{\\infty}R_{nl}^2 r^4 dr\\right) - \\left(\\int_{0}^{\\infty} R_{nl}^2 r^3 dr\\right)^2}$$"
   ]
  },
  {
   "cell_type": "code",
   "execution_count": 89,
   "metadata": {},
   "outputs": [],
   "source": [
    "from sympy import assoc_laguerre"
   ]
  },
  {
   "cell_type": "code",
   "execution_count": 90,
   "metadata": {
    "tags": []
   },
   "outputs": [
    {
     "data": {
      "text/plain": [
       "\u001b[0;31mInit signature:\u001b[0m \u001b[0massoc_laguerre\u001b[0m\u001b[0;34m(\u001b[0m\u001b[0mn\u001b[0m\u001b[0;34m,\u001b[0m \u001b[0malpha\u001b[0m\u001b[0;34m,\u001b[0m \u001b[0mx\u001b[0m\u001b[0;34m)\u001b[0m\u001b[0;34m\u001b[0m\u001b[0;34m\u001b[0m\u001b[0m\n",
       "\u001b[0;31mDocstring:\u001b[0m     \n",
       "Returns the $n$th generalized Laguerre polynomial in $x$, $L_n(x)$.\n",
       "\n",
       "Examples\n",
       "========\n",
       "\n",
       ">>> from sympy import assoc_laguerre, diff\n",
       ">>> from sympy.abc import x, n, a\n",
       ">>> assoc_laguerre(0, a, x)\n",
       "1\n",
       ">>> assoc_laguerre(1, a, x)\n",
       "a - x + 1\n",
       ">>> assoc_laguerre(2, a, x)\n",
       "a**2/2 + 3*a/2 + x**2/2 + x*(-a - 2) + 1\n",
       ">>> assoc_laguerre(3, a, x)\n",
       "a**3/6 + a**2 + 11*a/6 - x**3/6 + x**2*(a/2 + 3/2) +\n",
       "    x*(-a**2/2 - 5*a/2 - 3) + 1\n",
       "\n",
       ">>> assoc_laguerre(n, a, 0)\n",
       "binomial(a + n, a)\n",
       "\n",
       ">>> assoc_laguerre(n, a, x)\n",
       "assoc_laguerre(n, a, x)\n",
       "\n",
       ">>> assoc_laguerre(n, 0, x)\n",
       "laguerre(n, x)\n",
       "\n",
       ">>> diff(assoc_laguerre(n, a, x), x)\n",
       "-assoc_laguerre(n - 1, a + 1, x)\n",
       "\n",
       ">>> diff(assoc_laguerre(n, a, x), a)\n",
       "Sum(assoc_laguerre(_k, a, x)/(-a + n), (_k, 0, n - 1))\n",
       "\n",
       "Parameters\n",
       "==========\n",
       "\n",
       "n : int\n",
       "    Degree of Laguerre polynomial. Must be `n \\ge 0`.\n",
       "\n",
       "alpha : Expr\n",
       "    Arbitrary expression. For ``alpha=0`` regular Laguerre\n",
       "    polynomials will be generated.\n",
       "\n",
       "See Also\n",
       "========\n",
       "\n",
       "jacobi, gegenbauer,\n",
       "chebyshevt, chebyshevt_root, chebyshevu, chebyshevu_root,\n",
       "legendre, assoc_legendre,\n",
       "hermite,\n",
       "laguerre,\n",
       "sympy.polys.orthopolys.jacobi_poly\n",
       "sympy.polys.orthopolys.gegenbauer_poly\n",
       "sympy.polys.orthopolys.chebyshevt_poly\n",
       "sympy.polys.orthopolys.chebyshevu_poly\n",
       "sympy.polys.orthopolys.hermite_poly\n",
       "sympy.polys.orthopolys.legendre_poly\n",
       "sympy.polys.orthopolys.laguerre_poly\n",
       "\n",
       "References\n",
       "==========\n",
       "\n",
       ".. [1] https://en.wikipedia.org/wiki/Laguerre_polynomial#Generalized_Laguerre_polynomials\n",
       ".. [2] http://mathworld.wolfram.com/AssociatedLaguerrePolynomial.html\n",
       ".. [3] http://functions.wolfram.com/Polynomials/LaguerreL/\n",
       ".. [4] http://functions.wolfram.com/Polynomials/LaguerreL3/\n",
       "\u001b[0;31mFile:\u001b[0m           ~/anaconda3/lib/python3.11/site-packages/sympy/functions/special/polynomials.py\n",
       "\u001b[0;31mType:\u001b[0m           FunctionClass\n",
       "\u001b[0;31mSubclasses:\u001b[0m     "
      ]
     },
     "metadata": {},
     "output_type": "display_data"
    }
   ],
   "source": [
    "assoc_laguerre?"
   ]
  },
  {
   "cell_type": "markdown",
   "metadata": {},
   "source": [
    "Define variables, be sure to specify their attributes"
   ]
  },
  {
   "cell_type": "code",
   "execution_count": 91,
   "metadata": {},
   "outputs": [],
   "source": [
    "r, a = smp.symbols('r a', real=True, positive=True)\n",
    "n, l = smp.symbols('n l', integer=True, positive=True)"
   ]
  },
  {
   "cell_type": "markdown",
   "metadata": {},
   "source": [
    "Define $R_{nl}(r)$"
   ]
  },
  {
   "cell_type": "code",
   "execution_count": 92,
   "metadata": {},
   "outputs": [
    {
     "data": {
      "text/latex": [
       "$\\displaystyle \\frac{2 \\left(\\frac{2 r}{a n}\\right)^{l} e^{- \\frac{r}{a n}} L_{- l + n - 1}^{\\left(2 l + 1\\right)}\\left(\\frac{2 r}{a n}\\right) \\sqrt{\\left(- l + n - 1\\right)!}}{a^{\\frac{3}{2}} n^{2} \\sqrt{\\left(l + n\\right)!}}$"
      ],
      "text/plain": [
       "2*(2*r/(a*n))**l*exp(-r/(a*n))*assoc_laguerre(-l + n - 1, 2*l + 1, 2*r/(a*n))*sqrt(factorial(-l + n - 1))/(a**(3/2)*n**2*sqrt(factorial(l + n)))"
      ]
     },
     "execution_count": 92,
     "metadata": {},
     "output_type": "execute_result"
    }
   ],
   "source": [
    "R = smp.sqrt((2/(n*a))**3 * smp.factorial(n-l-1)/(2*n*(smp.factorial(n+l)))) \\\n",
    "     *smp.exp(-r/(n*a)) * (2*r/(n*a))**l * assoc_laguerre(n-l-1,2*l+1,(2*r/(n*a)))\n",
    "R"
   ]
  },
  {
   "cell_type": "markdown",
   "metadata": {},
   "source": [
    "We can check to make sure this corresponds to the radial wavefunctions we expect. Lets see $R_{10}(r)$"
   ]
  },
  {
   "cell_type": "code",
   "execution_count": 93,
   "metadata": {},
   "outputs": [
    {
     "data": {
      "text/latex": [
       "$\\displaystyle \\frac{2 e^{- \\frac{r}{a}}}{a^{\\frac{3}{2}}}$"
      ],
      "text/plain": [
       "2*exp(-r/a)/a**(3/2)"
      ]
     },
     "execution_count": 93,
     "metadata": {},
     "output_type": "execute_result"
    }
   ],
   "source": [
    "R_10 = R.subs([(n,1),(l,0)])\n",
    "R_10"
   ]
  },
  {
   "cell_type": "markdown",
   "metadata": {},
   "source": [
    "Function to compute $\\int_{0}^{\\infty} R_{nl}^2 r^k dr$ for particular values of $n$, $l$ and $k$"
   ]
  },
  {
   "cell_type": "code",
   "execution_count": 94,
   "metadata": {},
   "outputs": [],
   "source": [
    "def compute_int(n_val, l_val, k):\n",
    "    R_nl = R.subs([(n,n_val),(l,l_val)])\n",
    "    return smp.integrate(R_nl**2 * r**k, (r,0,smp.oo))"
   ]
  },
  {
   "cell_type": "markdown",
   "metadata": {},
   "source": [
    "Compute the mean radial distance of an electron in the state $\\psi_{100}$"
   ]
  },
  {
   "cell_type": "code",
   "execution_count": 95,
   "metadata": {},
   "outputs": [
    {
     "data": {
      "text/latex": [
       "$\\displaystyle \\frac{3 a}{2}$"
      ],
      "text/plain": [
       "3*a/2"
      ]
     },
     "execution_count": 95,
     "metadata": {},
     "output_type": "execute_result"
    }
   ],
   "source": [
    "compute_int(n_val=1,l_val=0,k=3)"
   ]
  },
  {
   "cell_type": "markdown",
   "metadata": {},
   "source": [
    "Compute the spread $\\sigma$ in distances of the electron in state $\\psi_{100}$"
   ]
  },
  {
   "cell_type": "code",
   "execution_count": 96,
   "metadata": {},
   "outputs": [
    {
     "data": {
      "text/latex": [
       "$\\displaystyle \\frac{\\sqrt{3} a}{2}$"
      ],
      "text/plain": [
       "sqrt(3)*a/2"
      ]
     },
     "execution_count": 96,
     "metadata": {},
     "output_type": "execute_result"
    }
   ],
   "source": [
    "smp.sqrt(compute_int(n_val=1,l_val=0,k=4) - compute_int(n_val=1,l_val=0,k=3)**2)"
   ]
  },
  {
   "cell_type": "markdown",
   "metadata": {},
   "source": [
    "Compute the mean radial distance of an electron in the state $\\psi_{420}$"
   ]
  },
  {
   "cell_type": "code",
   "execution_count": 97,
   "metadata": {},
   "outputs": [
    {
     "data": {
      "text/latex": [
       "$\\displaystyle 21 a$"
      ],
      "text/plain": [
       "21*a"
      ]
     },
     "execution_count": 97,
     "metadata": {},
     "output_type": "execute_result"
    }
   ],
   "source": [
    "compute_int(n_val=4,l_val=2,k=3)"
   ]
  },
  {
   "cell_type": "code",
   "execution_count": 98,
   "metadata": {},
   "outputs": [],
   "source": [
    "def compute_mean_distance(n_val, l_val=0):\n",
    "    expr = compute_int(n_val,l_val,k=3)\n",
    "    expr_f = smp.lambdify([a], expr)\n",
    "    return expr_f(1)"
   ]
  },
  {
   "cell_type": "code",
   "execution_count": 99,
   "metadata": {},
   "outputs": [],
   "source": [
    "ns = np.arange(1,10)\n",
    "ds =[compute_mean_distance(ni) for ni in ns]"
   ]
  },
  {
   "cell_type": "code",
   "execution_count": 100,
   "metadata": {},
   "outputs": [
    {
     "data": {
      "text/plain": [
       "<matplotlib.collections.PathCollection at 0x7f640d0f6750>"
      ]
     },
     "execution_count": 100,
     "metadata": {},
     "output_type": "execute_result"
    },
    {
     "data": {
      "image/png": "[encoded data removed]",
      "text/plain": [
       "<Figure size 640x480 with 1 Axes>"
      ]
     },
     "metadata": {},
     "output_type": "display_data"
    }
   ],
   "source": [
    "plt.scatter(ns, ds)"
   ]
  },
  {
   "cell_type": "markdown",
   "metadata": {},
   "source": [
    "# Multivariable Calculus"
   ]
  },
  {
   "cell_type": "code",
   "execution_count": 101,
   "metadata": {},
   "outputs": [],
   "source": [
    "x, y, z, u1, u2, u3, v1, v2, v3, t = smp.symbols('x y z u_1 u_2 u_3 v_1 v_2 v_3 t')"
   ]
  },
  {
   "cell_type": "markdown",
   "metadata": {},
   "source": [
    "## Vectors and Geometry"
   ]
  },
  {
   "cell_type": "code",
   "execution_count": 102,
   "metadata": {},
   "outputs": [],
   "source": [
    "u = smp.Matrix([u1,u2,u3])\n",
    "v = smp.Matrix([v1,v2,v3])"
   ]
  },
  {
   "cell_type": "markdown",
   "metadata": {},
   "source": [
    "### Addition and multiplication"
   ]
  },
  {
   "cell_type": "code",
   "execution_count": 103,
   "metadata": {},
   "outputs": [
    {
     "data": {
      "text/latex": [
       "$\\displaystyle \\left[\\begin{matrix}2 u_{1} + v_{1}\\\\2 u_{2} + v_{2}\\\\2 u_{3} + v_{3}\\end{matrix}\\right]$"
      ],
      "text/plain": [
       "Matrix([\n",
       "[2*u_1 + v_1],\n",
       "[2*u_2 + v_2],\n",
       "[2*u_3 + v_3]])"
      ]
     },
     "execution_count": 103,
     "metadata": {},
     "output_type": "execute_result"
    }
   ],
   "source": [
    "2*u+v"
   ]
  },
  {
   "cell_type": "markdown",
   "metadata": {},
   "source": [
    "Dot product"
   ]
  },
  {
   "cell_type": "code",
   "execution_count": 104,
   "metadata": {},
   "outputs": [
    {
     "data": {
      "text/latex": [
       "$\\displaystyle u_{1} v_{1} + u_{2} v_{2} + u_{3} v_{3}$"
      ],
      "text/plain": [
       "u_1*v_1 + u_2*v_2 + u_3*v_3"
      ]
     },
     "execution_count": 104,
     "metadata": {},
     "output_type": "execute_result"
    }
   ],
   "source": [
    "u.dot(v)"
   ]
  },
  {
   "cell_type": "markdown",
   "metadata": {},
   "source": [
    "Cross product"
   ]
  },
  {
   "cell_type": "code",
   "execution_count": 105,
   "metadata": {},
   "outputs": [
    {
     "data": {
      "text/latex": [
       "$\\displaystyle \\left[\\begin{matrix}u_{2} v_{3} - u_{3} v_{2}\\\\- u_{1} v_{3} + u_{3} v_{1}\\\\u_{1} v_{2} - u_{2} v_{1}\\end{matrix}\\right]$"
      ],
      "text/plain": [
       "Matrix([\n",
       "[ u_2*v_3 - u_3*v_2],\n",
       "[-u_1*v_3 + u_3*v_1],\n",
       "[ u_1*v_2 - u_2*v_1]])"
      ]
     },
     "execution_count": 105,
     "metadata": {},
     "output_type": "execute_result"
    }
   ],
   "source": [
    "u.cross(v)"
   ]
  },
  {
   "cell_type": "markdown",
   "metadata": {},
   "source": [
    "Norm"
   ]
  },
  {
   "cell_type": "code",
   "execution_count": 106,
   "metadata": {},
   "outputs": [
    {
     "data": {
      "text/latex": [
       "$\\displaystyle \\sqrt{\\left|{u_{1}}\\right|^{2} + \\left|{u_{2}}\\right|^{2} + \\left|{u_{3}}\\right|^{2}}$"
      ],
      "text/plain": [
       "sqrt(Abs(u_1)**2 + Abs(u_2)**2 + Abs(u_3)**2)"
      ]
     },
     "execution_count": 106,
     "metadata": {},
     "output_type": "execute_result"
    }
   ],
   "source": [
    "u.norm()"
   ]
  },
  {
   "cell_type": "markdown",
   "metadata": {},
   "source": [
    "$\\text{proj}_v(u) = \\frac{u \\cdot v}{|v|^2} v$"
   ]
  },
  {
   "cell_type": "code",
   "execution_count": 107,
   "metadata": {},
   "outputs": [
    {
     "data": {
      "text/latex": [
       "$\\displaystyle \\left[\\begin{matrix}\\frac{v_{1} \\left(u_{1} v_{1} + u_{2} v_{2} + u_{3} v_{3}\\right)}{\\left|{v_{1}}\\right|^{2} + \\left|{v_{2}}\\right|^{2} + \\left|{v_{3}}\\right|^{2}}\\\\\\frac{v_{2} \\left(u_{1} v_{1} + u_{2} v_{2} + u_{3} v_{3}\\right)}{\\left|{v_{1}}\\right|^{2} + \\left|{v_{2}}\\right|^{2} + \\left|{v_{3}}\\right|^{2}}\\\\\\frac{v_{3} \\left(u_{1} v_{1} + u_{2} v_{2} + u_{3} v_{3}\\right)}{\\left|{v_{1}}\\right|^{2} + \\left|{v_{2}}\\right|^{2} + \\left|{v_{3}}\\right|^{2}}\\end{matrix}\\right]$"
      ],
      "text/plain": [
       "Matrix([\n",
       "[v_1*(u_1*v_1 + u_2*v_2 + u_3*v_3)/(Abs(v_1)**2 + Abs(v_2)**2 + Abs(v_3)**2)],\n",
       "[v_2*(u_1*v_1 + u_2*v_2 + u_3*v_3)/(Abs(v_1)**2 + Abs(v_2)**2 + Abs(v_3)**2)],\n",
       "[v_3*(u_1*v_1 + u_2*v_2 + u_3*v_3)/(Abs(v_1)**2 + Abs(v_2)**2 + Abs(v_3)**2)]])"
      ]
     },
     "execution_count": 107,
     "metadata": {},
     "output_type": "execute_result"
    }
   ],
   "source": [
    "proj_v_u = u.dot(v)/v.norm()**2 * v\n",
    "proj_v_u"
   ]
  },
  {
   "cell_type": "markdown",
   "metadata": {},
   "source": [
    "Lines: $\\vec{r}(t) = \\vec{r}_0 + t\\vec{v}$"
   ]
  },
  {
   "cell_type": "code",
   "execution_count": 108,
   "metadata": {},
   "outputs": [
    {
     "data": {
      "text/latex": [
       "$\\displaystyle \\left[\\begin{matrix}t + 1\\\\3 t + 1\\\\1 - t\\end{matrix}\\right]$"
      ],
      "text/plain": [
       "Matrix([\n",
       "[  t + 1],\n",
       "[3*t + 1],\n",
       "[  1 - t]])"
      ]
     },
     "execution_count": 108,
     "metadata": {},
     "output_type": "execute_result"
    }
   ],
   "source": [
    "r0 = smp.Matrix([1,1,1])\n",
    "v = smp.Matrix([1,3,-1])\n",
    "r = r0 + t*v\n",
    "r"
   ]
  },
  {
   "cell_type": "markdown",
   "metadata": {},
   "source": [
    "Planes: $\\vec{n} \\cdot (P_0-\\left<x,y,z\\right>) = 0$"
   ]
  },
  {
   "cell_type": "code",
   "execution_count": 109,
   "metadata": {},
   "outputs": [
    {
     "data": {
      "text/latex": [
       "$\\displaystyle - x - y - z + 16$"
      ],
      "text/plain": [
       "-x - y - z + 16"
      ]
     },
     "execution_count": 109,
     "metadata": {},
     "output_type": "execute_result"
    }
   ],
   "source": [
    "P0 = smp.Matrix([4,4,8])\n",
    "r = smp.Matrix([x,y,z])\n",
    "n = smp.Matrix([1,1,1])\n",
    "n.dot(P0-r)"
   ]
  },
  {
   "cell_type": "markdown",
   "metadata": {},
   "source": [
    "## Vector Calculus"
   ]
  },
  {
   "cell_type": "markdown",
   "metadata": {},
   "source": [
    "### Vector Derivatives"
   ]
  },
  {
   "cell_type": "code",
   "execution_count": 110,
   "metadata": {},
   "outputs": [
    {
     "data": {
      "text/latex": [
       "$\\displaystyle \\left[\\begin{matrix}3 t\\\\\\sin{\\left(t \\right)}\\\\t^{2}\\end{matrix}\\right]$"
      ],
      "text/plain": [
       "Matrix([\n",
       "[   3*t],\n",
       "[sin(t)],\n",
       "[  t**2]])"
      ]
     },
     "execution_count": 110,
     "metadata": {},
     "output_type": "execute_result"
    }
   ],
   "source": [
    "r = smp.Matrix([3*t, smp.sin(t), t**2])\n",
    "r"
   ]
  },
  {
   "cell_type": "code",
   "execution_count": 111,
   "metadata": {},
   "outputs": [
    {
     "data": {
      "text/latex": [
       "$\\displaystyle \\left[\\begin{matrix}3\\\\\\cos{\\left(t \\right)}\\\\2 t\\end{matrix}\\right]$"
      ],
      "text/plain": [
       "Matrix([\n",
       "[     3],\n",
       "[cos(t)],\n",
       "[   2*t]])"
      ]
     },
     "execution_count": 111,
     "metadata": {},
     "output_type": "execute_result"
    }
   ],
   "source": [
    "smp.diff(r,t)"
   ]
  },
  {
   "cell_type": "markdown",
   "metadata": {},
   "source": [
    "**Example:** Find the angle between the velocity and acceleration as a function of time $\\theta(t)$"
   ]
  },
  {
   "cell_type": "code",
   "execution_count": 112,
   "metadata": {},
   "outputs": [
    {
     "data": {
      "text/latex": [
       "$\\displaystyle \\operatorname{acos}{\\left(\\frac{4 t - \\frac{\\sin{\\left(2 t \\right)}}{2}}{\\sqrt{\\left|{\\sin{\\left(t \\right)}}\\right|^{2} + 4} \\sqrt{4 \\left|{t}\\right|^{2} + \\left|{\\cos{\\left(t \\right)}}\\right|^{2} + 9}} \\right)}$"
      ],
      "text/plain": [
       "acos((4*t - sin(2*t)/2)/(sqrt(Abs(sin(t))**2 + 4)*sqrt(4*Abs(t)**2 + Abs(cos(t))**2 + 9)))"
      ]
     },
     "execution_count": 112,
     "metadata": {},
     "output_type": "execute_result"
    }
   ],
   "source": [
    "v = smp.diff(r,t)\n",
    "a = smp.diff(v,t)\n",
    "theta = smp.acos(v.dot(a)/(v.norm()*a.norm())).simplify()\n",
    "theta"
   ]
  },
  {
   "cell_type": "markdown",
   "metadata": {},
   "source": [
    "Find theta at $t=6$"
   ]
  },
  {
   "cell_type": "code",
   "execution_count": 113,
   "metadata": {},
   "outputs": [
    {
     "data": {
      "text/latex": [
       "$\\displaystyle 0.251108015692338$"
      ],
      "text/plain": [
       "0.251108015692338"
      ]
     },
     "execution_count": 113,
     "metadata": {},
     "output_type": "execute_result"
    }
   ],
   "source": [
    "theta.subs(t,6).evalf()"
   ]
  },
  {
   "cell_type": "markdown",
   "metadata": {},
   "source": [
    "### Vector Integrals\n",
    "\n",
    "(Note: Will not add the +C)"
   ]
  },
  {
   "cell_type": "code",
   "execution_count": 114,
   "metadata": {},
   "outputs": [
    {
     "data": {
      "text/latex": [
       "$\\displaystyle \\left[\\begin{matrix}e^{t} \\cos{\\left(t \\right)}\\\\t^{4}\\\\\\frac{1}{t^{2} + 1}\\end{matrix}\\right]$"
      ],
      "text/plain": [
       "Matrix([\n",
       "[exp(t)*cos(t)],\n",
       "[         t**4],\n",
       "[ 1/(t**2 + 1)]])"
      ]
     },
     "execution_count": 114,
     "metadata": {},
     "output_type": "execute_result"
    }
   ],
   "source": [
    "r = smp.Matrix([smp.exp(t)*smp.cos(t), t**4, 1/(1+t**2)])\n",
    "r"
   ]
  },
  {
   "cell_type": "code",
   "execution_count": 115,
   "metadata": {},
   "outputs": [
    {
     "data": {
      "text/latex": [
       "$\\displaystyle \\left[\\begin{matrix}\\frac{e^{t} \\sin{\\left(t \\right)}}{2} + \\frac{e^{t} \\cos{\\left(t \\right)}}{2}\\\\\\frac{t^{5}}{5}\\\\\\operatorname{atan}{\\left(t \\right)}\\end{matrix}\\right]$"
      ],
      "text/plain": [
       "Matrix([\n",
       "[exp(t)*sin(t)/2 + exp(t)*cos(t)/2],\n",
       "[                           t**5/5],\n",
       "[                          atan(t)]])"
      ]
     },
     "execution_count": 115,
     "metadata": {},
     "output_type": "execute_result"
    }
   ],
   "source": [
    "smp.Integral(r,t).doit()"
   ]
  },
  {
   "cell_type": "markdown",
   "metadata": {},
   "source": [
    "Some cases integrals can't be solved analytically - > see Second Year in Calculus video"
   ]
  },
  {
   "cell_type": "code",
   "execution_count": 116,
   "metadata": {},
   "outputs": [],
   "source": [
    "from scipy.integrate import quad_vec"
   ]
  },
  {
   "cell_type": "code",
   "execution_count": 117,
   "metadata": {},
   "outputs": [
    {
     "data": {
      "text/latex": [
       "$\\displaystyle \\left[\\begin{matrix}e^{t^{2}} \\cos^{3}{\\left(t \\right)}\\\\e^{- t^{4}}\\\\\\frac{1}{t^{2} + 3}\\end{matrix}\\right]$"
      ],
      "text/plain": [
       "Matrix([\n",
       "[exp(t**2)*cos(t)**3],\n",
       "[         exp(-t**4)],\n",
       "[       1/(t**2 + 3)]])"
      ]
     },
     "execution_count": 117,
     "metadata": {},
     "output_type": "execute_result"
    }
   ],
   "source": [
    "r = smp.Matrix([smp.exp(t**2)*smp.cos(t)**3, smp.exp(-t**4), 1/(3+t**2)])\n",
    "r"
   ]
  },
  {
   "cell_type": "code",
   "execution_count": 118,
   "metadata": {},
   "outputs": [],
   "source": [
    "r_f = smp.lambdify([t], r)"
   ]
  },
  {
   "cell_type": "code",
   "execution_count": 119,
   "metadata": {},
   "outputs": [
    {
     "data": {
      "text/plain": [
       "array([[0.81549671],\n",
       "       [0.84483859],\n",
       "       [0.30229989]])"
      ]
     },
     "execution_count": 119,
     "metadata": {},
     "output_type": "execute_result"
    }
   ],
   "source": [
    "from scipy.integrate import quad_vec\n",
    "r = smp.Matrix([smp.exp(t**2)*smp.cos(t)**3, smp.exp(-t**4), 1/(3+t**2)])\n",
    "r_f = smp.lambdify([t], r)\n",
    "quad_vec(r_f, 0, 1)[0]"
   ]
  },
  {
   "cell_type": "markdown",
   "metadata": {},
   "source": [
    "### Arclength\n",
    "\n",
    "$$L = \\int_a^b \\sqrt{dx^2 + dy^2 + dz^2} = \\int_a^b \\sqrt{(dx/dt)^2 + (dy/dt)^2 + (dz/dt)^2 } dt $$"
   ]
  },
  {
   "cell_type": "markdown",
   "metadata": {},
   "source": [
    "Rare Cases can be done symbolically. Find arclength of $\\left< 0, t, t^2 \\right>$ from $t=0$ to $t=1$"
   ]
  },
  {
   "cell_type": "code",
   "execution_count": 120,
   "metadata": {},
   "outputs": [
    {
     "data": {
      "text/latex": [
       "$\\displaystyle \\left[\\begin{matrix}0\\\\t\\\\t^{2}\\end{matrix}\\right]$"
      ],
      "text/plain": [
       "Matrix([\n",
       "[   0],\n",
       "[   t],\n",
       "[t**2]])"
      ]
     },
     "execution_count": 120,
     "metadata": {},
     "output_type": "execute_result"
    }
   ],
   "source": [
    "r = smp.Matrix([0, t, t**2])\n",
    "r"
   ]
  },
  {
   "cell_type": "code",
   "execution_count": 121,
   "metadata": {},
   "outputs": [
    {
     "data": {
      "text/latex": [
       "$\\displaystyle \\frac{\\operatorname{asinh}{\\left(2 \\right)}}{4} + \\frac{\\sqrt{5}}{2}$"
      ],
      "text/plain": [
       "asinh(2)/4 + sqrt(5)/2"
      ]
     },
     "execution_count": 121,
     "metadata": {},
     "output_type": "execute_result"
    }
   ],
   "source": [
    "r = smp.Matrix([0, t, t**2])\n",
    "smp.integrate(smp.diff(r,t).norm(), (t,0,1))"
   ]
  },
  {
   "cell_type": "markdown",
   "metadata": {},
   "source": [
    "# Examples\n",
    "\n",
    "The magnetic field at a point $\\vec{r}$ of a current configuration is \n",
    "\n",
    "$$\\vec{B}(\\vec{r}) = \\frac{\\mu_0}{4\\pi}\\int_t \\frac{I \\frac{d\\vec{\\ell}}{dt} \\times (\\vec{r}-\\vec{\\ell})}{|\\vec{r}-\\vec{\\ell}|^3} dt $$\n",
    "\n",
    "where $\\vec{r} = (x,y,z)$ and $\\vec{l} = (f(t), g(t), h(t))$ is a 1D curve in space that gives the location of the wire.\n",
    "\n",
    "**Part 1: Use Sympy to find the integrand as a single 3-vector**"
   ]
  },
  {
   "cell_type": "code",
   "execution_count": 122,
   "metadata": {},
   "outputs": [],
   "source": [
    "x, y, z, t, I, mu0 = smp.symbols('x y z t I \\mu_0', real=True)\n",
    "f, g, h = smp.symbols('f g h', cls=smp.Function)\n",
    "f=f(t)\n",
    "g=g(t)\n",
    "h=h(t)"
   ]
  },
  {
   "cell_type": "markdown",
   "metadata": {},
   "source": [
    "Define $\\vec{r}$, $\\vec{\\ell}$ and $\\vec{d\\ell/dt}$"
   ]
  },
  {
   "cell_type": "code",
   "execution_count": 123,
   "metadata": {},
   "outputs": [],
   "source": [
    "r = smp.Matrix([x,y,z])\n",
    "l = smp.Matrix([f,g,h])\n",
    "dldt = smp.diff(l)"
   ]
  },
  {
   "cell_type": "markdown",
   "metadata": {},
   "source": [
    "Define integrand"
   ]
  },
  {
   "cell_type": "code",
   "execution_count": 124,
   "metadata": {},
   "outputs": [],
   "source": [
    "dBdt = I * dldt.cross(r-l) / (r-l).norm()**3"
   ]
  },
  {
   "cell_type": "code",
   "execution_count": 125,
   "metadata": {},
   "outputs": [
    {
     "data": {
      "text/latex": [
       "$\\displaystyle \\left[\\begin{matrix}\\frac{I \\left(- \\left(y - g{\\left(t \\right)}\\right) \\frac{d}{d t} h{\\left(t \\right)} + \\left(z - h{\\left(t \\right)}\\right) \\frac{d}{d t} g{\\left(t \\right)}\\right)}{\\left(\\left|{x - f{\\left(t \\right)}}\\right|^{2} + \\left|{y - g{\\left(t \\right)}}\\right|^{2} + \\left|{z - h{\\left(t \\right)}}\\right|^{2}\\right)^{\\frac{3}{2}}}\\\\\\frac{I \\left(\\left(x - f{\\left(t \\right)}\\right) \\frac{d}{d t} h{\\left(t \\right)} - \\left(z - h{\\left(t \\right)}\\right) \\frac{d}{d t} f{\\left(t \\right)}\\right)}{\\left(\\left|{x - f{\\left(t \\right)}}\\right|^{2} + \\left|{y - g{\\left(t \\right)}}\\right|^{2} + \\left|{z - h{\\left(t \\right)}}\\right|^{2}\\right)^{\\frac{3}{2}}}\\\\\\frac{I \\left(- \\left(x - f{\\left(t \\right)}\\right) \\frac{d}{d t} g{\\left(t \\right)} + \\left(y - g{\\left(t \\right)}\\right) \\frac{d}{d t} f{\\left(t \\right)}\\right)}{\\left(\\left|{x - f{\\left(t \\right)}}\\right|^{2} + \\left|{y - g{\\left(t \\right)}}\\right|^{2} + \\left|{z - h{\\left(t \\right)}}\\right|^{2}\\right)^{\\frac{3}{2}}}\\end{matrix}\\right]$"
      ],
      "text/plain": [
       "Matrix([\n",
       "[I*(-(y - g(t))*Derivative(h(t), t) + (z - h(t))*Derivative(g(t), t))/(Abs(x - f(t))**2 + Abs(y - g(t))**2 + Abs(z - h(t))**2)**(3/2)],\n",
       "[ I*((x - f(t))*Derivative(h(t), t) - (z - h(t))*Derivative(f(t), t))/(Abs(x - f(t))**2 + Abs(y - g(t))**2 + Abs(z - h(t))**2)**(3/2)],\n",
       "[I*(-(x - f(t))*Derivative(g(t), t) + (y - g(t))*Derivative(f(t), t))/(Abs(x - f(t))**2 + Abs(y - g(t))**2 + Abs(z - h(t))**2)**(3/2)]])"
      ]
     },
     "execution_count": 125,
     "metadata": {},
     "output_type": "execute_result"
    }
   ],
   "source": [
    "dBdt"
   ]
  },
  {
   "cell_type": "markdown",
   "metadata": {},
   "source": [
    "**Part 2**: Find the magnetic field a distance $H$ above a ring of radius $R$ flowing clockwise"
   ]
  },
  {
   "cell_type": "code",
   "execution_count": 126,
   "metadata": {},
   "outputs": [],
   "source": [
    "R, H = smp.symbols('R, H', real=True)"
   ]
  },
  {
   "cell_type": "code",
   "execution_count": 127,
   "metadata": {},
   "outputs": [
    {
     "data": {
      "text/latex": [
       "$\\displaystyle \\left[\\begin{matrix}\\frac{H I R \\cos{\\left(t \\right)}}{\\left(H^{2} + R^{2}\\right)^{\\frac{3}{2}}}\\\\\\frac{H I R \\sin{\\left(t \\right)}}{\\left(H^{2} + R^{2}\\right)^{\\frac{3}{2}}}\\\\\\frac{I R^{2}}{\\left(H^{2} + R^{2}\\right)^{\\frac{3}{2}}}\\end{matrix}\\right]$"
      ],
      "text/plain": [
       "Matrix([\n",
       "[H*I*R*cos(t)/(H**2 + R**2)**(3/2)],\n",
       "[H*I*R*sin(t)/(H**2 + R**2)**(3/2)],\n",
       "[      I*R**2/(H**2 + R**2)**(3/2)]])"
      ]
     },
     "execution_count": 127,
     "metadata": {},
     "output_type": "execute_result"
    }
   ],
   "source": [
    "dBdt = dBdt.subs([(f, R*smp.cos(t)),\n",
    "                  (g, R*smp.sin(t)),\n",
    "                  (h, 0),\n",
    "                  (x,0), (y,0), (z,H)]).doit()\n",
    "dBdt.simplify()\n",
    "dBdt"
   ]
  },
  {
   "cell_type": "markdown",
   "metadata": {},
   "source": [
    "Find magnetic field"
   ]
  },
  {
   "cell_type": "code",
   "execution_count": 128,
   "metadata": {},
   "outputs": [
    {
     "data": {
      "text/latex": [
       "$\\displaystyle \\left[\\begin{matrix}0\\\\0\\\\\\frac{I R^{2} \\mu_{0}}{2 \\left(H^{2} + R^{2}\\right)^{\\frac{3}{2}}}\\end{matrix}\\right]$"
      ],
      "text/plain": [
       "Matrix([\n",
       "[                                    0],\n",
       "[                                    0],\n",
       "[I*R**2*\\mu_0/(2*(H**2 + R**2)**(3/2))]])"
      ]
     },
     "execution_count": 128,
     "metadata": {},
     "output_type": "execute_result"
    }
   ],
   "source": [
    "mu0/(4*smp.pi) * smp.integrate(dBdt, [t,0,2*smp.pi])"
   ]
  },
  {
   "cell_type": "markdown",
   "metadata": {},
   "source": [
    "For more ccomplicated electrical wire configurations, see my video on solving for the magnetic field of an arbtriary wire (uses numerical integration)"
   ]
  },
  {
   "cell_type": "markdown",
   "metadata": {},
   "source": [
    "## Partial/Directional Derivatives"
   ]
  },
  {
   "cell_type": "code",
   "execution_count": 129,
   "metadata": {},
   "outputs": [],
   "source": [
    "x, y, z = smp.symbols('x y z')"
   ]
  },
  {
   "cell_type": "markdown",
   "metadata": {},
   "source": [
    "### Basics"
   ]
  },
  {
   "cell_type": "markdown",
   "metadata": {},
   "source": [
    "Partial Derivatives $\\partial f / \\partial x$ and $\\partial f / \\partial y$ of $f(x,y)=y^2\\sin(x+y)$"
   ]
  },
  {
   "cell_type": "code",
   "execution_count": 130,
   "metadata": {},
   "outputs": [
    {
     "data": {
      "text/latex": [
       "$\\displaystyle y^{2} \\cos{\\left(x + y \\right)}$"
      ],
      "text/plain": [
       "y**2*cos(x + y)"
      ]
     },
     "execution_count": 130,
     "metadata": {},
     "output_type": "execute_result"
    }
   ],
   "source": [
    "f = y**2 * smp.sin(x+y)\n",
    "smp.diff(f,x)"
   ]
  },
  {
   "cell_type": "code",
   "execution_count": 131,
   "metadata": {},
   "outputs": [
    {
     "data": {
      "text/latex": [
       "$\\displaystyle y^{2} \\cos{\\left(x + y \\right)} + 2 y \\sin{\\left(x + y \\right)}$"
      ],
      "text/plain": [
       "y**2*cos(x + y) + 2*y*sin(x + y)"
      ]
     },
     "execution_count": 131,
     "metadata": {},
     "output_type": "execute_result"
    }
   ],
   "source": [
    "smp.diff(f,y)"
   ]
  },
  {
   "cell_type": "markdown",
   "metadata": {},
   "source": [
    "Or more complicated things like $\\frac{\\partial^3 f}{\\partial xy^2}$"
   ]
  },
  {
   "cell_type": "code",
   "execution_count": 132,
   "metadata": {},
   "outputs": [
    {
     "data": {
      "text/latex": [
       "$\\displaystyle - y^{2} \\cos{\\left(x + y \\right)} - 4 y \\sin{\\left(x + y \\right)} + 2 \\cos{\\left(x + y \\right)}$"
      ],
      "text/plain": [
       "-y**2*cos(x + y) - 4*y*sin(x + y) + 2*cos(x + y)"
      ]
     },
     "execution_count": 132,
     "metadata": {},
     "output_type": "execute_result"
    }
   ],
   "source": [
    "smp.diff(f,y,y,x)"
   ]
  },
  {
   "cell_type": "markdown",
   "metadata": {},
   "source": [
    "### The Chain Rule"
   ]
  },
  {
   "cell_type": "code",
   "execution_count": 133,
   "metadata": {},
   "outputs": [],
   "source": [
    "t = smp.symbols('t')\n",
    "x, y, z, w, v =smp.symbols('x, y, z w v', cls=smp.Function)"
   ]
  },
  {
   "cell_type": "markdown",
   "metadata": {},
   "source": [
    "* Suppose $x$, $y$, and $z$ are functions of $t$ \n",
    "* $w$ is a function of $x$, $y$, and $z$. i.e $w=w(x,y,z)$\n",
    "\n",
    "Find $dw/dt$"
   ]
  },
  {
   "cell_type": "code",
   "execution_count": 134,
   "metadata": {},
   "outputs": [],
   "source": [
    "x = x(t)\n",
    "y = y(t)\n",
    "z = z(t)\n",
    "w = w(x, y, z)"
   ]
  },
  {
   "cell_type": "code",
   "execution_count": 135,
   "metadata": {},
   "outputs": [
    {
     "data": {
      "text/latex": [
       "$\\displaystyle w{\\left(x{\\left(t \\right)},y{\\left(t \\right)},z{\\left(t \\right)} \\right)}$"
      ],
      "text/plain": [
       "w(x(t), y(t), z(t))"
      ]
     },
     "execution_count": 135,
     "metadata": {},
     "output_type": "execute_result"
    }
   ],
   "source": [
    "w"
   ]
  },
  {
   "cell_type": "markdown",
   "metadata": {},
   "source": [
    "Can keep things in a more functional form:"
   ]
  },
  {
   "cell_type": "code",
   "execution_count": 136,
   "metadata": {},
   "outputs": [
    {
     "data": {
      "text/latex": [
       "$\\displaystyle \\frac{d}{d x{\\left(t \\right)}} w{\\left(x{\\left(t \\right)},y{\\left(t \\right)},z{\\left(t \\right)} \\right)} \\frac{d}{d t} x{\\left(t \\right)} + \\frac{d}{d y{\\left(t \\right)}} w{\\left(x{\\left(t \\right)},y{\\left(t \\right)},z{\\left(t \\right)} \\right)} \\frac{d}{d t} y{\\left(t \\right)} + \\frac{d}{d z{\\left(t \\right)}} w{\\left(x{\\left(t \\right)},y{\\left(t \\right)},z{\\left(t \\right)} \\right)} \\frac{d}{d t} z{\\left(t \\right)}$"
      ],
      "text/plain": [
       "Derivative(w(x(t), y(t), z(t)), x(t))*Derivative(x(t), t) + Derivative(w(x(t), y(t), z(t)), y(t))*Derivative(y(t), t) + Derivative(w(x(t), y(t), z(t)), z(t))*Derivative(z(t), t)"
      ]
     },
     "execution_count": 136,
     "metadata": {},
     "output_type": "execute_result"
    }
   ],
   "source": [
    "smp.diff(w,t)"
   ]
  },
  {
   "cell_type": "markdown",
   "metadata": {},
   "source": [
    "Or put in specific functions:"
   ]
  },
  {
   "cell_type": "code",
   "execution_count": 137,
   "metadata": {},
   "outputs": [],
   "source": [
    "w1 = x**2+smp.exp(y)*smp.sin(z)"
   ]
  },
  {
   "cell_type": "code",
   "execution_count": 138,
   "metadata": {},
   "outputs": [
    {
     "data": {
      "text/latex": [
       "$\\displaystyle 2 x{\\left(t \\right)} \\frac{d}{d t} x{\\left(t \\right)} + e^{y{\\left(t \\right)}} \\sin{\\left(z{\\left(t \\right)} \\right)} \\frac{d}{d t} y{\\left(t \\right)} + e^{y{\\left(t \\right)}} \\cos{\\left(z{\\left(t \\right)} \\right)} \\frac{d}{d t} z{\\left(t \\right)}$"
      ],
      "text/plain": [
       "2*x(t)*Derivative(x(t), t) + exp(y(t))*sin(z(t))*Derivative(y(t), t) + exp(y(t))*cos(z(t))*Derivative(z(t), t)"
      ]
     },
     "execution_count": 138,
     "metadata": {},
     "output_type": "execute_result"
    }
   ],
   "source": [
    "smp.diff(w1,t)"
   ]
  },
  {
   "cell_type": "code",
   "execution_count": 139,
   "metadata": {},
   "outputs": [
    {
     "data": {
      "text/latex": [
       "$\\displaystyle 2 t e^{\\cos{\\left(t \\right)}} \\cos{\\left(t^{2} \\right)} - e^{\\cos{\\left(t \\right)}} \\sin{\\left(t \\right)} \\sin{\\left(t^{2} \\right)} + 2 \\sin{\\left(t \\right)} \\cos{\\left(t \\right)}$"
      ],
      "text/plain": [
       "2*t*exp(cos(t))*cos(t**2) - exp(cos(t))*sin(t)*sin(t**2) + 2*sin(t)*cos(t)"
      ]
     },
     "execution_count": 139,
     "metadata": {},
     "output_type": "execute_result"
    }
   ],
   "source": [
    "w1 = x**2+smp.exp(y)*smp.sin(z)\n",
    "smp.diff(w1,t).subs([(x, smp.sin(t)),\n",
    "                    (y, smp.cos(t)),\n",
    "                    (z, t**2)]).doit()"
   ]
  },
  {
   "cell_type": "markdown",
   "metadata": {},
   "source": [
    "## Multiple Integrals"
   ]
  },
  {
   "cell_type": "markdown",
   "metadata": {},
   "source": [
    "In rare cases these can be done symbolically:\n",
    "\n",
    "$$\\int_0^1 \\int_0^{1-x^2} \\int_3^{4-x^2-y^2} xdzdydx$$"
   ]
  },
  {
   "cell_type": "code",
   "execution_count": 140,
   "metadata": {},
   "outputs": [
    {
     "data": {
      "text/latex": [
       "$\\displaystyle \\frac{1}{8}$"
      ],
      "text/plain": [
       "1/8"
      ]
     },
     "execution_count": 140,
     "metadata": {},
     "output_type": "execute_result"
    }
   ],
   "source": [
    "x, y, z = smp.symbols('x, y, z')\n",
    "f = x\n",
    "smp.integrate(f, (z, 3, 4-x**2-y**2), (y, 0, 1-x**2), (x, 0, 1))"
   ]
  },
  {
   "cell_type": "markdown",
   "metadata": {},
   "source": [
    "## Lagrangian Mechanics"
   ]
  },
  {
   "cell_type": "markdown",
   "metadata": {},
   "source": [
    "The (simplified) idea of Lagrangian mechanics is the that kinetic energy and potential energy of a system can be expressed in terms of generalized coordinates and velocity\n",
    "\n",
    "$$T = T(q,\\dot{q}) \\hspace{20mm} V=V(q,\\dot{q})$$\n",
    "\n",
    "where $q$ could be xyz of a point particle, or some angle $\\theta$ (pendulum), or whatever makes the problem easiest to solve. The defining $L=T-V$, the following equation gives the equations of motion $q(t)$\n",
    "\n",
    "$$\\frac{dL}{dq} - \\frac{d}{dt}\\frac{dL}{d\\dot{q}} = 0 $$\n",
    "\n",
    "for all the different $q$'s of the system. The equation above gives a second order differential equation for all the different $q(t)$s."
   ]
  },
  {
   "cell_type": "markdown",
   "metadata": {},
   "source": [
    "**Example**: Find the equations of motion (in the form of differential equations)"
   ]
  },
  {
   "cell_type": "markdown",
   "metadata": {},
   "source": [
    "<p align=\"center\">\n",
    "  <img src=\"symp_tut_p1.PNG\" alt=\"drawing\" width=\"400\" align=\"center\"/>\n",
    "</p>"
   ]
  },
  {
   "cell_type": "markdown",
   "metadata": {},
   "source": [
    "Let $(x,y)$ be the position of the pendulum bob"
   ]
  },
  {
   "cell_type": "code",
   "execution_count": 141,
   "metadata": {},
   "outputs": [],
   "source": [
    "t, R, g, m1, m2 = smp.symbols('t R g m_1 m_2')\n",
    "z, theta = smp.symbols(r'z \\theta', cls=smp.Function)\n",
    "z = z(t)\n",
    "theta = theta(t)\n",
    "\n",
    "dzdt = smp.diff(z,t)\n",
    "dthedt = smp.diff(theta,t)"
   ]
  },
  {
   "cell_type": "markdown",
   "metadata": {},
   "source": [
    "Define location of pendulum"
   ]
  },
  {
   "cell_type": "code",
   "execution_count": 142,
   "metadata": {},
   "outputs": [],
   "source": [
    "x = z + R*smp.sin(theta)\n",
    "y = -R*smp.cos(theta)"
   ]
  },
  {
   "cell_type": "code",
   "execution_count": 143,
   "metadata": {},
   "outputs": [
    {
     "data": {
      "text/latex": [
       "$\\displaystyle - R \\cos{\\left(\\theta{\\left(t \\right)} \\right)}$"
      ],
      "text/plain": [
       "-R*cos(\\theta(t))"
      ]
     },
     "execution_count": 143,
     "metadata": {},
     "output_type": "execute_result"
    }
   ],
   "source": [
    "y"
   ]
  },
  {
   "cell_type": "markdown",
   "metadata": {},
   "source": [
    "Kinetic and potential energies"
   ]
  },
  {
   "cell_type": "code",
   "execution_count": 144,
   "metadata": {},
   "outputs": [],
   "source": [
    "T1 = smp.Rational(1,2) * m1 * smp.diff(z,t)**2\n",
    "T2 = smp.Rational(1,2) * m2 * (smp.diff(x,t)**2 + smp.diff(y,t)**2)\n",
    "T = T1 + T2\n",
    "V1 = 0\n",
    "V2 = m2*g*y\n",
    "V = V1 + V2"
   ]
  },
  {
   "cell_type": "markdown",
   "metadata": {},
   "source": [
    "Get Lagrangian"
   ]
  },
  {
   "cell_type": "code",
   "execution_count": 145,
   "metadata": {},
   "outputs": [],
   "source": [
    "L = T-V"
   ]
  },
  {
   "cell_type": "code",
   "execution_count": 146,
   "metadata": {},
   "outputs": [
    {
     "data": {
      "text/latex": [
       "$\\displaystyle R g m_{2} \\cos{\\left(\\theta{\\left(t \\right)} \\right)} + \\frac{m_{1} \\left(\\frac{d}{d t} z{\\left(t \\right)}\\right)^{2}}{2} + \\frac{m_{2} \\left(R^{2} \\sin^{2}{\\left(\\theta{\\left(t \\right)} \\right)} \\left(\\frac{d}{d t} \\theta{\\left(t \\right)}\\right)^{2} + \\left(R \\cos{\\left(\\theta{\\left(t \\right)} \\right)} \\frac{d}{d t} \\theta{\\left(t \\right)} + \\frac{d}{d t} z{\\left(t \\right)}\\right)^{2}\\right)}{2}$"
      ],
      "text/plain": [
       "R*g*m_2*cos(\\theta(t)) + m_1*Derivative(z(t), t)**2/2 + m_2*(R**2*sin(\\theta(t))**2*Derivative(\\theta(t), t)**2 + (R*cos(\\theta(t))*Derivative(\\theta(t), t) + Derivative(z(t), t))**2)/2"
      ]
     },
     "execution_count": 146,
     "metadata": {},
     "output_type": "execute_result"
    }
   ],
   "source": [
    "L"
   ]
  },
  {
   "cell_type": "markdown",
   "metadata": {},
   "source": [
    "Get Lagranges equations of motion"
   ]
  },
  {
   "cell_type": "code",
   "execution_count": 147,
   "metadata": {},
   "outputs": [],
   "source": [
    "LE1 = smp.diff(L, z) - smp.diff(smp.diff(L,dzdt), t)\n",
    "LE2 = smp.diff(L, theta) - smp.diff(smp.diff(L,dthedt), t)"
   ]
  },
  {
   "cell_type": "code",
   "execution_count": 148,
   "metadata": {},
   "outputs": [
    {
     "data": {
      "text/latex": [
       "$\\displaystyle - m_{1} \\frac{d^{2}}{d t^{2}} z{\\left(t \\right)} - \\frac{m_{2} \\left(- 2 R \\sin{\\left(\\theta{\\left(t \\right)} \\right)} \\left(\\frac{d}{d t} \\theta{\\left(t \\right)}\\right)^{2} + 2 R \\cos{\\left(\\theta{\\left(t \\right)} \\right)} \\frac{d^{2}}{d t^{2}} \\theta{\\left(t \\right)} + 2 \\frac{d^{2}}{d t^{2}} z{\\left(t \\right)}\\right)}{2}$"
      ],
      "text/plain": [
       "-m_1*Derivative(z(t), (t, 2)) - m_2*(-2*R*sin(\\theta(t))*Derivative(\\theta(t), t)**2 + 2*R*cos(\\theta(t))*Derivative(\\theta(t), (t, 2)) + 2*Derivative(z(t), (t, 2)))/2"
      ]
     },
     "execution_count": 148,
     "metadata": {},
     "output_type": "execute_result"
    }
   ],
   "source": [
    "LE1"
   ]
  },
  {
   "cell_type": "code",
   "execution_count": 149,
   "metadata": {},
   "outputs": [
    {
     "data": {
      "text/latex": [
       "$\\displaystyle - R g m_{2} \\sin{\\left(\\theta{\\left(t \\right)} \\right)} + \\frac{m_{2} \\cdot \\left(2 R^{2} \\sin{\\left(\\theta{\\left(t \\right)} \\right)} \\cos{\\left(\\theta{\\left(t \\right)} \\right)} \\left(\\frac{d}{d t} \\theta{\\left(t \\right)}\\right)^{2} - 2 R \\left(R \\cos{\\left(\\theta{\\left(t \\right)} \\right)} \\frac{d}{d t} \\theta{\\left(t \\right)} + \\frac{d}{d t} z{\\left(t \\right)}\\right) \\sin{\\left(\\theta{\\left(t \\right)} \\right)} \\frac{d}{d t} \\theta{\\left(t \\right)}\\right)}{2} - \\frac{m_{2} \\cdot \\left(2 R^{2} \\sin^{2}{\\left(\\theta{\\left(t \\right)} \\right)} \\frac{d^{2}}{d t^{2}} \\theta{\\left(t \\right)} + 4 R^{2} \\sin{\\left(\\theta{\\left(t \\right)} \\right)} \\cos{\\left(\\theta{\\left(t \\right)} \\right)} \\left(\\frac{d}{d t} \\theta{\\left(t \\right)}\\right)^{2} - 2 R \\left(R \\cos{\\left(\\theta{\\left(t \\right)} \\right)} \\frac{d}{d t} \\theta{\\left(t \\right)} + \\frac{d}{d t} z{\\left(t \\right)}\\right) \\sin{\\left(\\theta{\\left(t \\right)} \\right)} \\frac{d}{d t} \\theta{\\left(t \\right)} + 2 R \\left(- R \\sin{\\left(\\theta{\\left(t \\right)} \\right)} \\left(\\frac{d}{d t} \\theta{\\left(t \\right)}\\right)^{2} + R \\cos{\\left(\\theta{\\left(t \\right)} \\right)} \\frac{d^{2}}{d t^{2}} \\theta{\\left(t \\right)} + \\frac{d^{2}}{d t^{2}} z{\\left(t \\right)}\\right) \\cos{\\left(\\theta{\\left(t \\right)} \\right)}\\right)}{2}$"
      ],
      "text/plain": [
       "-R*g*m_2*sin(\\theta(t)) + m_2*(2*R**2*sin(\\theta(t))*cos(\\theta(t))*Derivative(\\theta(t), t)**2 - 2*R*(R*cos(\\theta(t))*Derivative(\\theta(t), t) + Derivative(z(t), t))*sin(\\theta(t))*Derivative(\\theta(t), t))/2 - m_2*(2*R**2*sin(\\theta(t))**2*Derivative(\\theta(t), (t, 2)) + 4*R**2*sin(\\theta(t))*cos(\\theta(t))*Derivative(\\theta(t), t)**2 - 2*R*(R*cos(\\theta(t))*Derivative(\\theta(t), t) + Derivative(z(t), t))*sin(\\theta(t))*Derivative(\\theta(t), t) + 2*R*(-R*sin(\\theta(t))*Derivative(\\theta(t), t)**2 + R*cos(\\theta(t))*Derivative(\\theta(t), (t, 2)) + Derivative(z(t), (t, 2)))*cos(\\theta(t)))/2"
      ]
     },
     "execution_count": 149,
     "metadata": {},
     "output_type": "execute_result"
    }
   ],
   "source": [
    "LE2"
   ]
  },
  {
   "cell_type": "markdown",
   "metadata": {},
   "source": [
    "We want a system of two second order differential equations that we can solve"
   ]
  },
  {
   "cell_type": "code",
   "execution_count": 150,
   "metadata": {},
   "outputs": [],
   "source": [
    "sols = smp.solve([LE1, LE2], [smp.diff(z,t,t), smp.diff(theta,t,t)])"
   ]
  },
  {
   "cell_type": "code",
   "execution_count": 151,
   "metadata": {},
   "outputs": [
    {
     "data": {
      "text/plain": [
       "{Derivative(z(t), (t, 2)): R*m_2*sin(\\theta(t))**3*Derivative(\\theta(t), t)**2/(m_1*sin(\\theta(t))**2 + m_1*cos(\\theta(t))**2 + m_2*sin(\\theta(t))**2) + R*m_2*sin(\\theta(t))*cos(\\theta(t))**2*Derivative(\\theta(t), t)**2/(m_1*sin(\\theta(t))**2 + m_1*cos(\\theta(t))**2 + m_2*sin(\\theta(t))**2) + g*m_2*sin(\\theta(t))*cos(\\theta(t))/(m_1*sin(\\theta(t))**2 + m_1*cos(\\theta(t))**2 + m_2*sin(\\theta(t))**2),\n",
       " Derivative(\\theta(t), (t, 2)): -R*m_2*sin(\\theta(t))*cos(\\theta(t))*Derivative(\\theta(t), t)**2/(R*m_1*sin(\\theta(t))**2 + R*m_1*cos(\\theta(t))**2 + R*m_2*sin(\\theta(t))**2) - g*m_1*sin(\\theta(t))/(R*m_1*sin(\\theta(t))**2 + R*m_1*cos(\\theta(t))**2 + R*m_2*sin(\\theta(t))**2) - g*m_2*sin(\\theta(t))/(R*m_1*sin(\\theta(t))**2 + R*m_1*cos(\\theta(t))**2 + R*m_2*sin(\\theta(t))**2)}"
      ]
     },
     "execution_count": 151,
     "metadata": {},
     "output_type": "execute_result"
    }
   ],
   "source": [
    "sols"
   ]
  },
  {
   "cell_type": "markdown",
   "metadata": {},
   "source": [
    "Find $d^2 \\theta / dt^2 = $"
   ]
  },
  {
   "cell_type": "code",
   "execution_count": 152,
   "metadata": {},
   "outputs": [
    {
     "data": {
      "text/latex": [
       "$\\displaystyle - \\frac{R m_{2} \\sin{\\left(\\theta{\\left(t \\right)} \\right)} \\cos{\\left(\\theta{\\left(t \\right)} \\right)} \\left(\\frac{d}{d t} \\theta{\\left(t \\right)}\\right)^{2}}{R m_{1} \\sin^{2}{\\left(\\theta{\\left(t \\right)} \\right)} + R m_{1} \\cos^{2}{\\left(\\theta{\\left(t \\right)} \\right)} + R m_{2} \\sin^{2}{\\left(\\theta{\\left(t \\right)} \\right)}} - \\frac{g m_{1} \\sin{\\left(\\theta{\\left(t \\right)} \\right)}}{R m_{1} \\sin^{2}{\\left(\\theta{\\left(t \\right)} \\right)} + R m_{1} \\cos^{2}{\\left(\\theta{\\left(t \\right)} \\right)} + R m_{2} \\sin^{2}{\\left(\\theta{\\left(t \\right)} \\right)}} - \\frac{g m_{2} \\sin{\\left(\\theta{\\left(t \\right)} \\right)}}{R m_{1} \\sin^{2}{\\left(\\theta{\\left(t \\right)} \\right)} + R m_{1} \\cos^{2}{\\left(\\theta{\\left(t \\right)} \\right)} + R m_{2} \\sin^{2}{\\left(\\theta{\\left(t \\right)} \\right)}}$"
      ],
      "text/plain": [
       "-R*m_2*sin(\\theta(t))*cos(\\theta(t))*Derivative(\\theta(t), t)**2/(R*m_1*sin(\\theta(t))**2 + R*m_1*cos(\\theta(t))**2 + R*m_2*sin(\\theta(t))**2) - g*m_1*sin(\\theta(t))/(R*m_1*sin(\\theta(t))**2 + R*m_1*cos(\\theta(t))**2 + R*m_2*sin(\\theta(t))**2) - g*m_2*sin(\\theta(t))/(R*m_1*sin(\\theta(t))**2 + R*m_1*cos(\\theta(t))**2 + R*m_2*sin(\\theta(t))**2)"
      ]
     },
     "execution_count": 152,
     "metadata": {},
     "output_type": "execute_result"
    }
   ],
   "source": [
    "sols[smp.diff(theta,t,t)]"
   ]
  },
  {
   "cell_type": "markdown",
   "metadata": {},
   "source": [
    "Find $d^2 z / dt^2 = $"
   ]
  },
  {
   "cell_type": "code",
   "execution_count": 153,
   "metadata": {},
   "outputs": [
    {
     "data": {
      "text/latex": [
       "$\\displaystyle \\frac{R m_{2} \\sin^{3}{\\left(\\theta{\\left(t \\right)} \\right)} \\left(\\frac{d}{d t} \\theta{\\left(t \\right)}\\right)^{2}}{m_{1} \\sin^{2}{\\left(\\theta{\\left(t \\right)} \\right)} + m_{1} \\cos^{2}{\\left(\\theta{\\left(t \\right)} \\right)} + m_{2} \\sin^{2}{\\left(\\theta{\\left(t \\right)} \\right)}} + \\frac{R m_{2} \\sin{\\left(\\theta{\\left(t \\right)} \\right)} \\cos^{2}{\\left(\\theta{\\left(t \\right)} \\right)} \\left(\\frac{d}{d t} \\theta{\\left(t \\right)}\\right)^{2}}{m_{1} \\sin^{2}{\\left(\\theta{\\left(t \\right)} \\right)} + m_{1} \\cos^{2}{\\left(\\theta{\\left(t \\right)} \\right)} + m_{2} \\sin^{2}{\\left(\\theta{\\left(t \\right)} \\right)}} + \\frac{g m_{2} \\sin{\\left(\\theta{\\left(t \\right)} \\right)} \\cos{\\left(\\theta{\\left(t \\right)} \\right)}}{m_{1} \\sin^{2}{\\left(\\theta{\\left(t \\right)} \\right)} + m_{1} \\cos^{2}{\\left(\\theta{\\left(t \\right)} \\right)} + m_{2} \\sin^{2}{\\left(\\theta{\\left(t \\right)} \\right)}}$"
      ],
      "text/plain": [
       "R*m_2*sin(\\theta(t))**3*Derivative(\\theta(t), t)**2/(m_1*sin(\\theta(t))**2 + m_1*cos(\\theta(t))**2 + m_2*sin(\\theta(t))**2) + R*m_2*sin(\\theta(t))*cos(\\theta(t))**2*Derivative(\\theta(t), t)**2/(m_1*sin(\\theta(t))**2 + m_1*cos(\\theta(t))**2 + m_2*sin(\\theta(t))**2) + g*m_2*sin(\\theta(t))*cos(\\theta(t))/(m_1*sin(\\theta(t))**2 + m_1*cos(\\theta(t))**2 + m_2*sin(\\theta(t))**2)"
      ]
     },
     "execution_count": 153,
     "metadata": {},
     "output_type": "execute_result"
    }
   ],
   "source": [
    "sols[smp.diff(z,t,t)]"
   ]
  },
  {
   "cell_type": "markdown",
   "metadata": {},
   "source": [
    "With these two second order differential equations, the system can be numerically solved! (See any of my videos on Lagrangian mechanics)"
   ]
  },
  {
   "cell_type": "markdown",
   "metadata": {},
   "source": [
    "## Let's find the Lagrange's Equations for a Double Pendulum\n",
    "\n",
    "<p align=\"center\">\n",
    "  <img src=\"double_pendulum.webp\" alt=\"drawing\" width=\"400\" align=\"center\"/>\n",
    "</p>"
   ]
  },
  {
   "cell_type": "markdown",
   "metadata": {
    "tags": []
   },
   "source": [
    "Define all appropriate symbols using sympy"
   ]
  },
  {
   "cell_type": "code",
   "execution_count": 138,
   "metadata": {
    "tags": []
   },
   "outputs": [],
   "source": [
    "t, L1, L2, m1, m2, g = smp.symbols('t L_1 L_2 m_1 m_2 g')\n",
    "theta1, theta2 = smp.symbols(r'\\theta_1 \\theta_2', cls=smp.Function)\n",
    "theta1 = theta1(t)\n",
    "theta2 = theta2(t)\n",
    "\n",
    "dth1dt = smp.diff(theta1, t)\n",
    "dth2dt = smp.diff(theta2, t)\n",
    "th1_dd = smp.diff(dth1dt, t)\n",
    "th2_dd = smp.diff(dth2dt, t)"
   ]
  },
  {
   "cell_type": "code",
   "execution_count": 139,
   "metadata": {
    "tags": []
   },
   "outputs": [],
   "source": [
    "x1 = L1*smp.sin(theta1)\n",
    "x2 = L1*smp.sin(theta1) + L2*smp.sin(theta2)\n",
    "y1 = -L1*smp.cos(theta1)\n",
    "y2 = -L1*smp.cos(theta1) - L2*smp.cos(theta2)\n",
    "x1dot = smp.diff(x1, t)\n",
    "x2dot = smp.diff(x2, t)\n",
    "y1dot = smp.diff(y1, t)\n",
    "y2dot = smp.diff(y2, t)"
   ]
  },
  {
   "cell_type": "markdown",
   "metadata": {},
   "source": [
    "Find the Kinetic and Potential Energies and then the Lagrangian for the System"
   ]
  },
  {
   "cell_type": "code",
   "execution_count": 140,
   "metadata": {
    "tags": []
   },
   "outputs": [],
   "source": [
    "T = smp.Rational(1,2)*m1*(x1dot**2 + y1dot**2) + smp.Rational(1,2)*m2*(x2dot**2 + y2dot**2)\n",
    "V = m1*g*y1 + m2*g*y2"
   ]
  },
  {
   "cell_type": "code",
   "execution_count": 141,
   "metadata": {
    "tags": []
   },
   "outputs": [
    {
     "data": {
      "text/latex": [
       "$\\displaystyle L_{1} g m_{1} \\cos{\\left(\\theta_{1}{\\left(t \\right)} \\right)} - g m_{2} \\left(- L_{1} \\cos{\\left(\\theta_{1}{\\left(t \\right)} \\right)} - L_{2} \\cos{\\left(\\theta_{2}{\\left(t \\right)} \\right)}\\right) + \\frac{m_{1} \\left(L_{1}^{2} \\sin^{2}{\\left(\\theta_{1}{\\left(t \\right)} \\right)} \\left(\\frac{d}{d t} \\theta_{1}{\\left(t \\right)}\\right)^{2} + L_{1}^{2} \\cos^{2}{\\left(\\theta_{1}{\\left(t \\right)} \\right)} \\left(\\frac{d}{d t} \\theta_{1}{\\left(t \\right)}\\right)^{2}\\right)}{2} + \\frac{m_{2} \\left(\\left(L_{1} \\sin{\\left(\\theta_{1}{\\left(t \\right)} \\right)} \\frac{d}{d t} \\theta_{1}{\\left(t \\right)} + L_{2} \\sin{\\left(\\theta_{2}{\\left(t \\right)} \\right)} \\frac{d}{d t} \\theta_{2}{\\left(t \\right)}\\right)^{2} + \\left(L_{1} \\cos{\\left(\\theta_{1}{\\left(t \\right)} \\right)} \\frac{d}{d t} \\theta_{1}{\\left(t \\right)} + L_{2} \\cos{\\left(\\theta_{2}{\\left(t \\right)} \\right)} \\frac{d}{d t} \\theta_{2}{\\left(t \\right)}\\right)^{2}\\right)}{2}$"
      ],
      "text/plain": [
       "L_1*g*m_1*cos(\\theta_1(t)) - g*m_2*(-L_1*cos(\\theta_1(t)) - L_2*cos(\\theta_2(t))) + m_1*(L_1**2*sin(\\theta_1(t))**2*Derivative(\\theta_1(t), t)**2 + L_1**2*cos(\\theta_1(t))**2*Derivative(\\theta_1(t), t)**2)/2 + m_2*((L_1*sin(\\theta_1(t))*Derivative(\\theta_1(t), t) + L_2*sin(\\theta_2(t))*Derivative(\\theta_2(t), t))**2 + (L_1*cos(\\theta_1(t))*Derivative(\\theta_1(t), t) + L_2*cos(\\theta_2(t))*Derivative(\\theta_2(t), t))**2)/2"
      ]
     },
     "execution_count": 141,
     "metadata": {},
     "output_type": "execute_result"
    }
   ],
   "source": [
    "L = T-V\n",
    "L"
   ]
  },
  {
   "cell_type": "markdown",
   "metadata": {},
   "source": [
    "Get Lagrange's equations\n",
    "\n",
    "$$\\frac{\\partial L}{\\partial \\theta_1} - \\frac{d}{dt}\\frac{\\partial L}{\\partial \\dot{\\theta_1}} = 0$$\n",
    "$$\\frac{\\partial L}{\\partial \\theta_2} - \\frac{d}{dt}\\frac{\\partial L}{\\partial \\dot{\\theta_2}} = 0$$"
   ]
  },
  {
   "cell_type": "code",
   "execution_count": 142,
   "metadata": {
    "tags": []
   },
   "outputs": [],
   "source": [
    "LE1 = smp.diff(L, theta1) - smp.diff(smp.diff(L, dth1dt), t).simplify()\n",
    "LE2 = smp.diff(L, theta2) - smp.diff(smp.diff(L, dth2dt), t).simplify()"
   ]
  },
  {
   "cell_type": "code",
   "execution_count": 143,
   "metadata": {
    "tags": []
   },
   "outputs": [
    {
     "data": {
      "text/latex": [
       "$\\displaystyle - L_{1} g m_{1} \\sin{\\left(\\theta_{1}{\\left(t \\right)} \\right)} - L_{1} g m_{2} \\sin{\\left(\\theta_{1}{\\left(t \\right)} \\right)} - L_{1} \\left(L_{1} m_{1} \\frac{d^{2}}{d t^{2}} \\theta_{1}{\\left(t \\right)} + L_{1} m_{2} \\frac{d^{2}}{d t^{2}} \\theta_{1}{\\left(t \\right)} - L_{2} m_{2} \\sin{\\left(\\theta_{1}{\\left(t \\right)} - \\theta_{2}{\\left(t \\right)} \\right)} \\frac{d}{d t} \\theta_{1}{\\left(t \\right)} \\frac{d}{d t} \\theta_{2}{\\left(t \\right)} + L_{2} m_{2} \\sin{\\left(\\theta_{1}{\\left(t \\right)} - \\theta_{2}{\\left(t \\right)} \\right)} \\left(\\frac{d}{d t} \\theta_{2}{\\left(t \\right)}\\right)^{2} + L_{2} m_{2} \\cos{\\left(\\theta_{1}{\\left(t \\right)} - \\theta_{2}{\\left(t \\right)} \\right)} \\frac{d^{2}}{d t^{2}} \\theta_{2}{\\left(t \\right)}\\right) + \\frac{m_{2} \\cdot \\left(2 L_{1} \\left(L_{1} \\sin{\\left(\\theta_{1}{\\left(t \\right)} \\right)} \\frac{d}{d t} \\theta_{1}{\\left(t \\right)} + L_{2} \\sin{\\left(\\theta_{2}{\\left(t \\right)} \\right)} \\frac{d}{d t} \\theta_{2}{\\left(t \\right)}\\right) \\cos{\\left(\\theta_{1}{\\left(t \\right)} \\right)} \\frac{d}{d t} \\theta_{1}{\\left(t \\right)} - 2 L_{1} \\left(L_{1} \\cos{\\left(\\theta_{1}{\\left(t \\right)} \\right)} \\frac{d}{d t} \\theta_{1}{\\left(t \\right)} + L_{2} \\cos{\\left(\\theta_{2}{\\left(t \\right)} \\right)} \\frac{d}{d t} \\theta_{2}{\\left(t \\right)}\\right) \\sin{\\left(\\theta_{1}{\\left(t \\right)} \\right)} \\frac{d}{d t} \\theta_{1}{\\left(t \\right)}\\right)}{2}$"
      ],
      "text/plain": [
       "-L_1*g*m_1*sin(\\theta_1(t)) - L_1*g*m_2*sin(\\theta_1(t)) - L_1*(L_1*m_1*Derivative(\\theta_1(t), (t, 2)) + L_1*m_2*Derivative(\\theta_1(t), (t, 2)) - L_2*m_2*sin(\\theta_1(t) - \\theta_2(t))*Derivative(\\theta_1(t), t)*Derivative(\\theta_2(t), t) + L_2*m_2*sin(\\theta_1(t) - \\theta_2(t))*Derivative(\\theta_2(t), t)**2 + L_2*m_2*cos(\\theta_1(t) - \\theta_2(t))*Derivative(\\theta_2(t), (t, 2))) + m_2*(2*L_1*(L_1*sin(\\theta_1(t))*Derivative(\\theta_1(t), t) + L_2*sin(\\theta_2(t))*Derivative(\\theta_2(t), t))*cos(\\theta_1(t))*Derivative(\\theta_1(t), t) - 2*L_1*(L_1*cos(\\theta_1(t))*Derivative(\\theta_1(t), t) + L_2*cos(\\theta_2(t))*Derivative(\\theta_2(t), t))*sin(\\theta_1(t))*Derivative(\\theta_1(t), t))/2"
      ]
     },
     "execution_count": 143,
     "metadata": {},
     "output_type": "execute_result"
    }
   ],
   "source": [
    "LE1"
   ]
  },
  {
   "cell_type": "code",
   "execution_count": 144,
   "metadata": {
    "tags": []
   },
   "outputs": [
    {
     "data": {
      "text/latex": [
       "$\\displaystyle - L_{2} g m_{2} \\sin{\\left(\\theta_{2}{\\left(t \\right)} \\right)} - L_{2} m_{2} \\left(- L_{1} \\sin{\\left(\\theta_{1}{\\left(t \\right)} - \\theta_{2}{\\left(t \\right)} \\right)} \\left(\\frac{d}{d t} \\theta_{1}{\\left(t \\right)}\\right)^{2} + L_{1} \\sin{\\left(\\theta_{1}{\\left(t \\right)} - \\theta_{2}{\\left(t \\right)} \\right)} \\frac{d}{d t} \\theta_{1}{\\left(t \\right)} \\frac{d}{d t} \\theta_{2}{\\left(t \\right)} + L_{1} \\cos{\\left(\\theta_{1}{\\left(t \\right)} - \\theta_{2}{\\left(t \\right)} \\right)} \\frac{d^{2}}{d t^{2}} \\theta_{1}{\\left(t \\right)} + L_{2} \\frac{d^{2}}{d t^{2}} \\theta_{2}{\\left(t \\right)}\\right) + \\frac{m_{2} \\cdot \\left(2 L_{2} \\left(L_{1} \\sin{\\left(\\theta_{1}{\\left(t \\right)} \\right)} \\frac{d}{d t} \\theta_{1}{\\left(t \\right)} + L_{2} \\sin{\\left(\\theta_{2}{\\left(t \\right)} \\right)} \\frac{d}{d t} \\theta_{2}{\\left(t \\right)}\\right) \\cos{\\left(\\theta_{2}{\\left(t \\right)} \\right)} \\frac{d}{d t} \\theta_{2}{\\left(t \\right)} - 2 L_{2} \\left(L_{1} \\cos{\\left(\\theta_{1}{\\left(t \\right)} \\right)} \\frac{d}{d t} \\theta_{1}{\\left(t \\right)} + L_{2} \\cos{\\left(\\theta_{2}{\\left(t \\right)} \\right)} \\frac{d}{d t} \\theta_{2}{\\left(t \\right)}\\right) \\sin{\\left(\\theta_{2}{\\left(t \\right)} \\right)} \\frac{d}{d t} \\theta_{2}{\\left(t \\right)}\\right)}{2}$"
      ],
      "text/plain": [
       "-L_2*g*m_2*sin(\\theta_2(t)) - L_2*m_2*(-L_1*sin(\\theta_1(t) - \\theta_2(t))*Derivative(\\theta_1(t), t)**2 + L_1*sin(\\theta_1(t) - \\theta_2(t))*Derivative(\\theta_1(t), t)*Derivative(\\theta_2(t), t) + L_1*cos(\\theta_1(t) - \\theta_2(t))*Derivative(\\theta_1(t), (t, 2)) + L_2*Derivative(\\theta_2(t), (t, 2))) + m_2*(2*L_2*(L_1*sin(\\theta_1(t))*Derivative(\\theta_1(t), t) + L_2*sin(\\theta_2(t))*Derivative(\\theta_2(t), t))*cos(\\theta_2(t))*Derivative(\\theta_2(t), t) - 2*L_2*(L_1*cos(\\theta_1(t))*Derivative(\\theta_1(t), t) + L_2*cos(\\theta_2(t))*Derivative(\\theta_2(t), t))*sin(\\theta_2(t))*Derivative(\\theta_2(t), t))/2"
      ]
     },
     "execution_count": 144,
     "metadata": {},
     "output_type": "execute_result"
    }
   ],
   "source": [
    "LE2"
   ]
  },
  {
   "cell_type": "markdown",
   "metadata": {},
   "source": [
    "Solve Lagranges equations (this assumes that `LE1` and `LE2` are both equal to zero)"
   ]
  },
  {
   "cell_type": "code",
   "execution_count": 145,
   "metadata": {
    "tags": []
   },
   "outputs": [],
   "source": [
    "sols = smp.solve([LE1, LE2], ([th1_dd, th2_dd]), simplify=False, rational=False)"
   ]
  },
  {
   "cell_type": "code",
   "execution_count": 146,
   "metadata": {
    "tags": []
   },
   "outputs": [
    {
     "data": {
      "text/plain": [
       "{Derivative(\\theta_1(t), (t, 2)): L_1*m_2*sin(\\theta_1(t) - \\theta_2(t))*cos(\\theta_1(t) - \\theta_2(t))*Derivative(\\theta_1(t), t)**2/(-L_1*m_1 + L_1*m_2*cos(\\theta_1(t) - \\theta_2(t))**2 - L_1*m_2) - L_1*m_2*sin(\\theta_1(t) - \\theta_2(t))*cos(\\theta_1(t) - \\theta_2(t))*Derivative(\\theta_1(t), t)*Derivative(\\theta_2(t), t)/(-L_1*m_1 + L_1*m_2*cos(\\theta_1(t) - \\theta_2(t))**2 - L_1*m_2) + L_1*m_2*sin(\\theta_1(t))*cos(\\theta_1(t) - \\theta_2(t))*cos(\\theta_2(t))*Derivative(\\theta_1(t), t)*Derivative(\\theta_2(t), t)/(-L_1*m_1 + L_1*m_2*cos(\\theta_1(t) - \\theta_2(t))**2 - L_1*m_2) - L_1*m_2*sin(\\theta_2(t))*cos(\\theta_1(t) - \\theta_2(t))*cos(\\theta_1(t))*Derivative(\\theta_1(t), t)*Derivative(\\theta_2(t), t)/(-L_1*m_1 + L_1*m_2*cos(\\theta_1(t) - \\theta_2(t))**2 - L_1*m_2) - L_2*m_2*sin(\\theta_1(t) - \\theta_2(t))*Derivative(\\theta_1(t), t)*Derivative(\\theta_2(t), t)/(-L_1*m_1 + L_1*m_2*cos(\\theta_1(t) - \\theta_2(t))**2 - L_1*m_2) + L_2*m_2*sin(\\theta_1(t) - \\theta_2(t))*Derivative(\\theta_2(t), t)**2/(-L_1*m_1 + L_1*m_2*cos(\\theta_1(t) - \\theta_2(t))**2 - L_1*m_2) + L_2*m_2*sin(\\theta_1(t))*cos(\\theta_2(t))*Derivative(\\theta_1(t), t)*Derivative(\\theta_2(t), t)/(-L_1*m_1 + L_1*m_2*cos(\\theta_1(t) - \\theta_2(t))**2 - L_1*m_2) - L_2*m_2*sin(\\theta_2(t))*cos(\\theta_1(t))*Derivative(\\theta_1(t), t)*Derivative(\\theta_2(t), t)/(-L_1*m_1 + L_1*m_2*cos(\\theta_1(t) - \\theta_2(t))**2 - L_1*m_2) + g*m_1*sin(\\theta_1(t))/(-L_1*m_1 + L_1*m_2*cos(\\theta_1(t) - \\theta_2(t))**2 - L_1*m_2) + g*m_2*sin(\\theta_1(t))/(-L_1*m_1 + L_1*m_2*cos(\\theta_1(t) - \\theta_2(t))**2 - L_1*m_2) - g*m_2*sin(\\theta_2(t))*cos(\\theta_1(t) - \\theta_2(t))/(-L_1*m_1 + L_1*m_2*cos(\\theta_1(t) - \\theta_2(t))**2 - L_1*m_2),\n",
       " Derivative(\\theta_2(t), (t, 2)): -L_1*m_1*sin(\\theta_1(t) - \\theta_2(t))*Derivative(\\theta_1(t), t)**2/(-L_2*m_1 + L_2*m_2*cos(\\theta_1(t) - \\theta_2(t))**2 - L_2*m_2) + L_1*m_1*sin(\\theta_1(t) - \\theta_2(t))*Derivative(\\theta_1(t), t)*Derivative(\\theta_2(t), t)/(-L_2*m_1 + L_2*m_2*cos(\\theta_1(t) - \\theta_2(t))**2 - L_2*m_2) - L_1*m_1*sin(\\theta_1(t))*cos(\\theta_2(t))*Derivative(\\theta_1(t), t)*Derivative(\\theta_2(t), t)/(-L_2*m_1 + L_2*m_2*cos(\\theta_1(t) - \\theta_2(t))**2 - L_2*m_2) + L_1*m_1*sin(\\theta_2(t))*cos(\\theta_1(t))*Derivative(\\theta_1(t), t)*Derivative(\\theta_2(t), t)/(-L_2*m_1 + L_2*m_2*cos(\\theta_1(t) - \\theta_2(t))**2 - L_2*m_2) - L_1*m_2*sin(\\theta_1(t) - \\theta_2(t))*Derivative(\\theta_1(t), t)**2/(-L_2*m_1 + L_2*m_2*cos(\\theta_1(t) - \\theta_2(t))**2 - L_2*m_2) + L_1*m_2*sin(\\theta_1(t) - \\theta_2(t))*Derivative(\\theta_1(t), t)*Derivative(\\theta_2(t), t)/(-L_2*m_1 + L_2*m_2*cos(\\theta_1(t) - \\theta_2(t))**2 - L_2*m_2) - L_1*m_2*sin(\\theta_1(t))*cos(\\theta_2(t))*Derivative(\\theta_1(t), t)*Derivative(\\theta_2(t), t)/(-L_2*m_1 + L_2*m_2*cos(\\theta_1(t) - \\theta_2(t))**2 - L_2*m_2) + L_1*m_2*sin(\\theta_2(t))*cos(\\theta_1(t))*Derivative(\\theta_1(t), t)*Derivative(\\theta_2(t), t)/(-L_2*m_1 + L_2*m_2*cos(\\theta_1(t) - \\theta_2(t))**2 - L_2*m_2) + L_2*m_2*sin(\\theta_1(t) - \\theta_2(t))*cos(\\theta_1(t) - \\theta_2(t))*Derivative(\\theta_1(t), t)*Derivative(\\theta_2(t), t)/(-L_2*m_1 + L_2*m_2*cos(\\theta_1(t) - \\theta_2(t))**2 - L_2*m_2) - L_2*m_2*sin(\\theta_1(t) - \\theta_2(t))*cos(\\theta_1(t) - \\theta_2(t))*Derivative(\\theta_2(t), t)**2/(-L_2*m_1 + L_2*m_2*cos(\\theta_1(t) - \\theta_2(t))**2 - L_2*m_2) - L_2*m_2*sin(\\theta_1(t))*cos(\\theta_1(t) - \\theta_2(t))*cos(\\theta_2(t))*Derivative(\\theta_1(t), t)*Derivative(\\theta_2(t), t)/(-L_2*m_1 + L_2*m_2*cos(\\theta_1(t) - \\theta_2(t))**2 - L_2*m_2) + L_2*m_2*sin(\\theta_2(t))*cos(\\theta_1(t) - \\theta_2(t))*cos(\\theta_1(t))*Derivative(\\theta_1(t), t)*Derivative(\\theta_2(t), t)/(-L_2*m_1 + L_2*m_2*cos(\\theta_1(t) - \\theta_2(t))**2 - L_2*m_2) - g*m_1*sin(\\theta_1(t))*cos(\\theta_1(t) - \\theta_2(t))/(-L_2*m_1 + L_2*m_2*cos(\\theta_1(t) - \\theta_2(t))**2 - L_2*m_2) + g*m_1*sin(\\theta_2(t))/(-L_2*m_1 + L_2*m_2*cos(\\theta_1(t) - \\theta_2(t))**2 - L_2*m_2) - g*m_2*sin(\\theta_1(t))*cos(\\theta_1(t) - \\theta_2(t))/(-L_2*m_1 + L_2*m_2*cos(\\theta_1(t) - \\theta_2(t))**2 - L_2*m_2) + g*m_2*sin(\\theta_2(t))/(-L_2*m_1 + L_2*m_2*cos(\\theta_1(t) - \\theta_2(t))**2 - L_2*m_2)}"
      ]
     },
     "execution_count": 146,
     "metadata": {},
     "output_type": "execute_result"
    }
   ],
   "source": [
    "sols"
   ]
  },
  {
   "cell_type": "code",
   "execution_count": 147,
   "metadata": {
    "tags": []
   },
   "outputs": [
    {
     "data": {
      "text/latex": [
       "$\\displaystyle \\frac{L_{1} m_{2} \\sin{\\left(\\theta_{1}{\\left(t \\right)} - \\theta_{2}{\\left(t \\right)} \\right)} \\cos{\\left(\\theta_{1}{\\left(t \\right)} - \\theta_{2}{\\left(t \\right)} \\right)} \\left(\\frac{d}{d t} \\theta_{1}{\\left(t \\right)}\\right)^{2}}{- L_{1} m_{1} + L_{1} m_{2} \\cos^{2}{\\left(\\theta_{1}{\\left(t \\right)} - \\theta_{2}{\\left(t \\right)} \\right)} - L_{1} m_{2}} - \\frac{L_{1} m_{2} \\sin{\\left(\\theta_{1}{\\left(t \\right)} - \\theta_{2}{\\left(t \\right)} \\right)} \\cos{\\left(\\theta_{1}{\\left(t \\right)} - \\theta_{2}{\\left(t \\right)} \\right)} \\frac{d}{d t} \\theta_{1}{\\left(t \\right)} \\frac{d}{d t} \\theta_{2}{\\left(t \\right)}}{- L_{1} m_{1} + L_{1} m_{2} \\cos^{2}{\\left(\\theta_{1}{\\left(t \\right)} - \\theta_{2}{\\left(t \\right)} \\right)} - L_{1} m_{2}} + \\frac{L_{1} m_{2} \\sin{\\left(\\theta_{1}{\\left(t \\right)} \\right)} \\cos{\\left(\\theta_{1}{\\left(t \\right)} - \\theta_{2}{\\left(t \\right)} \\right)} \\cos{\\left(\\theta_{2}{\\left(t \\right)} \\right)} \\frac{d}{d t} \\theta_{1}{\\left(t \\right)} \\frac{d}{d t} \\theta_{2}{\\left(t \\right)}}{- L_{1} m_{1} + L_{1} m_{2} \\cos^{2}{\\left(\\theta_{1}{\\left(t \\right)} - \\theta_{2}{\\left(t \\right)} \\right)} - L_{1} m_{2}} - \\frac{L_{1} m_{2} \\sin{\\left(\\theta_{2}{\\left(t \\right)} \\right)} \\cos{\\left(\\theta_{1}{\\left(t \\right)} - \\theta_{2}{\\left(t \\right)} \\right)} \\cos{\\left(\\theta_{1}{\\left(t \\right)} \\right)} \\frac{d}{d t} \\theta_{1}{\\left(t \\right)} \\frac{d}{d t} \\theta_{2}{\\left(t \\right)}}{- L_{1} m_{1} + L_{1} m_{2} \\cos^{2}{\\left(\\theta_{1}{\\left(t \\right)} - \\theta_{2}{\\left(t \\right)} \\right)} - L_{1} m_{2}} - \\frac{L_{2} m_{2} \\sin{\\left(\\theta_{1}{\\left(t \\right)} - \\theta_{2}{\\left(t \\right)} \\right)} \\frac{d}{d t} \\theta_{1}{\\left(t \\right)} \\frac{d}{d t} \\theta_{2}{\\left(t \\right)}}{- L_{1} m_{1} + L_{1} m_{2} \\cos^{2}{\\left(\\theta_{1}{\\left(t \\right)} - \\theta_{2}{\\left(t \\right)} \\right)} - L_{1} m_{2}} + \\frac{L_{2} m_{2} \\sin{\\left(\\theta_{1}{\\left(t \\right)} - \\theta_{2}{\\left(t \\right)} \\right)} \\left(\\frac{d}{d t} \\theta_{2}{\\left(t \\right)}\\right)^{2}}{- L_{1} m_{1} + L_{1} m_{2} \\cos^{2}{\\left(\\theta_{1}{\\left(t \\right)} - \\theta_{2}{\\left(t \\right)} \\right)} - L_{1} m_{2}} + \\frac{L_{2} m_{2} \\sin{\\left(\\theta_{1}{\\left(t \\right)} \\right)} \\cos{\\left(\\theta_{2}{\\left(t \\right)} \\right)} \\frac{d}{d t} \\theta_{1}{\\left(t \\right)} \\frac{d}{d t} \\theta_{2}{\\left(t \\right)}}{- L_{1} m_{1} + L_{1} m_{2} \\cos^{2}{\\left(\\theta_{1}{\\left(t \\right)} - \\theta_{2}{\\left(t \\right)} \\right)} - L_{1} m_{2}} - \\frac{L_{2} m_{2} \\sin{\\left(\\theta_{2}{\\left(t \\right)} \\right)} \\cos{\\left(\\theta_{1}{\\left(t \\right)} \\right)} \\frac{d}{d t} \\theta_{1}{\\left(t \\right)} \\frac{d}{d t} \\theta_{2}{\\left(t \\right)}}{- L_{1} m_{1} + L_{1} m_{2} \\cos^{2}{\\left(\\theta_{1}{\\left(t \\right)} - \\theta_{2}{\\left(t \\right)} \\right)} - L_{1} m_{2}} + \\frac{g m_{1} \\sin{\\left(\\theta_{1}{\\left(t \\right)} \\right)}}{- L_{1} m_{1} + L_{1} m_{2} \\cos^{2}{\\left(\\theta_{1}{\\left(t \\right)} - \\theta_{2}{\\left(t \\right)} \\right)} - L_{1} m_{2}} + \\frac{g m_{2} \\sin{\\left(\\theta_{1}{\\left(t \\right)} \\right)}}{- L_{1} m_{1} + L_{1} m_{2} \\cos^{2}{\\left(\\theta_{1}{\\left(t \\right)} - \\theta_{2}{\\left(t \\right)} \\right)} - L_{1} m_{2}} - \\frac{g m_{2} \\sin{\\left(\\theta_{2}{\\left(t \\right)} \\right)} \\cos{\\left(\\theta_{1}{\\left(t \\right)} - \\theta_{2}{\\left(t \\right)} \\right)}}{- L_{1} m_{1} + L_{1} m_{2} \\cos^{2}{\\left(\\theta_{1}{\\left(t \\right)} - \\theta_{2}{\\left(t \\right)} \\right)} - L_{1} m_{2}}$"
      ],
      "text/plain": [
       "L_1*m_2*sin(\\theta_1(t) - \\theta_2(t))*cos(\\theta_1(t) - \\theta_2(t))*Derivative(\\theta_1(t), t)**2/(-L_1*m_1 + L_1*m_2*cos(\\theta_1(t) - \\theta_2(t))**2 - L_1*m_2) - L_1*m_2*sin(\\theta_1(t) - \\theta_2(t))*cos(\\theta_1(t) - \\theta_2(t))*Derivative(\\theta_1(t), t)*Derivative(\\theta_2(t), t)/(-L_1*m_1 + L_1*m_2*cos(\\theta_1(t) - \\theta_2(t))**2 - L_1*m_2) + L_1*m_2*sin(\\theta_1(t))*cos(\\theta_1(t) - \\theta_2(t))*cos(\\theta_2(t))*Derivative(\\theta_1(t), t)*Derivative(\\theta_2(t), t)/(-L_1*m_1 + L_1*m_2*cos(\\theta_1(t) - \\theta_2(t))**2 - L_1*m_2) - L_1*m_2*sin(\\theta_2(t))*cos(\\theta_1(t) - \\theta_2(t))*cos(\\theta_1(t))*Derivative(\\theta_1(t), t)*Derivative(\\theta_2(t), t)/(-L_1*m_1 + L_1*m_2*cos(\\theta_1(t) - \\theta_2(t))**2 - L_1*m_2) - L_2*m_2*sin(\\theta_1(t) - \\theta_2(t))*Derivative(\\theta_1(t), t)*Derivative(\\theta_2(t), t)/(-L_1*m_1 + L_1*m_2*cos(\\theta_1(t) - \\theta_2(t))**2 - L_1*m_2) + L_2*m_2*sin(\\theta_1(t) - \\theta_2(t))*Derivative(\\theta_2(t), t)**2/(-L_1*m_1 + L_1*m_2*cos(\\theta_1(t) - \\theta_2(t))**2 - L_1*m_2) + L_2*m_2*sin(\\theta_1(t))*cos(\\theta_2(t))*Derivative(\\theta_1(t), t)*Derivative(\\theta_2(t), t)/(-L_1*m_1 + L_1*m_2*cos(\\theta_1(t) - \\theta_2(t))**2 - L_1*m_2) - L_2*m_2*sin(\\theta_2(t))*cos(\\theta_1(t))*Derivative(\\theta_1(t), t)*Derivative(\\theta_2(t), t)/(-L_1*m_1 + L_1*m_2*cos(\\theta_1(t) - \\theta_2(t))**2 - L_1*m_2) + g*m_1*sin(\\theta_1(t))/(-L_1*m_1 + L_1*m_2*cos(\\theta_1(t) - \\theta_2(t))**2 - L_1*m_2) + g*m_2*sin(\\theta_1(t))/(-L_1*m_1 + L_1*m_2*cos(\\theta_1(t) - \\theta_2(t))**2 - L_1*m_2) - g*m_2*sin(\\theta_2(t))*cos(\\theta_1(t) - \\theta_2(t))/(-L_1*m_1 + L_1*m_2*cos(\\theta_1(t) - \\theta_2(t))**2 - L_1*m_2)"
      ]
     },
     "execution_count": 147,
     "metadata": {},
     "output_type": "execute_result"
    }
   ],
   "source": [
    "sols[th1_dd]"
   ]
  },
  {
   "cell_type": "code",
   "execution_count": 148,
   "metadata": {
    "tags": []
   },
   "outputs": [
    {
     "data": {
      "text/latex": [
       "$\\displaystyle - \\frac{L_{1} m_{1} \\sin{\\left(\\theta_{1}{\\left(t \\right)} - \\theta_{2}{\\left(t \\right)} \\right)} \\left(\\frac{d}{d t} \\theta_{1}{\\left(t \\right)}\\right)^{2}}{- L_{2} m_{1} + L_{2} m_{2} \\cos^{2}{\\left(\\theta_{1}{\\left(t \\right)} - \\theta_{2}{\\left(t \\right)} \\right)} - L_{2} m_{2}} + \\frac{L_{1} m_{1} \\sin{\\left(\\theta_{1}{\\left(t \\right)} - \\theta_{2}{\\left(t \\right)} \\right)} \\frac{d}{d t} \\theta_{1}{\\left(t \\right)} \\frac{d}{d t} \\theta_{2}{\\left(t \\right)}}{- L_{2} m_{1} + L_{2} m_{2} \\cos^{2}{\\left(\\theta_{1}{\\left(t \\right)} - \\theta_{2}{\\left(t \\right)} \\right)} - L_{2} m_{2}} - \\frac{L_{1} m_{1} \\sin{\\left(\\theta_{1}{\\left(t \\right)} \\right)} \\cos{\\left(\\theta_{2}{\\left(t \\right)} \\right)} \\frac{d}{d t} \\theta_{1}{\\left(t \\right)} \\frac{d}{d t} \\theta_{2}{\\left(t \\right)}}{- L_{2} m_{1} + L_{2} m_{2} \\cos^{2}{\\left(\\theta_{1}{\\left(t \\right)} - \\theta_{2}{\\left(t \\right)} \\right)} - L_{2} m_{2}} + \\frac{L_{1} m_{1} \\sin{\\left(\\theta_{2}{\\left(t \\right)} \\right)} \\cos{\\left(\\theta_{1}{\\left(t \\right)} \\right)} \\frac{d}{d t} \\theta_{1}{\\left(t \\right)} \\frac{d}{d t} \\theta_{2}{\\left(t \\right)}}{- L_{2} m_{1} + L_{2} m_{2} \\cos^{2}{\\left(\\theta_{1}{\\left(t \\right)} - \\theta_{2}{\\left(t \\right)} \\right)} - L_{2} m_{2}} - \\frac{L_{1} m_{2} \\sin{\\left(\\theta_{1}{\\left(t \\right)} - \\theta_{2}{\\left(t \\right)} \\right)} \\left(\\frac{d}{d t} \\theta_{1}{\\left(t \\right)}\\right)^{2}}{- L_{2} m_{1} + L_{2} m_{2} \\cos^{2}{\\left(\\theta_{1}{\\left(t \\right)} - \\theta_{2}{\\left(t \\right)} \\right)} - L_{2} m_{2}} + \\frac{L_{1} m_{2} \\sin{\\left(\\theta_{1}{\\left(t \\right)} - \\theta_{2}{\\left(t \\right)} \\right)} \\frac{d}{d t} \\theta_{1}{\\left(t \\right)} \\frac{d}{d t} \\theta_{2}{\\left(t \\right)}}{- L_{2} m_{1} + L_{2} m_{2} \\cos^{2}{\\left(\\theta_{1}{\\left(t \\right)} - \\theta_{2}{\\left(t \\right)} \\right)} - L_{2} m_{2}} - \\frac{L_{1} m_{2} \\sin{\\left(\\theta_{1}{\\left(t \\right)} \\right)} \\cos{\\left(\\theta_{2}{\\left(t \\right)} \\right)} \\frac{d}{d t} \\theta_{1}{\\left(t \\right)} \\frac{d}{d t} \\theta_{2}{\\left(t \\right)}}{- L_{2} m_{1} + L_{2} m_{2} \\cos^{2}{\\left(\\theta_{1}{\\left(t \\right)} - \\theta_{2}{\\left(t \\right)} \\right)} - L_{2} m_{2}} + \\frac{L_{1} m_{2} \\sin{\\left(\\theta_{2}{\\left(t \\right)} \\right)} \\cos{\\left(\\theta_{1}{\\left(t \\right)} \\right)} \\frac{d}{d t} \\theta_{1}{\\left(t \\right)} \\frac{d}{d t} \\theta_{2}{\\left(t \\right)}}{- L_{2} m_{1} + L_{2} m_{2} \\cos^{2}{\\left(\\theta_{1}{\\left(t \\right)} - \\theta_{2}{\\left(t \\right)} \\right)} - L_{2} m_{2}} + \\frac{L_{2} m_{2} \\sin{\\left(\\theta_{1}{\\left(t \\right)} - \\theta_{2}{\\left(t \\right)} \\right)} \\cos{\\left(\\theta_{1}{\\left(t \\right)} - \\theta_{2}{\\left(t \\right)} \\right)} \\frac{d}{d t} \\theta_{1}{\\left(t \\right)} \\frac{d}{d t} \\theta_{2}{\\left(t \\right)}}{- L_{2} m_{1} + L_{2} m_{2} \\cos^{2}{\\left(\\theta_{1}{\\left(t \\right)} - \\theta_{2}{\\left(t \\right)} \\right)} - L_{2} m_{2}} - \\frac{L_{2} m_{2} \\sin{\\left(\\theta_{1}{\\left(t \\right)} - \\theta_{2}{\\left(t \\right)} \\right)} \\cos{\\left(\\theta_{1}{\\left(t \\right)} - \\theta_{2}{\\left(t \\right)} \\right)} \\left(\\frac{d}{d t} \\theta_{2}{\\left(t \\right)}\\right)^{2}}{- L_{2} m_{1} + L_{2} m_{2} \\cos^{2}{\\left(\\theta_{1}{\\left(t \\right)} - \\theta_{2}{\\left(t \\right)} \\right)} - L_{2} m_{2}} - \\frac{L_{2} m_{2} \\sin{\\left(\\theta_{1}{\\left(t \\right)} \\right)} \\cos{\\left(\\theta_{1}{\\left(t \\right)} - \\theta_{2}{\\left(t \\right)} \\right)} \\cos{\\left(\\theta_{2}{\\left(t \\right)} \\right)} \\frac{d}{d t} \\theta_{1}{\\left(t \\right)} \\frac{d}{d t} \\theta_{2}{\\left(t \\right)}}{- L_{2} m_{1} + L_{2} m_{2} \\cos^{2}{\\left(\\theta_{1}{\\left(t \\right)} - \\theta_{2}{\\left(t \\right)} \\right)} - L_{2} m_{2}} + \\frac{L_{2} m_{2} \\sin{\\left(\\theta_{2}{\\left(t \\right)} \\right)} \\cos{\\left(\\theta_{1}{\\left(t \\right)} - \\theta_{2}{\\left(t \\right)} \\right)} \\cos{\\left(\\theta_{1}{\\left(t \\right)} \\right)} \\frac{d}{d t} \\theta_{1}{\\left(t \\right)} \\frac{d}{d t} \\theta_{2}{\\left(t \\right)}}{- L_{2} m_{1} + L_{2} m_{2} \\cos^{2}{\\left(\\theta_{1}{\\left(t \\right)} - \\theta_{2}{\\left(t \\right)} \\right)} - L_{2} m_{2}} - \\frac{g m_{1} \\sin{\\left(\\theta_{1}{\\left(t \\right)} \\right)} \\cos{\\left(\\theta_{1}{\\left(t \\right)} - \\theta_{2}{\\left(t \\right)} \\right)}}{- L_{2} m_{1} + L_{2} m_{2} \\cos^{2}{\\left(\\theta_{1}{\\left(t \\right)} - \\theta_{2}{\\left(t \\right)} \\right)} - L_{2} m_{2}} + \\frac{g m_{1} \\sin{\\left(\\theta_{2}{\\left(t \\right)} \\right)}}{- L_{2} m_{1} + L_{2} m_{2} \\cos^{2}{\\left(\\theta_{1}{\\left(t \\right)} - \\theta_{2}{\\left(t \\right)} \\right)} - L_{2} m_{2}} - \\frac{g m_{2} \\sin{\\left(\\theta_{1}{\\left(t \\right)} \\right)} \\cos{\\left(\\theta_{1}{\\left(t \\right)} - \\theta_{2}{\\left(t \\right)} \\right)}}{- L_{2} m_{1} + L_{2} m_{2} \\cos^{2}{\\left(\\theta_{1}{\\left(t \\right)} - \\theta_{2}{\\left(t \\right)} \\right)} - L_{2} m_{2}} + \\frac{g m_{2} \\sin{\\left(\\theta_{2}{\\left(t \\right)} \\right)}}{- L_{2} m_{1} + L_{2} m_{2} \\cos^{2}{\\left(\\theta_{1}{\\left(t \\right)} - \\theta_{2}{\\left(t \\right)} \\right)} - L_{2} m_{2}}$"
      ],
      "text/plain": [
       "-L_1*m_1*sin(\\theta_1(t) - \\theta_2(t))*Derivative(\\theta_1(t), t)**2/(-L_2*m_1 + L_2*m_2*cos(\\theta_1(t) - \\theta_2(t))**2 - L_2*m_2) + L_1*m_1*sin(\\theta_1(t) - \\theta_2(t))*Derivative(\\theta_1(t), t)*Derivative(\\theta_2(t), t)/(-L_2*m_1 + L_2*m_2*cos(\\theta_1(t) - \\theta_2(t))**2 - L_2*m_2) - L_1*m_1*sin(\\theta_1(t))*cos(\\theta_2(t))*Derivative(\\theta_1(t), t)*Derivative(\\theta_2(t), t)/(-L_2*m_1 + L_2*m_2*cos(\\theta_1(t) - \\theta_2(t))**2 - L_2*m_2) + L_1*m_1*sin(\\theta_2(t))*cos(\\theta_1(t))*Derivative(\\theta_1(t), t)*Derivative(\\theta_2(t), t)/(-L_2*m_1 + L_2*m_2*cos(\\theta_1(t) - \\theta_2(t))**2 - L_2*m_2) - L_1*m_2*sin(\\theta_1(t) - \\theta_2(t))*Derivative(\\theta_1(t), t)**2/(-L_2*m_1 + L_2*m_2*cos(\\theta_1(t) - \\theta_2(t))**2 - L_2*m_2) + L_1*m_2*sin(\\theta_1(t) - \\theta_2(t))*Derivative(\\theta_1(t), t)*Derivative(\\theta_2(t), t)/(-L_2*m_1 + L_2*m_2*cos(\\theta_1(t) - \\theta_2(t))**2 - L_2*m_2) - L_1*m_2*sin(\\theta_1(t))*cos(\\theta_2(t))*Derivative(\\theta_1(t), t)*Derivative(\\theta_2(t), t)/(-L_2*m_1 + L_2*m_2*cos(\\theta_1(t) - \\theta_2(t))**2 - L_2*m_2) + L_1*m_2*sin(\\theta_2(t))*cos(\\theta_1(t))*Derivative(\\theta_1(t), t)*Derivative(\\theta_2(t), t)/(-L_2*m_1 + L_2*m_2*cos(\\theta_1(t) - \\theta_2(t))**2 - L_2*m_2) + L_2*m_2*sin(\\theta_1(t) - \\theta_2(t))*cos(\\theta_1(t) - \\theta_2(t))*Derivative(\\theta_1(t), t)*Derivative(\\theta_2(t), t)/(-L_2*m_1 + L_2*m_2*cos(\\theta_1(t) - \\theta_2(t))**2 - L_2*m_2) - L_2*m_2*sin(\\theta_1(t) - \\theta_2(t))*cos(\\theta_1(t) - \\theta_2(t))*Derivative(\\theta_2(t), t)**2/(-L_2*m_1 + L_2*m_2*cos(\\theta_1(t) - \\theta_2(t))**2 - L_2*m_2) - L_2*m_2*sin(\\theta_1(t))*cos(\\theta_1(t) - \\theta_2(t))*cos(\\theta_2(t))*Derivative(\\theta_1(t), t)*Derivative(\\theta_2(t), t)/(-L_2*m_1 + L_2*m_2*cos(\\theta_1(t) - \\theta_2(t))**2 - L_2*m_2) + L_2*m_2*sin(\\theta_2(t))*cos(\\theta_1(t) - \\theta_2(t))*cos(\\theta_1(t))*Derivative(\\theta_1(t), t)*Derivative(\\theta_2(t), t)/(-L_2*m_1 + L_2*m_2*cos(\\theta_1(t) - \\theta_2(t))**2 - L_2*m_2) - g*m_1*sin(\\theta_1(t))*cos(\\theta_1(t) - \\theta_2(t))/(-L_2*m_1 + L_2*m_2*cos(\\theta_1(t) - \\theta_2(t))**2 - L_2*m_2) + g*m_1*sin(\\theta_2(t))/(-L_2*m_1 + L_2*m_2*cos(\\theta_1(t) - \\theta_2(t))**2 - L_2*m_2) - g*m_2*sin(\\theta_1(t))*cos(\\theta_1(t) - \\theta_2(t))/(-L_2*m_1 + L_2*m_2*cos(\\theta_1(t) - \\theta_2(t))**2 - L_2*m_2) + g*m_2*sin(\\theta_2(t))/(-L_2*m_1 + L_2*m_2*cos(\\theta_1(t) - \\theta_2(t))**2 - L_2*m_2)"
      ]
     },
     "execution_count": 148,
     "metadata": {},
     "output_type": "execute_result"
    }
   ],
   "source": [
    "sols[th2_dd]"
   ]
  },
  {
   "cell_type": "markdown",
   "metadata": {},
   "source": [
    "Now we have \n",
    "\n",
    "* $\\frac{d^2 \\theta_1}{dt^2} = ...$\n",
    "* $\\frac{d^2 \\theta_2}{dt^2} = ...$\n",
    "\n",
    "These are two second order ODEs! In python we can only solve systems of first order ODEs. Any system of second order ODEs can be converted as follows:\n",
    "\n",
    "1. Define $z_1 = d\\theta_1/dt$ and $z_2=d\\theta_2/dt$\n",
    "2. Then $dz_1/dt = d^2\\theta_1/dt^2$ and $dz_2/dt = d^2\\theta_2/dt^2$\n",
    "\n",
    "Now we get a system of 4 first order ODEs (as opposed to 2 second order ones)\n",
    "\n",
    "* $d z_1/dt = ...$\n",
    "* $d\\theta_1/dt = z_1$\n",
    "* $d z_2/dt = ...$\n",
    "* $d\\theta_2/dt = z_1$\n",
    "\n",
    "We need to convert the **symbolic** expressions above to numerical functions so we can use them in a numerical python solver. For this we use `smp.lambdify`"
   ]
  },
  {
   "cell_type": "code",
   "execution_count": 149,
   "metadata": {
    "tags": []
   },
   "outputs": [],
   "source": [
    "dz1dt_f = smp.lambdify((t,g,m1,m2,L1,L2,theta1,theta2,dth1dt,dth2dt), sols[th1_dd])\n",
    "dz2dt_f = smp.lambdify((t,g,m1,m2,L1,L2,theta1,theta2,dth1dt,dth2dt), sols[th2_dd])\n",
    "dth1dt_f = smp.lambdify(dth1dt, dth1dt)\n",
    "dth2dt_f = smp.lambdify(dth2dt, dth2dt)"
   ]
  },
  {
   "cell_type": "markdown",
   "metadata": {},
   "source": [
    "Now define $\\vec{S} = (\\theta_1, z_1, \\theta_2, z_2)$. IF we're going to use an ODE solver in python, we need to write a function that takes in $\\vec{S}$ and $t$ and returns $d\\vec{S}/dt$. In other words, we need to define $d\\vec{S}/dt (\\vec{S}, t)$\n",
    "\n",
    "* Our system of ODEs can be fully specified using $d\\vec{S}/dt$ and depends only on $\\vec{S}$ and $t$"
   ]
  },
  {
   "cell_type": "code",
   "execution_count": 150,
   "metadata": {
    "tags": []
   },
   "outputs": [],
   "source": [
    "def dSdt(S, t, g, m1, m2, L1, L2):\n",
    "    theta1, z1, theta2, z2 = S\n",
    "    return [\n",
    "        dth1dt_f(z1),\n",
    "        dz1dt_f(t, g, m1, m2, L1, L2, theta1, theta2, z1, z2),\n",
    "        dth2dt_f(z2),\n",
    "        dz2dt_f(t, g, m1, m2, L1, L2, theta1, theta2, z1, z2),\n",
    "    ]"
   ]
  },
  {
   "cell_type": "markdown",
   "metadata": {},
   "source": [
    "Solve the system of ODEs using scipys `odeint` method"
   ]
  },
  {
   "cell_type": "code",
   "execution_count": 211,
   "metadata": {
    "tags": []
   },
   "outputs": [],
   "source": [
    "t = np.linspace(0, 40, 1001)\n",
    "g = 9.81\n",
    "m1=1\n",
    "m2=1\n",
    "L1 = 1\n",
    "L2 = 1\n",
    "res = odeint(dSdt, y0=[0, 4, 0, 8], t=t, args=(g,m1,m2,L1,L2))"
   ]
  },
  {
   "cell_type": "code",
   "execution_count": 212,
   "metadata": {
    "tags": []
   },
   "outputs": [
    {
     "data": {
      "text/plain": [
       "array([[0.00000000e+00, 1.63269590e-01, 3.43316248e-01, ...,\n",
       "        1.41081711e+02, 1.41347023e+02, 1.41559791e+02],\n",
       "       [4.00000000e+00, 4.23841034e+00, 4.79170386e+00, ...,\n",
       "        7.02416782e+00, 6.09076818e+00, 4.47883827e+00],\n",
       "       [0.00000000e+00, 3.15216559e-01, 6.04679433e-01, ...,\n",
       "        2.13409440e+02, 2.13910140e+02, 2.14373833e+02],\n",
       "       [8.00000000e+00, 7.64831889e+00, 6.76127396e+00, ...,\n",
       "        1.27598560e+01, 1.21538495e+01, 1.09656536e+01]])"
      ]
     },
     "execution_count": 212,
     "metadata": {},
     "output_type": "execute_result"
    }
   ],
   "source": [
    "res.T"
   ]
  },
  {
   "cell_type": "markdown",
   "metadata": {},
   "source": [
    "Can obtain $\\theta_1(t)$ and $\\theta_2(t)$ from the res"
   ]
  },
  {
   "cell_type": "code",
   "execution_count": 213,
   "metadata": {
    "tags": []
   },
   "outputs": [],
   "source": [
    "theta1 = res.T[0]\n",
    "theta2 = res.T[2]"
   ]
  },
  {
   "cell_type": "code",
   "execution_count": 214,
   "metadata": {
    "tags": []
   },
   "outputs": [
    {
     "data": {
      "text/plain": [
       "[<matplotlib.lines.Line2D at 0x7f446d743e90>]"
      ]
     },
     "execution_count": 214,
     "metadata": {},
     "output_type": "execute_result"
    },
    {
     "data": {
      "image/png": "[encoded data removed]",
      "text/plain": [
       "<Figure size 640x480 with 1 Axes>"
      ]
     },
     "metadata": {},
     "output_type": "display_data"
    }
   ],
   "source": [
    "plt.xlabel(r\"Time (t)\")\n",
    "plt.ylabel(r\"$\\theta_2(t)$\")\n",
    "plt.plot(t, theta2)"
   ]
  },
  {
   "cell_type": "markdown",
   "metadata": {},
   "source": [
    "Here's a function that takes in $\\theta_1$ and $\\theta_2$ and returns the location (x,y) of the two masses."
   ]
  },
  {
   "cell_type": "code",
   "execution_count": 215,
   "metadata": {
    "tags": []
   },
   "outputs": [],
   "source": [
    "def get_x1y1x2y2(t, the1, the2, L1, L2):\n",
    "    return (L1*np.sin(the1),\n",
    "            -L1*np.cos(the1),\n",
    "            L1*np.sin(the1) + L2*np.sin(the2),\n",
    "            -L1*np.cos(the1) - L2*np.cos(the2))\n",
    "\n",
    "x1, y1, x2, y2 = get_x1y1x2y2(t, res.T[0], res.T[2], L1, L2)"
   ]
  },
  {
   "cell_type": "code",
   "execution_count": 216,
   "metadata": {
    "tags": []
   },
   "outputs": [
    {
     "data": {
      "image/png": "[encoded data removed]",
      "text/plain": [
       "<Figure size 800x800 with 1 Axes>"
      ]
     },
     "metadata": {},
     "output_type": "display_data"
    }
   ],
   "source": [
    "def animate(i):\n",
    "    ln1.set_data([0, x1[i], x2[i]], [0, y1[i], y2[i]])\n",
    "    \n",
    "fig, ax = plt.subplots(1,1, figsize=(8,8))\n",
    "ax.set_facecolor('white')\n",
    "#ax.get_xaxis().set_ticks([])    # enable this to hide x axis ticks\n",
    "#ax.get_yaxis().set_ticks([])    # enable this to hide y axis ticks\n",
    "ln1, = plt.plot([], [], 'ko-', lw=2, markersize=10)\n",
    "ax.set_ylim(-2.5,2.5)\n",
    "ax.set_xlim(-2.5,2.5)\n",
    "ani = animation.FuncAnimation(fig, animate, frames=1000, interval=50)\n",
    "ani.save('double_pendulum.gif',writer='pillow',fps=25)"
   ]
  },
  {
   "cell_type": "code",
   "execution_count": null,
   "metadata": {},
   "outputs": [],
   "source": []
  }
 ],
 "metadata": {
  "kernelspec": {
   "display_name": "Python 3 (ipykernel)",
   "language": "python",
   "name": "python3"
  },
  "language_info": {
   "codemirror_mode": {
    "name": "ipython",
    "version": 3
   },
   "file_extension": ".py",
   "mimetype": "text/x-python",
   "name": "python",
   "nbconvert_exporter": "python",
   "pygments_lexer": "ipython3",
   "version": "3.11.4"
  }
 },
 "nbformat": 4,
 "nbformat_minor": 4
}
