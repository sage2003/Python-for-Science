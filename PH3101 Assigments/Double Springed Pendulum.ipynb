{
 "cells": [
  {
   "cell_type": "code",
   "execution_count": 1,
   "id": "08daca68-115f-4252-9b11-2a01f96e216c",
   "metadata": {
    "tags": []
   },
   "outputs": [],
   "source": [
    "import sympy as smp\n",
    "import numpy as np\n",
    "from scipy.integrate import odeint\n",
    "import matplotlib.pyplot as plt\n",
    "from matplotlib import animation\n",
    "from mpl_toolkits.mplot3d import Axes3D\n",
    "from matplotlib.animation import PillowWriter"
   ]
  },
  {
   "cell_type": "markdown",
   "id": "ea8dd64d-1326-4819-bfac-68f358c78940",
   "metadata": {},
   "source": [
    "# Let us solve for a Double Pendulum, but with a twist!\n",
    "\n",
    "<p align=\"center\">\n",
    "  <img src=\"double_springed_pend.png\" alt=\"drawing\" width=\"400\" align=\"center\"/>\n",
    "</p>"
   ]
  },
  {
   "cell_type": "markdown",
   "id": "729e5daa-5260-4f0c-9c7b-12ecf9cfc471",
   "metadata": {},
   "source": [
    "First, let us define our variables:\n",
    "\n",
    "* Mass of Pendulums: $m$\n",
    "* Acceleration due to gravity: $g$\n",
    "* Spring Constants: $k$\n",
    "* Time: $t$\n",
    "\n",
    "Then, we'll define our Generalised Coordinates i.e., $\\theta_1, r_1, \\theta_2, r_2$ as functions of time"
   ]
  },
  {
   "cell_type": "code",
   "execution_count": 58,
   "id": "d2e07c46-db5d-4f89-a0e2-c6b787a30228",
   "metadata": {
    "tags": []
   },
   "outputs": [],
   "source": [
    "t, m, g, k = smp.symbols('t m g k') #variables\n",
    "\n",
    "th1, th2, r1, r2 = smp.symbols(r'\\theta_1 \\theta_2 r_1 r_2', cls=smp.Function) #generalised coordinates\n",
    "\n",
    "th1 = th1(t)\n",
    "th1_d = smp.diff(th1, t)\n",
    "th1_dd = smp.diff(th1_d, t)\n",
    "\n",
    "th2 = th2(t)\n",
    "th2_d = smp.diff(th2, t)\n",
    "th2_dd = smp.diff(th2_d, t)\n",
    "\n",
    "r1 = r1(t)\n",
    "r1_d = smp.diff(r1, t)\n",
    "r1_dd = smp.diff(r1_d, t)\n",
    "\n",
    "r2 = r2(t)\n",
    "r2_d = smp.diff(r2, t)\n",
    "r2_dd = smp.diff(r2_d, t)"
   ]
  },
  {
   "cell_type": "markdown",
   "id": "eb4ff536-b83f-4d39-b7b0-ef5619c4d4ca",
   "metadata": {},
   "source": [
    "Define Cartesian Coordinates of each bob: $(x_1, y_1)$\n",
    "\n",
    "These are each functions of $\\theta_1, r_1, \\theta_2, r_2$"
   ]
  },
  {
   "cell_type": "code",
   "execution_count": 59,
   "id": "f97dfb92-bb4d-4b48-9880-b6b7311706fd",
   "metadata": {
    "tags": []
   },
   "outputs": [],
   "source": [
    "x1, y1, x2, y2 = smp.symbols('x_1 y_1 x_2 y_2', cls=smp.Function)\n",
    "\n",
    "x1 = x1(th1, r1)\n",
    "x2 = x2(th1, r1, th2, r2)\n",
    "y1 = y1(th1, r1)\n",
    "y2 = y2(th1, r1, th2, r2)"
   ]
  },
  {
   "cell_type": "code",
   "execution_count": 60,
   "id": "860583c9-1122-4a92-b18f-559ed8638621",
   "metadata": {
    "tags": []
   },
   "outputs": [],
   "source": [
    "x1 = (1+r1)*smp.cos(th1)\n",
    "y1 = -(1+r1)*smp.sin(th1)\n",
    "x2 = x1 + (1+r2)*smp.cos(th2)\n",
    "y2 = y1 - (1+r2)*smp.sin(th2)"
   ]
  },
  {
   "cell_type": "markdown",
   "id": "85a0a75f-a23d-417c-8974-711d3d36237f",
   "metadata": {},
   "source": [
    "Defining the Lagrangian $$L = T - V$$"
   ]
  },
  {
   "cell_type": "code",
   "execution_count": 61,
   "id": "711c170f-97d2-49fb-838b-adf764b35f27",
   "metadata": {
    "tags": []
   },
   "outputs": [
    {
     "data": {
      "text/latex": [
       "$\\displaystyle - g m \\left(2 \\left(- r_{1}{\\left(t \\right)} - 1\\right) \\sin{\\left(\\theta_{1}{\\left(t \\right)} \\right)} - \\left(r_{2}{\\left(t \\right)} + 1\\right) \\sin{\\left(\\theta_{2}{\\left(t \\right)} \\right)}\\right) - \\frac{k \\left(r_{1}^{2}{\\left(t \\right)} + r_{2}^{2}{\\left(t \\right)}\\right)}{2} + \\frac{m \\left(\\left(\\left(- r_{1}{\\left(t \\right)} - 1\\right) \\cos{\\left(\\theta_{1}{\\left(t \\right)} \\right)} \\frac{d}{d t} \\theta_{1}{\\left(t \\right)} - \\sin{\\left(\\theta_{1}{\\left(t \\right)} \\right)} \\frac{d}{d t} r_{1}{\\left(t \\right)}\\right)^{2} + \\left(- \\left(r_{1}{\\left(t \\right)} + 1\\right) \\sin{\\left(\\theta_{1}{\\left(t \\right)} \\right)} \\frac{d}{d t} \\theta_{1}{\\left(t \\right)} + \\cos{\\left(\\theta_{1}{\\left(t \\right)} \\right)} \\frac{d}{d t} r_{1}{\\left(t \\right)}\\right)^{2}\\right)}{2} + \\frac{m \\left(\\left(\\left(- r_{1}{\\left(t \\right)} - 1\\right) \\cos{\\left(\\theta_{1}{\\left(t \\right)} \\right)} \\frac{d}{d t} \\theta_{1}{\\left(t \\right)} - \\left(r_{2}{\\left(t \\right)} + 1\\right) \\cos{\\left(\\theta_{2}{\\left(t \\right)} \\right)} \\frac{d}{d t} \\theta_{2}{\\left(t \\right)} - \\sin{\\left(\\theta_{1}{\\left(t \\right)} \\right)} \\frac{d}{d t} r_{1}{\\left(t \\right)} - \\sin{\\left(\\theta_{2}{\\left(t \\right)} \\right)} \\frac{d}{d t} r_{2}{\\left(t \\right)}\\right)^{2} + \\left(- \\left(r_{1}{\\left(t \\right)} + 1\\right) \\sin{\\left(\\theta_{1}{\\left(t \\right)} \\right)} \\frac{d}{d t} \\theta_{1}{\\left(t \\right)} - \\left(r_{2}{\\left(t \\right)} + 1\\right) \\sin{\\left(\\theta_{2}{\\left(t \\right)} \\right)} \\frac{d}{d t} \\theta_{2}{\\left(t \\right)} + \\cos{\\left(\\theta_{1}{\\left(t \\right)} \\right)} \\frac{d}{d t} r_{1}{\\left(t \\right)} + \\cos{\\left(\\theta_{2}{\\left(t \\right)} \\right)} \\frac{d}{d t} r_{2}{\\left(t \\right)}\\right)^{2}\\right)}{2}$"
      ],
      "text/plain": [
       "-g*m*(2*(-r_1(t) - 1)*sin(\\theta_1(t)) - (r_2(t) + 1)*sin(\\theta_2(t))) - k*(r_1(t)**2 + r_2(t)**2)/2 + m*(((-r_1(t) - 1)*cos(\\theta_1(t))*Derivative(\\theta_1(t), t) - sin(\\theta_1(t))*Derivative(r_1(t), t))**2 + (-(r_1(t) + 1)*sin(\\theta_1(t))*Derivative(\\theta_1(t), t) + cos(\\theta_1(t))*Derivative(r_1(t), t))**2)/2 + m*(((-r_1(t) - 1)*cos(\\theta_1(t))*Derivative(\\theta_1(t), t) - (r_2(t) + 1)*cos(\\theta_2(t))*Derivative(\\theta_2(t), t) - sin(\\theta_1(t))*Derivative(r_1(t), t) - sin(\\theta_2(t))*Derivative(r_2(t), t))**2 + (-(r_1(t) + 1)*sin(\\theta_1(t))*Derivative(\\theta_1(t), t) - (r_2(t) + 1)*sin(\\theta_2(t))*Derivative(\\theta_2(t), t) + cos(\\theta_1(t))*Derivative(r_1(t), t) + cos(\\theta_2(t))*Derivative(r_2(t), t))**2)/2"
      ]
     },
     "execution_count": 61,
     "metadata": {},
     "output_type": "execute_result"
    }
   ],
   "source": [
    "T = smp.Rational(1, 2)*m*(smp.diff(x1, t)**2 + smp.diff(y1, t)**2) + smp.Rational(1, 2)*m*(smp.diff(x2, t)**2 + smp.diff(y2, t)**2)\n",
    "V = smp.Rational(1, 2)*k*(r1**2 + r2**2) + m*g*(y1+y2)\n",
    "L = T - V\n",
    "L"
   ]
  },
  {
   "cell_type": "markdown",
   "id": "2be8e8bb-f1fd-4345-8202-06d2425a0024",
   "metadata": {
    "tags": []
   },
   "source": [
    "Get Lagrange's equations\n",
    "\n",
    "$$\\frac{\\partial L}{\\partial q_i} - \\frac{d}{dt}\\frac{\\partial L}{\\partial \\dot{q_i}} = 0$$"
   ]
  },
  {
   "cell_type": "code",
   "execution_count": 62,
   "id": "dfb90b4d-c41f-4f9f-b1a8-cf7ade912981",
   "metadata": {
    "tags": []
   },
   "outputs": [
    {
     "data": {
      "text/latex": [
       "$\\displaystyle m \\left(2 g r_{1}{\\left(t \\right)} \\cos{\\left(\\theta_{1}{\\left(t \\right)} \\right)} + 2 g \\cos{\\left(\\theta_{1}{\\left(t \\right)} \\right)} - 2 r_{1}^{2}{\\left(t \\right)} \\frac{d^{2}}{d t^{2}} \\theta_{1}{\\left(t \\right)} - r_{1}{\\left(t \\right)} r_{2}{\\left(t \\right)} \\sin{\\left(\\theta_{1}{\\left(t \\right)} - \\theta_{2}{\\left(t \\right)} \\right)} \\left(\\frac{d}{d t} \\theta_{2}{\\left(t \\right)}\\right)^{2} - r_{1}{\\left(t \\right)} r_{2}{\\left(t \\right)} \\cos{\\left(\\theta_{1}{\\left(t \\right)} - \\theta_{2}{\\left(t \\right)} \\right)} \\frac{d^{2}}{d t^{2}} \\theta_{2}{\\left(t \\right)} - r_{1}{\\left(t \\right)} \\sin{\\left(\\theta_{1}{\\left(t \\right)} - \\theta_{2}{\\left(t \\right)} \\right)} \\left(\\frac{d}{d t} \\theta_{2}{\\left(t \\right)}\\right)^{2} + r_{1}{\\left(t \\right)} \\sin{\\left(\\theta_{1}{\\left(t \\right)} - \\theta_{2}{\\left(t \\right)} \\right)} \\frac{d^{2}}{d t^{2}} r_{2}{\\left(t \\right)} - 2 r_{1}{\\left(t \\right)} \\cos{\\left(\\theta_{1}{\\left(t \\right)} - \\theta_{2}{\\left(t \\right)} \\right)} \\frac{d}{d t} \\theta_{2}{\\left(t \\right)} \\frac{d}{d t} r_{2}{\\left(t \\right)} - r_{1}{\\left(t \\right)} \\cos{\\left(\\theta_{1}{\\left(t \\right)} - \\theta_{2}{\\left(t \\right)} \\right)} \\frac{d^{2}}{d t^{2}} \\theta_{2}{\\left(t \\right)} - 4 r_{1}{\\left(t \\right)} \\frac{d}{d t} \\theta_{1}{\\left(t \\right)} \\frac{d}{d t} r_{1}{\\left(t \\right)} - 4 r_{1}{\\left(t \\right)} \\frac{d^{2}}{d t^{2}} \\theta_{1}{\\left(t \\right)} - r_{2}{\\left(t \\right)} \\sin{\\left(\\theta_{1}{\\left(t \\right)} - \\theta_{2}{\\left(t \\right)} \\right)} \\left(\\frac{d}{d t} \\theta_{2}{\\left(t \\right)}\\right)^{2} - r_{2}{\\left(t \\right)} \\cos{\\left(\\theta_{1}{\\left(t \\right)} - \\theta_{2}{\\left(t \\right)} \\right)} \\frac{d^{2}}{d t^{2}} \\theta_{2}{\\left(t \\right)} - \\sin{\\left(\\theta_{1}{\\left(t \\right)} - \\theta_{2}{\\left(t \\right)} \\right)} \\left(\\frac{d}{d t} \\theta_{2}{\\left(t \\right)}\\right)^{2} + \\sin{\\left(\\theta_{1}{\\left(t \\right)} - \\theta_{2}{\\left(t \\right)} \\right)} \\frac{d^{2}}{d t^{2}} r_{2}{\\left(t \\right)} - 2 \\cos{\\left(\\theta_{1}{\\left(t \\right)} - \\theta_{2}{\\left(t \\right)} \\right)} \\frac{d}{d t} \\theta_{2}{\\left(t \\right)} \\frac{d}{d t} r_{2}{\\left(t \\right)} - \\cos{\\left(\\theta_{1}{\\left(t \\right)} - \\theta_{2}{\\left(t \\right)} \\right)} \\frac{d^{2}}{d t^{2}} \\theta_{2}{\\left(t \\right)} - 4 \\frac{d}{d t} \\theta_{1}{\\left(t \\right)} \\frac{d}{d t} r_{1}{\\left(t \\right)} - 2 \\frac{d^{2}}{d t^{2}} \\theta_{1}{\\left(t \\right)}\\right)$"
      ],
      "text/plain": [
       "m*(2*g*r_1(t)*cos(\\theta_1(t)) + 2*g*cos(\\theta_1(t)) - 2*r_1(t)**2*Derivative(\\theta_1(t), (t, 2)) - r_1(t)*r_2(t)*sin(\\theta_1(t) - \\theta_2(t))*Derivative(\\theta_2(t), t)**2 - r_1(t)*r_2(t)*cos(\\theta_1(t) - \\theta_2(t))*Derivative(\\theta_2(t), (t, 2)) - r_1(t)*sin(\\theta_1(t) - \\theta_2(t))*Derivative(\\theta_2(t), t)**2 + r_1(t)*sin(\\theta_1(t) - \\theta_2(t))*Derivative(r_2(t), (t, 2)) - 2*r_1(t)*cos(\\theta_1(t) - \\theta_2(t))*Derivative(\\theta_2(t), t)*Derivative(r_2(t), t) - r_1(t)*cos(\\theta_1(t) - \\theta_2(t))*Derivative(\\theta_2(t), (t, 2)) - 4*r_1(t)*Derivative(\\theta_1(t), t)*Derivative(r_1(t), t) - 4*r_1(t)*Derivative(\\theta_1(t), (t, 2)) - r_2(t)*sin(\\theta_1(t) - \\theta_2(t))*Derivative(\\theta_2(t), t)**2 - r_2(t)*cos(\\theta_1(t) - \\theta_2(t))*Derivative(\\theta_2(t), (t, 2)) - sin(\\theta_1(t) - \\theta_2(t))*Derivative(\\theta_2(t), t)**2 + sin(\\theta_1(t) - \\theta_2(t))*Derivative(r_2(t), (t, 2)) - 2*cos(\\theta_1(t) - \\theta_2(t))*Derivative(\\theta_2(t), t)*Derivative(r_2(t), t) - cos(\\theta_1(t) - \\theta_2(t))*Derivative(\\theta_2(t), (t, 2)) - 4*Derivative(\\theta_1(t), t)*Derivative(r_1(t), t) - 2*Derivative(\\theta_1(t), (t, 2)))"
      ]
     },
     "execution_count": 62,
     "metadata": {},
     "output_type": "execute_result"
    }
   ],
   "source": [
    "LE1 = (smp.diff(L, th1) - smp.diff(smp.diff(L, th1_d), t)).simplify()\n",
    "LE1"
   ]
  },
  {
   "cell_type": "code",
   "execution_count": 63,
   "id": "d09e54c0-db12-401b-b05d-488354f8f507",
   "metadata": {
    "tags": []
   },
   "outputs": [
    {
     "data": {
      "text/latex": [
       "$\\displaystyle m \\left(g r_{2}{\\left(t \\right)} \\cos{\\left(\\theta_{2}{\\left(t \\right)} \\right)} + g \\cos{\\left(\\theta_{2}{\\left(t \\right)} \\right)} + r_{1}{\\left(t \\right)} r_{2}{\\left(t \\right)} \\sin{\\left(\\theta_{1}{\\left(t \\right)} - \\theta_{2}{\\left(t \\right)} \\right)} \\left(\\frac{d}{d t} \\theta_{1}{\\left(t \\right)}\\right)^{2} - r_{1}{\\left(t \\right)} r_{2}{\\left(t \\right)} \\cos{\\left(\\theta_{1}{\\left(t \\right)} - \\theta_{2}{\\left(t \\right)} \\right)} \\frac{d^{2}}{d t^{2}} \\theta_{1}{\\left(t \\right)} + r_{1}{\\left(t \\right)} \\sin{\\left(\\theta_{1}{\\left(t \\right)} - \\theta_{2}{\\left(t \\right)} \\right)} \\left(\\frac{d}{d t} \\theta_{1}{\\left(t \\right)}\\right)^{2} - r_{1}{\\left(t \\right)} \\cos{\\left(\\theta_{1}{\\left(t \\right)} - \\theta_{2}{\\left(t \\right)} \\right)} \\frac{d^{2}}{d t^{2}} \\theta_{1}{\\left(t \\right)} - r_{2}^{2}{\\left(t \\right)} \\frac{d^{2}}{d t^{2}} \\theta_{2}{\\left(t \\right)} + r_{2}{\\left(t \\right)} \\sin{\\left(\\theta_{1}{\\left(t \\right)} - \\theta_{2}{\\left(t \\right)} \\right)} \\left(\\frac{d}{d t} \\theta_{1}{\\left(t \\right)}\\right)^{2} - r_{2}{\\left(t \\right)} \\sin{\\left(\\theta_{1}{\\left(t \\right)} - \\theta_{2}{\\left(t \\right)} \\right)} \\frac{d^{2}}{d t^{2}} r_{1}{\\left(t \\right)} - 2 r_{2}{\\left(t \\right)} \\cos{\\left(\\theta_{1}{\\left(t \\right)} - \\theta_{2}{\\left(t \\right)} \\right)} \\frac{d}{d t} \\theta_{1}{\\left(t \\right)} \\frac{d}{d t} r_{1}{\\left(t \\right)} - r_{2}{\\left(t \\right)} \\cos{\\left(\\theta_{1}{\\left(t \\right)} - \\theta_{2}{\\left(t \\right)} \\right)} \\frac{d^{2}}{d t^{2}} \\theta_{1}{\\left(t \\right)} - 2 r_{2}{\\left(t \\right)} \\frac{d}{d t} \\theta_{2}{\\left(t \\right)} \\frac{d}{d t} r_{2}{\\left(t \\right)} - 2 r_{2}{\\left(t \\right)} \\frac{d^{2}}{d t^{2}} \\theta_{2}{\\left(t \\right)} + \\sin{\\left(\\theta_{1}{\\left(t \\right)} - \\theta_{2}{\\left(t \\right)} \\right)} \\left(\\frac{d}{d t} \\theta_{1}{\\left(t \\right)}\\right)^{2} - \\sin{\\left(\\theta_{1}{\\left(t \\right)} - \\theta_{2}{\\left(t \\right)} \\right)} \\frac{d^{2}}{d t^{2}} r_{1}{\\left(t \\right)} - 2 \\cos{\\left(\\theta_{1}{\\left(t \\right)} - \\theta_{2}{\\left(t \\right)} \\right)} \\frac{d}{d t} \\theta_{1}{\\left(t \\right)} \\frac{d}{d t} r_{1}{\\left(t \\right)} - \\cos{\\left(\\theta_{1}{\\left(t \\right)} - \\theta_{2}{\\left(t \\right)} \\right)} \\frac{d^{2}}{d t^{2}} \\theta_{1}{\\left(t \\right)} - 2 \\frac{d}{d t} \\theta_{2}{\\left(t \\right)} \\frac{d}{d t} r_{2}{\\left(t \\right)} - \\frac{d^{2}}{d t^{2}} \\theta_{2}{\\left(t \\right)}\\right)$"
      ],
      "text/plain": [
       "m*(g*r_2(t)*cos(\\theta_2(t)) + g*cos(\\theta_2(t)) + r_1(t)*r_2(t)*sin(\\theta_1(t) - \\theta_2(t))*Derivative(\\theta_1(t), t)**2 - r_1(t)*r_2(t)*cos(\\theta_1(t) - \\theta_2(t))*Derivative(\\theta_1(t), (t, 2)) + r_1(t)*sin(\\theta_1(t) - \\theta_2(t))*Derivative(\\theta_1(t), t)**2 - r_1(t)*cos(\\theta_1(t) - \\theta_2(t))*Derivative(\\theta_1(t), (t, 2)) - r_2(t)**2*Derivative(\\theta_2(t), (t, 2)) + r_2(t)*sin(\\theta_1(t) - \\theta_2(t))*Derivative(\\theta_1(t), t)**2 - r_2(t)*sin(\\theta_1(t) - \\theta_2(t))*Derivative(r_1(t), (t, 2)) - 2*r_2(t)*cos(\\theta_1(t) - \\theta_2(t))*Derivative(\\theta_1(t), t)*Derivative(r_1(t), t) - r_2(t)*cos(\\theta_1(t) - \\theta_2(t))*Derivative(\\theta_1(t), (t, 2)) - 2*r_2(t)*Derivative(\\theta_2(t), t)*Derivative(r_2(t), t) - 2*r_2(t)*Derivative(\\theta_2(t), (t, 2)) + sin(\\theta_1(t) - \\theta_2(t))*Derivative(\\theta_1(t), t)**2 - sin(\\theta_1(t) - \\theta_2(t))*Derivative(r_1(t), (t, 2)) - 2*cos(\\theta_1(t) - \\theta_2(t))*Derivative(\\theta_1(t), t)*Derivative(r_1(t), t) - cos(\\theta_1(t) - \\theta_2(t))*Derivative(\\theta_1(t), (t, 2)) - 2*Derivative(\\theta_2(t), t)*Derivative(r_2(t), t) - Derivative(\\theta_2(t), (t, 2)))"
      ]
     },
     "execution_count": 63,
     "metadata": {},
     "output_type": "execute_result"
    }
   ],
   "source": [
    "LE2 = (smp.diff(L, th2) - smp.diff(smp.diff(L, th2_d), t)).simplify()\n",
    "LE2"
   ]
  },
  {
   "cell_type": "code",
   "execution_count": 64,
   "id": "0d0cbbc9-7538-4050-971a-5af1dc22834d",
   "metadata": {
    "tags": []
   },
   "outputs": [
    {
     "data": {
      "text/latex": [
       "$\\displaystyle 2 g m \\sin{\\left(\\theta_{1}{\\left(t \\right)} \\right)} - k r_{1}{\\left(t \\right)} + 2 m r_{1}{\\left(t \\right)} \\left(\\frac{d}{d t} \\theta_{1}{\\left(t \\right)}\\right)^{2} - m r_{2}{\\left(t \\right)} \\sin{\\left(\\theta_{1}{\\left(t \\right)} - \\theta_{2}{\\left(t \\right)} \\right)} \\frac{d^{2}}{d t^{2}} \\theta_{2}{\\left(t \\right)} + m r_{2}{\\left(t \\right)} \\cos{\\left(\\theta_{1}{\\left(t \\right)} - \\theta_{2}{\\left(t \\right)} \\right)} \\left(\\frac{d}{d t} \\theta_{2}{\\left(t \\right)}\\right)^{2} - 2 m \\sin{\\left(\\theta_{1}{\\left(t \\right)} - \\theta_{2}{\\left(t \\right)} \\right)} \\frac{d}{d t} \\theta_{2}{\\left(t \\right)} \\frac{d}{d t} r_{2}{\\left(t \\right)} - m \\sin{\\left(\\theta_{1}{\\left(t \\right)} - \\theta_{2}{\\left(t \\right)} \\right)} \\frac{d^{2}}{d t^{2}} \\theta_{2}{\\left(t \\right)} + m \\cos{\\left(\\theta_{1}{\\left(t \\right)} - \\theta_{2}{\\left(t \\right)} \\right)} \\left(\\frac{d}{d t} \\theta_{2}{\\left(t \\right)}\\right)^{2} - m \\cos{\\left(\\theta_{1}{\\left(t \\right)} - \\theta_{2}{\\left(t \\right)} \\right)} \\frac{d^{2}}{d t^{2}} r_{2}{\\left(t \\right)} + 2 m \\left(\\frac{d}{d t} \\theta_{1}{\\left(t \\right)}\\right)^{2} - 2 m \\frac{d^{2}}{d t^{2}} r_{1}{\\left(t \\right)}$"
      ],
      "text/plain": [
       "2*g*m*sin(\\theta_1(t)) - k*r_1(t) + 2*m*r_1(t)*Derivative(\\theta_1(t), t)**2 - m*r_2(t)*sin(\\theta_1(t) - \\theta_2(t))*Derivative(\\theta_2(t), (t, 2)) + m*r_2(t)*cos(\\theta_1(t) - \\theta_2(t))*Derivative(\\theta_2(t), t)**2 - 2*m*sin(\\theta_1(t) - \\theta_2(t))*Derivative(\\theta_2(t), t)*Derivative(r_2(t), t) - m*sin(\\theta_1(t) - \\theta_2(t))*Derivative(\\theta_2(t), (t, 2)) + m*cos(\\theta_1(t) - \\theta_2(t))*Derivative(\\theta_2(t), t)**2 - m*cos(\\theta_1(t) - \\theta_2(t))*Derivative(r_2(t), (t, 2)) + 2*m*Derivative(\\theta_1(t), t)**2 - 2*m*Derivative(r_1(t), (t, 2))"
      ]
     },
     "execution_count": 64,
     "metadata": {},
     "output_type": "execute_result"
    }
   ],
   "source": [
    "LE3 = (smp.diff(L, r1) - smp.diff(smp.diff(L, r1_d), t)).simplify()\n",
    "LE3"
   ]
  },
  {
   "cell_type": "code",
   "execution_count": 65,
   "id": "41696222-b700-4137-9054-ceeab38ad36f",
   "metadata": {
    "tags": []
   },
   "outputs": [
    {
     "data": {
      "text/latex": [
       "$\\displaystyle g m \\sin{\\left(\\theta_{2}{\\left(t \\right)} \\right)} - k r_{2}{\\left(t \\right)} + m r_{1}{\\left(t \\right)} \\sin{\\left(\\theta_{1}{\\left(t \\right)} - \\theta_{2}{\\left(t \\right)} \\right)} \\frac{d^{2}}{d t^{2}} \\theta_{1}{\\left(t \\right)} + m r_{1}{\\left(t \\right)} \\cos{\\left(\\theta_{1}{\\left(t \\right)} - \\theta_{2}{\\left(t \\right)} \\right)} \\left(\\frac{d}{d t} \\theta_{1}{\\left(t \\right)}\\right)^{2} + m r_{2}{\\left(t \\right)} \\left(\\frac{d}{d t} \\theta_{2}{\\left(t \\right)}\\right)^{2} + 2 m \\sin{\\left(\\theta_{1}{\\left(t \\right)} - \\theta_{2}{\\left(t \\right)} \\right)} \\frac{d}{d t} \\theta_{1}{\\left(t \\right)} \\frac{d}{d t} r_{1}{\\left(t \\right)} + m \\sin{\\left(\\theta_{1}{\\left(t \\right)} - \\theta_{2}{\\left(t \\right)} \\right)} \\frac{d^{2}}{d t^{2}} \\theta_{1}{\\left(t \\right)} + m \\cos{\\left(\\theta_{1}{\\left(t \\right)} - \\theta_{2}{\\left(t \\right)} \\right)} \\left(\\frac{d}{d t} \\theta_{1}{\\left(t \\right)}\\right)^{2} - m \\cos{\\left(\\theta_{1}{\\left(t \\right)} - \\theta_{2}{\\left(t \\right)} \\right)} \\frac{d^{2}}{d t^{2}} r_{1}{\\left(t \\right)} + m \\left(\\frac{d}{d t} \\theta_{2}{\\left(t \\right)}\\right)^{2} - m \\frac{d^{2}}{d t^{2}} r_{2}{\\left(t \\right)}$"
      ],
      "text/plain": [
       "g*m*sin(\\theta_2(t)) - k*r_2(t) + m*r_1(t)*sin(\\theta_1(t) - \\theta_2(t))*Derivative(\\theta_1(t), (t, 2)) + m*r_1(t)*cos(\\theta_1(t) - \\theta_2(t))*Derivative(\\theta_1(t), t)**2 + m*r_2(t)*Derivative(\\theta_2(t), t)**2 + 2*m*sin(\\theta_1(t) - \\theta_2(t))*Derivative(\\theta_1(t), t)*Derivative(r_1(t), t) + m*sin(\\theta_1(t) - \\theta_2(t))*Derivative(\\theta_1(t), (t, 2)) + m*cos(\\theta_1(t) - \\theta_2(t))*Derivative(\\theta_1(t), t)**2 - m*cos(\\theta_1(t) - \\theta_2(t))*Derivative(r_1(t), (t, 2)) + m*Derivative(\\theta_2(t), t)**2 - m*Derivative(r_2(t), (t, 2))"
      ]
     },
     "execution_count": 65,
     "metadata": {},
     "output_type": "execute_result"
    }
   ],
   "source": [
    "LE4 = (smp.diff(L, r2) - smp.diff(smp.diff(L, r2_d), t)).simplify()\n",
    "LE4"
   ]
  },
  {
   "cell_type": "markdown",
   "id": "7b7fbb35-e56a-4fa9-a8fa-226c5eeaef4d",
   "metadata": {},
   "source": [
    "Now, solve these four coupled $2^{nd}$ order DE's for $\\dfrac{d^2 \\theta_1(t)}{dt^2}, \\dfrac{d^2 \\theta_2(t)}{dt^2}, \\dfrac{d^2 r_1(t)}{dt^2}, \\dfrac{d^2 r_2(t)}{dt^2}$"
   ]
  },
  {
   "cell_type": "code",
   "execution_count": 66,
   "id": "97afd7f4-690a-41cf-97eb-4566e676e4c1",
   "metadata": {
    "tags": []
   },
   "outputs": [
    {
     "data": {
      "text/latex": [
       "$\\displaystyle - \\frac{g m \\sin{\\left(\\theta_{1}{\\left(t \\right)} - \\theta_{2}{\\left(t \\right)} \\right)} \\sin{\\left(\\theta_{2}{\\left(t \\right)} \\right)}}{m r_{1}{\\left(t \\right)} \\sin^{2}{\\left(\\theta_{1}{\\left(t \\right)} - \\theta_{2}{\\left(t \\right)} \\right)} + m r_{1}{\\left(t \\right)} \\cos^{2}{\\left(\\theta_{1}{\\left(t \\right)} - \\theta_{2}{\\left(t \\right)} \\right)} - 2 m r_{1}{\\left(t \\right)} + m \\sin^{2}{\\left(\\theta_{1}{\\left(t \\right)} - \\theta_{2}{\\left(t \\right)} \\right)} + m \\cos^{2}{\\left(\\theta_{1}{\\left(t \\right)} - \\theta_{2}{\\left(t \\right)} \\right)} - 2 m} + \\frac{g m \\cos{\\left(\\theta_{1}{\\left(t \\right)} - \\theta_{2}{\\left(t \\right)} \\right)} \\cos{\\left(\\theta_{2}{\\left(t \\right)} \\right)}}{m r_{1}{\\left(t \\right)} \\sin^{2}{\\left(\\theta_{1}{\\left(t \\right)} - \\theta_{2}{\\left(t \\right)} \\right)} + m r_{1}{\\left(t \\right)} \\cos^{2}{\\left(\\theta_{1}{\\left(t \\right)} - \\theta_{2}{\\left(t \\right)} \\right)} - 2 m r_{1}{\\left(t \\right)} + m \\sin^{2}{\\left(\\theta_{1}{\\left(t \\right)} - \\theta_{2}{\\left(t \\right)} \\right)} + m \\cos^{2}{\\left(\\theta_{1}{\\left(t \\right)} - \\theta_{2}{\\left(t \\right)} \\right)} - 2 m} - \\frac{2 g m \\cos{\\left(\\theta_{1}{\\left(t \\right)} \\right)}}{m r_{1}{\\left(t \\right)} \\sin^{2}{\\left(\\theta_{1}{\\left(t \\right)} - \\theta_{2}{\\left(t \\right)} \\right)} + m r_{1}{\\left(t \\right)} \\cos^{2}{\\left(\\theta_{1}{\\left(t \\right)} - \\theta_{2}{\\left(t \\right)} \\right)} - 2 m r_{1}{\\left(t \\right)} + m \\sin^{2}{\\left(\\theta_{1}{\\left(t \\right)} - \\theta_{2}{\\left(t \\right)} \\right)} + m \\cos^{2}{\\left(\\theta_{1}{\\left(t \\right)} - \\theta_{2}{\\left(t \\right)} \\right)} - 2 m} + \\frac{k r_{2}{\\left(t \\right)} \\sin{\\left(\\theta_{1}{\\left(t \\right)} - \\theta_{2}{\\left(t \\right)} \\right)}}{m r_{1}{\\left(t \\right)} \\sin^{2}{\\left(\\theta_{1}{\\left(t \\right)} - \\theta_{2}{\\left(t \\right)} \\right)} + m r_{1}{\\left(t \\right)} \\cos^{2}{\\left(\\theta_{1}{\\left(t \\right)} - \\theta_{2}{\\left(t \\right)} \\right)} - 2 m r_{1}{\\left(t \\right)} + m \\sin^{2}{\\left(\\theta_{1}{\\left(t \\right)} - \\theta_{2}{\\left(t \\right)} \\right)} + m \\cos^{2}{\\left(\\theta_{1}{\\left(t \\right)} - \\theta_{2}{\\left(t \\right)} \\right)} - 2 m} - \\frac{2 m \\sin^{2}{\\left(\\theta_{1}{\\left(t \\right)} - \\theta_{2}{\\left(t \\right)} \\right)} \\frac{d}{d t} \\theta_{1}{\\left(t \\right)} \\frac{d}{d t} r_{1}{\\left(t \\right)}}{m r_{1}{\\left(t \\right)} \\sin^{2}{\\left(\\theta_{1}{\\left(t \\right)} - \\theta_{2}{\\left(t \\right)} \\right)} + m r_{1}{\\left(t \\right)} \\cos^{2}{\\left(\\theta_{1}{\\left(t \\right)} - \\theta_{2}{\\left(t \\right)} \\right)} - 2 m r_{1}{\\left(t \\right)} + m \\sin^{2}{\\left(\\theta_{1}{\\left(t \\right)} - \\theta_{2}{\\left(t \\right)} \\right)} + m \\cos^{2}{\\left(\\theta_{1}{\\left(t \\right)} - \\theta_{2}{\\left(t \\right)} \\right)} - 2 m} - \\frac{2 m \\cos^{2}{\\left(\\theta_{1}{\\left(t \\right)} - \\theta_{2}{\\left(t \\right)} \\right)} \\frac{d}{d t} \\theta_{1}{\\left(t \\right)} \\frac{d}{d t} r_{1}{\\left(t \\right)}}{m r_{1}{\\left(t \\right)} \\sin^{2}{\\left(\\theta_{1}{\\left(t \\right)} - \\theta_{2}{\\left(t \\right)} \\right)} + m r_{1}{\\left(t \\right)} \\cos^{2}{\\left(\\theta_{1}{\\left(t \\right)} - \\theta_{2}{\\left(t \\right)} \\right)} - 2 m r_{1}{\\left(t \\right)} + m \\sin^{2}{\\left(\\theta_{1}{\\left(t \\right)} - \\theta_{2}{\\left(t \\right)} \\right)} + m \\cos^{2}{\\left(\\theta_{1}{\\left(t \\right)} - \\theta_{2}{\\left(t \\right)} \\right)} - 2 m} + \\frac{4 m \\frac{d}{d t} \\theta_{1}{\\left(t \\right)} \\frac{d}{d t} r_{1}{\\left(t \\right)}}{m r_{1}{\\left(t \\right)} \\sin^{2}{\\left(\\theta_{1}{\\left(t \\right)} - \\theta_{2}{\\left(t \\right)} \\right)} + m r_{1}{\\left(t \\right)} \\cos^{2}{\\left(\\theta_{1}{\\left(t \\right)} - \\theta_{2}{\\left(t \\right)} \\right)} - 2 m r_{1}{\\left(t \\right)} + m \\sin^{2}{\\left(\\theta_{1}{\\left(t \\right)} - \\theta_{2}{\\left(t \\right)} \\right)} + m \\cos^{2}{\\left(\\theta_{1}{\\left(t \\right)} - \\theta_{2}{\\left(t \\right)} \\right)} - 2 m}$"
      ],
      "text/plain": [
       "-g*m*sin(\\theta_1(t) - \\theta_2(t))*sin(\\theta_2(t))/(m*r_1(t)*sin(\\theta_1(t) - \\theta_2(t))**2 + m*r_1(t)*cos(\\theta_1(t) - \\theta_2(t))**2 - 2*m*r_1(t) + m*sin(\\theta_1(t) - \\theta_2(t))**2 + m*cos(\\theta_1(t) - \\theta_2(t))**2 - 2*m) + g*m*cos(\\theta_1(t) - \\theta_2(t))*cos(\\theta_2(t))/(m*r_1(t)*sin(\\theta_1(t) - \\theta_2(t))**2 + m*r_1(t)*cos(\\theta_1(t) - \\theta_2(t))**2 - 2*m*r_1(t) + m*sin(\\theta_1(t) - \\theta_2(t))**2 + m*cos(\\theta_1(t) - \\theta_2(t))**2 - 2*m) - 2*g*m*cos(\\theta_1(t))/(m*r_1(t)*sin(\\theta_1(t) - \\theta_2(t))**2 + m*r_1(t)*cos(\\theta_1(t) - \\theta_2(t))**2 - 2*m*r_1(t) + m*sin(\\theta_1(t) - \\theta_2(t))**2 + m*cos(\\theta_1(t) - \\theta_2(t))**2 - 2*m) + k*r_2(t)*sin(\\theta_1(t) - \\theta_2(t))/(m*r_1(t)*sin(\\theta_1(t) - \\theta_2(t))**2 + m*r_1(t)*cos(\\theta_1(t) - \\theta_2(t))**2 - 2*m*r_1(t) + m*sin(\\theta_1(t) - \\theta_2(t))**2 + m*cos(\\theta_1(t) - \\theta_2(t))**2 - 2*m) - 2*m*sin(\\theta_1(t) - \\theta_2(t))**2*Derivative(\\theta_1(t), t)*Derivative(r_1(t), t)/(m*r_1(t)*sin(\\theta_1(t) - \\theta_2(t))**2 + m*r_1(t)*cos(\\theta_1(t) - \\theta_2(t))**2 - 2*m*r_1(t) + m*sin(\\theta_1(t) - \\theta_2(t))**2 + m*cos(\\theta_1(t) - \\theta_2(t))**2 - 2*m) - 2*m*cos(\\theta_1(t) - \\theta_2(t))**2*Derivative(\\theta_1(t), t)*Derivative(r_1(t), t)/(m*r_1(t)*sin(\\theta_1(t) - \\theta_2(t))**2 + m*r_1(t)*cos(\\theta_1(t) - \\theta_2(t))**2 - 2*m*r_1(t) + m*sin(\\theta_1(t) - \\theta_2(t))**2 + m*cos(\\theta_1(t) - \\theta_2(t))**2 - 2*m) + 4*m*Derivative(\\theta_1(t), t)*Derivative(r_1(t), t)/(m*r_1(t)*sin(\\theta_1(t) - \\theta_2(t))**2 + m*r_1(t)*cos(\\theta_1(t) - \\theta_2(t))**2 - 2*m*r_1(t) + m*sin(\\theta_1(t) - \\theta_2(t))**2 + m*cos(\\theta_1(t) - \\theta_2(t))**2 - 2*m)"
      ]
     },
     "execution_count": 66,
     "metadata": {},
     "output_type": "execute_result"
    }
   ],
   "source": [
    "sols = smp.solve([LE1, LE2, LE3, LE4], [th1_dd, th2_dd, r1_dd, r2_dd], simplify=False, rational=True)\n",
    "sols[th1_dd]"
   ]
  },
  {
   "cell_type": "markdown",
   "id": "76421dae-3b46-4a47-b516-1680ffe4b57e",
   "metadata": {},
   "source": [
    "Now, we have 4 $2^{nd}$ order DE's which can be turned into 8 $1^{st}$ order coupled DE's, which will make our calculations a lot easier!\n",
    "\n",
    "We will consider the following change of variables:\n",
    "* $\\omega_1 = \\dfrac{d \\theta_1}{dt}$\n",
    "* $\\omega_2 = \\dfrac{d \\theta_2}{dt}$\n",
    "* $v_1 = \\dfrac{d r_1}{dt}$\n",
    "* $v_2 = \\dfrac{d r_2}{dt}$\n",
    "\n",
    "Next, we'll convert these functions into numpy functions which we can solve using numerical methods."
   ]
  },
  {
   "cell_type": "code",
   "execution_count": 67,
   "id": "414171d4-5570-4cec-8ab0-dec55ce6511a",
   "metadata": {
    "tags": []
   },
   "outputs": [],
   "source": [
    "dw1dt_f = smp.lambdify((m,k,g, th1, th2, r1, r2, th1_d, th2_d, r1_d, r2_d), sols[th1_dd])\n",
    "w1_f = smp.lambdify(th1_d, th1_d)\n",
    "\n",
    "dw2dt_f = smp.lambdify((m,k,g, th1, th2, r1, r2, th1_d, th2_d, r1_d, r2_d), sols[th2_dd])\n",
    "w2_f = smp.lambdify(th2_d, th2_d)\n",
    "\n",
    "dv1dt_f = smp.lambdify((m,k,g, th1, th2, r1, r2, th1_d, th2_d, r1_d, r2_d), sols[r1_dd])\n",
    "v1_f = smp.lambdify(r1_d, r1_d)\n",
    "\n",
    "dv2dt_f = smp.lambdify((m,k,g, th1, th2, r1, r2, th1_d, th2_d, r1_d, r2_d), sols[r2_dd])\n",
    "v2_f = smp.lambdify(r2_d, r2_d)"
   ]
  },
  {
   "cell_type": "markdown",
   "id": "34323a79-2a53-4867-9f41-e5576a0bc7ec",
   "metadata": {
    "tags": []
   },
   "source": [
    "Next, we define our system of ODE's with a vector $\\vec{S} = (\\theta_1, \\omega_1, \\theta_2, \\omega_2, r_1, v_1, r_2, v_2)$"
   ]
  },
  {
   "cell_type": "code",
   "execution_count": 68,
   "id": "231957ef-5efd-4676-8bb4-1b0e60c87703",
   "metadata": {
    "tags": []
   },
   "outputs": [],
   "source": [
    "def dSdt(S, t, m, k, g):\n",
    "    th1, w1, th2, w2, r1, v1, r2, v2 = S\n",
    "    return([w1_f(w1),\n",
    "            dw1dt_f(m,k,g,th1,th2,r1,r1,w1,w2,v1,v2),\n",
    "            w2_f(w2),\n",
    "            dw2dt_f(m,k,g,th1,th2,r1,r1,w1,w2,v1,v2),\n",
    "            v1_f(v1),\n",
    "            dv1dt_f(m,k,g,th1,th2,r1,r1,w1,w2,v1,v2),\n",
    "            v2_f(v2),\n",
    "            dv2dt_f(m,k,g,th1,th2,r1,r1,w1,w2,v1,v2)\n",
    "            ])"
   ]
  },
  {
   "cell_type": "markdown",
   "id": "489f2305-d399-4470-9f21-1073f893a0c6",
   "metadata": {},
   "source": [
    "Define times, constants, and solve ODE numerically"
   ]
  },
  {
   "cell_type": "code",
   "execution_count": 69,
   "id": "a628ec9f-218b-454d-b2a3-c68396185a54",
   "metadata": {
    "tags": []
   },
   "outputs": [],
   "source": [
    "t = np.linspace(0, 10, 1000)\n",
    "m = 1\n",
    "g = 9.81\n",
    "k = 0.5\n",
    "res = odeint(dSdt, y0=[np.pi/4, 0, 0, 0, 0, 1, 0, 1], t=t, args=(m, k, g))"
   ]
  },
  {
   "cell_type": "code",
   "execution_count": 70,
   "id": "ae2990fa-9ed3-4c69-9141-e2af12a6c574",
   "metadata": {
    "tags": []
   },
   "outputs": [
    {
     "data": {
      "text/plain": [
       "array([[ 7.85398163e-01,  0.00000000e+00,  0.00000000e+00, ...,\n",
       "         1.00000000e+00,  0.00000000e+00,  1.00000000e+00],\n",
       "       [ 7.85742072e-01,  6.83428427e-02,  5.95221893e-08, ...,\n",
       "         1.06945291e+00,  1.00099001e-02,  9.99966860e-01],\n",
       "       [ 7.86758668e-01,  1.34372467e-01,  4.79627169e-07, ...,\n",
       "         1.13903029e+00,  2.00191253e-02,  9.99864402e-01],\n",
       "       ...,\n",
       "       [ 7.76457853e-01, -1.05848956e+00, -4.11809030e-01, ...,\n",
       "         1.37653848e+02, -4.37571088e+02, -2.28116127e+02],\n",
       "       [ 7.65895127e-01, -1.05193306e+00, -4.17826376e-01, ...,\n",
       "         1.39879134e+02, -4.39860574e+02, -2.29320217e+02],\n",
       "       [ 7.55398324e-01, -1.04531907e+00, -4.23900585e-01, ...,\n",
       "         1.42083052e+02, -4.42162024e+02, -2.30506495e+02]])"
      ]
     },
     "execution_count": 70,
     "metadata": {},
     "output_type": "execute_result"
    }
   ],
   "source": [
    "res"
   ]
  },
  {
   "cell_type": "code",
   "execution_count": 71,
   "id": "560a737f-aecb-43ee-ac99-ffffe023d3bf",
   "metadata": {
    "tags": []
   },
   "outputs": [
    {
     "data": {
      "text/plain": [
       "array([[ 7.85398163e-01,  7.85742072e-01,  7.86758668e-01, ...,\n",
       "         7.76457853e-01,  7.65895127e-01,  7.55398324e-01],\n",
       "       [ 0.00000000e+00,  6.83428427e-02,  1.34372467e-01, ...,\n",
       "        -1.05848956e+00, -1.05193306e+00, -1.04531907e+00],\n",
       "       [ 0.00000000e+00,  5.95221893e-08,  4.79627169e-07, ...,\n",
       "        -4.11809030e-01, -4.17826376e-01, -4.23900585e-01],\n",
       "       ...,\n",
       "       [ 1.00000000e+00,  1.06945291e+00,  1.13903029e+00, ...,\n",
       "         1.37653848e+02,  1.39879134e+02,  1.42083052e+02],\n",
       "       [ 0.00000000e+00,  1.00099001e-02,  2.00191253e-02, ...,\n",
       "        -4.37571088e+02, -4.39860574e+02, -4.42162024e+02],\n",
       "       [ 1.00000000e+00,  9.99966860e-01,  9.99864402e-01, ...,\n",
       "        -2.28116127e+02, -2.29320217e+02, -2.30506495e+02]])"
      ]
     },
     "execution_count": 71,
     "metadata": {},
     "output_type": "execute_result"
    }
   ],
   "source": [
    "res.T"
   ]
  },
  {
   "cell_type": "code",
   "execution_count": 72,
   "id": "17116725-5ab5-4b04-85dc-f2b1c044cf3d",
   "metadata": {
    "tags": []
   },
   "outputs": [
    {
     "data": {
      "text/plain": [
       "(8, 1000)"
      ]
     },
     "execution_count": 72,
     "metadata": {},
     "output_type": "execute_result"
    }
   ],
   "source": [
    "res.T.shape"
   ]
  },
  {
   "cell_type": "markdown",
   "id": "90b1b526-af35-4f55-86cb-e251bc6a09d5",
   "metadata": {},
   "source": [
    "Plot $\\omega_2$ as a function of $\\theta_2$"
   ]
  },
  {
   "cell_type": "code",
   "execution_count": 73,
   "id": "177c291e-0f3e-4d7b-b1b7-dad1abe2d0b1",
   "metadata": {
    "tags": []
   },
   "outputs": [
    {
     "data": {
      "text/plain": [
       "Text(0, 0.5, '$\\\\dfrac{d \\\\theta_2}{dt}$')"
      ]
     },
     "execution_count": 73,
     "metadata": {},
     "output_type": "execute_result"
    },
    {
     "data": {
      "image/png": "[encoded data removed]",
      "text/plain": [
       "<Figure size 640x480 with 1 Axes>"
      ]
     },
     "metadata": {},
     "output_type": "display_data"
    }
   ],
   "source": [
    "plt.plot(res.T[2], res.T[3])\n",
    "plt.grid()\n",
    "plt.xlabel(r'$\\theta_2(t)$')\n",
    "plt.ylabel(r'$\\dfrac{d \\theta_2}{dt}$')"
   ]
  },
  {
   "cell_type": "markdown",
   "id": "66768aa2-d977-482b-bc7c-a57ee7707f34",
   "metadata": {},
   "source": [
    "Plot $\\theta_2$ as a function of time"
   ]
  },
  {
   "cell_type": "code",
   "execution_count": 74,
   "id": "1f8801e4-0cb1-4935-aa6a-a4dcde5d24da",
   "metadata": {
    "tags": []
   },
   "outputs": [
    {
     "data": {
      "text/plain": [
       "Text(0, 0.5, '$\\\\theta_2(t)$')"
      ]
     },
     "execution_count": 74,
     "metadata": {},
     "output_type": "execute_result"
    },
    {
     "data": {
      "image/png": "[encoded data removed]",
      "text/plain": [
       "<Figure size 640x480 with 1 Axes>"
      ]
     },
     "metadata": {},
     "output_type": "display_data"
    }
   ],
   "source": [
    "plt.plot(t, res.T[2])\n",
    "plt.grid()\n",
    "plt.xlabel(r't')\n",
    "plt.ylabel(r'$\\theta_2(t)$')"
   ]
  },
  {
   "cell_type": "markdown",
   "id": "3ff879a2-f13e-4000-a53e-114e45a58062",
   "metadata": {},
   "source": [
    "Get $x_1, y_1, x_2, y_2$ by taking $\\theta_1, r_1, \\theta_2, r_2$ as input"
   ]
  },
  {
   "cell_type": "code",
   "execution_count": 75,
   "id": "01196754-42c9-41b7-956d-eddd02d14792",
   "metadata": {},
   "outputs": [],
   "source": [
    "def getx1y1x2y2(th1, r1, th2, r2):\n",
    "    return ((1+r1)*np.cos(th1), -(1+r1)*np.sin(th1), (1+r1)*np.cos(th1) + (1+r2)*np.cos(th2), -(1+r1)*np.sin(th1) - (1+r2)*np.sin(th2))\n",
    "\n",
    "x1, y1, x2, y2 = getx1y1x2y2(res.T[0], res.T[4], res.T[2], res.T[6])"
   ]
  },
  {
   "cell_type": "code",
   "execution_count": 76,
   "id": "59be9329-8971-4e97-8405-79ee8f1287bd",
   "metadata": {
    "tags": []
   },
   "outputs": [
    {
     "data": {
      "text/plain": [
       "[<matplotlib.lines.Line2D at 0x7f6aea7b5a10>]"
      ]
     },
     "execution_count": 76,
     "metadata": {},
     "output_type": "execute_result"
    },
    {
     "data": {
      "image/png": "[encoded data removed]",
      "text/plain": [
       "<Figure size 640x480 with 1 Axes>"
      ]
     },
     "metadata": {},
     "output_type": "display_data"
    }
   ],
   "source": [
    "plt.plot(x2,y2)"
   ]
  },
  {
   "cell_type": "markdown",
   "id": "9a6191b2-f31b-4ee0-a864-209ea5ae3034",
   "metadata": {},
   "source": [
    "Now, let us animate this mf!"
   ]
  },
  {
   "cell_type": "code",
   "execution_count": null,
   "id": "95a44c5c-85fc-4e03-9622-5094d4729f54",
   "metadata": {},
   "outputs": [],
   "source": []
  }
 ],
 "metadata": {
  "kernelspec": {
   "display_name": "Python 3 (ipykernel)",
   "language": "python",
   "name": "python3"
  },
  "language_info": {
   "codemirror_mode": {
    "name": "ipython",
    "version": 3
   },
   "file_extension": ".py",
   "mimetype": "text/x-python",
   "name": "python",
   "nbconvert_exporter": "python",
   "pygments_lexer": "ipython3",
   "version": "3.11.4"
  }
 },
 "nbformat": 4,
 "nbformat_minor": 5
}
