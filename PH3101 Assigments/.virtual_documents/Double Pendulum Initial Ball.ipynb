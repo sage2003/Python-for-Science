import sympy as smp
import numpy as np
from scipy.integrate import solve_ivp
import matplotlib.pyplot as plt
from matplotlib.animation import FuncAnimation

# Define the double pendulum system equations of motion
def double_pendulum(t, state, L1, L2, m1, m2, g):
    theta1, omega1, theta2, omega2 = state

    # Equations of motion
    delta = theta2 - theta1
    den1 = (m1 + m2) * L1 - m2 * L1 * np.cos(delta) * np.cos(delta)
    den2 = (L2 / L1) * den1

    dtheta1 = (L2 * omega1 - L1 * omega2 * np.cos(delta)) / den1
    dtheta2 = ((m1 + m2) * L1 * omega2 - m2 * L1 * omega1 * np.cos(delta)) / den2

    domega1 = (-m2 * L1 * L2 * omega2 * omega2 * np.sin(delta) * np.cos(delta)
               + (m1 + m2) * g * L1 * np.sin(theta1) - m2 * g * L1 * np.sin(theta2 - delta)) / den1

    domega2 = ((m1 + m2) * L2 * omega1 * omega1 * np.sin(delta) * np.cos(delta)
               + (m1 + m2) * g * L2 * np.sin(theta2) - (m1 + m2) * g * L1 * np.sin(theta1 + delta)) / den2

    return [omega1, domega1, omega2, domega2]

# Function to generate random initial conditions within a ball of radius pi/4
def generate_random_initial_conditions(num_samples, radius=np.pi/4):
    initial_conditions = []
    for _ in range(num_samples):
        theta1 = 2 * radius * (np.random.rand() - 0.5)
        omega1 = 2 * radius * (np.random.rand() - 0.5)
        theta2 = 2 * radius * (np.random.rand() - 0.5)
        omega2 = 2 * radius * (np.random.rand() - 0.5)
        initial_conditions.append([theta1, omega1, theta2, omega2])
    return initial_conditions

# Define system parameters
L1 = 1.0  # Length of the first pendulum arm
L2 = 1.0  # Length of the second pendulum arm
m1 = 1.0  # Mass of the first pendulum
m2 = 1.0  # Mass of the second pendulum
g = 9.81  # Gravitational acceleration

# Number of random initial conditions to generate
num_samples = 10

# Generate random initial conditions within the ball of radius pi
initial_conditions = generate_random_initial_conditions(num_samples, radius=np.pi)

# Define the time span for simulation
t_span = (0, 20)  # Start at t=0 and simulate up to t=20 seconds

# Initialize arrays to store p1, q1, p2, q2 values for each trial
p1_values = []
q1_values = []
p2_values = []
q2_values = []

# Perform numerical integration for each set of initial conditions
for ic in initial_conditions:
    solution = solve_ivp(
        fun=lambda t, y: double_pendulum(t, y, L1, L2, m1, m2, g),
        t_span=t_span,
        y0=ic,
        method='RK45',
        dense_output=True
    )

    t_values = np.linspace(t_span[0], t_span[1], 1000)
    sol = solution.sol(t_values)

    # Calculate p1, q1, p2, q2 values
    p1 = L1 * (m1 + m2) * sol[1]
    q1 = L1 * (m1 + m2) * sol[0]
    p2 = L2 * m2 * sol[3]
    q2 = L2 * m2 * sol[2]

    p1_values.append(p1)
    q1_values.append(q1)
    p2_values.append(p2)
    q2_values.append(q2)


# Create a function to update the plots with time
def update_plot(i):
    plt.clf()

    # Plot p1 vs q1
    plt.subplot(1, 2, 1)
    for j in range(num_samples):
        plt.plot(q1_values[j][:i], p1_values[j][:i], alpha=0.7)
    plt.xlabel('q1')
    plt.ylabel('p1')
    plt.title('p1 vs q1')

    # Plot p2 vs q2
    plt.subplot(1, 2, 2)
    for j in range(num_samples):
        plt.plot(q2_values[j][:i], p2_values[j][:i], alpha=0.7)
    plt.xlabel('q2')
    plt.ylabel('p2')
    plt.title('p2 vs q2')

# Create an animation
fig = plt.figure(figsize=(16, 9))  # Set the figure size (width=12, height=6)
anim = FuncAnimation(fig, update_plot, frames=len(t_values), repeat=False)

# Define the writer and save the animation as a GIF video
writer = PillowWriter(fps=30)  # Adjust the frames per second as needed
anim.save("double_pendulum_animation.gif", writer=writer)


import numpy as np
import matplotlib.pyplot as plt
from scipy.integrate import solve_ivp
from matplotlib.animation import FuncAnimation
from matplotlib.animation import PillowWriter

# Define the equations of motion for the double pendulum
def double_pendulum(t, state, L1, L2, m1, m2, g):
    θ1, ω1, θ2, ω2 = state

    # Equations of motion
    Δθ = θ2 - θ1
    den1 = (m1 + m2) * L1 - m2 * L1 * np.cos(Δθ) * np.cos(Δθ)
    den2 = (L2 / L1) * den1

    dθ1_dt = (L2 * ω2 - L1 * ω1 * np.cos(Δθ)) / den1
    dθ2_dt = (-L2 * ω2 * np.cos(Δθ) + (m1 + m2) * L1 * ω1) / den2

    dω1_dt = ((m2 * L1 * ω1 * ω1 * np.sin(Δθ) * np.cos(Δθ)
                + m2 * g * np.sin(θ2) * np.cos(Δθ)
                + m2 * L2 * ω2 * ω2 * np.sin(Δθ)
                - (m1 + m2) * g * np.sin(θ1))
               / L1 / den1)

    dω2_dt = ((-L1 * ω1 * ω1 * np.sin(Δθ) * np.cos(Δθ)
                + (m1 + m2) * g * np.sin(θ1) * np.cos(Δθ)
                - (m1 + m2) * L1 * ω1 * ω1 * np.sin(Δθ)
                - (m1 + m2) * g * np.sin(θ2))
               / L2 / den2)

    return [ω1, dω1_dt, ω2, dω2_dt]

# Parameters
L1 = 1.0  # Length of the first pendulum
L2 = 1.0  # Length of the second pendulum
m1 = 1.0  # Mass of the first pendulum
m2 = 1.0  # Mass of the second pendulum
g = 9.81  # Acceleration due to gravity

# Create 100 initial conditions within a ball of radius π/4
num_points = 10
radius = 10
initial_states = []
for _ in range(num_points):
    theta1 = np.random.uniform(-radius, radius)
    omega1 = 0  # Initial angular velocity
    theta2 = np.random.uniform(-radius, radius)
    omega2 = 0  # Initial angular velocity
    initial_states.append([theta1, omega1, theta2, omega2])

# Time span
t_span = (0, 20)
t_eval = np.linspace(*t_span, 10000)

# Solve the initial value problem for each set of initial conditions
solutions = []
for initial_state in initial_states:
    solution = solve_ivp(
        double_pendulum,
        t_span,
        initial_state,
        args=(L1, L2, m1, m2, g),
        t_eval=t_eval,
        rtol=1e-6,
        atol=1e-8
    )
    solutions.append(solution.y)

# Create an animation to visualize the pendulum motion without tracing
fig, ax = plt.subplots()
ax.set_xlim(-2 * np.pi, 2 * np.pi)
ax.set_ylim(-6, 6)
points = ax.plot([], [], 'o', markersize=3, color='blue')

def animate(i):
    x = [L1 * np.sin(sol[0, i]) for sol in solutions]
    y = [-L1 * np.cos(sol[0, i]) for sol in solutions]
    for j, point in enumerate(points):
        point.set_data(x[j], y[j])
    return points


ani = FuncAnimation(fig, animate, frames=len(t_eval), interval=10, blit=True)
writer = PillowWriter(fps=30)  # Adjust the frames per second as needed
ani.save("double_pendulum_animation.gif", writer=writer)



