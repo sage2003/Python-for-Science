{
 "cells": [
  {
   "cell_type": "markdown",
   "id": "827960d1-b7ec-4831-8e4e-e0198f2fb3c9",
   "metadata": {
    "canvas": {
     "comments": [],
     "componentType": "CodeCell",
     "copiedOriginId": null,
     "diskcache": false,
     "headerColor": "transparent",
     "id": "6329dfd0-e715-435e-8d6a-ecd600d5785c",
     "isComponent": false,
     "name": "",
     "parents": []
    },
    "tags": []
   },
   "source": [
    "# SciPy Tutorial"
   ]
  },
  {
   "cell_type": "code",
   "execution_count": 1,
   "id": "b3e8933a-b263-465a-938b-0aae06347445",
   "metadata": {
    "canvas": {
     "comments": [],
     "componentType": "CodeCell",
     "copiedOriginId": null,
     "diskcache": false,
     "headerColor": "transparent",
     "id": "873ec793-e942-46d8-956e-eabcbd644e73",
     "isComponent": false,
     "name": "",
     "parents": []
    }
   },
   "outputs": [],
   "source": [
    "import numpy as np\n",
    "import matplotlib.pyplot as plt\n",
    "import scipy as sp"
   ]
  },
  {
   "cell_type": "markdown",
   "id": "3057b2a6-615d-4dc1-95f7-d6a07218e5f3",
   "metadata": {
    "canvas": {
     "comments": [],
     "componentType": "CodeCell",
     "copiedOriginId": null,
     "diskcache": false,
     "headerColor": "transparent",
     "id": "ef74e80c-8984-4103-a515-c445a5a478ed",
     "isComponent": false,
     "name": "",
     "parents": []
    }
   },
   "source": [
    "## Basics"
   ]
  },
  {
   "cell_type": "markdown",
   "id": "3bef9d4b-2888-40b6-9f6b-a505b80813c5",
   "metadata": {
    "canvas": {
     "comments": [],
     "componentType": "CodeCell",
     "copiedOriginId": null,
     "diskcache": false,
     "headerColor": "transparent",
     "id": "4cb991c7-2fb4-4fe2-b84c-93a774f0cf69",
     "isComponent": false,
     "name": "",
     "parents": []
    }
   },
   "source": [
    "### Optimization"
   ]
  },
  {
   "cell_type": "code",
   "execution_count": 2,
   "id": "186149bb-6e71-4cff-957a-3c6e952c6f5e",
   "metadata": {
    "canvas": {
     "comments": [],
     "componentType": "CodeCell",
     "copiedOriginId": null,
     "diskcache": false,
     "headerColor": "transparent",
     "id": "d3ba8338-9f69-4cec-9a38-0e62e05d6ea8",
     "isComponent": false,
     "name": "",
     "parents": []
    }
   },
   "outputs": [],
   "source": [
    "from scipy.optimize import minimize"
   ]
  },
  {
   "cell_type": "markdown",
   "id": "6f6d88fb-4423-4cd5-96f5-39c2707d2f5e",
   "metadata": {
    "canvas": {
     "comments": [],
     "componentType": "CodeCell",
     "copiedOriginId": null,
     "diskcache": false,
     "headerColor": "transparent",
     "id": "72cd3b44-c219-410a-afc2-fe388caa6a61",
     "isComponent": false,
     "name": "",
     "parents": []
    }
   },
   "source": [
    "Minimize $f(x) = (x-3)^{2}$"
   ]
  },
  {
   "cell_type": "code",
   "execution_count": 3,
   "id": "065abcab-02ac-4545-9e67-4d013a0c0373",
   "metadata": {
    "canvas": {
     "comments": [],
     "componentType": "CodeCell",
     "copiedOriginId": null,
     "diskcache": false,
     "headerColor": "transparent",
     "id": "39207b1a-abe8-4b0b-be14-baee73dc69ca",
     "isComponent": false,
     "name": "",
     "parents": []
    }
   },
   "outputs": [],
   "source": [
    "def f(x):\n",
    "    return (x-3)**2\n",
    "\n",
    "res = minimize(f, 2)# the second parameter is a guess value"
   ]
  },
  {
   "cell_type": "code",
   "execution_count": 4,
   "id": "6ff287b8-63db-476e-ba5f-3250ea61b906",
   "metadata": {
    "canvas": {
     "comments": [],
     "componentType": "CodeCell",
     "copiedOriginId": null,
     "diskcache": false,
     "headerColor": "transparent",
     "id": "60741b8f-ff8b-4406-a55d-3bedf476e24c",
     "isComponent": false,
     "name": "",
     "parents": []
    }
   },
   "outputs": [
    {
     "data": {
      "text/plain": [
       "      fun: 5.551437397369767e-17\n",
       " hess_inv: array([[0.5]])\n",
       "      jac: array([-4.3254289e-13])\n",
       "  message: 'Optimization terminated successfully.'\n",
       "     nfev: 6\n",
       "      nit: 2\n",
       "     njev: 3\n",
       "   status: 0\n",
       "  success: True\n",
       "        x: array([2.99999999])"
      ]
     },
     "execution_count": 4,
     "metadata": {},
     "output_type": "execute_result"
    }
   ],
   "source": [
    "res \n",
    "#fun: the minimum value of the function\n",
    "#x: the value of x at which the minimum value is attained"
   ]
  },
  {
   "cell_type": "code",
   "execution_count": 5,
   "id": "25c78621-6ae0-41fb-92f8-0751237f0292",
   "metadata": {
    "canvas": {
     "comments": [],
     "componentType": "CodeCell",
     "copiedOriginId": null,
     "diskcache": false,
     "headerColor": "transparent",
     "id": "fec61cc7-71b3-4f2a-b3ed-ca3db005df41",
     "isComponent": false,
     "name": "",
     "parents": []
    }
   },
   "outputs": [
    {
     "data": {
      "text/plain": [
       "array([2.99999999])"
      ]
     },
     "execution_count": 5,
     "metadata": {},
     "output_type": "execute_result"
    }
   ],
   "source": [
    "res.x"
   ]
  },
  {
   "cell_type": "code",
   "execution_count": 6,
   "id": "123c1f9a-7fca-4be5-beb7-d7d21e5db085",
   "metadata": {
    "canvas": {
     "comments": [],
     "componentType": "CodeCell",
     "copiedOriginId": null,
     "diskcache": false,
     "headerColor": "transparent",
     "id": "5cabb5a0-a078-4ba6-9bfc-1fbb427fcff9",
     "isComponent": false,
     "name": "",
     "parents": []
    }
   },
   "outputs": [
    {
     "data": {
      "text/plain": [
       "2.999999992549203"
      ]
     },
     "execution_count": 6,
     "metadata": {},
     "output_type": "execute_result"
    }
   ],
   "source": [
    "res.x[0]"
   ]
  },
  {
   "cell_type": "markdown",
   "id": "5fbd7365-b302-4b90-b94f-d748813f4f4c",
   "metadata": {
    "canvas": {
     "comments": [],
     "componentType": "CodeCell",
     "copiedOriginId": null,
     "diskcache": false,
     "headerColor": "transparent",
     "id": "aa1ca04d-6476-4434-b215-04a17182bad0",
     "isComponent": false,
     "name": "",
     "parents": []
    }
   },
   "source": [
    "Minimize $f(x, y) = (x-1)^2 + (y-2.5)^2$ subject to\n",
    "\n",
    "$$x-2y+2 \\geq 0 $$\n",
    "$$-x-2y+6 \\geq 0$$\n",
    "$$-x + 2y + 2 \\geq 0$$\n",
    "$$x \\geq 0 $$\n",
    "$$y \\geq 0 $$\n",
    "\n",
    "<img src='opt.png' width=\"400\" height=\"400\">\n",
    "\n",
    "* 2D function takes in vector $x$\n",
    "* Constraints must be specified as $g_i(x) \\geq 0$\n",
    "* Bounds specified as rectangular "
   ]
  },
  {
   "cell_type": "code",
   "execution_count": 7,
   "id": "9e03505e-f5b7-47e5-a326-bf4b398e1055",
   "metadata": {
    "canvas": {
     "comments": [],
     "componentType": "CodeCell",
     "copiedOriginId": null,
     "diskcache": false,
     "headerColor": "transparent",
     "id": "7103e3d1-31c7-4d65-ac34-92e78bb0d666",
     "isComponent": false,
     "name": "",
     "parents": []
    }
   },
   "outputs": [],
   "source": [
    "f = lambda x: (x[0] - 1)**2 + (x[1] - 2.5)**2\n",
    "\n",
    "cons = ({'type': 'ineq', 'fun': lambda x:  x[0] - 2 * x[1] + 2},\n",
    "        {'type': 'ineq', 'fun': lambda x: -x[0] - 2 * x[1] + 6},\n",
    "        {'type': 'ineq', 'fun': lambda x: -x[0] + 2 * x[1] + 2}) # a tuple of dictionaries with all functions >= 0 of type inequality\n",
    "\n",
    "bnds = ((0, None), (0, None)) # x and y bounds are (0, None) and (0, None). Here None means no upper bound or infinity!\n",
    "\n",
    "res = minimize(f, (2, 0), bounds=bnds, constraints=cons)# giving guess values as (2, 0) for (x, y)"
   ]
  },
  {
   "cell_type": "code",
   "execution_count": 8,
   "id": "b7f837df-59dc-4b4b-afb9-ab1701576258",
   "metadata": {
    "canvas": {
     "comments": [],
     "componentType": "CodeCell",
     "copiedOriginId": null,
     "diskcache": false,
     "headerColor": "transparent",
     "id": "bda2368e-8fb8-4d54-ae5d-54f59c648d0c",
     "isComponent": false,
     "name": "",
     "parents": []
    }
   },
   "outputs": [
    {
     "data": {
      "text/plain": [
       "     fun: 0.8000000011920985\n",
       "     jac: array([ 0.80000002, -1.59999999])\n",
       " message: 'Optimization terminated successfully'\n",
       "    nfev: 10\n",
       "     nit: 3\n",
       "    njev: 3\n",
       "  status: 0\n",
       " success: True\n",
       "       x: array([1.4, 1.7])"
      ]
     },
     "execution_count": 8,
     "metadata": {},
     "output_type": "execute_result"
    }
   ],
   "source": [
    "res"
   ]
  },
  {
   "cell_type": "code",
   "execution_count": 9,
   "id": "8f39468f-e1ed-4ed0-bd26-7fe831f0032d",
   "metadata": {
    "canvas": {
     "comments": [],
     "componentType": "CodeCell",
     "copiedOriginId": null,
     "diskcache": false,
     "headerColor": "transparent",
     "id": "498e9724-8f05-444d-b4a9-25ae030b1d0f",
     "isComponent": false,
     "name": "",
     "parents": []
    }
   },
   "outputs": [
    {
     "data": {
      "text/plain": [
       "array([1.4, 1.7])"
      ]
     },
     "execution_count": 9,
     "metadata": {},
     "output_type": "execute_result"
    }
   ],
   "source": [
    "res.x"
   ]
  },
  {
   "cell_type": "code",
   "execution_count": 10,
   "id": "37390de9-1245-4cdb-ae45-206e1e34da9f",
   "metadata": {
    "canvas": {
     "comments": [],
     "componentType": "CodeCell",
     "copiedOriginId": null,
     "diskcache": false,
     "headerColor": "transparent",
     "id": "df8eb317-fc36-4350-8fb9-abb025877746",
     "isComponent": false,
     "name": "",
     "parents": []
    }
   },
   "outputs": [
    {
     "data": {
      "text/plain": [
       "\u001b[1;31mSignature:\u001b[0m\n",
       "\u001b[0mminimize\u001b[0m\u001b[1;33m(\u001b[0m\u001b[1;33m\n",
       "\u001b[0m    \u001b[0mfun\u001b[0m\u001b[1;33m,\u001b[0m\u001b[1;33m\n",
       "\u001b[0m    \u001b[0mx0\u001b[0m\u001b[1;33m,\u001b[0m\u001b[1;33m\n",
       "\u001b[0m    \u001b[0margs\u001b[0m\u001b[1;33m=\u001b[0m\u001b[1;33m(\u001b[0m\u001b[1;33m)\u001b[0m\u001b[1;33m,\u001b[0m\u001b[1;33m\n",
       "\u001b[0m    \u001b[0mmethod\u001b[0m\u001b[1;33m=\u001b[0m\u001b[1;32mNone\u001b[0m\u001b[1;33m,\u001b[0m\u001b[1;33m\n",
       "\u001b[0m    \u001b[0mjac\u001b[0m\u001b[1;33m=\u001b[0m\u001b[1;32mNone\u001b[0m\u001b[1;33m,\u001b[0m\u001b[1;33m\n",
       "\u001b[0m    \u001b[0mhess\u001b[0m\u001b[1;33m=\u001b[0m\u001b[1;32mNone\u001b[0m\u001b[1;33m,\u001b[0m\u001b[1;33m\n",
       "\u001b[0m    \u001b[0mhessp\u001b[0m\u001b[1;33m=\u001b[0m\u001b[1;32mNone\u001b[0m\u001b[1;33m,\u001b[0m\u001b[1;33m\n",
       "\u001b[0m    \u001b[0mbounds\u001b[0m\u001b[1;33m=\u001b[0m\u001b[1;32mNone\u001b[0m\u001b[1;33m,\u001b[0m\u001b[1;33m\n",
       "\u001b[0m    \u001b[0mconstraints\u001b[0m\u001b[1;33m=\u001b[0m\u001b[1;33m(\u001b[0m\u001b[1;33m)\u001b[0m\u001b[1;33m,\u001b[0m\u001b[1;33m\n",
       "\u001b[0m    \u001b[0mtol\u001b[0m\u001b[1;33m=\u001b[0m\u001b[1;32mNone\u001b[0m\u001b[1;33m,\u001b[0m\u001b[1;33m\n",
       "\u001b[0m    \u001b[0mcallback\u001b[0m\u001b[1;33m=\u001b[0m\u001b[1;32mNone\u001b[0m\u001b[1;33m,\u001b[0m\u001b[1;33m\n",
       "\u001b[0m    \u001b[0moptions\u001b[0m\u001b[1;33m=\u001b[0m\u001b[1;32mNone\u001b[0m\u001b[1;33m,\u001b[0m\u001b[1;33m\n",
       "\u001b[0m\u001b[1;33m)\u001b[0m\u001b[1;33m\u001b[0m\u001b[1;33m\u001b[0m\u001b[0m\n",
       "\u001b[1;31mDocstring:\u001b[0m\n",
       "Minimization of scalar function of one or more variables.\n",
       "\n",
       "Parameters\n",
       "----------\n",
       "fun : callable\n",
       "    The objective function to be minimized.\n",
       "\n",
       "        ``fun(x, *args) -> float``\n",
       "\n",
       "    where ``x`` is an 1-D array with shape (n,) and ``args``\n",
       "    is a tuple of the fixed parameters needed to completely\n",
       "    specify the function.\n",
       "x0 : ndarray, shape (n,)\n",
       "    Initial guess. Array of real elements of size (n,),\n",
       "    where ``n`` is the number of independent variables.\n",
       "args : tuple, optional\n",
       "    Extra arguments passed to the objective function and its\n",
       "    derivatives (`fun`, `jac` and `hess` functions).\n",
       "method : str or callable, optional\n",
       "    Type of solver.  Should be one of\n",
       "\n",
       "        - 'Nelder-Mead' :ref:`(see here) <optimize.minimize-neldermead>`\n",
       "        - 'Powell'      :ref:`(see here) <optimize.minimize-powell>`\n",
       "        - 'CG'          :ref:`(see here) <optimize.minimize-cg>`\n",
       "        - 'BFGS'        :ref:`(see here) <optimize.minimize-bfgs>`\n",
       "        - 'Newton-CG'   :ref:`(see here) <optimize.minimize-newtoncg>`\n",
       "        - 'L-BFGS-B'    :ref:`(see here) <optimize.minimize-lbfgsb>`\n",
       "        - 'TNC'         :ref:`(see here) <optimize.minimize-tnc>`\n",
       "        - 'COBYLA'      :ref:`(see here) <optimize.minimize-cobyla>`\n",
       "        - 'SLSQP'       :ref:`(see here) <optimize.minimize-slsqp>`\n",
       "        - 'trust-constr':ref:`(see here) <optimize.minimize-trustconstr>`\n",
       "        - 'dogleg'      :ref:`(see here) <optimize.minimize-dogleg>`\n",
       "        - 'trust-ncg'   :ref:`(see here) <optimize.minimize-trustncg>`\n",
       "        - 'trust-exact' :ref:`(see here) <optimize.minimize-trustexact>`\n",
       "        - 'trust-krylov' :ref:`(see here) <optimize.minimize-trustkrylov>`\n",
       "        - custom - a callable object (added in version 0.14.0),\n",
       "          see below for description.\n",
       "\n",
       "    If not given, chosen to be one of ``BFGS``, ``L-BFGS-B``, ``SLSQP``,\n",
       "    depending on whether or not the problem has constraints or bounds.\n",
       "jac : {callable,  '2-point', '3-point', 'cs', bool}, optional\n",
       "    Method for computing the gradient vector. Only for CG, BFGS,\n",
       "    Newton-CG, L-BFGS-B, TNC, SLSQP, dogleg, trust-ncg, trust-krylov,\n",
       "    trust-exact and trust-constr.\n",
       "    If it is a callable, it should be a function that returns the gradient\n",
       "    vector:\n",
       "\n",
       "        ``jac(x, *args) -> array_like, shape (n,)``\n",
       "\n",
       "    where ``x`` is an array with shape (n,) and ``args`` is a tuple with\n",
       "    the fixed parameters. If `jac` is a Boolean and is True, `fun` is\n",
       "    assumed to return a tuple ``(f, g)`` containing the objective\n",
       "    function and the gradient.\n",
       "    Methods 'Newton-CG', 'trust-ncg', 'dogleg', 'trust-exact', and\n",
       "    'trust-krylov' require that either a callable be supplied, or that\n",
       "    `fun` return the objective and gradient.\n",
       "    If None or False, the gradient will be estimated using 2-point finite\n",
       "    difference estimation with an absolute step size.\n",
       "    Alternatively, the keywords  {'2-point', '3-point', 'cs'} can be used\n",
       "    to select a finite difference scheme for numerical estimation of the\n",
       "    gradient with a relative step size. These finite difference schemes\n",
       "    obey any specified `bounds`.\n",
       "hess : {callable, '2-point', '3-point', 'cs', HessianUpdateStrategy}, optional\n",
       "    Method for computing the Hessian matrix. Only for Newton-CG, dogleg,\n",
       "    trust-ncg, trust-krylov, trust-exact and trust-constr.\n",
       "    If it is callable, it should return the Hessian matrix:\n",
       "\n",
       "        ``hess(x, *args) -> {LinearOperator, spmatrix, array}, (n, n)``\n",
       "\n",
       "    where ``x`` is a (n,) ndarray and ``args`` is a tuple with the fixed\n",
       "    parameters.\n",
       "    The keywords {'2-point', '3-point', 'cs'} can also be used to select\n",
       "    a finite difference scheme for numerical estimation of the hessian.\n",
       "    Alternatively, objects implementing the `HessianUpdateStrategy`\n",
       "    interface can be used to approximate the Hessian. Available\n",
       "    quasi-Newton methods implementing this interface are:\n",
       "\n",
       "        - `BFGS`;\n",
       "        - `SR1`.\n",
       "\n",
       "    Not all of the options are available for each of the methods; for\n",
       "    availability refer to the notes.\n",
       "hessp : callable, optional\n",
       "    Hessian of objective function times an arbitrary vector p. Only for\n",
       "    Newton-CG, trust-ncg, trust-krylov, trust-constr.\n",
       "    Only one of `hessp` or `hess` needs to be given. If `hess` is\n",
       "    provided, then `hessp` will be ignored. `hessp` must compute the\n",
       "    Hessian times an arbitrary vector:\n",
       "\n",
       "        ``hessp(x, p, *args) ->  ndarray shape (n,)``\n",
       "\n",
       "    where ``x`` is a (n,) ndarray, ``p`` is an arbitrary vector with\n",
       "    dimension (n,) and ``args`` is a tuple with the fixed\n",
       "    parameters.\n",
       "bounds : sequence or `Bounds`, optional\n",
       "    Bounds on variables for Nelder-Mead, L-BFGS-B, TNC, SLSQP, Powell, and\n",
       "    trust-constr methods. There are two ways to specify the bounds:\n",
       "\n",
       "        1. Instance of `Bounds` class.\n",
       "        2. Sequence of ``(min, max)`` pairs for each element in `x`. None\n",
       "           is used to specify no bound.\n",
       "\n",
       "constraints : {Constraint, dict} or List of {Constraint, dict}, optional\n",
       "    Constraints definition. Only for COBYLA, SLSQP and trust-constr.\n",
       "\n",
       "    Constraints for 'trust-constr' are defined as a single object or a\n",
       "    list of objects specifying constraints to the optimization problem.\n",
       "    Available constraints are:\n",
       "\n",
       "        - `LinearConstraint`\n",
       "        - `NonlinearConstraint`\n",
       "\n",
       "    Constraints for COBYLA, SLSQP are defined as a list of dictionaries.\n",
       "    Each dictionary with fields:\n",
       "\n",
       "        type : str\n",
       "            Constraint type: 'eq' for equality, 'ineq' for inequality.\n",
       "        fun : callable\n",
       "            The function defining the constraint.\n",
       "        jac : callable, optional\n",
       "            The Jacobian of `fun` (only for SLSQP).\n",
       "        args : sequence, optional\n",
       "            Extra arguments to be passed to the function and Jacobian.\n",
       "\n",
       "    Equality constraint means that the constraint function result is to\n",
       "    be zero whereas inequality means that it is to be non-negative.\n",
       "    Note that COBYLA only supports inequality constraints.\n",
       "tol : float, optional\n",
       "    Tolerance for termination. When `tol` is specified, the selected\n",
       "    minimization algorithm sets some relevant solver-specific tolerance(s)\n",
       "    equal to `tol`. For detailed control, use solver-specific\n",
       "    options.\n",
       "options : dict, optional\n",
       "    A dictionary of solver options. All methods accept the following\n",
       "    generic options:\n",
       "\n",
       "        maxiter : int\n",
       "            Maximum number of iterations to perform. Depending on the\n",
       "            method each iteration may use several function evaluations.\n",
       "        disp : bool\n",
       "            Set to True to print convergence messages.\n",
       "\n",
       "    For method-specific options, see :func:`show_options()`.\n",
       "callback : callable, optional\n",
       "    Called after each iteration. For 'trust-constr' it is a callable with\n",
       "    the signature:\n",
       "\n",
       "        ``callback(xk, OptimizeResult state) -> bool``\n",
       "\n",
       "    where ``xk`` is the current parameter vector. and ``state``\n",
       "    is an `OptimizeResult` object, with the same fields\n",
       "    as the ones from the return. If callback returns True\n",
       "    the algorithm execution is terminated.\n",
       "    For all the other methods, the signature is:\n",
       "\n",
       "        ``callback(xk)``\n",
       "\n",
       "    where ``xk`` is the current parameter vector.\n",
       "\n",
       "Returns\n",
       "-------\n",
       "res : OptimizeResult\n",
       "    The optimization result represented as a ``OptimizeResult`` object.\n",
       "    Important attributes are: ``x`` the solution array, ``success`` a\n",
       "    Boolean flag indicating if the optimizer exited successfully and\n",
       "    ``message`` which describes the cause of the termination. See\n",
       "    `OptimizeResult` for a description of other attributes.\n",
       "\n",
       "See also\n",
       "--------\n",
       "minimize_scalar : Interface to minimization algorithms for scalar\n",
       "    univariate functions\n",
       "show_options : Additional options accepted by the solvers\n",
       "\n",
       "Notes\n",
       "-----\n",
       "This section describes the available solvers that can be selected by the\n",
       "'method' parameter. The default method is *BFGS*.\n",
       "\n",
       "**Unconstrained minimization**\n",
       "\n",
       "Method :ref:`CG <optimize.minimize-cg>` uses a nonlinear conjugate\n",
       "gradient algorithm by Polak and Ribiere, a variant of the\n",
       "Fletcher-Reeves method described in [5]_ pp.120-122. Only the\n",
       "first derivatives are used.\n",
       "\n",
       "Method :ref:`BFGS <optimize.minimize-bfgs>` uses the quasi-Newton\n",
       "method of Broyden, Fletcher, Goldfarb, and Shanno (BFGS) [5]_\n",
       "pp. 136. It uses the first derivatives only. BFGS has proven good\n",
       "performance even for non-smooth optimizations. This method also\n",
       "returns an approximation of the Hessian inverse, stored as\n",
       "`hess_inv` in the OptimizeResult object.\n",
       "\n",
       "Method :ref:`Newton-CG <optimize.minimize-newtoncg>` uses a\n",
       "Newton-CG algorithm [5]_ pp. 168 (also known as the truncated\n",
       "Newton method). It uses a CG method to the compute the search\n",
       "direction. See also *TNC* method for a box-constrained\n",
       "minimization with a similar algorithm. Suitable for large-scale\n",
       "problems.\n",
       "\n",
       "Method :ref:`dogleg <optimize.minimize-dogleg>` uses the dog-leg\n",
       "trust-region algorithm [5]_ for unconstrained minimization. This\n",
       "algorithm requires the gradient and Hessian; furthermore the\n",
       "Hessian is required to be positive definite.\n",
       "\n",
       "Method :ref:`trust-ncg <optimize.minimize-trustncg>` uses the\n",
       "Newton conjugate gradient trust-region algorithm [5]_ for\n",
       "unconstrained minimization. This algorithm requires the gradient\n",
       "and either the Hessian or a function that computes the product of\n",
       "the Hessian with a given vector. Suitable for large-scale problems.\n",
       "\n",
       "Method :ref:`trust-krylov <optimize.minimize-trustkrylov>` uses\n",
       "the Newton GLTR trust-region algorithm [14]_, [15]_ for unconstrained\n",
       "minimization. This algorithm requires the gradient\n",
       "and either the Hessian or a function that computes the product of\n",
       "the Hessian with a given vector. Suitable for large-scale problems.\n",
       "On indefinite problems it requires usually less iterations than the\n",
       "`trust-ncg` method and is recommended for medium and large-scale problems.\n",
       "\n",
       "Method :ref:`trust-exact <optimize.minimize-trustexact>`\n",
       "is a trust-region method for unconstrained minimization in which\n",
       "quadratic subproblems are solved almost exactly [13]_. This\n",
       "algorithm requires the gradient and the Hessian (which is\n",
       "*not* required to be positive definite). It is, in many\n",
       "situations, the Newton method to converge in fewer iterations\n",
       "and the most recommended for small and medium-size problems.\n",
       "\n",
       "**Bound-Constrained minimization**\n",
       "\n",
       "Method :ref:`Nelder-Mead <optimize.minimize-neldermead>` uses the\n",
       "Simplex algorithm [1]_, [2]_. This algorithm is robust in many\n",
       "applications. However, if numerical computation of derivative can be\n",
       "trusted, other algorithms using the first and/or second derivatives\n",
       "information might be preferred for their better performance in\n",
       "general.\n",
       "\n",
       "Method :ref:`L-BFGS-B <optimize.minimize-lbfgsb>` uses the L-BFGS-B\n",
       "algorithm [6]_, [7]_ for bound constrained minimization.\n",
       "\n",
       "Method :ref:`Powell <optimize.minimize-powell>` is a modification\n",
       "of Powell's method [3]_, [4]_ which is a conjugate direction\n",
       "method. It performs sequential one-dimensional minimizations along\n",
       "each vector of the directions set (`direc` field in `options` and\n",
       "`info`), which is updated at each iteration of the main\n",
       "minimization loop. The function need not be differentiable, and no\n",
       "derivatives are taken. If bounds are not provided, then an\n",
       "unbounded line search will be used. If bounds are provided and\n",
       "the initial guess is within the bounds, then every function\n",
       "evaluation throughout the minimization procedure will be within\n",
       "the bounds. If bounds are provided, the initial guess is outside\n",
       "the bounds, and `direc` is full rank (default has full rank), then\n",
       "some function evaluations during the first iteration may be\n",
       "outside the bounds, but every function evaluation after the first\n",
       "iteration will be within the bounds. If `direc` is not full rank,\n",
       "then some parameters may not be optimized and the solution is not\n",
       "guaranteed to be within the bounds.\n",
       "\n",
       "Method :ref:`TNC <optimize.minimize-tnc>` uses a truncated Newton\n",
       "algorithm [5]_, [8]_ to minimize a function with variables subject\n",
       "to bounds. This algorithm uses gradient information; it is also\n",
       "called Newton Conjugate-Gradient. It differs from the *Newton-CG*\n",
       "method described above as it wraps a C implementation and allows\n",
       "each variable to be given upper and lower bounds.\n",
       "\n",
       "**Constrained Minimization**\n",
       "\n",
       "Method :ref:`COBYLA <optimize.minimize-cobyla>` uses the\n",
       "Constrained Optimization BY Linear Approximation (COBYLA) method\n",
       "[9]_, [10]_, [11]_. The algorithm is based on linear\n",
       "approximations to the objective function and each constraint. The\n",
       "method wraps a FORTRAN implementation of the algorithm. The\n",
       "constraints functions 'fun' may return either a single number\n",
       "or an array or list of numbers.\n",
       "\n",
       "Method :ref:`SLSQP <optimize.minimize-slsqp>` uses Sequential\n",
       "Least SQuares Programming to minimize a function of several\n",
       "variables with any combination of bounds, equality and inequality\n",
       "constraints. The method wraps the SLSQP Optimization subroutine\n",
       "originally implemented by Dieter Kraft [12]_. Note that the\n",
       "wrapper handles infinite values in bounds by converting them into\n",
       "large floating values.\n",
       "\n",
       "Method :ref:`trust-constr <optimize.minimize-trustconstr>` is a\n",
       "trust-region algorithm for constrained optimization. It swiches\n",
       "between two implementations depending on the problem definition.\n",
       "It is the most versatile constrained minimization algorithm\n",
       "implemented in SciPy and the most appropriate for large-scale problems.\n",
       "For equality constrained problems it is an implementation of Byrd-Omojokun\n",
       "Trust-Region SQP method described in [17]_ and in [5]_, p. 549. When\n",
       "inequality constraints are imposed as well, it swiches to the trust-region\n",
       "interior point method described in [16]_. This interior point algorithm,\n",
       "in turn, solves inequality constraints by introducing slack variables\n",
       "and solving a sequence of equality-constrained barrier problems\n",
       "for progressively smaller values of the barrier parameter.\n",
       "The previously described equality constrained SQP method is\n",
       "used to solve the subproblems with increasing levels of accuracy\n",
       "as the iterate gets closer to a solution.\n",
       "\n",
       "**Finite-Difference Options**\n",
       "\n",
       "For Method :ref:`trust-constr <optimize.minimize-trustconstr>`\n",
       "the gradient and the Hessian may be approximated using\n",
       "three finite-difference schemes: {'2-point', '3-point', 'cs'}.\n",
       "The scheme 'cs' is, potentially, the most accurate but it\n",
       "requires the function to correctly handle complex inputs and to\n",
       "be differentiable in the complex plane. The scheme '3-point' is more\n",
       "accurate than '2-point' but requires twice as many operations. If the\n",
       "gradient is estimated via finite-differences the Hessian must be\n",
       "estimated using one of the quasi-Newton strategies.\n",
       "\n",
       "**Method specific options for the** `hess` **keyword**\n",
       "\n",
       "+--------------+------+----------+-------------------------+-----+\n",
       "| method/Hess  | None | callable | '2-point/'3-point'/'cs' | HUS |\n",
       "+==============+======+==========+=========================+=====+\n",
       "| Newton-CG    | x    | (n, n)   | x                       | x   |\n",
       "|              |      | LO       |                         |     |\n",
       "+--------------+------+----------+-------------------------+-----+\n",
       "| dogleg       |      | (n, n)   |                         |     |\n",
       "+--------------+------+----------+-------------------------+-----+\n",
       "| trust-ncg    |      | (n, n)   | x                       | x   |\n",
       "+--------------+------+----------+-------------------------+-----+\n",
       "| trust-krylov |      | (n, n)   | x                       | x   |\n",
       "+--------------+------+----------+-------------------------+-----+\n",
       "| trust-exact  |      | (n, n)   |                         |     |\n",
       "+--------------+------+----------+-------------------------+-----+\n",
       "| trust-constr | x    | (n, n)   |  x                      | x   |\n",
       "|              |      | LO       |                         |     |\n",
       "|              |      | sp       |                         |     |\n",
       "+--------------+------+----------+-------------------------+-----+\n",
       "\n",
       "where LO=LinearOperator, sp=Sparse matrix, HUS=HessianUpdateStrategy\n",
       "\n",
       "**Custom minimizers**\n",
       "\n",
       "It may be useful to pass a custom minimization method, for example\n",
       "when using a frontend to this method such as `scipy.optimize.basinhopping`\n",
       "or a different library.  You can simply pass a callable as the ``method``\n",
       "parameter.\n",
       "\n",
       "The callable is called as ``method(fun, x0, args, **kwargs, **options)``\n",
       "where ``kwargs`` corresponds to any other parameters passed to `minimize`\n",
       "(such as `callback`, `hess`, etc.), except the `options` dict, which has\n",
       "its contents also passed as `method` parameters pair by pair.  Also, if\n",
       "`jac` has been passed as a bool type, `jac` and `fun` are mangled so that\n",
       "`fun` returns just the function values and `jac` is converted to a function\n",
       "returning the Jacobian.  The method shall return an `OptimizeResult`\n",
       "object.\n",
       "\n",
       "The provided `method` callable must be able to accept (and possibly ignore)\n",
       "arbitrary parameters; the set of parameters accepted by `minimize` may\n",
       "expand in future versions and then these parameters will be passed to\n",
       "the method.  You can find an example in the scipy.optimize tutorial.\n",
       "\n",
       ".. versionadded:: 0.11.0\n",
       "\n",
       "References\n",
       "----------\n",
       ".. [1] Nelder, J A, and R Mead. 1965. A Simplex Method for Function\n",
       "    Minimization. The Computer Journal 7: 308-13.\n",
       ".. [2] Wright M H. 1996. Direct search methods: Once scorned, now\n",
       "    respectable, in Numerical Analysis 1995: Proceedings of the 1995\n",
       "    Dundee Biennial Conference in Numerical Analysis (Eds. D F\n",
       "    Griffiths and G A Watson). Addison Wesley Longman, Harlow, UK.\n",
       "    191-208.\n",
       ".. [3] Powell, M J D. 1964. An efficient method for finding the minimum of\n",
       "   a function of several variables without calculating derivatives. The\n",
       "   Computer Journal 7: 155-162.\n",
       ".. [4] Press W, S A Teukolsky, W T Vetterling and B P Flannery.\n",
       "   Numerical Recipes (any edition), Cambridge University Press.\n",
       ".. [5] Nocedal, J, and S J Wright. 2006. Numerical Optimization.\n",
       "   Springer New York.\n",
       ".. [6] Byrd, R H and P Lu and J. Nocedal. 1995. A Limited Memory\n",
       "   Algorithm for Bound Constrained Optimization. SIAM Journal on\n",
       "   Scientific and Statistical Computing 16 (5): 1190-1208.\n",
       ".. [7] Zhu, C and R H Byrd and J Nocedal. 1997. L-BFGS-B: Algorithm\n",
       "   778: L-BFGS-B, FORTRAN routines for large scale bound constrained\n",
       "   optimization. ACM Transactions on Mathematical Software 23 (4):\n",
       "   550-560.\n",
       ".. [8] Nash, S G. Newton-Type Minimization Via the Lanczos Method.\n",
       "   1984. SIAM Journal of Numerical Analysis 21: 770-778.\n",
       ".. [9] Powell, M J D. A direct search optimization method that models\n",
       "   the objective and constraint functions by linear interpolation.\n",
       "   1994. Advances in Optimization and Numerical Analysis, eds. S. Gomez\n",
       "   and J-P Hennart, Kluwer Academic (Dordrecht), 51-67.\n",
       ".. [10] Powell M J D. Direct search algorithms for optimization\n",
       "   calculations. 1998. Acta Numerica 7: 287-336.\n",
       ".. [11] Powell M J D. A view of algorithms for optimization without\n",
       "   derivatives. 2007.Cambridge University Technical Report DAMTP\n",
       "   2007/NA03\n",
       ".. [12] Kraft, D. A software package for sequential quadratic\n",
       "   programming. 1988. Tech. Rep. DFVLR-FB 88-28, DLR German Aerospace\n",
       "   Center -- Institute for Flight Mechanics, Koln, Germany.\n",
       ".. [13] Conn, A. R., Gould, N. I., and Toint, P. L.\n",
       "   Trust region methods. 2000. Siam. pp. 169-200.\n",
       ".. [14] F. Lenders, C. Kirches, A. Potschka: \"trlib: A vector-free\n",
       "   implementation of the GLTR method for iterative solution of\n",
       "   the trust region problem\", :arxiv:`1611.04718`\n",
       ".. [15] N. Gould, S. Lucidi, M. Roma, P. Toint: \"Solving the\n",
       "   Trust-Region Subproblem using the Lanczos Method\",\n",
       "   SIAM J. Optim., 9(2), 504--525, (1999).\n",
       ".. [16] Byrd, Richard H., Mary E. Hribar, and Jorge Nocedal. 1999.\n",
       "    An interior point algorithm for large-scale nonlinear  programming.\n",
       "    SIAM Journal on Optimization 9.4: 877-900.\n",
       ".. [17] Lalee, Marucha, Jorge Nocedal, and Todd Plantega. 1998. On the\n",
       "    implementation of an algorithm for large-scale equality constrained\n",
       "    optimization. SIAM Journal on Optimization 8.3: 682-706.\n",
       "\n",
       "Examples\n",
       "--------\n",
       "Let us consider the problem of minimizing the Rosenbrock function. This\n",
       "function (and its respective derivatives) is implemented in `rosen`\n",
       "(resp. `rosen_der`, `rosen_hess`) in the `scipy.optimize`.\n",
       "\n",
       ">>> from scipy.optimize import minimize, rosen, rosen_der\n",
       "\n",
       "A simple application of the *Nelder-Mead* method is:\n",
       "\n",
       ">>> x0 = [1.3, 0.7, 0.8, 1.9, 1.2]\n",
       ">>> res = minimize(rosen, x0, method='Nelder-Mead', tol=1e-6)\n",
       ">>> res.x\n",
       "array([ 1.,  1.,  1.,  1.,  1.])\n",
       "\n",
       "Now using the *BFGS* algorithm, using the first derivative and a few\n",
       "options:\n",
       "\n",
       ">>> res = minimize(rosen, x0, method='BFGS', jac=rosen_der,\n",
       "...                options={'gtol': 1e-6, 'disp': True})\n",
       "Optimization terminated successfully.\n",
       "         Current function value: 0.000000\n",
       "         Iterations: 26\n",
       "         Function evaluations: 31\n",
       "         Gradient evaluations: 31\n",
       ">>> res.x\n",
       "array([ 1.,  1.,  1.,  1.,  1.])\n",
       ">>> print(res.message)\n",
       "Optimization terminated successfully.\n",
       ">>> res.hess_inv\n",
       "array([[ 0.00749589,  0.01255155,  0.02396251,  0.04750988,  0.09495377],  # may vary\n",
       "       [ 0.01255155,  0.02510441,  0.04794055,  0.09502834,  0.18996269],\n",
       "       [ 0.02396251,  0.04794055,  0.09631614,  0.19092151,  0.38165151],\n",
       "       [ 0.04750988,  0.09502834,  0.19092151,  0.38341252,  0.7664427 ],\n",
       "       [ 0.09495377,  0.18996269,  0.38165151,  0.7664427,   1.53713523]])\n",
       "\n",
       "\n",
       "Next, consider a minimization problem with several constraints (namely\n",
       "Example 16.4 from [5]_). The objective function is:\n",
       "\n",
       ">>> fun = lambda x: (x[0] - 1)**2 + (x[1] - 2.5)**2\n",
       "\n",
       "There are three constraints defined as:\n",
       "\n",
       ">>> cons = ({'type': 'ineq', 'fun': lambda x:  x[0] - 2 * x[1] + 2},\n",
       "...         {'type': 'ineq', 'fun': lambda x: -x[0] - 2 * x[1] + 6},\n",
       "...         {'type': 'ineq', 'fun': lambda x: -x[0] + 2 * x[1] + 2})\n",
       "\n",
       "And variables must be positive, hence the following bounds:\n",
       "\n",
       ">>> bnds = ((0, None), (0, None))\n",
       "\n",
       "The optimization problem is solved using the SLSQP method as:\n",
       "\n",
       ">>> res = minimize(fun, (2, 0), method='SLSQP', bounds=bnds,\n",
       "...                constraints=cons)\n",
       "\n",
       "It should converge to the theoretical solution (1.4 ,1.7).\n",
       "\u001b[1;31mFile:\u001b[0m      c:\\users\\priya\\appdata\\local\\programs\\python\\python310\\lib\\site-packages\\scipy\\optimize\\_minimize.py\n",
       "\u001b[1;31mType:\u001b[0m      function\n"
      ]
     },
     "metadata": {},
     "output_type": "display_data"
    }
   ],
   "source": [
    "minimize?"
   ]
  },
  {
   "cell_type": "markdown",
   "id": "31a91f41-fd63-4a4b-955d-f618e9a68f44",
   "metadata": {
    "canvas": {
     "comments": [],
     "componentType": "CodeCell",
     "copiedOriginId": null,
     "diskcache": false,
     "headerColor": "transparent",
     "id": "d3f5857b-c1f3-4d9f-9cf1-e0a7b0c37ca1",
     "isComponent": false,
     "name": "",
     "parents": []
    }
   },
   "source": [
    "#### Note use of different techniques for different problems."
   ]
  },
  {
   "cell_type": "code",
   "execution_count": 11,
   "id": "a908faa2-52cf-404c-8988-7f1ba2ad601a",
   "metadata": {
    "canvas": {
     "comments": [],
     "componentType": "CodeCell",
     "copiedOriginId": null,
     "diskcache": false,
     "headerColor": "transparent",
     "id": "e7a7eec7-d0a8-4022-b4b2-3e3397976431",
     "isComponent": false,
     "name": "",
     "parents": []
    },
    "tags": []
   },
   "outputs": [
    {
     "name": "stdout",
     "output_type": "stream",
     "text": [
      "Help on function minimize in module scipy.optimize._minimize:\n",
      "\n",
      "minimize(fun, x0, args=(), method=None, jac=None, hess=None, hessp=None, bounds=None, constraints=(), tol=None, callback=None, options=None)\n",
      "    Minimization of scalar function of one or more variables.\n",
      "    \n",
      "    Parameters\n",
      "    ----------\n",
      "    fun : callable\n",
      "        The objective function to be minimized.\n",
      "    \n",
      "            ``fun(x, *args) -> float``\n",
      "    \n",
      "        where ``x`` is an 1-D array with shape (n,) and ``args``\n",
      "        is a tuple of the fixed parameters needed to completely\n",
      "        specify the function.\n",
      "    x0 : ndarray, shape (n,)\n",
      "        Initial guess. Array of real elements of size (n,),\n",
      "        where ``n`` is the number of independent variables.\n",
      "    args : tuple, optional\n",
      "        Extra arguments passed to the objective function and its\n",
      "        derivatives (`fun`, `jac` and `hess` functions).\n",
      "    method : str or callable, optional\n",
      "        Type of solver.  Should be one of\n",
      "    \n",
      "            - 'Nelder-Mead' :ref:`(see here) <optimize.minimize-neldermead>`\n",
      "            - 'Powell'      :ref:`(see here) <optimize.minimize-powell>`\n",
      "            - 'CG'          :ref:`(see here) <optimize.minimize-cg>`\n",
      "            - 'BFGS'        :ref:`(see here) <optimize.minimize-bfgs>`\n",
      "            - 'Newton-CG'   :ref:`(see here) <optimize.minimize-newtoncg>`\n",
      "            - 'L-BFGS-B'    :ref:`(see here) <optimize.minimize-lbfgsb>`\n",
      "            - 'TNC'         :ref:`(see here) <optimize.minimize-tnc>`\n",
      "            - 'COBYLA'      :ref:`(see here) <optimize.minimize-cobyla>`\n",
      "            - 'SLSQP'       :ref:`(see here) <optimize.minimize-slsqp>`\n",
      "            - 'trust-constr':ref:`(see here) <optimize.minimize-trustconstr>`\n",
      "            - 'dogleg'      :ref:`(see here) <optimize.minimize-dogleg>`\n",
      "            - 'trust-ncg'   :ref:`(see here) <optimize.minimize-trustncg>`\n",
      "            - 'trust-exact' :ref:`(see here) <optimize.minimize-trustexact>`\n",
      "            - 'trust-krylov' :ref:`(see here) <optimize.minimize-trustkrylov>`\n",
      "            - custom - a callable object (added in version 0.14.0),\n",
      "              see below for description.\n",
      "    \n",
      "        If not given, chosen to be one of ``BFGS``, ``L-BFGS-B``, ``SLSQP``,\n",
      "        depending on whether or not the problem has constraints or bounds.\n",
      "    jac : {callable,  '2-point', '3-point', 'cs', bool}, optional\n",
      "        Method for computing the gradient vector. Only for CG, BFGS,\n",
      "        Newton-CG, L-BFGS-B, TNC, SLSQP, dogleg, trust-ncg, trust-krylov,\n",
      "        trust-exact and trust-constr.\n",
      "        If it is a callable, it should be a function that returns the gradient\n",
      "        vector:\n",
      "    \n",
      "            ``jac(x, *args) -> array_like, shape (n,)``\n",
      "    \n",
      "        where ``x`` is an array with shape (n,) and ``args`` is a tuple with\n",
      "        the fixed parameters. If `jac` is a Boolean and is True, `fun` is\n",
      "        assumed to return a tuple ``(f, g)`` containing the objective\n",
      "        function and the gradient.\n",
      "        Methods 'Newton-CG', 'trust-ncg', 'dogleg', 'trust-exact', and\n",
      "        'trust-krylov' require that either a callable be supplied, or that\n",
      "        `fun` return the objective and gradient.\n",
      "        If None or False, the gradient will be estimated using 2-point finite\n",
      "        difference estimation with an absolute step size.\n",
      "        Alternatively, the keywords  {'2-point', '3-point', 'cs'} can be used\n",
      "        to select a finite difference scheme for numerical estimation of the\n",
      "        gradient with a relative step size. These finite difference schemes\n",
      "        obey any specified `bounds`.\n",
      "    hess : {callable, '2-point', '3-point', 'cs', HessianUpdateStrategy}, optional\n",
      "        Method for computing the Hessian matrix. Only for Newton-CG, dogleg,\n",
      "        trust-ncg, trust-krylov, trust-exact and trust-constr.\n",
      "        If it is callable, it should return the Hessian matrix:\n",
      "    \n",
      "            ``hess(x, *args) -> {LinearOperator, spmatrix, array}, (n, n)``\n",
      "    \n",
      "        where ``x`` is a (n,) ndarray and ``args`` is a tuple with the fixed\n",
      "        parameters.\n",
      "        The keywords {'2-point', '3-point', 'cs'} can also be used to select\n",
      "        a finite difference scheme for numerical estimation of the hessian.\n",
      "        Alternatively, objects implementing the `HessianUpdateStrategy`\n",
      "        interface can be used to approximate the Hessian. Available\n",
      "        quasi-Newton methods implementing this interface are:\n",
      "    \n",
      "            - `BFGS`;\n",
      "            - `SR1`.\n",
      "    \n",
      "        Not all of the options are available for each of the methods; for\n",
      "        availability refer to the notes.\n",
      "    hessp : callable, optional\n",
      "        Hessian of objective function times an arbitrary vector p. Only for\n",
      "        Newton-CG, trust-ncg, trust-krylov, trust-constr.\n",
      "        Only one of `hessp` or `hess` needs to be given. If `hess` is\n",
      "        provided, then `hessp` will be ignored. `hessp` must compute the\n",
      "        Hessian times an arbitrary vector:\n",
      "    \n",
      "            ``hessp(x, p, *args) ->  ndarray shape (n,)``\n",
      "    \n",
      "        where ``x`` is a (n,) ndarray, ``p`` is an arbitrary vector with\n",
      "        dimension (n,) and ``args`` is a tuple with the fixed\n",
      "        parameters.\n",
      "    bounds : sequence or `Bounds`, optional\n",
      "        Bounds on variables for Nelder-Mead, L-BFGS-B, TNC, SLSQP, Powell, and\n",
      "        trust-constr methods. There are two ways to specify the bounds:\n",
      "    \n",
      "            1. Instance of `Bounds` class.\n",
      "            2. Sequence of ``(min, max)`` pairs for each element in `x`. None\n",
      "               is used to specify no bound.\n",
      "    \n",
      "    constraints : {Constraint, dict} or List of {Constraint, dict}, optional\n",
      "        Constraints definition. Only for COBYLA, SLSQP and trust-constr.\n",
      "    \n",
      "        Constraints for 'trust-constr' are defined as a single object or a\n",
      "        list of objects specifying constraints to the optimization problem.\n",
      "        Available constraints are:\n",
      "    \n",
      "            - `LinearConstraint`\n",
      "            - `NonlinearConstraint`\n",
      "    \n",
      "        Constraints for COBYLA, SLSQP are defined as a list of dictionaries.\n",
      "        Each dictionary with fields:\n",
      "    \n",
      "            type : str\n",
      "                Constraint type: 'eq' for equality, 'ineq' for inequality.\n",
      "            fun : callable\n",
      "                The function defining the constraint.\n",
      "            jac : callable, optional\n",
      "                The Jacobian of `fun` (only for SLSQP).\n",
      "            args : sequence, optional\n",
      "                Extra arguments to be passed to the function and Jacobian.\n",
      "    \n",
      "        Equality constraint means that the constraint function result is to\n",
      "        be zero whereas inequality means that it is to be non-negative.\n",
      "        Note that COBYLA only supports inequality constraints.\n",
      "    tol : float, optional\n",
      "        Tolerance for termination. When `tol` is specified, the selected\n",
      "        minimization algorithm sets some relevant solver-specific tolerance(s)\n",
      "        equal to `tol`. For detailed control, use solver-specific\n",
      "        options.\n",
      "    options : dict, optional\n",
      "        A dictionary of solver options. All methods accept the following\n",
      "        generic options:\n",
      "    \n",
      "            maxiter : int\n",
      "                Maximum number of iterations to perform. Depending on the\n",
      "                method each iteration may use several function evaluations.\n",
      "            disp : bool\n",
      "                Set to True to print convergence messages.\n",
      "    \n",
      "        For method-specific options, see :func:`show_options()`.\n",
      "    callback : callable, optional\n",
      "        Called after each iteration. For 'trust-constr' it is a callable with\n",
      "        the signature:\n",
      "    \n",
      "            ``callback(xk, OptimizeResult state) -> bool``\n",
      "    \n",
      "        where ``xk`` is the current parameter vector. and ``state``\n",
      "        is an `OptimizeResult` object, with the same fields\n",
      "        as the ones from the return. If callback returns True\n",
      "        the algorithm execution is terminated.\n",
      "        For all the other methods, the signature is:\n",
      "    \n",
      "            ``callback(xk)``\n",
      "    \n",
      "        where ``xk`` is the current parameter vector.\n",
      "    \n",
      "    Returns\n",
      "    -------\n",
      "    res : OptimizeResult\n",
      "        The optimization result represented as a ``OptimizeResult`` object.\n",
      "        Important attributes are: ``x`` the solution array, ``success`` a\n",
      "        Boolean flag indicating if the optimizer exited successfully and\n",
      "        ``message`` which describes the cause of the termination. See\n",
      "        `OptimizeResult` for a description of other attributes.\n",
      "    \n",
      "    See also\n",
      "    --------\n",
      "    minimize_scalar : Interface to minimization algorithms for scalar\n",
      "        univariate functions\n",
      "    show_options : Additional options accepted by the solvers\n",
      "    \n",
      "    Notes\n",
      "    -----\n",
      "    This section describes the available solvers that can be selected by the\n",
      "    'method' parameter. The default method is *BFGS*.\n",
      "    \n",
      "    **Unconstrained minimization**\n",
      "    \n",
      "    Method :ref:`CG <optimize.minimize-cg>` uses a nonlinear conjugate\n",
      "    gradient algorithm by Polak and Ribiere, a variant of the\n",
      "    Fletcher-Reeves method described in [5]_ pp.120-122. Only the\n",
      "    first derivatives are used.\n",
      "    \n",
      "    Method :ref:`BFGS <optimize.minimize-bfgs>` uses the quasi-Newton\n",
      "    method of Broyden, Fletcher, Goldfarb, and Shanno (BFGS) [5]_\n",
      "    pp. 136. It uses the first derivatives only. BFGS has proven good\n",
      "    performance even for non-smooth optimizations. This method also\n",
      "    returns an approximation of the Hessian inverse, stored as\n",
      "    `hess_inv` in the OptimizeResult object.\n",
      "    \n",
      "    Method :ref:`Newton-CG <optimize.minimize-newtoncg>` uses a\n",
      "    Newton-CG algorithm [5]_ pp. 168 (also known as the truncated\n",
      "    Newton method). It uses a CG method to the compute the search\n",
      "    direction. See also *TNC* method for a box-constrained\n",
      "    minimization with a similar algorithm. Suitable for large-scale\n",
      "    problems.\n",
      "    \n",
      "    Method :ref:`dogleg <optimize.minimize-dogleg>` uses the dog-leg\n",
      "    trust-region algorithm [5]_ for unconstrained minimization. This\n",
      "    algorithm requires the gradient and Hessian; furthermore the\n",
      "    Hessian is required to be positive definite.\n",
      "    \n",
      "    Method :ref:`trust-ncg <optimize.minimize-trustncg>` uses the\n",
      "    Newton conjugate gradient trust-region algorithm [5]_ for\n",
      "    unconstrained minimization. This algorithm requires the gradient\n",
      "    and either the Hessian or a function that computes the product of\n",
      "    the Hessian with a given vector. Suitable for large-scale problems.\n",
      "    \n",
      "    Method :ref:`trust-krylov <optimize.minimize-trustkrylov>` uses\n",
      "    the Newton GLTR trust-region algorithm [14]_, [15]_ for unconstrained\n",
      "    minimization. This algorithm requires the gradient\n",
      "    and either the Hessian or a function that computes the product of\n",
      "    the Hessian with a given vector. Suitable for large-scale problems.\n",
      "    On indefinite problems it requires usually less iterations than the\n",
      "    `trust-ncg` method and is recommended for medium and large-scale problems.\n",
      "    \n",
      "    Method :ref:`trust-exact <optimize.minimize-trustexact>`\n",
      "    is a trust-region method for unconstrained minimization in which\n",
      "    quadratic subproblems are solved almost exactly [13]_. This\n",
      "    algorithm requires the gradient and the Hessian (which is\n",
      "    *not* required to be positive definite). It is, in many\n",
      "    situations, the Newton method to converge in fewer iterations\n",
      "    and the most recommended for small and medium-size problems.\n",
      "    \n",
      "    **Bound-Constrained minimization**\n",
      "    \n",
      "    Method :ref:`Nelder-Mead <optimize.minimize-neldermead>` uses the\n",
      "    Simplex algorithm [1]_, [2]_. This algorithm is robust in many\n",
      "    applications. However, if numerical computation of derivative can be\n",
      "    trusted, other algorithms using the first and/or second derivatives\n",
      "    information might be preferred for their better performance in\n",
      "    general.\n",
      "    \n",
      "    Method :ref:`L-BFGS-B <optimize.minimize-lbfgsb>` uses the L-BFGS-B\n",
      "    algorithm [6]_, [7]_ for bound constrained minimization.\n",
      "    \n",
      "    Method :ref:`Powell <optimize.minimize-powell>` is a modification\n",
      "    of Powell's method [3]_, [4]_ which is a conjugate direction\n",
      "    method. It performs sequential one-dimensional minimizations along\n",
      "    each vector of the directions set (`direc` field in `options` and\n",
      "    `info`), which is updated at each iteration of the main\n",
      "    minimization loop. The function need not be differentiable, and no\n",
      "    derivatives are taken. If bounds are not provided, then an\n",
      "    unbounded line search will be used. If bounds are provided and\n",
      "    the initial guess is within the bounds, then every function\n",
      "    evaluation throughout the minimization procedure will be within\n",
      "    the bounds. If bounds are provided, the initial guess is outside\n",
      "    the bounds, and `direc` is full rank (default has full rank), then\n",
      "    some function evaluations during the first iteration may be\n",
      "    outside the bounds, but every function evaluation after the first\n",
      "    iteration will be within the bounds. If `direc` is not full rank,\n",
      "    then some parameters may not be optimized and the solution is not\n",
      "    guaranteed to be within the bounds.\n",
      "    \n",
      "    Method :ref:`TNC <optimize.minimize-tnc>` uses a truncated Newton\n",
      "    algorithm [5]_, [8]_ to minimize a function with variables subject\n",
      "    to bounds. This algorithm uses gradient information; it is also\n",
      "    called Newton Conjugate-Gradient. It differs from the *Newton-CG*\n",
      "    method described above as it wraps a C implementation and allows\n",
      "    each variable to be given upper and lower bounds.\n",
      "    \n",
      "    **Constrained Minimization**\n",
      "    \n",
      "    Method :ref:`COBYLA <optimize.minimize-cobyla>` uses the\n",
      "    Constrained Optimization BY Linear Approximation (COBYLA) method\n",
      "    [9]_, [10]_, [11]_. The algorithm is based on linear\n",
      "    approximations to the objective function and each constraint. The\n",
      "    method wraps a FORTRAN implementation of the algorithm. The\n",
      "    constraints functions 'fun' may return either a single number\n",
      "    or an array or list of numbers.\n",
      "    \n",
      "    Method :ref:`SLSQP <optimize.minimize-slsqp>` uses Sequential\n",
      "    Least SQuares Programming to minimize a function of several\n",
      "    variables with any combination of bounds, equality and inequality\n",
      "    constraints. The method wraps the SLSQP Optimization subroutine\n",
      "    originally implemented by Dieter Kraft [12]_. Note that the\n",
      "    wrapper handles infinite values in bounds by converting them into\n",
      "    large floating values.\n",
      "    \n",
      "    Method :ref:`trust-constr <optimize.minimize-trustconstr>` is a\n",
      "    trust-region algorithm for constrained optimization. It swiches\n",
      "    between two implementations depending on the problem definition.\n",
      "    It is the most versatile constrained minimization algorithm\n",
      "    implemented in SciPy and the most appropriate for large-scale problems.\n",
      "    For equality constrained problems it is an implementation of Byrd-Omojokun\n",
      "    Trust-Region SQP method described in [17]_ and in [5]_, p. 549. When\n",
      "    inequality constraints are imposed as well, it swiches to the trust-region\n",
      "    interior point method described in [16]_. This interior point algorithm,\n",
      "    in turn, solves inequality constraints by introducing slack variables\n",
      "    and solving a sequence of equality-constrained barrier problems\n",
      "    for progressively smaller values of the barrier parameter.\n",
      "    The previously described equality constrained SQP method is\n",
      "    used to solve the subproblems with increasing levels of accuracy\n",
      "    as the iterate gets closer to a solution.\n",
      "    \n",
      "    **Finite-Difference Options**\n",
      "    \n",
      "    For Method :ref:`trust-constr <optimize.minimize-trustconstr>`\n",
      "    the gradient and the Hessian may be approximated using\n",
      "    three finite-difference schemes: {'2-point', '3-point', 'cs'}.\n",
      "    The scheme 'cs' is, potentially, the most accurate but it\n",
      "    requires the function to correctly handle complex inputs and to\n",
      "    be differentiable in the complex plane. The scheme '3-point' is more\n",
      "    accurate than '2-point' but requires twice as many operations. If the\n",
      "    gradient is estimated via finite-differences the Hessian must be\n",
      "    estimated using one of the quasi-Newton strategies.\n",
      "    \n",
      "    **Method specific options for the** `hess` **keyword**\n",
      "    \n",
      "    +--------------+------+----------+-------------------------+-----+\n",
      "    | method/Hess  | None | callable | '2-point/'3-point'/'cs' | HUS |\n",
      "    +==============+======+==========+=========================+=====+\n",
      "    | Newton-CG    | x    | (n, n)   | x                       | x   |\n",
      "    |              |      | LO       |                         |     |\n",
      "    +--------------+------+----------+-------------------------+-----+\n",
      "    | dogleg       |      | (n, n)   |                         |     |\n",
      "    +--------------+------+----------+-------------------------+-----+\n",
      "    | trust-ncg    |      | (n, n)   | x                       | x   |\n",
      "    +--------------+------+----------+-------------------------+-----+\n",
      "    | trust-krylov |      | (n, n)   | x                       | x   |\n",
      "    +--------------+------+----------+-------------------------+-----+\n",
      "    | trust-exact  |      | (n, n)   |                         |     |\n",
      "    +--------------+------+----------+-------------------------+-----+\n",
      "    | trust-constr | x    | (n, n)   |  x                      | x   |\n",
      "    |              |      | LO       |                         |     |\n",
      "    |              |      | sp       |                         |     |\n",
      "    +--------------+------+----------+-------------------------+-----+\n",
      "    \n",
      "    where LO=LinearOperator, sp=Sparse matrix, HUS=HessianUpdateStrategy\n",
      "    \n",
      "    **Custom minimizers**\n",
      "    \n",
      "    It may be useful to pass a custom minimization method, for example\n",
      "    when using a frontend to this method such as `scipy.optimize.basinhopping`\n",
      "    or a different library.  You can simply pass a callable as the ``method``\n",
      "    parameter.\n",
      "    \n",
      "    The callable is called as ``method(fun, x0, args, **kwargs, **options)``\n",
      "    where ``kwargs`` corresponds to any other parameters passed to `minimize`\n",
      "    (such as `callback`, `hess`, etc.), except the `options` dict, which has\n",
      "    its contents also passed as `method` parameters pair by pair.  Also, if\n",
      "    `jac` has been passed as a bool type, `jac` and `fun` are mangled so that\n",
      "    `fun` returns just the function values and `jac` is converted to a function\n",
      "    returning the Jacobian.  The method shall return an `OptimizeResult`\n",
      "    object.\n",
      "    \n",
      "    The provided `method` callable must be able to accept (and possibly ignore)\n",
      "    arbitrary parameters; the set of parameters accepted by `minimize` may\n",
      "    expand in future versions and then these parameters will be passed to\n",
      "    the method.  You can find an example in the scipy.optimize tutorial.\n",
      "    \n",
      "    .. versionadded:: 0.11.0\n",
      "    \n",
      "    References\n",
      "    ----------\n",
      "    .. [1] Nelder, J A, and R Mead. 1965. A Simplex Method for Function\n",
      "        Minimization. The Computer Journal 7: 308-13.\n",
      "    .. [2] Wright M H. 1996. Direct search methods: Once scorned, now\n",
      "        respectable, in Numerical Analysis 1995: Proceedings of the 1995\n",
      "        Dundee Biennial Conference in Numerical Analysis (Eds. D F\n",
      "        Griffiths and G A Watson). Addison Wesley Longman, Harlow, UK.\n",
      "        191-208.\n",
      "    .. [3] Powell, M J D. 1964. An efficient method for finding the minimum of\n",
      "       a function of several variables without calculating derivatives. The\n",
      "       Computer Journal 7: 155-162.\n",
      "    .. [4] Press W, S A Teukolsky, W T Vetterling and B P Flannery.\n",
      "       Numerical Recipes (any edition), Cambridge University Press.\n",
      "    .. [5] Nocedal, J, and S J Wright. 2006. Numerical Optimization.\n",
      "       Springer New York.\n",
      "    .. [6] Byrd, R H and P Lu and J. Nocedal. 1995. A Limited Memory\n",
      "       Algorithm for Bound Constrained Optimization. SIAM Journal on\n",
      "       Scientific and Statistical Computing 16 (5): 1190-1208.\n",
      "    .. [7] Zhu, C and R H Byrd and J Nocedal. 1997. L-BFGS-B: Algorithm\n",
      "       778: L-BFGS-B, FORTRAN routines for large scale bound constrained\n",
      "       optimization. ACM Transactions on Mathematical Software 23 (4):\n",
      "       550-560.\n",
      "    .. [8] Nash, S G. Newton-Type Minimization Via the Lanczos Method.\n",
      "       1984. SIAM Journal of Numerical Analysis 21: 770-778.\n",
      "    .. [9] Powell, M J D. A direct search optimization method that models\n",
      "       the objective and constraint functions by linear interpolation.\n",
      "       1994. Advances in Optimization and Numerical Analysis, eds. S. Gomez\n",
      "       and J-P Hennart, Kluwer Academic (Dordrecht), 51-67.\n",
      "    .. [10] Powell M J D. Direct search algorithms for optimization\n",
      "       calculations. 1998. Acta Numerica 7: 287-336.\n",
      "    .. [11] Powell M J D. A view of algorithms for optimization without\n",
      "       derivatives. 2007.Cambridge University Technical Report DAMTP\n",
      "       2007/NA03\n",
      "    .. [12] Kraft, D. A software package for sequential quadratic\n",
      "       programming. 1988. Tech. Rep. DFVLR-FB 88-28, DLR German Aerospace\n",
      "       Center -- Institute for Flight Mechanics, Koln, Germany.\n",
      "    .. [13] Conn, A. R., Gould, N. I., and Toint, P. L.\n",
      "       Trust region methods. 2000. Siam. pp. 169-200.\n",
      "    .. [14] F. Lenders, C. Kirches, A. Potschka: \"trlib: A vector-free\n",
      "       implementation of the GLTR method for iterative solution of\n",
      "       the trust region problem\", :arxiv:`1611.04718`\n",
      "    .. [15] N. Gould, S. Lucidi, M. Roma, P. Toint: \"Solving the\n",
      "       Trust-Region Subproblem using the Lanczos Method\",\n",
      "       SIAM J. Optim., 9(2), 504--525, (1999).\n",
      "    .. [16] Byrd, Richard H., Mary E. Hribar, and Jorge Nocedal. 1999.\n",
      "        An interior point algorithm for large-scale nonlinear  programming.\n",
      "        SIAM Journal on Optimization 9.4: 877-900.\n",
      "    .. [17] Lalee, Marucha, Jorge Nocedal, and Todd Plantega. 1998. On the\n",
      "        implementation of an algorithm for large-scale equality constrained\n",
      "        optimization. SIAM Journal on Optimization 8.3: 682-706.\n",
      "    \n",
      "    Examples\n",
      "    --------\n",
      "    Let us consider the problem of minimizing the Rosenbrock function. This\n",
      "    function (and its respective derivatives) is implemented in `rosen`\n",
      "    (resp. `rosen_der`, `rosen_hess`) in the `scipy.optimize`.\n",
      "    \n",
      "    >>> from scipy.optimize import minimize, rosen, rosen_der\n",
      "    \n",
      "    A simple application of the *Nelder-Mead* method is:\n",
      "    \n",
      "    >>> x0 = [1.3, 0.7, 0.8, 1.9, 1.2]\n",
      "    >>> res = minimize(rosen, x0, method='Nelder-Mead', tol=1e-6)\n",
      "    >>> res.x\n",
      "    array([ 1.,  1.,  1.,  1.,  1.])\n",
      "    \n",
      "    Now using the *BFGS* algorithm, using the first derivative and a few\n",
      "    options:\n",
      "    \n",
      "    >>> res = minimize(rosen, x0, method='BFGS', jac=rosen_der,\n",
      "    ...                options={'gtol': 1e-6, 'disp': True})\n",
      "    Optimization terminated successfully.\n",
      "             Current function value: 0.000000\n",
      "             Iterations: 26\n",
      "             Function evaluations: 31\n",
      "             Gradient evaluations: 31\n",
      "    >>> res.x\n",
      "    array([ 1.,  1.,  1.,  1.,  1.])\n",
      "    >>> print(res.message)\n",
      "    Optimization terminated successfully.\n",
      "    >>> res.hess_inv\n",
      "    array([[ 0.00749589,  0.01255155,  0.02396251,  0.04750988,  0.09495377],  # may vary\n",
      "           [ 0.01255155,  0.02510441,  0.04794055,  0.09502834,  0.18996269],\n",
      "           [ 0.02396251,  0.04794055,  0.09631614,  0.19092151,  0.38165151],\n",
      "           [ 0.04750988,  0.09502834,  0.19092151,  0.38341252,  0.7664427 ],\n",
      "           [ 0.09495377,  0.18996269,  0.38165151,  0.7664427,   1.53713523]])\n",
      "    \n",
      "    \n",
      "    Next, consider a minimization problem with several constraints (namely\n",
      "    Example 16.4 from [5]_). The objective function is:\n",
      "    \n",
      "    >>> fun = lambda x: (x[0] - 1)**2 + (x[1] - 2.5)**2\n",
      "    \n",
      "    There are three constraints defined as:\n",
      "    \n",
      "    >>> cons = ({'type': 'ineq', 'fun': lambda x:  x[0] - 2 * x[1] + 2},\n",
      "    ...         {'type': 'ineq', 'fun': lambda x: -x[0] - 2 * x[1] + 6},\n",
      "    ...         {'type': 'ineq', 'fun': lambda x: -x[0] + 2 * x[1] + 2})\n",
      "    \n",
      "    And variables must be positive, hence the following bounds:\n",
      "    \n",
      "    >>> bnds = ((0, None), (0, None))\n",
      "    \n",
      "    The optimization problem is solved using the SLSQP method as:\n",
      "    \n",
      "    >>> res = minimize(fun, (2, 0), method='SLSQP', bounds=bnds,\n",
      "    ...                constraints=cons)\n",
      "    \n",
      "    It should converge to the theoretical solution (1.4 ,1.7).\n",
      "\n"
     ]
    }
   ],
   "source": [
    "help(minimize)"
   ]
  },
  {
   "cell_type": "markdown",
   "id": "e4070cfd-6497-4f57-ac3a-28c978cf0cf2",
   "metadata": {
    "canvas": {
     "comments": [],
     "componentType": "CodeCell",
     "copiedOriginId": null,
     "diskcache": false,
     "headerColor": "transparent",
     "id": "5de281f1-0d88-412f-9f05-ab7d91fec9b9",
     "isComponent": false,
     "name": "",
     "parents": []
    }
   },
   "source": [
    "### Interpolation"
   ]
  },
  {
   "cell_type": "markdown",
   "id": "6c189905-9d9c-472e-a9b3-524e209eae16",
   "metadata": {
    "canvas": {
     "comments": [],
     "componentType": "CodeCell",
     "copiedOriginId": null,
     "diskcache": false,
     "headerColor": "transparent",
     "id": "c8a7e008-e6b3-425d-9bd3-a8827923bb58",
     "isComponent": false,
     "name": "",
     "parents": []
    }
   },
   "source": [
    "Suppose you have the following data (I generate it here, but perhaps you collect $x$ and $y$ by means of some experiment)"
   ]
  },
  {
   "cell_type": "code",
   "execution_count": 12,
   "id": "bba4e9c3-11b2-4a56-ac89-ac995259d7b3",
   "metadata": {
    "canvas": {
     "comments": [],
     "componentType": "CodeCell",
     "copiedOriginId": null,
     "diskcache": false,
     "headerColor": "transparent",
     "id": "1a81bb71-7090-4391-b85f-f6d4031f50d6",
     "isComponent": false,
     "name": "",
     "parents": []
    }
   },
   "outputs": [
    {
     "data": {
      "text/plain": [
       "<matplotlib.collections.PathCollection at 0x2a5e5ca9b10>"
      ]
     },
     "execution_count": 12,
     "metadata": {},
     "output_type": "execute_result"
    },
    {
     "data": {
      "image/png": "[encoded data removed]",
      "text/plain": [
       "<Figure size 432x288 with 1 Axes>"
      ]
     },
     "metadata": {
      "needs_background": "light"
     },
     "output_type": "display_data"
    }
   ],
   "source": [
    "x = np.linspace(0, 10, 10)\n",
    "y = x**2 * np.sin(x)\n",
    "plt.scatter(x,y)"
   ]
  },
  {
   "cell_type": "code",
   "execution_count": 13,
   "id": "4a6f25b9-8150-4dac-bd9a-a8fa731b502d",
   "metadata": {
    "canvas": {
     "comments": [],
     "componentType": "CodeCell",
     "copiedOriginId": null,
     "diskcache": false,
     "headerColor": "transparent",
     "id": "72fc53d3-36ce-4c55-8888-4e8082a96d7b",
     "isComponent": false,
     "name": "",
     "parents": []
    }
   },
   "outputs": [],
   "source": [
    "from scipy.interpolate import interp1d"
   ]
  },
  {
   "cell_type": "code",
   "execution_count": 14,
   "id": "d3bd6bbe-1a18-4909-af4f-8cd430c93b1c",
   "metadata": {
    "canvas": {
     "comments": [],
     "componentType": "CodeCell",
     "copiedOriginId": null,
     "diskcache": false,
     "headerColor": "transparent",
     "id": "2ba97ea1-73a8-4a8e-972f-00cdb5b36ff9",
     "isComponent": false,
     "name": "",
     "parents": []
    }
   },
   "outputs": [],
   "source": [
    "f = interp1d(x, y, kind=\"linear\")\n",
    "x_dense = np.linspace(0, 10, 200)\n",
    "y_dense = f(x_dense)"
   ]
  },
  {
   "cell_type": "code",
   "execution_count": 15,
   "id": "72d0e9ac-43e1-4932-b38f-a6655f69b59e",
   "metadata": {
    "canvas": {
     "comments": [],
     "componentType": "CodeCell",
     "copiedOriginId": null,
     "diskcache": false,
     "headerColor": "transparent",
     "id": "ea390733-6876-4844-b57c-98d3b3cc6517",
     "isComponent": false,
     "name": "",
     "parents": []
    }
   },
   "outputs": [
    {
     "data": {
      "text/plain": [
       "<matplotlib.collections.PathCollection at 0x2a5e8de6320>"
      ]
     },
     "execution_count": 15,
     "metadata": {},
     "output_type": "execute_result"
    },
    {
     "data": {
      "image/png": "[encoded data removed]",
      "text/plain": [
       "<Figure size 432x288 with 1 Axes>"
      ]
     },
     "metadata": {
      "needs_background": "light"
     },
     "output_type": "display_data"
    }
   ],
   "source": [
    "plt.plot(x_dense, y_dense)\n",
    "plt.scatter(x,y)"
   ]
  },
  {
   "cell_type": "code",
   "execution_count": 16,
   "id": "bc97b6f3-cf5c-4ac4-803b-1b101110d589",
   "metadata": {
    "canvas": {
     "comments": [],
     "componentType": "CodeCell",
     "copiedOriginId": null,
     "diskcache": false,
     "headerColor": "transparent",
     "id": "30e76ec5-4302-4053-94a0-2057d6359c19",
     "isComponent": false,
     "name": "",
     "parents": []
    }
   },
   "outputs": [
    {
     "data": {
      "text/plain": [
       "<matplotlib.collections.PathCollection at 0x2a5e8e5aaa0>"
      ]
     },
     "execution_count": 16,
     "metadata": {},
     "output_type": "execute_result"
    },
    {
     "data": {
      "image/png": "[encoded data removed]",
      "text/plain": [
       "<Figure size 432x288 with 1 Axes>"
      ]
     },
     "metadata": {
      "needs_background": "light"
     },
     "output_type": "display_data"
    }
   ],
   "source": [
    "f = interp1d(x, y, kind=\"cubic\")\n",
    "x_dense = np.linspace(0, 10, 200)\n",
    "y_dense = f(x_dense)\n",
    "plt.plot(x_dense, y_dense)\n",
    "plt.scatter(x,y)"
   ]
  },
  {
   "cell_type": "markdown",
   "id": "355a2593-3c6a-4983-9241-49fc682d009d",
   "metadata": {
    "canvas": {
     "comments": [],
     "componentType": "CodeCell",
     "copiedOriginId": null,
     "diskcache": false,
     "headerColor": "transparent",
     "id": "b9228a2e-f9ce-4f3d-9b1d-806e111bc547",
     "isComponent": false,
     "name": "",
     "parents": []
    }
   },
   "source": [
    "### Curve Fitting"
   ]
  },
  {
   "cell_type": "markdown",
   "id": "0c1db161-ff1e-4580-ac87-5704bdbb7943",
   "metadata": {
    "canvas": {
     "comments": [],
     "componentType": "CodeCell",
     "copiedOriginId": null,
     "diskcache": false,
     "headerColor": "transparent",
     "id": "dfdb181d-8348-44ff-875e-f72d1caa6231",
     "isComponent": false,
     "name": "",
     "parents": []
    }
   },
   "source": [
    "#### Trivial Example"
   ]
  },
  {
   "cell_type": "code",
   "execution_count": 17,
   "id": "4f9b46f6-0069-4e2a-a3f4-486011273578",
   "metadata": {
    "canvas": {
     "comments": [],
     "componentType": "CodeCell",
     "copiedOriginId": null,
     "diskcache": false,
     "headerColor": "transparent",
     "id": "02f8f07d-aa9b-4266-9841-b0afcfeb5b39",
     "isComponent": false,
     "name": "",
     "parents": []
    }
   },
   "outputs": [],
   "source": [
    "x_data = np.linspace(0, 10, 10)\n",
    "y_data = 3*x_data**2 + 2"
   ]
  },
  {
   "cell_type": "code",
   "execution_count": 18,
   "id": "81d169e4-d469-4938-ba3b-369ba363166e",
   "metadata": {
    "canvas": {
     "comments": [],
     "componentType": "CodeCell",
     "copiedOriginId": null,
     "diskcache": false,
     "headerColor": "transparent",
     "id": "76052bba-9c1c-4fa6-a41e-16b34ca6c8a3",
     "isComponent": false,
     "name": "",
     "parents": []
    }
   },
   "outputs": [
    {
     "data": {
      "text/plain": [
       "<matplotlib.collections.PathCollection at 0x2a5e8f11f30>"
      ]
     },
     "execution_count": 18,
     "metadata": {},
     "output_type": "execute_result"
    },
    {
     "data": {
      "image/png": "[encoded data removed]",
      "text/plain": [
       "<Figure size 432x288 with 1 Axes>"
      ]
     },
     "metadata": {
      "needs_background": "light"
     },
     "output_type": "display_data"
    }
   ],
   "source": [
    "plt.scatter(x_data, y_data)"
   ]
  },
  {
   "cell_type": "markdown",
   "id": "b4736bb4-e273-4c3c-8a10-d5ac2b219338",
   "metadata": {
    "canvas": {
     "comments": [],
     "componentType": "CodeCell",
     "copiedOriginId": null,
     "diskcache": false,
     "headerColor": "transparent",
     "id": "413bbb7c-a5ea-4e51-a7c1-80aceadd3fef",
     "isComponent": false,
     "name": "",
     "parents": []
    }
   },
   "source": [
    "Want to fit the data to a curve $y = ax^{2} + b$. The main goal here is to determine the values of $a$ and $b$."
   ]
  },
  {
   "cell_type": "code",
   "execution_count": 19,
   "id": "e9056bcc-e36b-4afd-b29c-ad6e86c7545c",
   "metadata": {
    "canvas": {
     "comments": [],
     "componentType": "CodeCell",
     "copiedOriginId": null,
     "diskcache": false,
     "headerColor": "transparent",
     "id": "d353df0f-c2a1-4c88-8bfd-05aba3e6349e",
     "isComponent": false,
     "name": "",
     "parents": []
    }
   },
   "outputs": [],
   "source": [
    "from scipy.optimize import curve_fit\n",
    "\n",
    "def func(x, a, b):\n",
    "    return a*x**2 + b\n",
    "\n",
    "popt, pcov = curve_fit(func, x_data, y_data, p0=(1,0)) #popt: optimal parameters, pcov: sth to do with covariance"
   ]
  },
  {
   "cell_type": "code",
   "execution_count": 20,
   "id": "cf3de103-85f0-4e96-b9c9-6e9c3d1ae2db",
   "metadata": {
    "canvas": {
     "comments": [],
     "componentType": "CodeCell",
     "copiedOriginId": null,
     "diskcache": false,
     "headerColor": "transparent",
     "id": "c0e25d01-796d-46f8-ae84-b688a7ff5782",
     "isComponent": false,
     "name": "",
     "parents": []
    }
   },
   "outputs": [
    {
     "data": {
      "text/plain": [
       "array([3., 2.])"
      ]
     },
     "execution_count": 20,
     "metadata": {},
     "output_type": "execute_result"
    }
   ],
   "source": [
    "popt #the values of the parameters (here, a and b)"
   ]
  },
  {
   "cell_type": "code",
   "execution_count": 21,
   "id": "8013b1d6-b7c8-41d1-b3ae-374d47185c2f",
   "metadata": {
    "canvas": {
     "comments": [],
     "componentType": "CodeCell",
     "copiedOriginId": null,
     "diskcache": false,
     "headerColor": "transparent",
     "id": "a024d582-3d92-41fa-90a0-de32a12a5a69",
     "isComponent": false,
     "name": "",
     "parents": []
    }
   },
   "outputs": [
    {
     "data": {
      "text/plain": [
       "array([[ 2.39622721e-33, -8.43116971e-32],\n",
       "       [-8.43116971e-32,  5.59996225e-30]])"
      ]
     },
     "execution_count": 21,
     "metadata": {},
     "output_type": "execute_result"
    }
   ],
   "source": [
    "pcov #covariance matrix gives an estimate on the errors in the parameters and also how the parameters are related"
   ]
  },
  {
   "cell_type": "markdown",
   "id": "759ef744-9883-4f97-bd0d-a59d644c7600",
   "metadata": {
    "canvas": {
     "comments": [],
     "componentType": "CodeCell",
     "copiedOriginId": null,
     "diskcache": false,
     "headerColor": "transparent",
     "id": "adb393d9-99eb-401a-b07a-24aa6c7a6a02",
     "isComponent": false,
     "name": "",
     "parents": []
    }
   },
   "source": [
    "The equation for spring motion is $y(t) = A\\cos(\\omega t+\\phi)$. Want to find the natural frequency of oscillation $\\omega$ for the spring. You collect the data."
   ]
  },
  {
   "cell_type": "code",
   "execution_count": 22,
   "id": "04860ec2-3198-4bbe-a94b-0f739e820054",
   "metadata": {
    "canvas": {
     "comments": [],
     "componentType": "CodeCell",
     "copiedOriginId": null,
     "diskcache": false,
     "headerColor": "transparent",
     "id": "488e9ec9-170c-44f9-85ed-57ae2c419ffe",
     "isComponent": false,
     "name": "",
     "parents": []
    }
   },
   "outputs": [],
   "source": [
    "# sample data\n",
    "\n",
    "t_data = np.array([ 0.   ,  0.34482759,  0.68965517,  1.03448276,  1.37931034,\n",
    "        1.72413793,  2.06896552,  2.4137931 ,  2.75862069,  3.10344828,\n",
    "        3.44827586,  3.79310345,  4.13793103,  4.48275862,  4.82758621,\n",
    "        5.17241379,  5.51724138,  5.86206897,  6.20689655,  6.55172414,\n",
    "        6.89655172,  7.24137931,  7.5862069 ,  7.93103448,  8.27586207,\n",
    "        8.62068966,  8.96551724,  9.31034483,  9.65517241, 10.        ])\n",
    "y_data = np.array([ 4.3303953 ,  1.61137995, -2.15418696, -3.90137249, -1.67259042,\n",
    "        2.16884383,  3.86635998,  1.85194506, -1.8489224 , -3.96560495,\n",
    "       -2.13385255,  1.59425817,  4.06145238,  1.89300594, -1.76870297,\n",
    "       -4.26791226, -2.46874133,  1.37019912,  4.24945607,  2.27038039,\n",
    "       -1.50299303, -3.46774049, -2.50845488,  1.20022052,  3.81633703,\n",
    "        2.91511556, -1.24569189, -3.72716214, -2.54549857,  0.87262548])"
   ]
  },
  {
   "cell_type": "code",
   "execution_count": 23,
   "id": "d95e6a56-ef24-453c-b597-acbbd95dfa6f",
   "metadata": {
    "canvas": {
     "comments": [],
     "componentType": "CodeCell",
     "copiedOriginId": null,
     "diskcache": false,
     "headerColor": "transparent",
     "id": "2f79f4b6-98fb-4c5e-a568-dc78707393de",
     "isComponent": false,
     "name": "",
     "parents": []
    }
   },
   "outputs": [
    {
     "data": {
      "text/plain": [
       "[<matplotlib.lines.Line2D at 0x2a5e8f7df60>]"
      ]
     },
     "execution_count": 23,
     "metadata": {},
     "output_type": "execute_result"
    },
    {
     "data": {
      "image/png": "[encoded data removed]",
      "text/plain": [
       "<Figure size 432x288 with 1 Axes>"
      ]
     },
     "metadata": {
      "needs_background": "light"
     },
     "output_type": "display_data"
    }
   ],
   "source": [
    "plt.plot(t_data,y_data,'o--')"
   ]
  },
  {
   "cell_type": "markdown",
   "id": "0649c857-30b7-4da2-b989-42d8c689f66d",
   "metadata": {
    "canvas": {
     "comments": [],
     "componentType": "CodeCell",
     "copiedOriginId": null,
     "diskcache": false,
     "headerColor": "transparent",
     "id": "e385c25f-31c9-4160-a024-40fe3a08ea7c",
     "isComponent": false,
     "name": "",
     "parents": []
    }
   },
   "source": [
    "$\\omega = 2 \\pi f$, $f=1/T$, and $T \\approx 2$ seconds. Thus good initial $guess$ is\n",
    "\n",
    "* $\\omega = 2 \\pi (1/2) = \\pi$\n",
    "* $A=4$\n",
    "* $\\phi = 0$"
   ]
  },
  {
   "cell_type": "code",
   "execution_count": 24,
   "id": "c4a71363-6073-4c51-960e-2a65acf33fd3",
   "metadata": {
    "canvas": {
     "comments": [],
     "componentType": "CodeCell",
     "copiedOriginId": null,
     "diskcache": false,
     "headerColor": "transparent",
     "id": "f195d6c4-2092-4e3e-8a27-15ef23a50a33",
     "isComponent": false,
     "name": "",
     "parents": []
    }
   },
   "outputs": [],
   "source": [
    "def func(t, A, w, phi):\n",
    "    return A*np.cos(w*t + phi)\n",
    "\n",
    "#finding the parameters\n",
    "popt, pcov = curve_fit(func, t_data, y_data, p0=(4, np.pi, 0))"
   ]
  },
  {
   "cell_type": "code",
   "execution_count": 25,
   "id": "602c96ea-57bf-4139-a3cc-47d1a82617bb",
   "metadata": {
    "canvas": {
     "comments": [],
     "componentType": "CodeCell",
     "copiedOriginId": null,
     "diskcache": false,
     "headerColor": "transparent",
     "id": "faa97187-8709-47e6-8d33-00eea5e70fec",
     "isComponent": false,
     "name": "",
     "parents": []
    }
   },
   "outputs": [
    {
     "data": {
      "text/plain": [
       "array([3.94836219, 2.99899521, 0.10411352])"
      ]
     },
     "execution_count": 25,
     "metadata": {},
     "output_type": "execute_result"
    }
   ],
   "source": [
    "popt #the optimal parameters"
   ]
  },
  {
   "cell_type": "code",
   "execution_count": 26,
   "id": "0e9ea848-2aee-4b29-9de2-64ea3def26e0",
   "metadata": {
    "canvas": {
     "comments": [],
     "componentType": "CodeCell",
     "copiedOriginId": null,
     "diskcache": false,
     "headerColor": "transparent",
     "id": "18a1d380-2725-40e9-9076-40df24ebb423",
     "isComponent": false,
     "name": "",
     "parents": []
    }
   },
   "outputs": [
    {
     "data": {
      "text/plain": [
       "array([[ 2.61882717e-03, -4.94131505e-06,  3.47404558e-05],\n",
       "       [-4.94131505e-06,  1.85637335e-05, -9.60755036e-05],\n",
       "       [ 3.47404558e-05, -9.60755036e-05,  6.63423791e-04]])"
      ]
     },
     "execution_count": 26,
     "metadata": {},
     "output_type": "execute_result"
    }
   ],
   "source": [
    "pcov"
   ]
  },
  {
   "cell_type": "code",
   "execution_count": 27,
   "id": "3d01c5a5-db1d-48f4-9b63-9a703a129a99",
   "metadata": {
    "canvas": {
     "comments": [],
     "componentType": "CodeCell",
     "copiedOriginId": null,
     "diskcache": false,
     "headerColor": "transparent",
     "id": "135d7272-09b4-4450-ba9a-3897419bca08",
     "isComponent": false,
     "name": "",
     "parents": []
    }
   },
   "outputs": [],
   "source": [
    "A, w, phi = popt"
   ]
  },
  {
   "cell_type": "code",
   "execution_count": 28,
   "id": "30607fde-fb44-4d92-9b59-50c80416a3f3",
   "metadata": {
    "canvas": {
     "comments": [],
     "componentType": "CodeCell",
     "copiedOriginId": null,
     "diskcache": false,
     "headerColor": "transparent",
     "id": "3222aad5-208c-4f81-b008-099d7a6b7a81",
     "isComponent": false,
     "name": "",
     "parents": []
    }
   },
   "outputs": [],
   "source": [
    "t = np.linspace(0, 10, 200)\n",
    "y = func(t, A, w, phi)"
   ]
  },
  {
   "cell_type": "code",
   "execution_count": 29,
   "id": "bb9d93ad-abb6-40a8-9902-ab8c8b64912f",
   "metadata": {
    "canvas": {
     "comments": [],
     "componentType": "CodeCell",
     "copiedOriginId": null,
     "diskcache": false,
     "headerColor": "transparent",
     "id": "a8fc480d-9cd7-45ff-82e8-622009616881",
     "isComponent": false,
     "name": "",
     "parents": []
    }
   },
   "outputs": [
    {
     "data": {
      "text/plain": [
       "[<matplotlib.lines.Line2D at 0x2a5e8ff6860>]"
      ]
     },
     "execution_count": 29,
     "metadata": {},
     "output_type": "execute_result"
    },
    {
     "data": {
      "image/png": "[encoded data removed]",
      "text/plain": [
       "<Figure size 432x288 with 1 Axes>"
      ]
     },
     "metadata": {
      "needs_background": "light"
     },
     "output_type": "display_data"
    }
   ],
   "source": [
    "plt.scatter(t_data, y_data)\n",
    "plt.plot(t, y)"
   ]
  },
  {
   "cell_type": "markdown",
   "id": "598d671c-9cad-468d-a76d-8417785ae870",
   "metadata": {
    "canvas": {
     "comments": [],
     "componentType": "CodeCell",
     "copiedOriginId": null,
     "diskcache": false,
     "headerColor": "transparent",
     "id": "2cbacfb2-93a5-47e8-a08e-204eeb6220ee",
     "isComponent": false,
     "name": "",
     "parents": []
    }
   },
   "source": [
    "The estimated errors of the parameters"
   ]
  },
  {
   "cell_type": "code",
   "execution_count": 30,
   "id": "d6329749-153d-4f4e-b4ba-c073d8b4e56b",
   "metadata": {
    "canvas": {
     "comments": [],
     "componentType": "CodeCell",
     "copiedOriginId": null,
     "diskcache": false,
     "headerColor": "transparent",
     "id": "17e3d862-4b3d-4a02-be77-3e51ca6306f5",
     "isComponent": false,
     "name": "",
     "parents": []
    }
   },
   "outputs": [
    {
     "data": {
      "text/plain": [
       "array([0.05117448, 0.00430857, 0.02575701])"
      ]
     },
     "execution_count": 30,
     "metadata": {},
     "output_type": "execute_result"
    }
   ],
   "source": [
    "np.sqrt(np.diag(pcov)) # in the order A, w, phi"
   ]
  },
  {
   "cell_type": "markdown",
   "id": "331f7b19-835b-40d1-942f-590224c5c77b",
   "metadata": {
    "canvas": {
     "comments": [],
     "componentType": "CodeCell",
     "copiedOriginId": null,
     "diskcache": false,
     "headerColor": "transparent",
     "id": "19ee9496-fef2-45e6-b9cf-dc79995cc0e7",
     "isComponent": false,
     "name": "",
     "parents": []
    }
   },
   "source": [
    "## Special Functions"
   ]
  },
  {
   "cell_type": "markdown",
   "id": "29dbb904-2c38-47aa-8bb4-d5f27d873690",
   "metadata": {
    "canvas": {
     "comments": [],
     "componentType": "CodeCell",
     "copiedOriginId": null,
     "diskcache": false,
     "headerColor": "transparent",
     "id": "ecba2d54-0216-4e79-b5e8-6df9036154a8",
     "isComponent": false,
     "name": "",
     "parents": []
    }
   },
   "source": [
    "Legendre Polynomials $P_l(x)$: satisfy $(1-x^2)y'' -2xy'+l(l+1)y = 0$\n",
    "\n",
    "* The angular component of the spherical Schrodinger Equation which permits non-infinite solutions"
   ]
  },
  {
   "cell_type": "code",
   "execution_count": 31,
   "id": "448267b7-f8d3-49c5-a4a9-3b88b47ab034",
   "metadata": {
    "canvas": {
     "comments": [],
     "componentType": "CodeCell",
     "copiedOriginId": null,
     "diskcache": false,
     "headerColor": "transparent",
     "id": "e43a840f-872f-469c-a30d-18af90a9a679",
     "isComponent": false,
     "name": "",
     "parents": []
    }
   },
   "outputs": [
    {
     "data": {
      "image/png": "[encoded data removed]",
      "text/plain": [
       "<Figure size 432x288 with 1 Axes>"
      ]
     },
     "metadata": {
      "needs_background": "light"
     },
     "output_type": "display_data"
    }
   ],
   "source": [
    "from scipy.special import legendre\n",
    "x = np.linspace(0, 1, 100)\n",
    "plt.plot(x, legendre(6)(x)) # here 6 is the value of 'l' for the Legendre Equation\n",
    "plt.show()"
   ]
  },
  {
   "cell_type": "markdown",
   "id": "eb720dc1-2a3d-4266-8ecd-6e3283f555f4",
   "metadata": {
    "canvas": {
     "comments": [],
     "componentType": "CodeCell",
     "copiedOriginId": null,
     "diskcache": false,
     "headerColor": "transparent",
     "id": "2531e3ff-ec5d-4197-b3a3-3ad216b59626",
     "isComponent": false,
     "name": "",
     "parents": []
    }
   },
   "source": [
    "Bessel functions $J_{\\alpha}(x)$: satisfy $x^2 y'' + xy' + (x^2-\\alpha^2)y = 0$\n",
    "\n",
    "* Laplace's Equation in Polar Coordinates"
   ]
  },
  {
   "cell_type": "code",
   "execution_count": 32,
   "id": "1f6d4c70-b533-4c84-9f50-3c9211d507ed",
   "metadata": {
    "canvas": {
     "comments": [],
     "componentType": "CodeCell",
     "copiedOriginId": null,
     "diskcache": false,
     "headerColor": "transparent",
     "id": "7580f75b-7c64-4b19-b0d2-3e71c03c28e0",
     "isComponent": false,
     "name": "",
     "parents": []
    }
   },
   "outputs": [
    {
     "data": {
      "image/png": "[encoded data removed]",
      "text/plain": [
       "<Figure size 432x288 with 1 Axes>"
      ]
     },
     "metadata": {
      "needs_background": "light"
     },
     "output_type": "display_data"
    }
   ],
   "source": [
    "from scipy.special import jv\n",
    "x = np.linspace(0, 10, 100)\n",
    "plt.plot(x, jv(3,x)) # 3 is the value of 'alpha'\n",
    "plt.show()"
   ]
  },
  {
   "cell_type": "markdown",
   "id": "6e740847-94dd-4ebc-ab66-d0dd39973173",
   "metadata": {
    "canvas": {
     "comments": [],
     "componentType": "CodeCell",
     "copiedOriginId": null,
     "diskcache": false,
     "headerColor": "transparent",
     "id": "74b78f19-7b04-40e1-b614-75cd1ca2699e",
     "isComponent": false,
     "name": "",
     "parents": []
    }
   },
   "source": [
    "## Calculus"
   ]
  },
  {
   "cell_type": "markdown",
   "id": "a156b1d4-790d-4440-8b91-5e07500d6370",
   "metadata": {
    "canvas": {
     "comments": [],
     "componentType": "CodeCell",
     "copiedOriginId": null,
     "diskcache": false,
     "headerColor": "transparent",
     "id": "a707a264-1059-41f7-add4-334994599afd",
     "isComponent": false,
     "name": "",
     "parents": []
    }
   },
   "source": [
    "### Differentiation"
   ]
  },
  {
   "cell_type": "code",
   "execution_count": 33,
   "id": "b7bd4f79-72d0-49a4-9fff-cad6abdec6bc",
   "metadata": {
    "canvas": {
     "comments": [],
     "componentType": "CodeCell",
     "copiedOriginId": null,
     "diskcache": false,
     "headerColor": "transparent",
     "id": "32c27b31-ef13-423e-9a5a-f0f2503209d6",
     "isComponent": false,
     "name": "",
     "parents": []
    }
   },
   "outputs": [],
   "source": [
    "from scipy.misc import derivative"
   ]
  },
  {
   "cell_type": "code",
   "execution_count": 34,
   "id": "f3bf78b1-ddc6-4f2e-a772-fee448cb0450",
   "metadata": {
    "canvas": {
     "comments": [],
     "componentType": "CodeCell",
     "copiedOriginId": null,
     "diskcache": false,
     "headerColor": "transparent",
     "id": "105c283f-b5eb-4799-a837-293931e84538",
     "isComponent": false,
     "name": "",
     "parents": []
    }
   },
   "outputs": [],
   "source": [
    "def f(x):\n",
    "    return x**2 * np.sin(2*x) *np.exp(-x)\n",
    "x = np.linspace(0, 1, 100)"
   ]
  },
  {
   "cell_type": "code",
   "execution_count": 35,
   "id": "bd6758a3-a9ba-4b3d-81d2-c054dd76b888",
   "metadata": {
    "canvas": {
     "comments": [],
     "componentType": "CodeCell",
     "copiedOriginId": null,
     "diskcache": false,
     "headerColor": "transparent",
     "id": "4e48d261-1512-4c94-89e0-cba816ec7e76",
     "isComponent": false,
     "name": "",
     "parents": []
    }
   },
   "outputs": [
    {
     "data": {
      "image/png": "[encoded data removed]",
      "text/plain": [
       "<Figure size 432x288 with 1 Axes>"
      ]
     },
     "metadata": {
      "needs_background": "light"
     },
     "output_type": "display_data"
    }
   ],
   "source": [
    "plt.plot(x, f(x))\n",
    "plt.plot(x, derivative(f, x, dx=1e-6)) # dx is the small separation\n",
    "plt.plot(x, derivative(f, x, dx=1e-6, n=2)) # n is the number of times you want to differentiate (here, second derivative)\n",
    "plt.grid()"
   ]
  },
  {
   "cell_type": "markdown",
   "id": "9d41e830-4691-499b-9233-011a5377c227",
   "metadata": {
    "canvas": {
     "comments": [],
     "componentType": "CodeCell",
     "copiedOriginId": null,
     "diskcache": false,
     "headerColor": "transparent",
     "id": "2bb25fc3-ebe7-4b3d-8e0a-11bdbfe79341",
     "isComponent": false,
     "name": "",
     "parents": []
    }
   },
   "source": [
    "### Integration"
   ]
  },
  {
   "cell_type": "markdown",
   "id": "c0b146e1-046a-4000-a622-cdab71878d0c",
   "metadata": {
    "canvas": {
     "comments": [],
     "componentType": "CodeCell",
     "copiedOriginId": null,
     "diskcache": false,
     "headerColor": "transparent",
     "id": "b408db69-3fdd-43e7-a9bb-11536057ff8a",
     "isComponent": false,
     "name": "",
     "parents": []
    }
   },
   "source": [
    "#### Single Integrals"
   ]
  },
  {
   "cell_type": "markdown",
   "id": "1f690502-83b9-45d4-b07f-9e721c9370b0",
   "metadata": {
    "canvas": {
     "comments": [],
     "componentType": "CodeCell",
     "copiedOriginId": null,
     "diskcache": false,
     "headerColor": "transparent",
     "id": "140ebc69-58cb-4d45-8d8f-192cb5934307",
     "isComponent": false,
     "name": "",
     "parents": []
    }
   },
   "source": [
    "$$ \\int_0^{1} x^2 \\sin(2x) e^{-x} dx $$"
   ]
  },
  {
   "cell_type": "code",
   "execution_count": 36,
   "id": "04138939-2a57-4751-969d-7fab513174b9",
   "metadata": {
    "canvas": {
     "comments": [],
     "componentType": "CodeCell",
     "copiedOriginId": null,
     "diskcache": false,
     "headerColor": "transparent",
     "id": "6021afb0-e27a-4c46-a0a8-244e7e1715ae",
     "isComponent": false,
     "name": "",
     "parents": []
    }
   },
   "outputs": [],
   "source": [
    "from scipy.integrate import quad\n",
    "integrand = lambda x: x**2 * np.sin(2*x) * np.exp(-x)\n",
    "integral, integral_error = quad(integrand, 0, 1) #0, 1 are the bounds of the integral"
   ]
  },
  {
   "cell_type": "code",
   "execution_count": 37,
   "id": "c34300b1-21ff-4120-981a-e826233224be",
   "metadata": {
    "canvas": {
     "comments": [],
     "componentType": "CodeCell",
     "copiedOriginId": null,
     "diskcache": false,
     "headerColor": "transparent",
     "id": "d782b38b-2976-4b10-ba00-e226c8f21526",
     "isComponent": false,
     "name": "",
     "parents": []
    }
   },
   "outputs": [
    {
     "data": {
      "text/plain": [
       "0.14558175869954834"
      ]
     },
     "execution_count": 37,
     "metadata": {},
     "output_type": "execute_result"
    }
   ],
   "source": [
    "integral"
   ]
  },
  {
   "cell_type": "code",
   "execution_count": 38,
   "id": "e8faad90-f539-4b57-a008-3f03b5412889",
   "metadata": {
    "canvas": {
     "comments": [],
     "componentType": "CodeCell",
     "copiedOriginId": null,
     "diskcache": false,
     "headerColor": "transparent",
     "id": "3d60b963-28d3-4bdd-84b5-efe813ee33d8",
     "isComponent": false,
     "name": "",
     "parents": []
    }
   },
   "outputs": [
    {
     "data": {
      "text/plain": [
       "1.6162822047366225e-15"
      ]
     },
     "execution_count": 38,
     "metadata": {},
     "output_type": "execute_result"
    }
   ],
   "source": [
    "integral_error"
   ]
  },
  {
   "cell_type": "markdown",
   "id": "860b7eca-3062-4fef-bf59-124c546dbdbd",
   "metadata": {
    "canvas": {
     "comments": [],
     "componentType": "CodeCell",
     "copiedOriginId": null,
     "diskcache": false,
     "headerColor": "transparent",
     "id": "6e390c71-3e9a-4b16-a87c-56e02aa30fbf",
     "isComponent": false,
     "name": "",
     "parents": []
    }
   },
   "source": [
    "#### Double Integrals"
   ]
  },
  {
   "cell_type": "markdown",
   "id": "260ddec1-9ebb-4c29-a06a-fbbc721427a2",
   "metadata": {
    "canvas": {
     "comments": [],
     "componentType": "CodeCell",
     "copiedOriginId": null,
     "diskcache": false,
     "headerColor": "transparent",
     "id": "b805f0e0-6e9d-4605-bf64-821ea51f495f",
     "isComponent": false,
     "name": "",
     "parents": []
    }
   },
   "source": [
    "$$ \\int_{0}^{1} \\int_{-x}^{x^2} \\sin(x+y^2) dy dx $$"
   ]
  },
  {
   "cell_type": "code",
   "execution_count": 39,
   "id": "a8b25fda-1312-48cc-ada4-7271bf4dd623",
   "metadata": {
    "canvas": {
     "comments": [],
     "componentType": "CodeCell",
     "copiedOriginId": null,
     "diskcache": false,
     "headerColor": "transparent",
     "id": "c73a489f-8939-4306-a36d-6ddf6195de2b",
     "isComponent": false,
     "name": "",
     "parents": []
    }
   },
   "outputs": [],
   "source": [
    "from scipy.integrate import dblquad #double quad\n",
    "integrand = lambda x, y: np.sin(x+y**2)\n",
    "lwr_y = lambda x: -x # lower bound of y\n",
    "upr_y = lambda x: x**2 # upper bound of y\n",
    "integral, integral_error = dblquad(integrand, 0, 1, lwr_y, upr_y) # note the order in which bounds should be given"
   ]
  },
  {
   "cell_type": "code",
   "execution_count": 40,
   "id": "c3196179-70c7-45fc-b4d3-8fdc90e0375a",
   "metadata": {
    "canvas": {
     "comments": [],
     "componentType": "CodeCell",
     "copiedOriginId": null,
     "diskcache": false,
     "headerColor": "transparent",
     "id": "3a153481-77b9-43a2-be69-bf0e620a906c",
     "isComponent": false,
     "name": "",
     "parents": []
    }
   },
   "outputs": [
    {
     "data": {
      "text/plain": [
       "0.315802507240474"
      ]
     },
     "execution_count": 40,
     "metadata": {},
     "output_type": "execute_result"
    }
   ],
   "source": [
    "integral"
   ]
  },
  {
   "cell_type": "code",
   "execution_count": 41,
   "id": "178f82a0-5618-4430-bfab-5afcd995cb92",
   "metadata": {
    "canvas": {
     "comments": [],
     "componentType": "CodeCell",
     "copiedOriginId": null,
     "diskcache": false,
     "headerColor": "transparent",
     "id": "ded112ef-32af-41c9-b659-0d5f35927f91",
     "isComponent": false,
     "name": "",
     "parents": []
    }
   },
   "outputs": [
    {
     "data": {
      "text/plain": [
       "1.5634600713498928e-14"
      ]
     },
     "execution_count": 41,
     "metadata": {},
     "output_type": "execute_result"
    }
   ],
   "source": [
    "integral_error"
   ]
  },
  {
   "cell_type": "markdown",
   "id": "b394e2dd-f06f-4d08-a357-e3aa165ec40d",
   "metadata": {
    "canvas": {
     "comments": [],
     "componentType": "CodeCell",
     "copiedOriginId": null,
     "diskcache": false,
     "headerColor": "transparent",
     "id": "7fe70cf1-4ef0-4a5b-b0a2-07b4eeefc85c",
     "isComponent": false,
     "name": "",
     "parents": []
    }
   },
   "source": [
    "#### n Integrals"
   ]
  },
  {
   "cell_type": "code",
   "execution_count": 42,
   "id": "63009567-bd5d-411c-b017-59a64378fb76",
   "metadata": {
    "canvas": {
     "comments": [],
     "componentType": "CodeCell",
     "copiedOriginId": null,
     "diskcache": false,
     "headerColor": "transparent",
     "id": "b31f3efd-cd3e-466b-ac81-57b74b2b194b",
     "isComponent": false,
     "name": "",
     "parents": []
    }
   },
   "outputs": [
    {
     "data": {
      "text/plain": [
       "\u001b[1;31mSignature:\u001b[0m \u001b[0mnquad\u001b[0m\u001b[1;33m(\u001b[0m\u001b[0mfunc\u001b[0m\u001b[1;33m,\u001b[0m \u001b[0mranges\u001b[0m\u001b[1;33m,\u001b[0m \u001b[0margs\u001b[0m\u001b[1;33m=\u001b[0m\u001b[1;32mNone\u001b[0m\u001b[1;33m,\u001b[0m \u001b[0mopts\u001b[0m\u001b[1;33m=\u001b[0m\u001b[1;32mNone\u001b[0m\u001b[1;33m,\u001b[0m \u001b[0mfull_output\u001b[0m\u001b[1;33m=\u001b[0m\u001b[1;32mFalse\u001b[0m\u001b[1;33m)\u001b[0m\u001b[1;33m\u001b[0m\u001b[1;33m\u001b[0m\u001b[0m\n",
       "\u001b[1;31mDocstring:\u001b[0m\n",
       "Integration over multiple variables.\n",
       "\n",
       "Wraps `quad` to enable integration over multiple variables.\n",
       "Various options allow improved integration of discontinuous functions, as\n",
       "well as the use of weighted integration, and generally finer control of the\n",
       "integration process.\n",
       "\n",
       "Parameters\n",
       "----------\n",
       "func : {callable, scipy.LowLevelCallable}\n",
       "    The function to be integrated. Has arguments of ``x0, ... xn``,\n",
       "    ``t0, ... tm``, where integration is carried out over ``x0, ... xn``,\n",
       "    which must be floats.  Where ```t0, ... tm``` are extra arguments\n",
       "    passed in args.\n",
       "    Function signature should be ``func(x0, x1, ..., xn, t0, t1, ..., tm)``.\n",
       "    Integration is carried out in order.  That is, integration over ``x0``\n",
       "    is the innermost integral, and ``xn`` is the outermost.\n",
       "\n",
       "    If the user desires improved integration performance, then `f` may\n",
       "    be a `scipy.LowLevelCallable` with one of the signatures::\n",
       "\n",
       "        double func(int n, double *xx)\n",
       "        double func(int n, double *xx, void *user_data)\n",
       "\n",
       "    where ``n`` is the number of variables and args.  The ``xx`` array\n",
       "    contains the coordinates and extra arguments. ``user_data`` is the data\n",
       "    contained in the `scipy.LowLevelCallable`.\n",
       "ranges : iterable object\n",
       "    Each element of ranges may be either a sequence  of 2 numbers, or else\n",
       "    a callable that returns such a sequence. ``ranges[0]`` corresponds to\n",
       "    integration over x0, and so on. If an element of ranges is a callable,\n",
       "    then it will be called with all of the integration arguments available,\n",
       "    as well as any parametric arguments. e.g., if\n",
       "    ``func = f(x0, x1, x2, t0, t1)``, then ``ranges[0]`` may be defined as\n",
       "    either ``(a, b)`` or else as ``(a, b) = range0(x1, x2, t0, t1)``.\n",
       "args : iterable object, optional\n",
       "    Additional arguments ``t0, ..., tn``, required by `func`, `ranges`, and\n",
       "    ``opts``.\n",
       "opts : iterable object or dict, optional\n",
       "    Options to be passed to `quad`. May be empty, a dict, or\n",
       "    a sequence of dicts or functions that return a dict. If empty, the\n",
       "    default options from scipy.integrate.quad are used. If a dict, the same\n",
       "    options are used for all levels of integraion. If a sequence, then each\n",
       "    element of the sequence corresponds to a particular integration. e.g.,\n",
       "    opts[0] corresponds to integration over x0, and so on. If a callable,\n",
       "    the signature must be the same as for ``ranges``. The available\n",
       "    options together with their default values are:\n",
       "\n",
       "      - epsabs = 1.49e-08\n",
       "      - epsrel = 1.49e-08\n",
       "      - limit  = 50\n",
       "      - points = None\n",
       "      - weight = None\n",
       "      - wvar   = None\n",
       "      - wopts  = None\n",
       "\n",
       "    For more information on these options, see `quad` and `quad_explain`.\n",
       "\n",
       "full_output : bool, optional\n",
       "    Partial implementation of ``full_output`` from scipy.integrate.quad.\n",
       "    The number of integrand function evaluations ``neval`` can be obtained\n",
       "    by setting ``full_output=True`` when calling nquad.\n",
       "\n",
       "Returns\n",
       "-------\n",
       "result : float\n",
       "    The result of the integration.\n",
       "abserr : float\n",
       "    The maximum of the estimates of the absolute error in the various\n",
       "    integration results.\n",
       "out_dict : dict, optional\n",
       "    A dict containing additional information on the integration.\n",
       "\n",
       "See Also\n",
       "--------\n",
       "quad : 1-D numerical integration\n",
       "dblquad, tplquad : double and triple integrals\n",
       "fixed_quad : fixed-order Gaussian quadrature\n",
       "quadrature : adaptive Gaussian quadrature\n",
       "\n",
       "Examples\n",
       "--------\n",
       ">>> from scipy import integrate\n",
       ">>> func = lambda x0,x1,x2,x3 : x0**2 + x1*x2 - x3**3 + np.sin(x0) + (\n",
       "...                                 1 if (x0-.2*x3-.5-.25*x1>0) else 0)\n",
       ">>> def opts0(*args, **kwargs):\n",
       "...     return {'points':[0.2*args[2] + 0.5 + 0.25*args[0]]}\n",
       ">>> integrate.nquad(func, [[0,1], [-1,1], [.13,.8], [-.15,1]],\n",
       "...                 opts=[opts0,{},{},{}], full_output=True)\n",
       "(1.5267454070738633, 2.9437360001402324e-14, {'neval': 388962})\n",
       "\n",
       ">>> scale = .1\n",
       ">>> def func2(x0, x1, x2, x3, t0, t1):\n",
       "...     return x0*x1*x3**2 + np.sin(x2) + 1 + (1 if x0+t1*x1-t0>0 else 0)\n",
       ">>> def lim0(x1, x2, x3, t0, t1):\n",
       "...     return [scale * (x1**2 + x2 + np.cos(x3)*t0*t1 + 1) - 1,\n",
       "...             scale * (x1**2 + x2 + np.cos(x3)*t0*t1 + 1) + 1]\n",
       ">>> def lim1(x2, x3, t0, t1):\n",
       "...     return [scale * (t0*x2 + t1*x3) - 1,\n",
       "...             scale * (t0*x2 + t1*x3) + 1]\n",
       ">>> def lim2(x3, t0, t1):\n",
       "...     return [scale * (x3 + t0**2*t1**3) - 1,\n",
       "...             scale * (x3 + t0**2*t1**3) + 1]\n",
       ">>> def lim3(t0, t1):\n",
       "...     return [scale * (t0+t1) - 1, scale * (t0+t1) + 1]\n",
       ">>> def opts0(x1, x2, x3, t0, t1):\n",
       "...     return {'points' : [t0 - t1*x1]}\n",
       ">>> def opts1(x2, x3, t0, t1):\n",
       "...     return {}\n",
       ">>> def opts2(x3, t0, t1):\n",
       "...     return {}\n",
       ">>> def opts3(t0, t1):\n",
       "...     return {}\n",
       ">>> integrate.nquad(func2, [lim0, lim1, lim2, lim3], args=(0,0),\n",
       "...                 opts=[opts0, opts1, opts2, opts3])\n",
       "(25.066666666666666, 2.7829590483937256e-13)\n",
       "\u001b[1;31mFile:\u001b[0m      c:\\users\\priya\\appdata\\local\\programs\\python\\python310\\lib\\site-packages\\scipy\\integrate\\_quadpack_py.py\n",
       "\u001b[1;31mType:\u001b[0m      function\n"
      ]
     },
     "metadata": {},
     "output_type": "display_data"
    }
   ],
   "source": [
    "from scipy.integrate import nquad\n",
    "nquad?"
   ]
  },
  {
   "cell_type": "markdown",
   "id": "a20a4809-ff1d-4f98-9f0d-7e563f9e80bf",
   "metadata": {
    "canvas": {
     "comments": [],
     "componentType": "CodeCell",
     "copiedOriginId": null,
     "diskcache": false,
     "headerColor": "transparent",
     "id": "4c78a7f4-2def-4987-ac53-b3abdf47d2c9",
     "isComponent": false,
     "name": "",
     "parents": []
    }
   },
   "source": [
    "### Differential Equations"
   ]
  },
  {
   "cell_type": "markdown",
   "id": "f266bd11-4f02-46ed-b582-9ec86973477e",
   "metadata": {
    "canvas": {
     "comments": [],
     "componentType": "CodeCell",
     "copiedOriginId": null,
     "diskcache": false,
     "headerColor": "transparent",
     "id": "014f6417-d95a-47f2-a6a7-22d7e7159597",
     "isComponent": false,
     "name": "",
     "parents": []
    }
   },
   "source": [
    "#### First Order ODEs"
   ]
  },
  {
   "cell_type": "markdown",
   "id": "e4e5b552-39e8-4f91-8b7b-87cf64525430",
   "metadata": {
    "canvas": {
     "comments": [],
     "componentType": "CodeCell",
     "copiedOriginId": null,
     "diskcache": false,
     "headerColor": "transparent",
     "id": "a1bcb049-0bea-4aec-9436-43c5c8a1c8e0",
     "isComponent": false,
     "name": "",
     "parents": []
    }
   },
   "source": [
    "Air friction while falling\n",
    "\n",
    "$$ v' - \\alpha v^2 + \\beta = 0 \\hspace{10mm} v(0) = 0$$"
   ]
  },
  {
   "cell_type": "code",
   "execution_count": 43,
   "id": "59ec8c30-8630-45eb-a43a-fb16cb2c5dda",
   "metadata": {
    "canvas": {
     "comments": [],
     "componentType": "CodeCell",
     "copiedOriginId": null,
     "diskcache": false,
     "headerColor": "transparent",
     "id": "0f94a9ed-c852-4a78-b130-c140608ef54b",
     "isComponent": false,
     "name": "",
     "parents": []
    }
   },
   "outputs": [],
   "source": [
    "from scipy.integrate import odeint # other libraries are solve_ivp"
   ]
  },
  {
   "cell_type": "markdown",
   "id": "bb5b0dba-869b-48d1-bc4c-b2d6458fd3cc",
   "metadata": {
    "canvas": {
     "comments": [],
     "componentType": "CodeCell",
     "copiedOriginId": null,
     "diskcache": false,
     "headerColor": "transparent",
     "id": "d98a1b4b-1d5d-413d-ba4c-3c8bc878af5d",
     "isComponent": false,
     "name": "",
     "parents": []
    }
   },
   "source": [
    "All information about the DE"
   ]
  },
  {
   "cell_type": "code",
   "execution_count": 44,
   "id": "c62d05db-a4d4-458a-8f23-f8fcfd92399e",
   "metadata": {
    "canvas": {
     "comments": [],
     "componentType": "CodeCell",
     "copiedOriginId": null,
     "diskcache": false,
     "headerColor": "transparent",
     "id": "7ec2a2fe-0ebc-46fb-99cf-320c1ca700f7",
     "isComponent": false,
     "name": "",
     "parents": []
    }
   },
   "outputs": [],
   "source": [
    "def dvdt(v, t):\n",
    "    return 5*v**2 - 7 # setting values for alpha = 5 and beta = 7\n",
    "v0 = 0 # condition is given"
   ]
  },
  {
   "cell_type": "markdown",
   "id": "77115253-4078-455e-8ff8-7f8bcdfa7ee5",
   "metadata": {
    "canvas": {
     "comments": [],
     "componentType": "CodeCell",
     "copiedOriginId": null,
     "diskcache": false,
     "headerColor": "transparent",
     "id": "7652a97a-4ef4-415a-8a2f-a1244a943475",
     "isComponent": false,
     "name": "",
     "parents": []
    }
   },
   "source": [
    "Solve the DE"
   ]
  },
  {
   "cell_type": "code",
   "execution_count": 45,
   "id": "1a26d639-02b0-4998-9f03-e48808bd1455",
   "metadata": {
    "canvas": {
     "comments": [],
     "componentType": "CodeCell",
     "copiedOriginId": null,
     "diskcache": false,
     "headerColor": "transparent",
     "id": "9b70d86a-4cd6-4a06-a9f8-8ff66c8e6fc3",
     "isComponent": false,
     "name": "",
     "parents": []
    }
   },
   "outputs": [],
   "source": [
    "t = np.linspace(0, 10, 1000)\n",
    "sol = odeint(dvdt, v0, t)"
   ]
  },
  {
   "cell_type": "code",
   "execution_count": 46,
   "id": "ba7f3177-fc9a-4884-b9fa-374e1956bfed",
   "metadata": {
    "canvas": {
     "comments": [],
     "componentType": "CodeCell",
     "copiedOriginId": null,
     "diskcache": false,
     "headerColor": "transparent",
     "id": "568ae017-065a-4322-87dd-7fb077f1846e",
     "isComponent": false,
     "name": "",
     "parents": []
    },
    "collapsed": true,
    "jupyter": {
     "outputs_hidden": true
    },
    "tags": []
   },
   "outputs": [
    {
     "data": {
      "text/plain": [
       "array([[ 0.        ],\n",
       "       [-0.06998829],\n",
       "       [-0.13948853],\n",
       "       [-0.20802619],\n",
       "       [-0.27515298],\n",
       "       [-0.34045813],\n",
       "       [-0.40357748],\n",
       "       [-0.46420028],\n",
       "       [-0.52207322],\n",
       "       [-0.57700218],\n",
       "       [-0.62885106],\n",
       "       [-0.67753934],\n",
       "       [-0.7230374 ],\n",
       "       [-0.76536108],\n",
       "       [-0.80456536],\n",
       "       [-0.84073788],\n",
       "       [-0.87399243],\n",
       "       [-0.90446268],\n",
       "       [-0.93229664],\n",
       "       [-0.95765162],\n",
       "       [-0.9806898 ],\n",
       "       [-1.00157461],\n",
       "       [-1.02046772],\n",
       "       [-1.03752673],\n",
       "       [-1.05290337],\n",
       "       [-1.06674222],\n",
       "       [-1.0791798 ],\n",
       "       [-1.09034407],\n",
       "       [-1.10035415],\n",
       "       [-1.10932038],\n",
       "       [-1.11734439],\n",
       "       [-1.12451941],\n",
       "       [-1.13093066],\n",
       "       [-1.13665576],\n",
       "       [-1.1417652 ],\n",
       "       [-1.14632286],\n",
       "       [-1.15038646],\n",
       "       [-1.15400809],\n",
       "       [-1.15723464],\n",
       "       [-1.16010828],\n",
       "       [-1.16266688],\n",
       "       [-1.16494438],\n",
       "       [-1.16697122],\n",
       "       [-1.1687746 ],\n",
       "       [-1.17037888],\n",
       "       [-1.1718058 ],\n",
       "       [-1.17307479],\n",
       "       [-1.1742032 ],\n",
       "       [-1.17520647],\n",
       "       [-1.1760984 ],\n",
       "       [-1.17689127],\n",
       "       [-1.17759603],\n",
       "       [-1.17822242],\n",
       "       [-1.17877913],\n",
       "       [-1.17927388],\n",
       "       [-1.17971354],\n",
       "       [-1.18010423],\n",
       "       [-1.18045138],\n",
       "       [-1.18075985],\n",
       "       [-1.18103393],\n",
       "       [-1.18127746],\n",
       "       [-1.18149382],\n",
       "       [-1.18168605],\n",
       "       [-1.18185683],\n",
       "       [-1.18200856],\n",
       "       [-1.18214336],\n",
       "       [-1.18226312],\n",
       "       [-1.18236951],\n",
       "       [-1.18246402],\n",
       "       [-1.18254799],\n",
       "       [-1.18262258],\n",
       "       [-1.18268884],\n",
       "       [-1.1827477 ],\n",
       "       [-1.1828    ],\n",
       "       [-1.18284645],\n",
       "       [-1.18288772],\n",
       "       [-1.18292437],\n",
       "       [-1.18295694],\n",
       "       [-1.18298587],\n",
       "       [-1.18301156],\n",
       "       [-1.18303439],\n",
       "       [-1.18305467],\n",
       "       [-1.18307268],\n",
       "       [-1.18308869],\n",
       "       [-1.1831029 ],\n",
       "       [-1.18311553],\n",
       "       [-1.18312675],\n",
       "       [-1.18313671],\n",
       "       [-1.18314556],\n",
       "       [-1.18315342],\n",
       "       [-1.18316041],\n",
       "       [-1.18316661],\n",
       "       [-1.18317212],\n",
       "       [-1.18317702],\n",
       "       [-1.18318137],\n",
       "       [-1.18318523],\n",
       "       [-1.18318866],\n",
       "       [-1.18319171],\n",
       "       [-1.18319442],\n",
       "       [-1.18319682],\n",
       "       [-1.18319896],\n",
       "       [-1.18320086],\n",
       "       [-1.18320255],\n",
       "       [-1.18320405],\n",
       "       [-1.18320538],\n",
       "       [-1.18320656],\n",
       "       [-1.18320761],\n",
       "       [-1.18320854],\n",
       "       [-1.18320937],\n",
       "       [-1.18321011],\n",
       "       [-1.18321076],\n",
       "       [-1.18321134],\n",
       "       [-1.18321186],\n",
       "       [-1.18321231],\n",
       "       [-1.18321272],\n",
       "       [-1.18321308],\n",
       "       [-1.1832134 ],\n",
       "       [-1.18321369],\n",
       "       [-1.18321394],\n",
       "       [-1.18321416],\n",
       "       [-1.18321436],\n",
       "       [-1.18321454],\n",
       "       [-1.1832147 ],\n",
       "       [-1.18321484],\n",
       "       [-1.18321496],\n",
       "       [-1.18321507],\n",
       "       [-1.18321517],\n",
       "       [-1.18321527],\n",
       "       [-1.18321534],\n",
       "       [-1.18321541],\n",
       "       [-1.18321547],\n",
       "       [-1.18321553],\n",
       "       [-1.18321558],\n",
       "       [-1.18321562],\n",
       "       [-1.18321566],\n",
       "       [-1.18321569],\n",
       "       [-1.18321572],\n",
       "       [-1.18321575],\n",
       "       [-1.18321577],\n",
       "       [-1.18321579],\n",
       "       [-1.18321581],\n",
       "       [-1.18321582],\n",
       "       [-1.18321584],\n",
       "       [-1.18321585],\n",
       "       [-1.18321586],\n",
       "       [-1.18321587],\n",
       "       [-1.18321588],\n",
       "       [-1.18321589],\n",
       "       [-1.1832159 ],\n",
       "       [-1.1832159 ],\n",
       "       [-1.18321591],\n",
       "       [-1.18321591],\n",
       "       [-1.18321592],\n",
       "       [-1.18321592],\n",
       "       [-1.18321593],\n",
       "       [-1.18321593],\n",
       "       [-1.18321593],\n",
       "       [-1.18321594],\n",
       "       [-1.18321594],\n",
       "       [-1.18321594],\n",
       "       [-1.18321594],\n",
       "       [-1.18321594],\n",
       "       [-1.18321594],\n",
       "       [-1.18321595],\n",
       "       [-1.18321595],\n",
       "       [-1.18321595],\n",
       "       [-1.18321595],\n",
       "       [-1.18321595],\n",
       "       [-1.18321595],\n",
       "       [-1.18321595],\n",
       "       [-1.18321595],\n",
       "       [-1.18321595],\n",
       "       [-1.18321595],\n",
       "       [-1.18321595],\n",
       "       [-1.18321595],\n",
       "       [-1.18321595],\n",
       "       [-1.18321595],\n",
       "       [-1.18321595],\n",
       "       [-1.18321595],\n",
       "       [-1.18321595],\n",
       "       [-1.18321596],\n",
       "       [-1.18321596],\n",
       "       [-1.18321596],\n",
       "       [-1.18321596],\n",
       "       [-1.18321596],\n",
       "       [-1.18321596],\n",
       "       [-1.18321596],\n",
       "       [-1.18321596],\n",
       "       [-1.18321596],\n",
       "       [-1.18321596],\n",
       "       [-1.18321596],\n",
       "       [-1.18321596],\n",
       "       [-1.18321596],\n",
       "       [-1.18321596],\n",
       "       [-1.18321596],\n",
       "       [-1.18321596],\n",
       "       [-1.18321596],\n",
       "       [-1.18321596],\n",
       "       [-1.18321596],\n",
       "       [-1.18321596],\n",
       "       [-1.18321596],\n",
       "       [-1.18321596],\n",
       "       [-1.18321596],\n",
       "       [-1.18321596],\n",
       "       [-1.18321596],\n",
       "       [-1.18321596],\n",
       "       [-1.18321596],\n",
       "       [-1.18321596],\n",
       "       [-1.18321596],\n",
       "       [-1.18321596],\n",
       "       [-1.18321596],\n",
       "       [-1.18321596],\n",
       "       [-1.18321596],\n",
       "       [-1.18321596],\n",
       "       [-1.18321596],\n",
       "       [-1.18321596],\n",
       "       [-1.18321596],\n",
       "       [-1.18321596],\n",
       "       [-1.18321596],\n",
       "       [-1.18321596],\n",
       "       [-1.18321596],\n",
       "       [-1.18321596],\n",
       "       [-1.18321596],\n",
       "       [-1.18321596],\n",
       "       [-1.18321596],\n",
       "       [-1.18321596],\n",
       "       [-1.18321596],\n",
       "       [-1.18321596],\n",
       "       [-1.18321596],\n",
       "       [-1.18321596],\n",
       "       [-1.18321596],\n",
       "       [-1.18321596],\n",
       "       [-1.18321596],\n",
       "       [-1.18321596],\n",
       "       [-1.18321596],\n",
       "       [-1.18321596],\n",
       "       [-1.18321596],\n",
       "       [-1.18321596],\n",
       "       [-1.18321596],\n",
       "       [-1.18321596],\n",
       "       [-1.18321596],\n",
       "       [-1.18321596],\n",
       "       [-1.18321596],\n",
       "       [-1.18321596],\n",
       "       [-1.18321596],\n",
       "       [-1.18321596],\n",
       "       [-1.18321596],\n",
       "       [-1.18321596],\n",
       "       [-1.18321596],\n",
       "       [-1.18321596],\n",
       "       [-1.18321596],\n",
       "       [-1.18321596],\n",
       "       [-1.18321596],\n",
       "       [-1.18321596],\n",
       "       [-1.18321596],\n",
       "       [-1.18321596],\n",
       "       [-1.18321596],\n",
       "       [-1.18321596],\n",
       "       [-1.18321596],\n",
       "       [-1.18321596],\n",
       "       [-1.18321596],\n",
       "       [-1.18321596],\n",
       "       [-1.18321596],\n",
       "       [-1.18321596],\n",
       "       [-1.18321596],\n",
       "       [-1.18321596],\n",
       "       [-1.18321596],\n",
       "       [-1.18321596],\n",
       "       [-1.18321596],\n",
       "       [-1.18321596],\n",
       "       [-1.18321596],\n",
       "       [-1.18321596],\n",
       "       [-1.18321596],\n",
       "       [-1.18321596],\n",
       "       [-1.18321596],\n",
       "       [-1.18321596],\n",
       "       [-1.18321596],\n",
       "       [-1.18321596],\n",
       "       [-1.18321596],\n",
       "       [-1.18321596],\n",
       "       [-1.18321596],\n",
       "       [-1.18321596],\n",
       "       [-1.18321596],\n",
       "       [-1.18321596],\n",
       "       [-1.18321596],\n",
       "       [-1.18321596],\n",
       "       [-1.18321596],\n",
       "       [-1.18321596],\n",
       "       [-1.18321596],\n",
       "       [-1.18321596],\n",
       "       [-1.18321596],\n",
       "       [-1.18321596],\n",
       "       [-1.18321596],\n",
       "       [-1.18321596],\n",
       "       [-1.18321596],\n",
       "       [-1.18321596],\n",
       "       [-1.18321596],\n",
       "       [-1.18321596],\n",
       "       [-1.18321596],\n",
       "       [-1.18321596],\n",
       "       [-1.18321596],\n",
       "       [-1.18321596],\n",
       "       [-1.18321596],\n",
       "       [-1.18321596],\n",
       "       [-1.18321596],\n",
       "       [-1.18321596],\n",
       "       [-1.18321596],\n",
       "       [-1.18321596],\n",
       "       [-1.18321596],\n",
       "       [-1.18321596],\n",
       "       [-1.18321596],\n",
       "       [-1.18321596],\n",
       "       [-1.18321596],\n",
       "       [-1.18321596],\n",
       "       [-1.18321596],\n",
       "       [-1.18321596],\n",
       "       [-1.18321596],\n",
       "       [-1.18321596],\n",
       "       [-1.18321596],\n",
       "       [-1.18321596],\n",
       "       [-1.18321596],\n",
       "       [-1.18321596],\n",
       "       [-1.18321596],\n",
       "       [-1.18321596],\n",
       "       [-1.18321596],\n",
       "       [-1.18321596],\n",
       "       [-1.18321596],\n",
       "       [-1.18321596],\n",
       "       [-1.18321596],\n",
       "       [-1.18321596],\n",
       "       [-1.18321596],\n",
       "       [-1.18321596],\n",
       "       [-1.18321596],\n",
       "       [-1.18321596],\n",
       "       [-1.18321596],\n",
       "       [-1.18321596],\n",
       "       [-1.18321596],\n",
       "       [-1.18321596],\n",
       "       [-1.18321596],\n",
       "       [-1.18321596],\n",
       "       [-1.18321596],\n",
       "       [-1.18321596],\n",
       "       [-1.18321596],\n",
       "       [-1.18321596],\n",
       "       [-1.18321596],\n",
       "       [-1.18321596],\n",
       "       [-1.18321596],\n",
       "       [-1.18321596],\n",
       "       [-1.18321596],\n",
       "       [-1.18321596],\n",
       "       [-1.18321596],\n",
       "       [-1.18321596],\n",
       "       [-1.18321596],\n",
       "       [-1.18321596],\n",
       "       [-1.18321596],\n",
       "       [-1.18321596],\n",
       "       [-1.18321596],\n",
       "       [-1.18321596],\n",
       "       [-1.18321596],\n",
       "       [-1.18321596],\n",
       "       [-1.18321596],\n",
       "       [-1.18321596],\n",
       "       [-1.18321596],\n",
       "       [-1.18321596],\n",
       "       [-1.18321596],\n",
       "       [-1.18321596],\n",
       "       [-1.18321596],\n",
       "       [-1.18321596],\n",
       "       [-1.18321596],\n",
       "       [-1.18321596],\n",
       "       [-1.18321596],\n",
       "       [-1.18321596],\n",
       "       [-1.18321596],\n",
       "       [-1.18321596],\n",
       "       [-1.18321596],\n",
       "       [-1.18321596],\n",
       "       [-1.18321596],\n",
       "       [-1.18321596],\n",
       "       [-1.18321596],\n",
       "       [-1.18321596],\n",
       "       [-1.18321596],\n",
       "       [-1.18321596],\n",
       "       [-1.18321596],\n",
       "       [-1.18321596],\n",
       "       [-1.18321596],\n",
       "       [-1.18321596],\n",
       "       [-1.18321596],\n",
       "       [-1.18321596],\n",
       "       [-1.18321596],\n",
       "       [-1.18321596],\n",
       "       [-1.18321596],\n",
       "       [-1.18321596],\n",
       "       [-1.18321596],\n",
       "       [-1.18321596],\n",
       "       [-1.18321596],\n",
       "       [-1.18321596],\n",
       "       [-1.18321596],\n",
       "       [-1.18321596],\n",
       "       [-1.18321596],\n",
       "       [-1.18321596],\n",
       "       [-1.18321596],\n",
       "       [-1.18321596],\n",
       "       [-1.18321596],\n",
       "       [-1.18321596],\n",
       "       [-1.18321596],\n",
       "       [-1.18321596],\n",
       "       [-1.18321596],\n",
       "       [-1.18321596],\n",
       "       [-1.18321596],\n",
       "       [-1.18321596],\n",
       "       [-1.18321596],\n",
       "       [-1.18321596],\n",
       "       [-1.18321596],\n",
       "       [-1.18321596],\n",
       "       [-1.18321596],\n",
       "       [-1.18321596],\n",
       "       [-1.18321596],\n",
       "       [-1.18321596],\n",
       "       [-1.18321596],\n",
       "       [-1.18321596],\n",
       "       [-1.18321596],\n",
       "       [-1.18321596],\n",
       "       [-1.18321596],\n",
       "       [-1.18321596],\n",
       "       [-1.18321596],\n",
       "       [-1.18321596],\n",
       "       [-1.18321596],\n",
       "       [-1.18321596],\n",
       "       [-1.18321596],\n",
       "       [-1.18321596],\n",
       "       [-1.18321596],\n",
       "       [-1.18321596],\n",
       "       [-1.18321596],\n",
       "       [-1.18321596],\n",
       "       [-1.18321596],\n",
       "       [-1.18321596],\n",
       "       [-1.18321596],\n",
       "       [-1.18321596],\n",
       "       [-1.18321596],\n",
       "       [-1.18321596],\n",
       "       [-1.18321596],\n",
       "       [-1.18321596],\n",
       "       [-1.18321596],\n",
       "       [-1.18321596],\n",
       "       [-1.18321596],\n",
       "       [-1.18321596],\n",
       "       [-1.18321596],\n",
       "       [-1.18321596],\n",
       "       [-1.18321596],\n",
       "       [-1.18321596],\n",
       "       [-1.18321596],\n",
       "       [-1.18321596],\n",
       "       [-1.18321596],\n",
       "       [-1.18321596],\n",
       "       [-1.18321596],\n",
       "       [-1.18321596],\n",
       "       [-1.18321596],\n",
       "       [-1.18321596],\n",
       "       [-1.18321596],\n",
       "       [-1.18321596],\n",
       "       [-1.18321596],\n",
       "       [-1.18321596],\n",
       "       [-1.18321596],\n",
       "       [-1.18321596],\n",
       "       [-1.18321596],\n",
       "       [-1.18321596],\n",
       "       [-1.18321596],\n",
       "       [-1.18321596],\n",
       "       [-1.18321596],\n",
       "       [-1.18321596],\n",
       "       [-1.18321596],\n",
       "       [-1.18321596],\n",
       "       [-1.18321596],\n",
       "       [-1.18321596],\n",
       "       [-1.18321596],\n",
       "       [-1.18321596],\n",
       "       [-1.18321596],\n",
       "       [-1.18321596],\n",
       "       [-1.18321596],\n",
       "       [-1.18321596],\n",
       "       [-1.18321596],\n",
       "       [-1.18321596],\n",
       "       [-1.18321596],\n",
       "       [-1.18321596],\n",
       "       [-1.18321596],\n",
       "       [-1.18321596],\n",
       "       [-1.18321596],\n",
       "       [-1.18321596],\n",
       "       [-1.18321596],\n",
       "       [-1.18321596],\n",
       "       [-1.18321596],\n",
       "       [-1.18321596],\n",
       "       [-1.18321596],\n",
       "       [-1.18321596],\n",
       "       [-1.18321596],\n",
       "       [-1.18321596],\n",
       "       [-1.18321596],\n",
       "       [-1.18321596],\n",
       "       [-1.18321596],\n",
       "       [-1.18321596],\n",
       "       [-1.18321596],\n",
       "       [-1.18321596],\n",
       "       [-1.18321596],\n",
       "       [-1.18321596],\n",
       "       [-1.18321596],\n",
       "       [-1.18321596],\n",
       "       [-1.18321596],\n",
       "       [-1.18321596],\n",
       "       [-1.18321596],\n",
       "       [-1.18321596],\n",
       "       [-1.18321596],\n",
       "       [-1.18321596],\n",
       "       [-1.18321596],\n",
       "       [-1.18321596],\n",
       "       [-1.18321596],\n",
       "       [-1.18321596],\n",
       "       [-1.18321596],\n",
       "       [-1.18321596],\n",
       "       [-1.18321596],\n",
       "       [-1.18321596],\n",
       "       [-1.18321596],\n",
       "       [-1.18321596],\n",
       "       [-1.18321596],\n",
       "       [-1.18321596],\n",
       "       [-1.18321596],\n",
       "       [-1.18321596],\n",
       "       [-1.18321596],\n",
       "       [-1.18321596],\n",
       "       [-1.18321596],\n",
       "       [-1.18321596],\n",
       "       [-1.18321596],\n",
       "       [-1.18321596],\n",
       "       [-1.18321596],\n",
       "       [-1.18321596],\n",
       "       [-1.18321596],\n",
       "       [-1.18321596],\n",
       "       [-1.18321596],\n",
       "       [-1.18321596],\n",
       "       [-1.18321596],\n",
       "       [-1.18321596],\n",
       "       [-1.18321596],\n",
       "       [-1.18321596],\n",
       "       [-1.18321596],\n",
       "       [-1.18321596],\n",
       "       [-1.18321596],\n",
       "       [-1.18321596],\n",
       "       [-1.18321596],\n",
       "       [-1.18321596],\n",
       "       [-1.18321596],\n",
       "       [-1.18321596],\n",
       "       [-1.18321596],\n",
       "       [-1.18321596],\n",
       "       [-1.18321596],\n",
       "       [-1.18321596],\n",
       "       [-1.18321596],\n",
       "       [-1.18321596],\n",
       "       [-1.18321596],\n",
       "       [-1.18321596],\n",
       "       [-1.18321596],\n",
       "       [-1.18321596],\n",
       "       [-1.18321596],\n",
       "       [-1.18321596],\n",
       "       [-1.18321596],\n",
       "       [-1.18321596],\n",
       "       [-1.18321596],\n",
       "       [-1.18321596],\n",
       "       [-1.18321596],\n",
       "       [-1.18321596],\n",
       "       [-1.18321596],\n",
       "       [-1.18321596],\n",
       "       [-1.18321596],\n",
       "       [-1.18321596],\n",
       "       [-1.18321596],\n",
       "       [-1.18321596],\n",
       "       [-1.18321596],\n",
       "       [-1.18321596],\n",
       "       [-1.18321596],\n",
       "       [-1.18321596],\n",
       "       [-1.18321596],\n",
       "       [-1.18321596],\n",
       "       [-1.18321596],\n",
       "       [-1.18321596],\n",
       "       [-1.18321596],\n",
       "       [-1.18321596],\n",
       "       [-1.18321596],\n",
       "       [-1.18321596],\n",
       "       [-1.18321596],\n",
       "       [-1.18321596],\n",
       "       [-1.18321596],\n",
       "       [-1.18321596],\n",
       "       [-1.18321596],\n",
       "       [-1.18321596],\n",
       "       [-1.18321596],\n",
       "       [-1.18321596],\n",
       "       [-1.18321596],\n",
       "       [-1.18321596],\n",
       "       [-1.18321596],\n",
       "       [-1.18321596],\n",
       "       [-1.18321596],\n",
       "       [-1.18321596],\n",
       "       [-1.18321596],\n",
       "       [-1.18321596],\n",
       "       [-1.18321596],\n",
       "       [-1.18321596],\n",
       "       [-1.18321596],\n",
       "       [-1.18321596],\n",
       "       [-1.18321596],\n",
       "       [-1.18321596],\n",
       "       [-1.18321596],\n",
       "       [-1.18321596],\n",
       "       [-1.18321596],\n",
       "       [-1.18321596],\n",
       "       [-1.18321596],\n",
       "       [-1.18321596],\n",
       "       [-1.18321596],\n",
       "       [-1.18321596],\n",
       "       [-1.18321596],\n",
       "       [-1.18321596],\n",
       "       [-1.18321596],\n",
       "       [-1.18321596],\n",
       "       [-1.18321596],\n",
       "       [-1.18321596],\n",
       "       [-1.18321596],\n",
       "       [-1.18321596],\n",
       "       [-1.18321596],\n",
       "       [-1.18321596],\n",
       "       [-1.18321596],\n",
       "       [-1.18321596],\n",
       "       [-1.18321596],\n",
       "       [-1.18321596],\n",
       "       [-1.18321596],\n",
       "       [-1.18321596],\n",
       "       [-1.18321596],\n",
       "       [-1.18321596],\n",
       "       [-1.18321596],\n",
       "       [-1.18321596],\n",
       "       [-1.18321596],\n",
       "       [-1.18321596],\n",
       "       [-1.18321596],\n",
       "       [-1.18321596],\n",
       "       [-1.18321596],\n",
       "       [-1.18321596],\n",
       "       [-1.18321596],\n",
       "       [-1.18321596],\n",
       "       [-1.18321596],\n",
       "       [-1.18321596],\n",
       "       [-1.18321596],\n",
       "       [-1.18321596],\n",
       "       [-1.18321596],\n",
       "       [-1.18321596],\n",
       "       [-1.18321596],\n",
       "       [-1.18321596],\n",
       "       [-1.18321596],\n",
       "       [-1.18321596],\n",
       "       [-1.18321596],\n",
       "       [-1.18321596],\n",
       "       [-1.18321596],\n",
       "       [-1.18321596],\n",
       "       [-1.18321596],\n",
       "       [-1.18321596],\n",
       "       [-1.18321596],\n",
       "       [-1.18321596],\n",
       "       [-1.18321596],\n",
       "       [-1.18321596],\n",
       "       [-1.18321596],\n",
       "       [-1.18321596],\n",
       "       [-1.18321596],\n",
       "       [-1.18321596],\n",
       "       [-1.18321596],\n",
       "       [-1.18321596],\n",
       "       [-1.18321596],\n",
       "       [-1.18321596],\n",
       "       [-1.18321596],\n",
       "       [-1.18321596],\n",
       "       [-1.18321596],\n",
       "       [-1.18321596],\n",
       "       [-1.18321596],\n",
       "       [-1.18321596],\n",
       "       [-1.18321596],\n",
       "       [-1.18321596],\n",
       "       [-1.18321596],\n",
       "       [-1.18321596],\n",
       "       [-1.18321596],\n",
       "       [-1.18321596],\n",
       "       [-1.18321596],\n",
       "       [-1.18321596],\n",
       "       [-1.18321596],\n",
       "       [-1.18321596],\n",
       "       [-1.18321596],\n",
       "       [-1.18321596],\n",
       "       [-1.18321596],\n",
       "       [-1.18321596],\n",
       "       [-1.18321596],\n",
       "       [-1.18321596],\n",
       "       [-1.18321596],\n",
       "       [-1.18321596],\n",
       "       [-1.18321596],\n",
       "       [-1.18321596],\n",
       "       [-1.18321596],\n",
       "       [-1.18321596],\n",
       "       [-1.18321596],\n",
       "       [-1.18321596],\n",
       "       [-1.18321596],\n",
       "       [-1.18321596],\n",
       "       [-1.18321596],\n",
       "       [-1.18321596],\n",
       "       [-1.18321596],\n",
       "       [-1.18321596],\n",
       "       [-1.18321596],\n",
       "       [-1.18321596],\n",
       "       [-1.18321596],\n",
       "       [-1.18321596],\n",
       "       [-1.18321596],\n",
       "       [-1.18321596],\n",
       "       [-1.18321596],\n",
       "       [-1.18321596],\n",
       "       [-1.18321596],\n",
       "       [-1.18321596],\n",
       "       [-1.18321596],\n",
       "       [-1.18321596],\n",
       "       [-1.18321596],\n",
       "       [-1.18321596],\n",
       "       [-1.18321596],\n",
       "       [-1.18321596],\n",
       "       [-1.18321596],\n",
       "       [-1.18321596],\n",
       "       [-1.18321596],\n",
       "       [-1.18321596],\n",
       "       [-1.18321596],\n",
       "       [-1.18321596],\n",
       "       [-1.18321596],\n",
       "       [-1.18321596],\n",
       "       [-1.18321596],\n",
       "       [-1.18321596],\n",
       "       [-1.18321596],\n",
       "       [-1.18321596],\n",
       "       [-1.18321596],\n",
       "       [-1.18321596],\n",
       "       [-1.18321596],\n",
       "       [-1.18321596],\n",
       "       [-1.18321596],\n",
       "       [-1.18321596],\n",
       "       [-1.18321596],\n",
       "       [-1.18321596],\n",
       "       [-1.18321596],\n",
       "       [-1.18321596],\n",
       "       [-1.18321596],\n",
       "       [-1.18321596],\n",
       "       [-1.18321596],\n",
       "       [-1.18321596],\n",
       "       [-1.18321596],\n",
       "       [-1.18321596],\n",
       "       [-1.18321596],\n",
       "       [-1.18321596],\n",
       "       [-1.18321596],\n",
       "       [-1.18321596],\n",
       "       [-1.18321596],\n",
       "       [-1.18321596],\n",
       "       [-1.18321596],\n",
       "       [-1.18321596],\n",
       "       [-1.18321596],\n",
       "       [-1.18321596],\n",
       "       [-1.18321596],\n",
       "       [-1.18321596],\n",
       "       [-1.18321596],\n",
       "       [-1.18321596],\n",
       "       [-1.18321596],\n",
       "       [-1.18321596],\n",
       "       [-1.18321596],\n",
       "       [-1.18321596],\n",
       "       [-1.18321596],\n",
       "       [-1.18321596],\n",
       "       [-1.18321596],\n",
       "       [-1.18321596],\n",
       "       [-1.18321596],\n",
       "       [-1.18321596],\n",
       "       [-1.18321596],\n",
       "       [-1.18321596],\n",
       "       [-1.18321596],\n",
       "       [-1.18321596],\n",
       "       [-1.18321596],\n",
       "       [-1.18321596],\n",
       "       [-1.18321596],\n",
       "       [-1.18321596],\n",
       "       [-1.18321596],\n",
       "       [-1.18321596],\n",
       "       [-1.18321596],\n",
       "       [-1.18321596],\n",
       "       [-1.18321596],\n",
       "       [-1.18321596],\n",
       "       [-1.18321596],\n",
       "       [-1.18321596],\n",
       "       [-1.18321596],\n",
       "       [-1.18321596],\n",
       "       [-1.18321596],\n",
       "       [-1.18321596],\n",
       "       [-1.18321596],\n",
       "       [-1.18321596],\n",
       "       [-1.18321596],\n",
       "       [-1.18321596],\n",
       "       [-1.18321596],\n",
       "       [-1.18321596],\n",
       "       [-1.18321596],\n",
       "       [-1.18321596],\n",
       "       [-1.18321596],\n",
       "       [-1.18321596],\n",
       "       [-1.18321596],\n",
       "       [-1.18321596],\n",
       "       [-1.18321596],\n",
       "       [-1.18321596],\n",
       "       [-1.18321596],\n",
       "       [-1.18321596],\n",
       "       [-1.18321596],\n",
       "       [-1.18321596],\n",
       "       [-1.18321596],\n",
       "       [-1.18321596],\n",
       "       [-1.18321596],\n",
       "       [-1.18321596],\n",
       "       [-1.18321596],\n",
       "       [-1.18321596],\n",
       "       [-1.18321596],\n",
       "       [-1.18321596],\n",
       "       [-1.18321596],\n",
       "       [-1.18321596],\n",
       "       [-1.18321596],\n",
       "       [-1.18321596],\n",
       "       [-1.18321596],\n",
       "       [-1.18321596],\n",
       "       [-1.18321596],\n",
       "       [-1.18321596],\n",
       "       [-1.18321596],\n",
       "       [-1.18321596],\n",
       "       [-1.18321596],\n",
       "       [-1.18321596],\n",
       "       [-1.18321596],\n",
       "       [-1.18321596],\n",
       "       [-1.18321596],\n",
       "       [-1.18321596],\n",
       "       [-1.18321596],\n",
       "       [-1.18321596],\n",
       "       [-1.18321596],\n",
       "       [-1.18321596],\n",
       "       [-1.18321596],\n",
       "       [-1.18321596],\n",
       "       [-1.18321596],\n",
       "       [-1.18321596],\n",
       "       [-1.18321596],\n",
       "       [-1.18321596],\n",
       "       [-1.18321596],\n",
       "       [-1.18321596],\n",
       "       [-1.18321596],\n",
       "       [-1.18321596],\n",
       "       [-1.18321596],\n",
       "       [-1.18321596],\n",
       "       [-1.18321596],\n",
       "       [-1.18321596],\n",
       "       [-1.18321596],\n",
       "       [-1.18321596],\n",
       "       [-1.18321596],\n",
       "       [-1.18321596],\n",
       "       [-1.18321596],\n",
       "       [-1.18321596],\n",
       "       [-1.18321596],\n",
       "       [-1.18321596],\n",
       "       [-1.18321596],\n",
       "       [-1.18321596],\n",
       "       [-1.18321596],\n",
       "       [-1.18321596],\n",
       "       [-1.18321596],\n",
       "       [-1.18321596],\n",
       "       [-1.18321596],\n",
       "       [-1.18321596],\n",
       "       [-1.18321596],\n",
       "       [-1.18321596],\n",
       "       [-1.18321596],\n",
       "       [-1.18321596],\n",
       "       [-1.18321596],\n",
       "       [-1.18321596],\n",
       "       [-1.18321596],\n",
       "       [-1.18321596],\n",
       "       [-1.18321596],\n",
       "       [-1.18321596],\n",
       "       [-1.18321596],\n",
       "       [-1.18321596],\n",
       "       [-1.18321596],\n",
       "       [-1.18321596],\n",
       "       [-1.18321596],\n",
       "       [-1.18321596],\n",
       "       [-1.18321596],\n",
       "       [-1.18321596],\n",
       "       [-1.18321596],\n",
       "       [-1.18321596],\n",
       "       [-1.18321596],\n",
       "       [-1.18321596],\n",
       "       [-1.18321596],\n",
       "       [-1.18321596],\n",
       "       [-1.18321596],\n",
       "       [-1.18321596],\n",
       "       [-1.18321596],\n",
       "       [-1.18321596],\n",
       "       [-1.18321596],\n",
       "       [-1.18321596],\n",
       "       [-1.18321596],\n",
       "       [-1.18321596],\n",
       "       [-1.18321596],\n",
       "       [-1.18321596],\n",
       "       [-1.18321596],\n",
       "       [-1.18321596],\n",
       "       [-1.18321596],\n",
       "       [-1.18321596],\n",
       "       [-1.18321596],\n",
       "       [-1.18321596],\n",
       "       [-1.18321596],\n",
       "       [-1.18321596],\n",
       "       [-1.18321596],\n",
       "       [-1.18321596],\n",
       "       [-1.18321596],\n",
       "       [-1.18321596],\n",
       "       [-1.18321596],\n",
       "       [-1.18321596],\n",
       "       [-1.18321596],\n",
       "       [-1.18321596],\n",
       "       [-1.18321596],\n",
       "       [-1.18321596],\n",
       "       [-1.18321596],\n",
       "       [-1.18321596],\n",
       "       [-1.18321596],\n",
       "       [-1.18321596],\n",
       "       [-1.18321596],\n",
       "       [-1.18321596],\n",
       "       [-1.18321596],\n",
       "       [-1.18321596],\n",
       "       [-1.18321596],\n",
       "       [-1.18321596],\n",
       "       [-1.18321596],\n",
       "       [-1.18321596],\n",
       "       [-1.18321596],\n",
       "       [-1.18321596],\n",
       "       [-1.18321596],\n",
       "       [-1.18321596],\n",
       "       [-1.18321596],\n",
       "       [-1.18321596],\n",
       "       [-1.18321596],\n",
       "       [-1.18321596],\n",
       "       [-1.18321596],\n",
       "       [-1.18321596],\n",
       "       [-1.18321596],\n",
       "       [-1.18321596],\n",
       "       [-1.18321596],\n",
       "       [-1.18321596],\n",
       "       [-1.18321596],\n",
       "       [-1.18321596],\n",
       "       [-1.18321596],\n",
       "       [-1.18321596],\n",
       "       [-1.18321596],\n",
       "       [-1.18321596],\n",
       "       [-1.18321596],\n",
       "       [-1.18321596],\n",
       "       [-1.18321596],\n",
       "       [-1.18321596],\n",
       "       [-1.18321596],\n",
       "       [-1.18321596],\n",
       "       [-1.18321596],\n",
       "       [-1.18321596],\n",
       "       [-1.18321596],\n",
       "       [-1.18321596],\n",
       "       [-1.18321596],\n",
       "       [-1.18321596],\n",
       "       [-1.18321596],\n",
       "       [-1.18321596],\n",
       "       [-1.18321596],\n",
       "       [-1.18321596],\n",
       "       [-1.18321596],\n",
       "       [-1.18321596],\n",
       "       [-1.18321596],\n",
       "       [-1.18321596],\n",
       "       [-1.18321596],\n",
       "       [-1.18321596],\n",
       "       [-1.18321596],\n",
       "       [-1.18321596],\n",
       "       [-1.18321596],\n",
       "       [-1.18321596],\n",
       "       [-1.18321596],\n",
       "       [-1.18321596],\n",
       "       [-1.18321596],\n",
       "       [-1.18321596],\n",
       "       [-1.18321596],\n",
       "       [-1.18321596],\n",
       "       [-1.18321596],\n",
       "       [-1.18321596],\n",
       "       [-1.18321596],\n",
       "       [-1.18321596],\n",
       "       [-1.18321596],\n",
       "       [-1.18321596],\n",
       "       [-1.18321596],\n",
       "       [-1.18321596],\n",
       "       [-1.18321596],\n",
       "       [-1.18321596],\n",
       "       [-1.18321596],\n",
       "       [-1.18321596]])"
      ]
     },
     "execution_count": 46,
     "metadata": {},
     "output_type": "execute_result"
    }
   ],
   "source": [
    "sol"
   ]
  },
  {
   "cell_type": "code",
   "execution_count": 47,
   "id": "576e7819-6aeb-496c-828a-74746a4014a3",
   "metadata": {
    "canvas": {
     "comments": [],
     "componentType": "CodeCell",
     "copiedOriginId": null,
     "diskcache": false,
     "headerColor": "transparent",
     "id": "567db64b-a15d-4171-92e0-c1ab606db232",
     "isComponent": false,
     "name": "",
     "parents": []
    },
    "collapsed": true,
    "jupyter": {
     "outputs_hidden": true
    },
    "tags": []
   },
   "outputs": [
    {
     "data": {
      "text/plain": [
       "array([[ 0.        , -0.06998829, -0.13948853, -0.20802619, -0.27515298,\n",
       "        -0.34045813, -0.40357748, -0.46420028, -0.52207322, -0.57700218,\n",
       "        -0.62885106, -0.67753934, -0.7230374 , -0.76536108, -0.80456536,\n",
       "        -0.84073788, -0.87399243, -0.90446268, -0.93229664, -0.95765162,\n",
       "        -0.9806898 , -1.00157461, -1.02046772, -1.03752673, -1.05290337,\n",
       "        -1.06674222, -1.0791798 , -1.09034407, -1.10035415, -1.10932038,\n",
       "        -1.11734439, -1.12451941, -1.13093066, -1.13665576, -1.1417652 ,\n",
       "        -1.14632286, -1.15038646, -1.15400809, -1.15723464, -1.16010828,\n",
       "        -1.16266688, -1.16494438, -1.16697122, -1.1687746 , -1.17037888,\n",
       "        -1.1718058 , -1.17307479, -1.1742032 , -1.17520647, -1.1760984 ,\n",
       "        -1.17689127, -1.17759603, -1.17822242, -1.17877913, -1.17927388,\n",
       "        -1.17971354, -1.18010423, -1.18045138, -1.18075985, -1.18103393,\n",
       "        -1.18127746, -1.18149382, -1.18168605, -1.18185683, -1.18200856,\n",
       "        -1.18214336, -1.18226312, -1.18236951, -1.18246402, -1.18254799,\n",
       "        -1.18262258, -1.18268884, -1.1827477 , -1.1828    , -1.18284645,\n",
       "        -1.18288772, -1.18292437, -1.18295694, -1.18298587, -1.18301156,\n",
       "        -1.18303439, -1.18305467, -1.18307268, -1.18308869, -1.1831029 ,\n",
       "        -1.18311553, -1.18312675, -1.18313671, -1.18314556, -1.18315342,\n",
       "        -1.18316041, -1.18316661, -1.18317212, -1.18317702, -1.18318137,\n",
       "        -1.18318523, -1.18318866, -1.18319171, -1.18319442, -1.18319682,\n",
       "        -1.18319896, -1.18320086, -1.18320255, -1.18320405, -1.18320538,\n",
       "        -1.18320656, -1.18320761, -1.18320854, -1.18320937, -1.18321011,\n",
       "        -1.18321076, -1.18321134, -1.18321186, -1.18321231, -1.18321272,\n",
       "        -1.18321308, -1.1832134 , -1.18321369, -1.18321394, -1.18321416,\n",
       "        -1.18321436, -1.18321454, -1.1832147 , -1.18321484, -1.18321496,\n",
       "        -1.18321507, -1.18321517, -1.18321527, -1.18321534, -1.18321541,\n",
       "        -1.18321547, -1.18321553, -1.18321558, -1.18321562, -1.18321566,\n",
       "        -1.18321569, -1.18321572, -1.18321575, -1.18321577, -1.18321579,\n",
       "        -1.18321581, -1.18321582, -1.18321584, -1.18321585, -1.18321586,\n",
       "        -1.18321587, -1.18321588, -1.18321589, -1.1832159 , -1.1832159 ,\n",
       "        -1.18321591, -1.18321591, -1.18321592, -1.18321592, -1.18321593,\n",
       "        -1.18321593, -1.18321593, -1.18321594, -1.18321594, -1.18321594,\n",
       "        -1.18321594, -1.18321594, -1.18321594, -1.18321595, -1.18321595,\n",
       "        -1.18321595, -1.18321595, -1.18321595, -1.18321595, -1.18321595,\n",
       "        -1.18321595, -1.18321595, -1.18321595, -1.18321595, -1.18321595,\n",
       "        -1.18321595, -1.18321595, -1.18321595, -1.18321595, -1.18321595,\n",
       "        -1.18321596, -1.18321596, -1.18321596, -1.18321596, -1.18321596,\n",
       "        -1.18321596, -1.18321596, -1.18321596, -1.18321596, -1.18321596,\n",
       "        -1.18321596, -1.18321596, -1.18321596, -1.18321596, -1.18321596,\n",
       "        -1.18321596, -1.18321596, -1.18321596, -1.18321596, -1.18321596,\n",
       "        -1.18321596, -1.18321596, -1.18321596, -1.18321596, -1.18321596,\n",
       "        -1.18321596, -1.18321596, -1.18321596, -1.18321596, -1.18321596,\n",
       "        -1.18321596, -1.18321596, -1.18321596, -1.18321596, -1.18321596,\n",
       "        -1.18321596, -1.18321596, -1.18321596, -1.18321596, -1.18321596,\n",
       "        -1.18321596, -1.18321596, -1.18321596, -1.18321596, -1.18321596,\n",
       "        -1.18321596, -1.18321596, -1.18321596, -1.18321596, -1.18321596,\n",
       "        -1.18321596, -1.18321596, -1.18321596, -1.18321596, -1.18321596,\n",
       "        -1.18321596, -1.18321596, -1.18321596, -1.18321596, -1.18321596,\n",
       "        -1.18321596, -1.18321596, -1.18321596, -1.18321596, -1.18321596,\n",
       "        -1.18321596, -1.18321596, -1.18321596, -1.18321596, -1.18321596,\n",
       "        -1.18321596, -1.18321596, -1.18321596, -1.18321596, -1.18321596,\n",
       "        -1.18321596, -1.18321596, -1.18321596, -1.18321596, -1.18321596,\n",
       "        -1.18321596, -1.18321596, -1.18321596, -1.18321596, -1.18321596,\n",
       "        -1.18321596, -1.18321596, -1.18321596, -1.18321596, -1.18321596,\n",
       "        -1.18321596, -1.18321596, -1.18321596, -1.18321596, -1.18321596,\n",
       "        -1.18321596, -1.18321596, -1.18321596, -1.18321596, -1.18321596,\n",
       "        -1.18321596, -1.18321596, -1.18321596, -1.18321596, -1.18321596,\n",
       "        -1.18321596, -1.18321596, -1.18321596, -1.18321596, -1.18321596,\n",
       "        -1.18321596, -1.18321596, -1.18321596, -1.18321596, -1.18321596,\n",
       "        -1.18321596, -1.18321596, -1.18321596, -1.18321596, -1.18321596,\n",
       "        -1.18321596, -1.18321596, -1.18321596, -1.18321596, -1.18321596,\n",
       "        -1.18321596, -1.18321596, -1.18321596, -1.18321596, -1.18321596,\n",
       "        -1.18321596, -1.18321596, -1.18321596, -1.18321596, -1.18321596,\n",
       "        -1.18321596, -1.18321596, -1.18321596, -1.18321596, -1.18321596,\n",
       "        -1.18321596, -1.18321596, -1.18321596, -1.18321596, -1.18321596,\n",
       "        -1.18321596, -1.18321596, -1.18321596, -1.18321596, -1.18321596,\n",
       "        -1.18321596, -1.18321596, -1.18321596, -1.18321596, -1.18321596,\n",
       "        -1.18321596, -1.18321596, -1.18321596, -1.18321596, -1.18321596,\n",
       "        -1.18321596, -1.18321596, -1.18321596, -1.18321596, -1.18321596,\n",
       "        -1.18321596, -1.18321596, -1.18321596, -1.18321596, -1.18321596,\n",
       "        -1.18321596, -1.18321596, -1.18321596, -1.18321596, -1.18321596,\n",
       "        -1.18321596, -1.18321596, -1.18321596, -1.18321596, -1.18321596,\n",
       "        -1.18321596, -1.18321596, -1.18321596, -1.18321596, -1.18321596,\n",
       "        -1.18321596, -1.18321596, -1.18321596, -1.18321596, -1.18321596,\n",
       "        -1.18321596, -1.18321596, -1.18321596, -1.18321596, -1.18321596,\n",
       "        -1.18321596, -1.18321596, -1.18321596, -1.18321596, -1.18321596,\n",
       "        -1.18321596, -1.18321596, -1.18321596, -1.18321596, -1.18321596,\n",
       "        -1.18321596, -1.18321596, -1.18321596, -1.18321596, -1.18321596,\n",
       "        -1.18321596, -1.18321596, -1.18321596, -1.18321596, -1.18321596,\n",
       "        -1.18321596, -1.18321596, -1.18321596, -1.18321596, -1.18321596,\n",
       "        -1.18321596, -1.18321596, -1.18321596, -1.18321596, -1.18321596,\n",
       "        -1.18321596, -1.18321596, -1.18321596, -1.18321596, -1.18321596,\n",
       "        -1.18321596, -1.18321596, -1.18321596, -1.18321596, -1.18321596,\n",
       "        -1.18321596, -1.18321596, -1.18321596, -1.18321596, -1.18321596,\n",
       "        -1.18321596, -1.18321596, -1.18321596, -1.18321596, -1.18321596,\n",
       "        -1.18321596, -1.18321596, -1.18321596, -1.18321596, -1.18321596,\n",
       "        -1.18321596, -1.18321596, -1.18321596, -1.18321596, -1.18321596,\n",
       "        -1.18321596, -1.18321596, -1.18321596, -1.18321596, -1.18321596,\n",
       "        -1.18321596, -1.18321596, -1.18321596, -1.18321596, -1.18321596,\n",
       "        -1.18321596, -1.18321596, -1.18321596, -1.18321596, -1.18321596,\n",
       "        -1.18321596, -1.18321596, -1.18321596, -1.18321596, -1.18321596,\n",
       "        -1.18321596, -1.18321596, -1.18321596, -1.18321596, -1.18321596,\n",
       "        -1.18321596, -1.18321596, -1.18321596, -1.18321596, -1.18321596,\n",
       "        -1.18321596, -1.18321596, -1.18321596, -1.18321596, -1.18321596,\n",
       "        -1.18321596, -1.18321596, -1.18321596, -1.18321596, -1.18321596,\n",
       "        -1.18321596, -1.18321596, -1.18321596, -1.18321596, -1.18321596,\n",
       "        -1.18321596, -1.18321596, -1.18321596, -1.18321596, -1.18321596,\n",
       "        -1.18321596, -1.18321596, -1.18321596, -1.18321596, -1.18321596,\n",
       "        -1.18321596, -1.18321596, -1.18321596, -1.18321596, -1.18321596,\n",
       "        -1.18321596, -1.18321596, -1.18321596, -1.18321596, -1.18321596,\n",
       "        -1.18321596, -1.18321596, -1.18321596, -1.18321596, -1.18321596,\n",
       "        -1.18321596, -1.18321596, -1.18321596, -1.18321596, -1.18321596,\n",
       "        -1.18321596, -1.18321596, -1.18321596, -1.18321596, -1.18321596,\n",
       "        -1.18321596, -1.18321596, -1.18321596, -1.18321596, -1.18321596,\n",
       "        -1.18321596, -1.18321596, -1.18321596, -1.18321596, -1.18321596,\n",
       "        -1.18321596, -1.18321596, -1.18321596, -1.18321596, -1.18321596,\n",
       "        -1.18321596, -1.18321596, -1.18321596, -1.18321596, -1.18321596,\n",
       "        -1.18321596, -1.18321596, -1.18321596, -1.18321596, -1.18321596,\n",
       "        -1.18321596, -1.18321596, -1.18321596, -1.18321596, -1.18321596,\n",
       "        -1.18321596, -1.18321596, -1.18321596, -1.18321596, -1.18321596,\n",
       "        -1.18321596, -1.18321596, -1.18321596, -1.18321596, -1.18321596,\n",
       "        -1.18321596, -1.18321596, -1.18321596, -1.18321596, -1.18321596,\n",
       "        -1.18321596, -1.18321596, -1.18321596, -1.18321596, -1.18321596,\n",
       "        -1.18321596, -1.18321596, -1.18321596, -1.18321596, -1.18321596,\n",
       "        -1.18321596, -1.18321596, -1.18321596, -1.18321596, -1.18321596,\n",
       "        -1.18321596, -1.18321596, -1.18321596, -1.18321596, -1.18321596,\n",
       "        -1.18321596, -1.18321596, -1.18321596, -1.18321596, -1.18321596,\n",
       "        -1.18321596, -1.18321596, -1.18321596, -1.18321596, -1.18321596,\n",
       "        -1.18321596, -1.18321596, -1.18321596, -1.18321596, -1.18321596,\n",
       "        -1.18321596, -1.18321596, -1.18321596, -1.18321596, -1.18321596,\n",
       "        -1.18321596, -1.18321596, -1.18321596, -1.18321596, -1.18321596,\n",
       "        -1.18321596, -1.18321596, -1.18321596, -1.18321596, -1.18321596,\n",
       "        -1.18321596, -1.18321596, -1.18321596, -1.18321596, -1.18321596,\n",
       "        -1.18321596, -1.18321596, -1.18321596, -1.18321596, -1.18321596,\n",
       "        -1.18321596, -1.18321596, -1.18321596, -1.18321596, -1.18321596,\n",
       "        -1.18321596, -1.18321596, -1.18321596, -1.18321596, -1.18321596,\n",
       "        -1.18321596, -1.18321596, -1.18321596, -1.18321596, -1.18321596,\n",
       "        -1.18321596, -1.18321596, -1.18321596, -1.18321596, -1.18321596,\n",
       "        -1.18321596, -1.18321596, -1.18321596, -1.18321596, -1.18321596,\n",
       "        -1.18321596, -1.18321596, -1.18321596, -1.18321596, -1.18321596,\n",
       "        -1.18321596, -1.18321596, -1.18321596, -1.18321596, -1.18321596,\n",
       "        -1.18321596, -1.18321596, -1.18321596, -1.18321596, -1.18321596,\n",
       "        -1.18321596, -1.18321596, -1.18321596, -1.18321596, -1.18321596,\n",
       "        -1.18321596, -1.18321596, -1.18321596, -1.18321596, -1.18321596,\n",
       "        -1.18321596, -1.18321596, -1.18321596, -1.18321596, -1.18321596,\n",
       "        -1.18321596, -1.18321596, -1.18321596, -1.18321596, -1.18321596,\n",
       "        -1.18321596, -1.18321596, -1.18321596, -1.18321596, -1.18321596,\n",
       "        -1.18321596, -1.18321596, -1.18321596, -1.18321596, -1.18321596,\n",
       "        -1.18321596, -1.18321596, -1.18321596, -1.18321596, -1.18321596,\n",
       "        -1.18321596, -1.18321596, -1.18321596, -1.18321596, -1.18321596,\n",
       "        -1.18321596, -1.18321596, -1.18321596, -1.18321596, -1.18321596,\n",
       "        -1.18321596, -1.18321596, -1.18321596, -1.18321596, -1.18321596,\n",
       "        -1.18321596, -1.18321596, -1.18321596, -1.18321596, -1.18321596,\n",
       "        -1.18321596, -1.18321596, -1.18321596, -1.18321596, -1.18321596,\n",
       "        -1.18321596, -1.18321596, -1.18321596, -1.18321596, -1.18321596,\n",
       "        -1.18321596, -1.18321596, -1.18321596, -1.18321596, -1.18321596,\n",
       "        -1.18321596, -1.18321596, -1.18321596, -1.18321596, -1.18321596,\n",
       "        -1.18321596, -1.18321596, -1.18321596, -1.18321596, -1.18321596,\n",
       "        -1.18321596, -1.18321596, -1.18321596, -1.18321596, -1.18321596,\n",
       "        -1.18321596, -1.18321596, -1.18321596, -1.18321596, -1.18321596,\n",
       "        -1.18321596, -1.18321596, -1.18321596, -1.18321596, -1.18321596,\n",
       "        -1.18321596, -1.18321596, -1.18321596, -1.18321596, -1.18321596,\n",
       "        -1.18321596, -1.18321596, -1.18321596, -1.18321596, -1.18321596,\n",
       "        -1.18321596, -1.18321596, -1.18321596, -1.18321596, -1.18321596,\n",
       "        -1.18321596, -1.18321596, -1.18321596, -1.18321596, -1.18321596,\n",
       "        -1.18321596, -1.18321596, -1.18321596, -1.18321596, -1.18321596,\n",
       "        -1.18321596, -1.18321596, -1.18321596, -1.18321596, -1.18321596,\n",
       "        -1.18321596, -1.18321596, -1.18321596, -1.18321596, -1.18321596,\n",
       "        -1.18321596, -1.18321596, -1.18321596, -1.18321596, -1.18321596,\n",
       "        -1.18321596, -1.18321596, -1.18321596, -1.18321596, -1.18321596,\n",
       "        -1.18321596, -1.18321596, -1.18321596, -1.18321596, -1.18321596,\n",
       "        -1.18321596, -1.18321596, -1.18321596, -1.18321596, -1.18321596,\n",
       "        -1.18321596, -1.18321596, -1.18321596, -1.18321596, -1.18321596,\n",
       "        -1.18321596, -1.18321596, -1.18321596, -1.18321596, -1.18321596,\n",
       "        -1.18321596, -1.18321596, -1.18321596, -1.18321596, -1.18321596,\n",
       "        -1.18321596, -1.18321596, -1.18321596, -1.18321596, -1.18321596,\n",
       "        -1.18321596, -1.18321596, -1.18321596, -1.18321596, -1.18321596,\n",
       "        -1.18321596, -1.18321596, -1.18321596, -1.18321596, -1.18321596,\n",
       "        -1.18321596, -1.18321596, -1.18321596, -1.18321596, -1.18321596,\n",
       "        -1.18321596, -1.18321596, -1.18321596, -1.18321596, -1.18321596,\n",
       "        -1.18321596, -1.18321596, -1.18321596, -1.18321596, -1.18321596,\n",
       "        -1.18321596, -1.18321596, -1.18321596, -1.18321596, -1.18321596,\n",
       "        -1.18321596, -1.18321596, -1.18321596, -1.18321596, -1.18321596,\n",
       "        -1.18321596, -1.18321596, -1.18321596, -1.18321596, -1.18321596,\n",
       "        -1.18321596, -1.18321596, -1.18321596, -1.18321596, -1.18321596,\n",
       "        -1.18321596, -1.18321596, -1.18321596, -1.18321596, -1.18321596,\n",
       "        -1.18321596, -1.18321596, -1.18321596, -1.18321596, -1.18321596,\n",
       "        -1.18321596, -1.18321596, -1.18321596, -1.18321596, -1.18321596,\n",
       "        -1.18321596, -1.18321596, -1.18321596, -1.18321596, -1.18321596,\n",
       "        -1.18321596, -1.18321596, -1.18321596, -1.18321596, -1.18321596,\n",
       "        -1.18321596, -1.18321596, -1.18321596, -1.18321596, -1.18321596,\n",
       "        -1.18321596, -1.18321596, -1.18321596, -1.18321596, -1.18321596,\n",
       "        -1.18321596, -1.18321596, -1.18321596, -1.18321596, -1.18321596,\n",
       "        -1.18321596, -1.18321596, -1.18321596, -1.18321596, -1.18321596,\n",
       "        -1.18321596, -1.18321596, -1.18321596, -1.18321596, -1.18321596,\n",
       "        -1.18321596, -1.18321596, -1.18321596, -1.18321596, -1.18321596,\n",
       "        -1.18321596, -1.18321596, -1.18321596, -1.18321596, -1.18321596,\n",
       "        -1.18321596, -1.18321596, -1.18321596, -1.18321596, -1.18321596,\n",
       "        -1.18321596, -1.18321596, -1.18321596, -1.18321596, -1.18321596,\n",
       "        -1.18321596, -1.18321596, -1.18321596, -1.18321596, -1.18321596,\n",
       "        -1.18321596, -1.18321596, -1.18321596, -1.18321596, -1.18321596,\n",
       "        -1.18321596, -1.18321596, -1.18321596, -1.18321596, -1.18321596,\n",
       "        -1.18321596, -1.18321596, -1.18321596, -1.18321596, -1.18321596,\n",
       "        -1.18321596, -1.18321596, -1.18321596, -1.18321596, -1.18321596,\n",
       "        -1.18321596, -1.18321596, -1.18321596, -1.18321596, -1.18321596,\n",
       "        -1.18321596, -1.18321596, -1.18321596, -1.18321596, -1.18321596,\n",
       "        -1.18321596, -1.18321596, -1.18321596, -1.18321596, -1.18321596,\n",
       "        -1.18321596, -1.18321596, -1.18321596, -1.18321596, -1.18321596,\n",
       "        -1.18321596, -1.18321596, -1.18321596, -1.18321596, -1.18321596,\n",
       "        -1.18321596, -1.18321596, -1.18321596, -1.18321596, -1.18321596]])"
      ]
     },
     "execution_count": 47,
     "metadata": {},
     "output_type": "execute_result"
    }
   ],
   "source": [
    "sol.T"
   ]
  },
  {
   "cell_type": "code",
   "execution_count": 48,
   "id": "3ac6d917-ef39-4be1-ab48-b17762fa6b80",
   "metadata": {
    "canvas": {
     "comments": [],
     "componentType": "CodeCell",
     "copiedOriginId": null,
     "diskcache": false,
     "headerColor": "transparent",
     "id": "1ab4070f-9994-4489-8b65-f0e9441ecd39",
     "isComponent": false,
     "name": "",
     "parents": []
    },
    "collapsed": true,
    "jupyter": {
     "outputs_hidden": true
    },
    "tags": []
   },
   "outputs": [
    {
     "data": {
      "text/plain": [
       "array([ 0.        , -0.06998829, -0.13948853, -0.20802619, -0.27515298,\n",
       "       -0.34045813, -0.40357748, -0.46420028, -0.52207322, -0.57700218,\n",
       "       -0.62885106, -0.67753934, -0.7230374 , -0.76536108, -0.80456536,\n",
       "       -0.84073788, -0.87399243, -0.90446268, -0.93229664, -0.95765162,\n",
       "       -0.9806898 , -1.00157461, -1.02046772, -1.03752673, -1.05290337,\n",
       "       -1.06674222, -1.0791798 , -1.09034407, -1.10035415, -1.10932038,\n",
       "       -1.11734439, -1.12451941, -1.13093066, -1.13665576, -1.1417652 ,\n",
       "       -1.14632286, -1.15038646, -1.15400809, -1.15723464, -1.16010828,\n",
       "       -1.16266688, -1.16494438, -1.16697122, -1.1687746 , -1.17037888,\n",
       "       -1.1718058 , -1.17307479, -1.1742032 , -1.17520647, -1.1760984 ,\n",
       "       -1.17689127, -1.17759603, -1.17822242, -1.17877913, -1.17927388,\n",
       "       -1.17971354, -1.18010423, -1.18045138, -1.18075985, -1.18103393,\n",
       "       -1.18127746, -1.18149382, -1.18168605, -1.18185683, -1.18200856,\n",
       "       -1.18214336, -1.18226312, -1.18236951, -1.18246402, -1.18254799,\n",
       "       -1.18262258, -1.18268884, -1.1827477 , -1.1828    , -1.18284645,\n",
       "       -1.18288772, -1.18292437, -1.18295694, -1.18298587, -1.18301156,\n",
       "       -1.18303439, -1.18305467, -1.18307268, -1.18308869, -1.1831029 ,\n",
       "       -1.18311553, -1.18312675, -1.18313671, -1.18314556, -1.18315342,\n",
       "       -1.18316041, -1.18316661, -1.18317212, -1.18317702, -1.18318137,\n",
       "       -1.18318523, -1.18318866, -1.18319171, -1.18319442, -1.18319682,\n",
       "       -1.18319896, -1.18320086, -1.18320255, -1.18320405, -1.18320538,\n",
       "       -1.18320656, -1.18320761, -1.18320854, -1.18320937, -1.18321011,\n",
       "       -1.18321076, -1.18321134, -1.18321186, -1.18321231, -1.18321272,\n",
       "       -1.18321308, -1.1832134 , -1.18321369, -1.18321394, -1.18321416,\n",
       "       -1.18321436, -1.18321454, -1.1832147 , -1.18321484, -1.18321496,\n",
       "       -1.18321507, -1.18321517, -1.18321527, -1.18321534, -1.18321541,\n",
       "       -1.18321547, -1.18321553, -1.18321558, -1.18321562, -1.18321566,\n",
       "       -1.18321569, -1.18321572, -1.18321575, -1.18321577, -1.18321579,\n",
       "       -1.18321581, -1.18321582, -1.18321584, -1.18321585, -1.18321586,\n",
       "       -1.18321587, -1.18321588, -1.18321589, -1.1832159 , -1.1832159 ,\n",
       "       -1.18321591, -1.18321591, -1.18321592, -1.18321592, -1.18321593,\n",
       "       -1.18321593, -1.18321593, -1.18321594, -1.18321594, -1.18321594,\n",
       "       -1.18321594, -1.18321594, -1.18321594, -1.18321595, -1.18321595,\n",
       "       -1.18321595, -1.18321595, -1.18321595, -1.18321595, -1.18321595,\n",
       "       -1.18321595, -1.18321595, -1.18321595, -1.18321595, -1.18321595,\n",
       "       -1.18321595, -1.18321595, -1.18321595, -1.18321595, -1.18321595,\n",
       "       -1.18321596, -1.18321596, -1.18321596, -1.18321596, -1.18321596,\n",
       "       -1.18321596, -1.18321596, -1.18321596, -1.18321596, -1.18321596,\n",
       "       -1.18321596, -1.18321596, -1.18321596, -1.18321596, -1.18321596,\n",
       "       -1.18321596, -1.18321596, -1.18321596, -1.18321596, -1.18321596,\n",
       "       -1.18321596, -1.18321596, -1.18321596, -1.18321596, -1.18321596,\n",
       "       -1.18321596, -1.18321596, -1.18321596, -1.18321596, -1.18321596,\n",
       "       -1.18321596, -1.18321596, -1.18321596, -1.18321596, -1.18321596,\n",
       "       -1.18321596, -1.18321596, -1.18321596, -1.18321596, -1.18321596,\n",
       "       -1.18321596, -1.18321596, -1.18321596, -1.18321596, -1.18321596,\n",
       "       -1.18321596, -1.18321596, -1.18321596, -1.18321596, -1.18321596,\n",
       "       -1.18321596, -1.18321596, -1.18321596, -1.18321596, -1.18321596,\n",
       "       -1.18321596, -1.18321596, -1.18321596, -1.18321596, -1.18321596,\n",
       "       -1.18321596, -1.18321596, -1.18321596, -1.18321596, -1.18321596,\n",
       "       -1.18321596, -1.18321596, -1.18321596, -1.18321596, -1.18321596,\n",
       "       -1.18321596, -1.18321596, -1.18321596, -1.18321596, -1.18321596,\n",
       "       -1.18321596, -1.18321596, -1.18321596, -1.18321596, -1.18321596,\n",
       "       -1.18321596, -1.18321596, -1.18321596, -1.18321596, -1.18321596,\n",
       "       -1.18321596, -1.18321596, -1.18321596, -1.18321596, -1.18321596,\n",
       "       -1.18321596, -1.18321596, -1.18321596, -1.18321596, -1.18321596,\n",
       "       -1.18321596, -1.18321596, -1.18321596, -1.18321596, -1.18321596,\n",
       "       -1.18321596, -1.18321596, -1.18321596, -1.18321596, -1.18321596,\n",
       "       -1.18321596, -1.18321596, -1.18321596, -1.18321596, -1.18321596,\n",
       "       -1.18321596, -1.18321596, -1.18321596, -1.18321596, -1.18321596,\n",
       "       -1.18321596, -1.18321596, -1.18321596, -1.18321596, -1.18321596,\n",
       "       -1.18321596, -1.18321596, -1.18321596, -1.18321596, -1.18321596,\n",
       "       -1.18321596, -1.18321596, -1.18321596, -1.18321596, -1.18321596,\n",
       "       -1.18321596, -1.18321596, -1.18321596, -1.18321596, -1.18321596,\n",
       "       -1.18321596, -1.18321596, -1.18321596, -1.18321596, -1.18321596,\n",
       "       -1.18321596, -1.18321596, -1.18321596, -1.18321596, -1.18321596,\n",
       "       -1.18321596, -1.18321596, -1.18321596, -1.18321596, -1.18321596,\n",
       "       -1.18321596, -1.18321596, -1.18321596, -1.18321596, -1.18321596,\n",
       "       -1.18321596, -1.18321596, -1.18321596, -1.18321596, -1.18321596,\n",
       "       -1.18321596, -1.18321596, -1.18321596, -1.18321596, -1.18321596,\n",
       "       -1.18321596, -1.18321596, -1.18321596, -1.18321596, -1.18321596,\n",
       "       -1.18321596, -1.18321596, -1.18321596, -1.18321596, -1.18321596,\n",
       "       -1.18321596, -1.18321596, -1.18321596, -1.18321596, -1.18321596,\n",
       "       -1.18321596, -1.18321596, -1.18321596, -1.18321596, -1.18321596,\n",
       "       -1.18321596, -1.18321596, -1.18321596, -1.18321596, -1.18321596,\n",
       "       -1.18321596, -1.18321596, -1.18321596, -1.18321596, -1.18321596,\n",
       "       -1.18321596, -1.18321596, -1.18321596, -1.18321596, -1.18321596,\n",
       "       -1.18321596, -1.18321596, -1.18321596, -1.18321596, -1.18321596,\n",
       "       -1.18321596, -1.18321596, -1.18321596, -1.18321596, -1.18321596,\n",
       "       -1.18321596, -1.18321596, -1.18321596, -1.18321596, -1.18321596,\n",
       "       -1.18321596, -1.18321596, -1.18321596, -1.18321596, -1.18321596,\n",
       "       -1.18321596, -1.18321596, -1.18321596, -1.18321596, -1.18321596,\n",
       "       -1.18321596, -1.18321596, -1.18321596, -1.18321596, -1.18321596,\n",
       "       -1.18321596, -1.18321596, -1.18321596, -1.18321596, -1.18321596,\n",
       "       -1.18321596, -1.18321596, -1.18321596, -1.18321596, -1.18321596,\n",
       "       -1.18321596, -1.18321596, -1.18321596, -1.18321596, -1.18321596,\n",
       "       -1.18321596, -1.18321596, -1.18321596, -1.18321596, -1.18321596,\n",
       "       -1.18321596, -1.18321596, -1.18321596, -1.18321596, -1.18321596,\n",
       "       -1.18321596, -1.18321596, -1.18321596, -1.18321596, -1.18321596,\n",
       "       -1.18321596, -1.18321596, -1.18321596, -1.18321596, -1.18321596,\n",
       "       -1.18321596, -1.18321596, -1.18321596, -1.18321596, -1.18321596,\n",
       "       -1.18321596, -1.18321596, -1.18321596, -1.18321596, -1.18321596,\n",
       "       -1.18321596, -1.18321596, -1.18321596, -1.18321596, -1.18321596,\n",
       "       -1.18321596, -1.18321596, -1.18321596, -1.18321596, -1.18321596,\n",
       "       -1.18321596, -1.18321596, -1.18321596, -1.18321596, -1.18321596,\n",
       "       -1.18321596, -1.18321596, -1.18321596, -1.18321596, -1.18321596,\n",
       "       -1.18321596, -1.18321596, -1.18321596, -1.18321596, -1.18321596,\n",
       "       -1.18321596, -1.18321596, -1.18321596, -1.18321596, -1.18321596,\n",
       "       -1.18321596, -1.18321596, -1.18321596, -1.18321596, -1.18321596,\n",
       "       -1.18321596, -1.18321596, -1.18321596, -1.18321596, -1.18321596,\n",
       "       -1.18321596, -1.18321596, -1.18321596, -1.18321596, -1.18321596,\n",
       "       -1.18321596, -1.18321596, -1.18321596, -1.18321596, -1.18321596,\n",
       "       -1.18321596, -1.18321596, -1.18321596, -1.18321596, -1.18321596,\n",
       "       -1.18321596, -1.18321596, -1.18321596, -1.18321596, -1.18321596,\n",
       "       -1.18321596, -1.18321596, -1.18321596, -1.18321596, -1.18321596,\n",
       "       -1.18321596, -1.18321596, -1.18321596, -1.18321596, -1.18321596,\n",
       "       -1.18321596, -1.18321596, -1.18321596, -1.18321596, -1.18321596,\n",
       "       -1.18321596, -1.18321596, -1.18321596, -1.18321596, -1.18321596,\n",
       "       -1.18321596, -1.18321596, -1.18321596, -1.18321596, -1.18321596,\n",
       "       -1.18321596, -1.18321596, -1.18321596, -1.18321596, -1.18321596,\n",
       "       -1.18321596, -1.18321596, -1.18321596, -1.18321596, -1.18321596,\n",
       "       -1.18321596, -1.18321596, -1.18321596, -1.18321596, -1.18321596,\n",
       "       -1.18321596, -1.18321596, -1.18321596, -1.18321596, -1.18321596,\n",
       "       -1.18321596, -1.18321596, -1.18321596, -1.18321596, -1.18321596,\n",
       "       -1.18321596, -1.18321596, -1.18321596, -1.18321596, -1.18321596,\n",
       "       -1.18321596, -1.18321596, -1.18321596, -1.18321596, -1.18321596,\n",
       "       -1.18321596, -1.18321596, -1.18321596, -1.18321596, -1.18321596,\n",
       "       -1.18321596, -1.18321596, -1.18321596, -1.18321596, -1.18321596,\n",
       "       -1.18321596, -1.18321596, -1.18321596, -1.18321596, -1.18321596,\n",
       "       -1.18321596, -1.18321596, -1.18321596, -1.18321596, -1.18321596,\n",
       "       -1.18321596, -1.18321596, -1.18321596, -1.18321596, -1.18321596,\n",
       "       -1.18321596, -1.18321596, -1.18321596, -1.18321596, -1.18321596,\n",
       "       -1.18321596, -1.18321596, -1.18321596, -1.18321596, -1.18321596,\n",
       "       -1.18321596, -1.18321596, -1.18321596, -1.18321596, -1.18321596,\n",
       "       -1.18321596, -1.18321596, -1.18321596, -1.18321596, -1.18321596,\n",
       "       -1.18321596, -1.18321596, -1.18321596, -1.18321596, -1.18321596,\n",
       "       -1.18321596, -1.18321596, -1.18321596, -1.18321596, -1.18321596,\n",
       "       -1.18321596, -1.18321596, -1.18321596, -1.18321596, -1.18321596,\n",
       "       -1.18321596, -1.18321596, -1.18321596, -1.18321596, -1.18321596,\n",
       "       -1.18321596, -1.18321596, -1.18321596, -1.18321596, -1.18321596,\n",
       "       -1.18321596, -1.18321596, -1.18321596, -1.18321596, -1.18321596,\n",
       "       -1.18321596, -1.18321596, -1.18321596, -1.18321596, -1.18321596,\n",
       "       -1.18321596, -1.18321596, -1.18321596, -1.18321596, -1.18321596,\n",
       "       -1.18321596, -1.18321596, -1.18321596, -1.18321596, -1.18321596,\n",
       "       -1.18321596, -1.18321596, -1.18321596, -1.18321596, -1.18321596,\n",
       "       -1.18321596, -1.18321596, -1.18321596, -1.18321596, -1.18321596,\n",
       "       -1.18321596, -1.18321596, -1.18321596, -1.18321596, -1.18321596,\n",
       "       -1.18321596, -1.18321596, -1.18321596, -1.18321596, -1.18321596,\n",
       "       -1.18321596, -1.18321596, -1.18321596, -1.18321596, -1.18321596,\n",
       "       -1.18321596, -1.18321596, -1.18321596, -1.18321596, -1.18321596,\n",
       "       -1.18321596, -1.18321596, -1.18321596, -1.18321596, -1.18321596,\n",
       "       -1.18321596, -1.18321596, -1.18321596, -1.18321596, -1.18321596,\n",
       "       -1.18321596, -1.18321596, -1.18321596, -1.18321596, -1.18321596,\n",
       "       -1.18321596, -1.18321596, -1.18321596, -1.18321596, -1.18321596,\n",
       "       -1.18321596, -1.18321596, -1.18321596, -1.18321596, -1.18321596,\n",
       "       -1.18321596, -1.18321596, -1.18321596, -1.18321596, -1.18321596,\n",
       "       -1.18321596, -1.18321596, -1.18321596, -1.18321596, -1.18321596,\n",
       "       -1.18321596, -1.18321596, -1.18321596, -1.18321596, -1.18321596,\n",
       "       -1.18321596, -1.18321596, -1.18321596, -1.18321596, -1.18321596,\n",
       "       -1.18321596, -1.18321596, -1.18321596, -1.18321596, -1.18321596,\n",
       "       -1.18321596, -1.18321596, -1.18321596, -1.18321596, -1.18321596,\n",
       "       -1.18321596, -1.18321596, -1.18321596, -1.18321596, -1.18321596,\n",
       "       -1.18321596, -1.18321596, -1.18321596, -1.18321596, -1.18321596,\n",
       "       -1.18321596, -1.18321596, -1.18321596, -1.18321596, -1.18321596,\n",
       "       -1.18321596, -1.18321596, -1.18321596, -1.18321596, -1.18321596,\n",
       "       -1.18321596, -1.18321596, -1.18321596, -1.18321596, -1.18321596,\n",
       "       -1.18321596, -1.18321596, -1.18321596, -1.18321596, -1.18321596,\n",
       "       -1.18321596, -1.18321596, -1.18321596, -1.18321596, -1.18321596,\n",
       "       -1.18321596, -1.18321596, -1.18321596, -1.18321596, -1.18321596,\n",
       "       -1.18321596, -1.18321596, -1.18321596, -1.18321596, -1.18321596,\n",
       "       -1.18321596, -1.18321596, -1.18321596, -1.18321596, -1.18321596,\n",
       "       -1.18321596, -1.18321596, -1.18321596, -1.18321596, -1.18321596,\n",
       "       -1.18321596, -1.18321596, -1.18321596, -1.18321596, -1.18321596,\n",
       "       -1.18321596, -1.18321596, -1.18321596, -1.18321596, -1.18321596,\n",
       "       -1.18321596, -1.18321596, -1.18321596, -1.18321596, -1.18321596,\n",
       "       -1.18321596, -1.18321596, -1.18321596, -1.18321596, -1.18321596,\n",
       "       -1.18321596, -1.18321596, -1.18321596, -1.18321596, -1.18321596,\n",
       "       -1.18321596, -1.18321596, -1.18321596, -1.18321596, -1.18321596,\n",
       "       -1.18321596, -1.18321596, -1.18321596, -1.18321596, -1.18321596,\n",
       "       -1.18321596, -1.18321596, -1.18321596, -1.18321596, -1.18321596,\n",
       "       -1.18321596, -1.18321596, -1.18321596, -1.18321596, -1.18321596,\n",
       "       -1.18321596, -1.18321596, -1.18321596, -1.18321596, -1.18321596,\n",
       "       -1.18321596, -1.18321596, -1.18321596, -1.18321596, -1.18321596,\n",
       "       -1.18321596, -1.18321596, -1.18321596, -1.18321596, -1.18321596,\n",
       "       -1.18321596, -1.18321596, -1.18321596, -1.18321596, -1.18321596,\n",
       "       -1.18321596, -1.18321596, -1.18321596, -1.18321596, -1.18321596,\n",
       "       -1.18321596, -1.18321596, -1.18321596, -1.18321596, -1.18321596,\n",
       "       -1.18321596, -1.18321596, -1.18321596, -1.18321596, -1.18321596,\n",
       "       -1.18321596, -1.18321596, -1.18321596, -1.18321596, -1.18321596,\n",
       "       -1.18321596, -1.18321596, -1.18321596, -1.18321596, -1.18321596,\n",
       "       -1.18321596, -1.18321596, -1.18321596, -1.18321596, -1.18321596,\n",
       "       -1.18321596, -1.18321596, -1.18321596, -1.18321596, -1.18321596,\n",
       "       -1.18321596, -1.18321596, -1.18321596, -1.18321596, -1.18321596,\n",
       "       -1.18321596, -1.18321596, -1.18321596, -1.18321596, -1.18321596,\n",
       "       -1.18321596, -1.18321596, -1.18321596, -1.18321596, -1.18321596,\n",
       "       -1.18321596, -1.18321596, -1.18321596, -1.18321596, -1.18321596,\n",
       "       -1.18321596, -1.18321596, -1.18321596, -1.18321596, -1.18321596,\n",
       "       -1.18321596, -1.18321596, -1.18321596, -1.18321596, -1.18321596,\n",
       "       -1.18321596, -1.18321596, -1.18321596, -1.18321596, -1.18321596,\n",
       "       -1.18321596, -1.18321596, -1.18321596, -1.18321596, -1.18321596,\n",
       "       -1.18321596, -1.18321596, -1.18321596, -1.18321596, -1.18321596,\n",
       "       -1.18321596, -1.18321596, -1.18321596, -1.18321596, -1.18321596,\n",
       "       -1.18321596, -1.18321596, -1.18321596, -1.18321596, -1.18321596,\n",
       "       -1.18321596, -1.18321596, -1.18321596, -1.18321596, -1.18321596,\n",
       "       -1.18321596, -1.18321596, -1.18321596, -1.18321596, -1.18321596,\n",
       "       -1.18321596, -1.18321596, -1.18321596, -1.18321596, -1.18321596,\n",
       "       -1.18321596, -1.18321596, -1.18321596, -1.18321596, -1.18321596,\n",
       "       -1.18321596, -1.18321596, -1.18321596, -1.18321596, -1.18321596,\n",
       "       -1.18321596, -1.18321596, -1.18321596, -1.18321596, -1.18321596,\n",
       "       -1.18321596, -1.18321596, -1.18321596, -1.18321596, -1.18321596,\n",
       "       -1.18321596, -1.18321596, -1.18321596, -1.18321596, -1.18321596])"
      ]
     },
     "execution_count": 48,
     "metadata": {},
     "output_type": "execute_result"
    }
   ],
   "source": [
    "sol.T[0]"
   ]
  },
  {
   "cell_type": "markdown",
   "id": "efb79907-8fb8-4de3-b0bd-c50015bd667b",
   "metadata": {
    "canvas": {
     "comments": [],
     "componentType": "CodeCell",
     "copiedOriginId": null,
     "diskcache": false,
     "headerColor": "transparent",
     "id": "2131c171-2d34-4daa-9193-8992e62cd633",
     "isComponent": false,
     "name": "",
     "parents": []
    }
   },
   "source": [
    "Plot"
   ]
  },
  {
   "cell_type": "code",
   "execution_count": 49,
   "id": "24cfd3fc-c161-4f24-91d5-468636eb20a3",
   "metadata": {
    "canvas": {
     "comments": [],
     "componentType": "CodeCell",
     "copiedOriginId": null,
     "diskcache": false,
     "headerColor": "transparent",
     "id": "3e732cd5-242c-49c6-beb5-694ff86086c5",
     "isComponent": false,
     "name": "",
     "parents": []
    }
   },
   "outputs": [
    {
     "data": {
      "text/plain": [
       "[<matplotlib.lines.Line2D at 0x2a5e9196980>]"
      ]
     },
     "execution_count": 49,
     "metadata": {},
     "output_type": "execute_result"
    },
    {
     "data": {
      "image/png": "[encoded data removed]",
      "text/plain": [
       "<Figure size 432x288 with 1 Axes>"
      ]
     },
     "metadata": {
      "needs_background": "light"
     },
     "output_type": "display_data"
    }
   ],
   "source": [
    "v_sol = sol.T[0]\n",
    "plt.plot(t, v_sol)"
   ]
  },
  {
   "cell_type": "markdown",
   "id": "b9d639bd-1ab1-47d1-80fe-5f0ba163fb63",
   "metadata": {
    "canvas": {
     "comments": [],
     "componentType": "CodeCell",
     "copiedOriginId": null,
     "diskcache": false,
     "headerColor": "transparent",
     "id": "91c3063d-e1cf-4102-8b24-3e37281035ea",
     "isComponent": false,
     "name": "",
     "parents": []
    }
   },
   "source": [
    "**Coupled first order ODEs**\n",
    "\n",
    "$$ y_1' = y_1 + y_2^2 + 3x \\hspace{10mm} y_1(0)=0$$\n",
    "$$ y_2' = 3y_1 + y_2^3 - \\cos(x) \\hspace{10mm} y_2(0)=0$$\n",
    "\n",
    "Letting $S=(y_1, y_2)$ we need to write a function that returns $dS/dx = (dy_1/dx, dy_2/dx)$. The function $dS/dx$ can take in $S=(y_1, y_2)$ and $x$"
   ]
  },
  {
   "cell_type": "code",
   "execution_count": 50,
   "id": "79a5fdfb-4e75-4381-a09a-b029e1802915",
   "metadata": {
    "canvas": {
     "comments": [],
     "componentType": "CodeCell",
     "copiedOriginId": null,
     "diskcache": false,
     "headerColor": "transparent",
     "id": "e4e3cf19-6e00-4a10-9dfe-2a7af4b82599",
     "isComponent": false,
     "name": "",
     "parents": []
    }
   },
   "outputs": [],
   "source": [
    "def dSdx(S, x):\n",
    "    y1, y2 = S\n",
    "    return [y1 + y2**2 + 3*x,\n",
    "            3*y1 + y2**3 - np.cos(x)]\n",
    "\n",
    "y1_0 = 0\n",
    "y2_0 = 0\n",
    "S_0 = [y1_0, y2_0]"
   ]
  },
  {
   "cell_type": "code",
   "execution_count": 51,
   "id": "dbf3cc25-955a-4932-b32c-b49eb00b8010",
   "metadata": {
    "canvas": {
     "comments": [],
     "componentType": "CodeCell",
     "copiedOriginId": null,
     "diskcache": false,
     "headerColor": "transparent",
     "id": "c4e92069-7c49-4223-a10b-4799fd914130",
     "isComponent": false,
     "name": "",
     "parents": []
    }
   },
   "outputs": [],
   "source": [
    "x = np.linspace(0, 1, 100)\n",
    "sol = odeint(dSdx, S_0, x)"
   ]
  },
  {
   "cell_type": "code",
   "execution_count": 52,
   "id": "2e5dd06a-d6a9-4c9b-a6bf-ae5f4dad39b1",
   "metadata": {
    "canvas": {
     "comments": [],
     "componentType": "CodeCell",
     "copiedOriginId": null,
     "diskcache": false,
     "headerColor": "transparent",
     "id": "cd91bc5f-b7bf-4836-bc8d-7dd80dc91c8d",
     "isComponent": false,
     "name": "",
     "parents": []
    },
    "collapsed": true,
    "jupyter": {
     "outputs_hidden": true
    },
    "tags": []
   },
   "outputs": [
    {
     "data": {
      "text/plain": [
       "array([[ 0.00000000e+00,  0.00000000e+00],\n",
       "       [ 1.53914061e-04, -1.00992734e-02],\n",
       "       [ 6.19093356e-04, -2.01882005e-02],\n",
       "       [ 1.40076628e-03, -3.02563164e-02],\n",
       "       [ 2.50418953e-03, -4.02930766e-02],\n",
       "       [ 3.93464633e-03, -5.02878361e-02],\n",
       "       [ 5.69744401e-03, -6.02298432e-02],\n",
       "       [ 7.79789517e-03, -7.01082428e-02],\n",
       "       [ 1.02413187e-02, -7.99120712e-02],\n",
       "       [ 1.30330245e-02, -8.96302498e-02],\n",
       "       [ 1.61783065e-02, -9.92515816e-02],\n",
       "       [ 1.96824391e-02, -1.08764749e-01],\n",
       "       [ 2.35506573e-02, -1.18158303e-01],\n",
       "       [ 2.77881638e-02, -1.27420669e-01],\n",
       "       [ 3.24001125e-02, -1.36540133e-01],\n",
       "       [ 3.73915921e-02, -1.45504834e-01],\n",
       "       [ 4.27676179e-02, -1.54302762e-01],\n",
       "       [ 4.85331404e-02, -1.62921756e-01],\n",
       "       [ 5.46930282e-02, -1.71349495e-01],\n",
       "       [ 6.12520553e-02, -1.79573493e-01],\n",
       "       [ 6.82148995e-02, -1.87581095e-01],\n",
       "       [ 7.55861308e-02, -1.95359467e-01],\n",
       "       [ 8.33702071e-02, -2.02895598e-01],\n",
       "       [ 9.15714669e-02, -2.10176290e-01],\n",
       "       [ 1.00194121e-01, -2.17188157e-01],\n",
       "       [ 1.09242251e-01, -2.23917621e-01],\n",
       "       [ 1.18719801e-01, -2.30350906e-01],\n",
       "       [ 1.28630571e-01, -2.36474041e-01],\n",
       "       [ 1.38978219e-01, -2.42272857e-01],\n",
       "       [ 1.49766252e-01, -2.47732981e-01],\n",
       "       [ 1.60998020e-01, -2.52839835e-01],\n",
       "       [ 1.72676732e-01, -2.57578659e-01],\n",
       "       [ 1.84805434e-01, -2.61934483e-01],\n",
       "       [ 1.97387014e-01, -2.65892141e-01],\n",
       "       [ 2.10424222e-01, -2.69436297e-01],\n",
       "       [ 2.23919648e-01, -2.72551418e-01],\n",
       "       [ 2.37875730e-01, -2.75221791e-01],\n",
       "       [ 2.52294784e-01, -2.77431559e-01],\n",
       "       [ 2.67178978e-01, -2.79164693e-01],\n",
       "       [ 2.82530347e-01, -2.80405012e-01],\n",
       "       [ 2.98350829e-01, -2.81136222e-01],\n",
       "       [ 3.14642248e-01, -2.81341905e-01],\n",
       "       [ 3.31406342e-01, -2.81005542e-01],\n",
       "       [ 3.48644774e-01, -2.80110529e-01],\n",
       "       [ 3.66359140e-01, -2.78640187e-01],\n",
       "       [ 3.84551013e-01, -2.76577800e-01],\n",
       "       [ 4.03221942e-01, -2.73906616e-01],\n",
       "       [ 4.22373488e-01, -2.70609873e-01],\n",
       "       [ 4.42007253e-01, -2.66670823e-01],\n",
       "       [ 4.62124894e-01, -2.62072745e-01],\n",
       "       [ 4.82728181e-01, -2.56798966e-01],\n",
       "       [ 5.03819005e-01, -2.50832883e-01],\n",
       "       [ 5.25399429e-01, -2.44157971e-01],\n",
       "       [ 5.47471735e-01, -2.36757804e-01],\n",
       "       [ 5.70038442e-01, -2.28616068e-01],\n",
       "       [ 5.93102385e-01, -2.19716553e-01],\n",
       "       [ 6.16666735e-01, -2.10043183e-01],\n",
       "       [ 6.40735063e-01, -1.99579993e-01],\n",
       "       [ 6.65311401e-01, -1.88311119e-01],\n",
       "       [ 6.90400276e-01, -1.76220821e-01],\n",
       "       [ 7.16006799e-01, -1.63293405e-01],\n",
       "       [ 7.42136714e-01, -1.49513226e-01],\n",
       "       [ 7.68796463e-01, -1.34864636e-01],\n",
       "       [ 7.95993253e-01, -1.19331954e-01],\n",
       "       [ 8.23735143e-01, -1.02899359e-01],\n",
       "       [ 8.52031104e-01, -8.55508556e-02],\n",
       "       [ 8.80891112e-01, -6.72701355e-02],\n",
       "       [ 9.10326223e-01, -4.80405161e-02],\n",
       "       [ 9.40348671e-01, -2.78447548e-02],\n",
       "       [ 9.70971957e-01, -6.66492984e-03],\n",
       "       [ 1.00221095e+00,  1.55177321e-02],\n",
       "       [ 1.03408198e+00,  3.87230761e-02],\n",
       "       [ 1.06660299e+00,  6.29722272e-02],\n",
       "       [ 1.09979361e+00,  8.82878711e-02],\n",
       "       [ 1.13367532e+00,  1.14694542e-01],\n",
       "       [ 1.16827157e+00,  1.42218950e-01],\n",
       "       [ 1.20360797e+00,  1.70890394e-01],\n",
       "       [ 1.23971243e+00,  2.00741167e-01],\n",
       "       [ 1.27661538e+00,  2.31807067e-01],\n",
       "       [ 1.31434994e+00,  2.64127972e-01],\n",
       "       [ 1.35295223e+00,  2.97748502e-01],\n",
       "       [ 1.39246158e+00,  3.32718734e-01],\n",
       "       [ 1.43292087e+00,  3.69095107e-01],\n",
       "       [ 1.47437687e+00,  4.06941417e-01],\n",
       "       [ 1.51688069e+00,  4.46329999e-01],\n",
       "       [ 1.56048820e+00,  4.87343105e-01],\n",
       "       [ 1.60526063e+00,  5.30074560e-01],\n",
       "       [ 1.65126523e+00,  5.74631731e-01],\n",
       "       [ 1.69857604e+00,  6.21137874e-01],\n",
       "       [ 1.74727479e+00,  6.69734974e-01],\n",
       "       [ 1.79745207e+00,  7.20587249e-01],\n",
       "       [ 1.84920864e+00,  7.73885430e-01],\n",
       "       [ 1.90265708e+00,  8.29852098e-01],\n",
       "       [ 1.95792385e+00,  8.88748463e-01],\n",
       "       [ 2.01515175e+00,  9.50882831e-01],\n",
       "       [ 2.07450310e+00,  1.01662163e+00],\n",
       "       [ 2.13616376e+00,  1.08640368e+00],\n",
       "       [ 2.20034823e+00,  1.16075924e+00],\n",
       "       [ 2.26730636e+00,  1.24033522e+00],\n",
       "       [ 2.33733216e+00,  1.32592999e+00]])"
      ]
     },
     "execution_count": 52,
     "metadata": {},
     "output_type": "execute_result"
    }
   ],
   "source": [
    "sol"
   ]
  },
  {
   "cell_type": "code",
   "execution_count": 53,
   "id": "1261ed1e-b22e-4f77-9b05-181604c43e9b",
   "metadata": {
    "canvas": {
     "comments": [],
     "componentType": "CodeCell",
     "copiedOriginId": null,
     "diskcache": false,
     "headerColor": "transparent",
     "id": "a8ca626a-43b7-41a9-9372-225b11de73b4",
     "isComponent": false,
     "name": "",
     "parents": []
    },
    "collapsed": true,
    "jupyter": {
     "outputs_hidden": true
    },
    "tags": []
   },
   "outputs": [
    {
     "data": {
      "text/plain": [
       "array([[ 0.00000000e+00,  1.53914061e-04,  6.19093356e-04,\n",
       "         1.40076628e-03,  2.50418953e-03,  3.93464633e-03,\n",
       "         5.69744401e-03,  7.79789517e-03,  1.02413187e-02,\n",
       "         1.30330245e-02,  1.61783065e-02,  1.96824391e-02,\n",
       "         2.35506573e-02,  2.77881638e-02,  3.24001125e-02,\n",
       "         3.73915921e-02,  4.27676179e-02,  4.85331404e-02,\n",
       "         5.46930282e-02,  6.12520553e-02,  6.82148995e-02,\n",
       "         7.55861308e-02,  8.33702071e-02,  9.15714669e-02,\n",
       "         1.00194121e-01,  1.09242251e-01,  1.18719801e-01,\n",
       "         1.28630571e-01,  1.38978219e-01,  1.49766252e-01,\n",
       "         1.60998020e-01,  1.72676732e-01,  1.84805434e-01,\n",
       "         1.97387014e-01,  2.10424222e-01,  2.23919648e-01,\n",
       "         2.37875730e-01,  2.52294784e-01,  2.67178978e-01,\n",
       "         2.82530347e-01,  2.98350829e-01,  3.14642248e-01,\n",
       "         3.31406342e-01,  3.48644774e-01,  3.66359140e-01,\n",
       "         3.84551013e-01,  4.03221942e-01,  4.22373488e-01,\n",
       "         4.42007253e-01,  4.62124894e-01,  4.82728181e-01,\n",
       "         5.03819005e-01,  5.25399429e-01,  5.47471735e-01,\n",
       "         5.70038442e-01,  5.93102385e-01,  6.16666735e-01,\n",
       "         6.40735063e-01,  6.65311401e-01,  6.90400276e-01,\n",
       "         7.16006799e-01,  7.42136714e-01,  7.68796463e-01,\n",
       "         7.95993253e-01,  8.23735143e-01,  8.52031104e-01,\n",
       "         8.80891112e-01,  9.10326223e-01,  9.40348671e-01,\n",
       "         9.70971957e-01,  1.00221095e+00,  1.03408198e+00,\n",
       "         1.06660299e+00,  1.09979361e+00,  1.13367532e+00,\n",
       "         1.16827157e+00,  1.20360797e+00,  1.23971243e+00,\n",
       "         1.27661538e+00,  1.31434994e+00,  1.35295223e+00,\n",
       "         1.39246158e+00,  1.43292087e+00,  1.47437687e+00,\n",
       "         1.51688069e+00,  1.56048820e+00,  1.60526063e+00,\n",
       "         1.65126523e+00,  1.69857604e+00,  1.74727479e+00,\n",
       "         1.79745207e+00,  1.84920864e+00,  1.90265708e+00,\n",
       "         1.95792385e+00,  2.01515175e+00,  2.07450310e+00,\n",
       "         2.13616376e+00,  2.20034823e+00,  2.26730636e+00,\n",
       "         2.33733216e+00],\n",
       "       [ 0.00000000e+00, -1.00992734e-02, -2.01882005e-02,\n",
       "        -3.02563164e-02, -4.02930766e-02, -5.02878361e-02,\n",
       "        -6.02298432e-02, -7.01082428e-02, -7.99120712e-02,\n",
       "        -8.96302498e-02, -9.92515816e-02, -1.08764749e-01,\n",
       "        -1.18158303e-01, -1.27420669e-01, -1.36540133e-01,\n",
       "        -1.45504834e-01, -1.54302762e-01, -1.62921756e-01,\n",
       "        -1.71349495e-01, -1.79573493e-01, -1.87581095e-01,\n",
       "        -1.95359467e-01, -2.02895598e-01, -2.10176290e-01,\n",
       "        -2.17188157e-01, -2.23917621e-01, -2.30350906e-01,\n",
       "        -2.36474041e-01, -2.42272857e-01, -2.47732981e-01,\n",
       "        -2.52839835e-01, -2.57578659e-01, -2.61934483e-01,\n",
       "        -2.65892141e-01, -2.69436297e-01, -2.72551418e-01,\n",
       "        -2.75221791e-01, -2.77431559e-01, -2.79164693e-01,\n",
       "        -2.80405012e-01, -2.81136222e-01, -2.81341905e-01,\n",
       "        -2.81005542e-01, -2.80110529e-01, -2.78640187e-01,\n",
       "        -2.76577800e-01, -2.73906616e-01, -2.70609873e-01,\n",
       "        -2.66670823e-01, -2.62072745e-01, -2.56798966e-01,\n",
       "        -2.50832883e-01, -2.44157971e-01, -2.36757804e-01,\n",
       "        -2.28616068e-01, -2.19716553e-01, -2.10043183e-01,\n",
       "        -1.99579993e-01, -1.88311119e-01, -1.76220821e-01,\n",
       "        -1.63293405e-01, -1.49513226e-01, -1.34864636e-01,\n",
       "        -1.19331954e-01, -1.02899359e-01, -8.55508556e-02,\n",
       "        -6.72701355e-02, -4.80405161e-02, -2.78447548e-02,\n",
       "        -6.66492984e-03,  1.55177321e-02,  3.87230761e-02,\n",
       "         6.29722272e-02,  8.82878711e-02,  1.14694542e-01,\n",
       "         1.42218950e-01,  1.70890394e-01,  2.00741167e-01,\n",
       "         2.31807067e-01,  2.64127972e-01,  2.97748502e-01,\n",
       "         3.32718734e-01,  3.69095107e-01,  4.06941417e-01,\n",
       "         4.46329999e-01,  4.87343105e-01,  5.30074560e-01,\n",
       "         5.74631731e-01,  6.21137874e-01,  6.69734974e-01,\n",
       "         7.20587249e-01,  7.73885430e-01,  8.29852098e-01,\n",
       "         8.88748463e-01,  9.50882831e-01,  1.01662163e+00,\n",
       "         1.08640368e+00,  1.16075924e+00,  1.24033522e+00,\n",
       "         1.32592999e+00]])"
      ]
     },
     "execution_count": 53,
     "metadata": {},
     "output_type": "execute_result"
    }
   ],
   "source": [
    "sol.T"
   ]
  },
  {
   "cell_type": "code",
   "execution_count": 54,
   "id": "9a0186ed-63cc-4d05-b01c-c5b8a87ee397",
   "metadata": {
    "canvas": {
     "comments": [],
     "componentType": "CodeCell",
     "copiedOriginId": null,
     "diskcache": false,
     "headerColor": "transparent",
     "id": "ac6269a5-3152-4451-be2e-7a33e42e04cb",
     "isComponent": false,
     "name": "",
     "parents": []
    }
   },
   "outputs": [],
   "source": [
    "y1, y2 = [sol.T[0], sol.T[1]]"
   ]
  },
  {
   "cell_type": "code",
   "execution_count": 55,
   "id": "26a10e72-9113-4804-a403-7ad53876849b",
   "metadata": {
    "canvas": {
     "comments": [],
     "componentType": "CodeCell",
     "copiedOriginId": null,
     "diskcache": false,
     "headerColor": "transparent",
     "id": "90f5a07e-4441-43a9-971c-90f00d7c6eb2",
     "isComponent": false,
     "name": "",
     "parents": []
    }
   },
   "outputs": [
    {
     "data": {
      "text/plain": [
       "array([0.00000000e+00, 1.53914061e-04, 6.19093356e-04, 1.40076628e-03,\n",
       "       2.50418953e-03, 3.93464633e-03, 5.69744401e-03, 7.79789517e-03,\n",
       "       1.02413187e-02, 1.30330245e-02, 1.61783065e-02, 1.96824391e-02,\n",
       "       2.35506573e-02, 2.77881638e-02, 3.24001125e-02, 3.73915921e-02,\n",
       "       4.27676179e-02, 4.85331404e-02, 5.46930282e-02, 6.12520553e-02,\n",
       "       6.82148995e-02, 7.55861308e-02, 8.33702071e-02, 9.15714669e-02,\n",
       "       1.00194121e-01, 1.09242251e-01, 1.18719801e-01, 1.28630571e-01,\n",
       "       1.38978219e-01, 1.49766252e-01, 1.60998020e-01, 1.72676732e-01,\n",
       "       1.84805434e-01, 1.97387014e-01, 2.10424222e-01, 2.23919648e-01,\n",
       "       2.37875730e-01, 2.52294784e-01, 2.67178978e-01, 2.82530347e-01,\n",
       "       2.98350829e-01, 3.14642248e-01, 3.31406342e-01, 3.48644774e-01,\n",
       "       3.66359140e-01, 3.84551013e-01, 4.03221942e-01, 4.22373488e-01,\n",
       "       4.42007253e-01, 4.62124894e-01, 4.82728181e-01, 5.03819005e-01,\n",
       "       5.25399429e-01, 5.47471735e-01, 5.70038442e-01, 5.93102385e-01,\n",
       "       6.16666735e-01, 6.40735063e-01, 6.65311401e-01, 6.90400276e-01,\n",
       "       7.16006799e-01, 7.42136714e-01, 7.68796463e-01, 7.95993253e-01,\n",
       "       8.23735143e-01, 8.52031104e-01, 8.80891112e-01, 9.10326223e-01,\n",
       "       9.40348671e-01, 9.70971957e-01, 1.00221095e+00, 1.03408198e+00,\n",
       "       1.06660299e+00, 1.09979361e+00, 1.13367532e+00, 1.16827157e+00,\n",
       "       1.20360797e+00, 1.23971243e+00, 1.27661538e+00, 1.31434994e+00,\n",
       "       1.35295223e+00, 1.39246158e+00, 1.43292087e+00, 1.47437687e+00,\n",
       "       1.51688069e+00, 1.56048820e+00, 1.60526063e+00, 1.65126523e+00,\n",
       "       1.69857604e+00, 1.74727479e+00, 1.79745207e+00, 1.84920864e+00,\n",
       "       1.90265708e+00, 1.95792385e+00, 2.01515175e+00, 2.07450310e+00,\n",
       "       2.13616376e+00, 2.20034823e+00, 2.26730636e+00, 2.33733216e+00])"
      ]
     },
     "execution_count": 55,
     "metadata": {},
     "output_type": "execute_result"
    }
   ],
   "source": [
    "y1"
   ]
  },
  {
   "cell_type": "code",
   "execution_count": 56,
   "id": "71bf43e1-fadf-478f-b937-3a7d46c38270",
   "metadata": {
    "canvas": {
     "comments": [],
     "componentType": "CodeCell",
     "copiedOriginId": null,
     "diskcache": false,
     "headerColor": "transparent",
     "id": "619302dd-4b5c-45e9-bd1d-b23a268705e0",
     "isComponent": false,
     "name": "",
     "parents": []
    }
   },
   "outputs": [
    {
     "data": {
      "text/plain": [
       "array([ 0.        , -0.01009927, -0.0201882 , -0.03025632, -0.04029308,\n",
       "       -0.05028784, -0.06022984, -0.07010824, -0.07991207, -0.08963025,\n",
       "       -0.09925158, -0.10876475, -0.1181583 , -0.12742067, -0.13654013,\n",
       "       -0.14550483, -0.15430276, -0.16292176, -0.17134949, -0.17957349,\n",
       "       -0.18758109, -0.19535947, -0.2028956 , -0.21017629, -0.21718816,\n",
       "       -0.22391762, -0.23035091, -0.23647404, -0.24227286, -0.24773298,\n",
       "       -0.25283984, -0.25757866, -0.26193448, -0.26589214, -0.2694363 ,\n",
       "       -0.27255142, -0.27522179, -0.27743156, -0.27916469, -0.28040501,\n",
       "       -0.28113622, -0.2813419 , -0.28100554, -0.28011053, -0.27864019,\n",
       "       -0.2765778 , -0.27390662, -0.27060987, -0.26667082, -0.26207275,\n",
       "       -0.25679897, -0.25083288, -0.24415797, -0.2367578 , -0.22861607,\n",
       "       -0.21971655, -0.21004318, -0.19957999, -0.18831112, -0.17622082,\n",
       "       -0.16329341, -0.14951323, -0.13486464, -0.11933195, -0.10289936,\n",
       "       -0.08555086, -0.06727014, -0.04804052, -0.02784475, -0.00666493,\n",
       "        0.01551773,  0.03872308,  0.06297223,  0.08828787,  0.11469454,\n",
       "        0.14221895,  0.17089039,  0.20074117,  0.23180707,  0.26412797,\n",
       "        0.2977485 ,  0.33271873,  0.36909511,  0.40694142,  0.44633   ,\n",
       "        0.4873431 ,  0.53007456,  0.57463173,  0.62113787,  0.66973497,\n",
       "        0.72058725,  0.77388543,  0.8298521 ,  0.88874846,  0.95088283,\n",
       "        1.01662163,  1.08640368,  1.16075924,  1.24033522,  1.32592999])"
      ]
     },
     "execution_count": 56,
     "metadata": {},
     "output_type": "execute_result"
    }
   ],
   "source": [
    "y2"
   ]
  },
  {
   "cell_type": "code",
   "execution_count": 57,
   "id": "9d610feb-68d9-4919-9598-b4283687e912",
   "metadata": {
    "canvas": {
     "comments": [],
     "componentType": "CodeCell",
     "copiedOriginId": null,
     "diskcache": false,
     "headerColor": "transparent",
     "id": "46f5b4e2-93a2-4466-8d19-d79026d1f2bc",
     "isComponent": false,
     "name": "",
     "parents": []
    }
   },
   "outputs": [
    {
     "data": {
      "text/plain": [
       "[<matplotlib.lines.Line2D at 0x2a5e92673a0>]"
      ]
     },
     "execution_count": 57,
     "metadata": {},
     "output_type": "execute_result"
    },
    {
     "data": {
      "image/png": "[encoded data removed]",
      "text/plain": [
       "<Figure size 432x288 with 1 Axes>"
      ]
     },
     "metadata": {
      "needs_background": "light"
     },
     "output_type": "display_data"
    }
   ],
   "source": [
    "plt.plot(x, y1)\n",
    "plt.plot(x, y2)"
   ]
  },
  {
   "cell_type": "markdown",
   "id": "9423b869-b3d5-45cd-bab2-2f4e828e9a57",
   "metadata": {
    "canvas": {
     "comments": [],
     "componentType": "CodeCell",
     "copiedOriginId": null,
     "diskcache": false,
     "headerColor": "transparent",
     "id": "bdbc1d74-a843-475c-b6a2-6430642699e8",
     "isComponent": false,
     "name": "",
     "parents": []
    }
   },
   "source": [
    "**Second Order ODEs**\n",
    "\n",
    "Equation for a pendulum\n",
    "\n",
    "$$\\theta'' - \\sin(\\theta) = 0$$\n",
    "\n",
    "Scipy can only solve coupled first order ODEs, but **any second order ODE can be turned into two coupled first order ODEs**. The same thing goes for higher order ODEs. \n",
    "\n",
    "Define $\\omega = d\\theta/dt$ so that one has the following coupled ODEs\n",
    "\n",
    "$$d \\omega / dt = \\sin(\\theta)$$\n",
    "$$d \\theta / dt = \\omega $$\n",
    "\n",
    "Let $S = (\\theta, \\omega)$"
   ]
  },
  {
   "cell_type": "code",
   "execution_count": 58,
   "id": "b8ac7624-2845-4654-8b7c-7e023092271b",
   "metadata": {
    "canvas": {
     "comments": [],
     "componentType": "CodeCell",
     "copiedOriginId": null,
     "diskcache": false,
     "headerColor": "transparent",
     "id": "45978972-e484-469e-9abe-75ae284218ef",
     "isComponent": false,
     "name": "",
     "parents": []
    }
   },
   "outputs": [],
   "source": [
    "def dSdt(S, t):\n",
    "    theta, omega = S\n",
    "    return [omega,\n",
    "            np.sin(theta)]\n",
    "\n",
    "theta_0 = np.pi/4 # setting initial angle of the pendulum as pi/4\n",
    "omega_0 = 0 # initial angular velocity is zero\n",
    "S_0 = [theta_0, omega_0]"
   ]
  },
  {
   "cell_type": "code",
   "execution_count": 59,
   "id": "3d38779b-3cfe-4289-bd4e-12fb774a6fb3",
   "metadata": {
    "canvas": {
     "comments": [],
     "componentType": "CodeCell",
     "copiedOriginId": null,
     "diskcache": false,
     "headerColor": "transparent",
     "id": "15e7d3db-78b0-4f73-a274-33379375f6c2",
     "isComponent": false,
     "name": "",
     "parents": []
    }
   },
   "outputs": [],
   "source": [
    "t = np.linspace(0, 20, 100)\n",
    "sol = odeint(dSdt, S_0, t)\n",
    "theta, omega = sol.T"
   ]
  },
  {
   "cell_type": "code",
   "execution_count": 60,
   "id": "f1b6b84f-a333-42dc-8ca0-af7bc21c4720",
   "metadata": {
    "canvas": {
     "comments": [],
     "componentType": "CodeCell",
     "copiedOriginId": null,
     "diskcache": false,
     "headerColor": "transparent",
     "id": "306d21bf-9d02-40c0-991f-c690fbe2acf3",
     "isComponent": false,
     "name": "",
     "parents": []
    }
   },
   "outputs": [
    {
     "data": {
      "text/plain": [
       "array([0.78539816, 0.79986207, 0.84366606, 0.91802008, 1.02483987,\n",
       "       1.16655539, 1.34576295, 1.56465214, 1.8241588 , 2.12288479,\n",
       "       2.4560094 , 2.81464874, 3.18620797, 3.55597383, 3.909537  ,\n",
       "       4.23509027, 4.52473432, 4.77455111, 4.98380505, 5.15382323,\n",
       "       5.28695896, 5.38581128, 5.45271189, 5.48942068, 5.49696242,\n",
       "       5.47555266, 5.42458391, 5.34266614, 5.22773847, 5.07729222,\n",
       "       4.88876634, 4.66018347, 4.39106169, 4.08352608, 3.74333932,\n",
       "       3.38035106, 3.00785089, 2.64071279, 2.29290655, 1.97537606,\n",
       "       1.69503381, 1.45494359, 1.25524424, 1.09427737, 0.96957062,\n",
       "       0.87855116, 0.81900266, 0.78933015, 0.78869816, 0.8170886 ,\n",
       "       0.87530193, 0.96490209, 1.08808262, 1.24740867, 1.44536988,\n",
       "       1.68367901, 1.96229927, 2.27831737, 2.62500044, 2.99156934,\n",
       "       3.36414856, 3.72785062, 4.06927009, 4.378384  , 4.64925393,\n",
       "       4.87961502, 5.06985915, 5.2219193 , 5.33834626, 5.42166079,\n",
       "       5.47394904, 5.49663335, 5.49035672, 5.4549397 , 5.38939189,\n",
       "       5.29198292, 5.16040103, 4.99204984, 4.78455109, 4.53651265,\n",
       "       4.24855593, 3.92443879, 3.57187968, 3.20253295, 2.83073737,\n",
       "       2.47124647, 2.13678966, 1.83642943, 1.57515626, 1.35449661,\n",
       "       1.17359295, 1.03029079, 0.92199772, 0.84626784, 0.80115801,\n",
       "       0.78542489, 0.79862037, 0.84112077, 0.91410252, 1.01945358])"
      ]
     },
     "execution_count": 60,
     "metadata": {},
     "output_type": "execute_result"
    }
   ],
   "source": [
    "theta"
   ]
  },
  {
   "cell_type": "code",
   "execution_count": 61,
   "id": "849f4d72-9deb-45a7-b27f-8854553e68d3",
   "metadata": {
    "canvas": {
     "comments": [],
     "componentType": "CodeCell",
     "copiedOriginId": null,
     "diskcache": false,
     "headerColor": "transparent",
     "id": "51c61a2b-7c02-40e7-a306-5c34875d448c",
     "isComponent": false,
     "name": "",
     "parents": []
    }
   },
   "outputs": [
    {
     "data": {
      "text/plain": [
       "array([ 0.        ,  0.14353491,  0.29113002,  0.44657046,  0.61297803,\n",
       "        0.79219416,  0.98383729,  1.1840293 ,  1.38402847,  1.56944163,\n",
       "        1.72113729,  1.81886502,  1.84722038,  1.80137298,  1.68905116,\n",
       "        1.52740843,  1.33690839,  1.13576818,  0.93702812,  0.74815791,\n",
       "        0.57207156,  0.40851435,  0.25526642,  0.10900176, -0.03415969,\n",
       "       -0.17830129, -0.32744485, -0.48525896, -0.65462636, -0.83695629,\n",
       "       -1.0311572 , -1.23230574, -1.43033784, -1.60955433, -1.75011713,\n",
       "       -1.83234228, -1.84291975, -1.78003772, -1.65413218, -1.48373821,\n",
       "       -1.28920537, -1.08767029, -0.8908038 , -0.70486645, -0.53188985,\n",
       "       -0.37105234, -0.21980449, -0.07464707,  0.06837535,  0.21335467,\n",
       "        0.36425816,  0.52461363,  0.69702595,  0.88241339,  1.07889696,\n",
       "        1.28042987,  1.47559161,  1.64745803,  1.77573333,  1.8416702 ,\n",
       "        1.83436287,  1.7550635 ,  1.61666407,  1.43870528,  1.24112872,\n",
       "        1.0398648 ,  0.84522385,  0.66232901,  0.49241004,  0.33414304,\n",
       "        0.18469306,  0.04041541, -0.10270298, -0.24874813, -0.40161528,\n",
       "       -0.56466436, -0.74017908, -0.928523  , -1.12694962, -1.32821557,\n",
       "       -1.51953071, -1.68286442, -1.79775039, -1.84675433, -1.82163627,\n",
       "       -1.7266811 , -1.57693491, -1.39257148, -1.19286827, -0.99246196,\n",
       "       -0.80033297, -0.62054473, -0.45360303, -0.29774142, -0.14987913,\n",
       "       -0.00625068,  0.13719827,  0.28453327,  0.4395584 ,  0.60543531])"
      ]
     },
     "execution_count": 61,
     "metadata": {},
     "output_type": "execute_result"
    }
   ],
   "source": [
    "omega"
   ]
  },
  {
   "cell_type": "code",
   "execution_count": 62,
   "id": "a1a12501-3898-4215-92c4-5da8e96d7682",
   "metadata": {
    "canvas": {
     "comments": [],
     "componentType": "CodeCell",
     "copiedOriginId": null,
     "diskcache": false,
     "headerColor": "transparent",
     "id": "b0aec34d-d507-47b7-94c4-6b9384e26af5",
     "isComponent": false,
     "name": "",
     "parents": []
    }
   },
   "outputs": [
    {
     "data": {
      "image/png": "[encoded data removed]",
      "text/plain": [
       "<Figure size 432x288 with 1 Axes>"
      ]
     },
     "metadata": {
      "needs_background": "light"
     },
     "output_type": "display_data"
    }
   ],
   "source": [
    "plt.plot(t, theta) #the actual solution\n",
    "plt.show()"
   ]
  },
  {
   "cell_type": "code",
   "execution_count": 63,
   "id": "c4d141a8-2925-4e18-b461-58902f67d9f1",
   "metadata": {
    "canvas": {
     "comments": [],
     "componentType": "CodeCell",
     "copiedOriginId": null,
     "diskcache": false,
     "headerColor": "transparent",
     "id": "da18ba2a-568d-4f10-8a86-b690404fd4ca",
     "isComponent": false,
     "name": "",
     "parents": []
    }
   },
   "outputs": [
    {
     "data": {
      "text/plain": [
       "[<matplotlib.lines.Line2D at 0x2a5e933a740>]"
      ]
     },
     "execution_count": 63,
     "metadata": {},
     "output_type": "execute_result"
    },
    {
     "data": {
      "image/png": "[encoded data removed]",
      "text/plain": [
       "<Figure size 432x288 with 1 Axes>"
      ]
     },
     "metadata": {
      "needs_background": "light"
     },
     "output_type": "display_data"
    }
   ],
   "source": [
    "plt.plot(t, omega)"
   ]
  },
  {
   "cell_type": "markdown",
   "id": "76e678cb-13ce-4833-9679-7434234f04f0",
   "metadata": {
    "canvas": {
     "comments": [],
     "componentType": "CodeCell",
     "copiedOriginId": null,
     "diskcache": false,
     "headerColor": "transparent",
     "id": "3404c749-b620-446b-b6d5-9103e3e3c11e",
     "isComponent": false,
     "name": "",
     "parents": []
    }
   },
   "source": [
    "### Fourier Transforms"
   ]
  },
  {
   "cell_type": "markdown",
   "id": "178a7228-13bd-4ca6-87ac-41b562d65ab1",
   "metadata": {
    "canvas": {
     "comments": [],
     "componentType": "CodeCell",
     "copiedOriginId": null,
     "diskcache": false,
     "headerColor": "transparent",
     "id": "8cd25008-e898-473e-b5b5-03d32fb9e50b",
     "isComponent": false,
     "name": "",
     "parents": []
    }
   },
   "source": [
    "The discrete Fourier transform is defined as\n",
    "\n",
    "$$y[k] = \\sum_{n=0}^{N-1} e^{-2 \\pi i n (k / N)} x[n] $$\n",
    "\n",
    "* $k/N$ represents a specific frequency (dimensionless)\n",
    "* can be converted to a frequency (Hz) if you know the spacing in $x$"
   ]
  },
  {
   "cell_type": "code",
   "execution_count": 64,
   "id": "514ce3f5-a248-487d-9e7a-d16ada02665e",
   "metadata": {
    "canvas": {
     "comments": [],
     "componentType": "CodeCell",
     "copiedOriginId": null,
     "diskcache": false,
     "headerColor": "transparent",
     "id": "9d0f247b-2bc1-4b6d-b5f3-af59e9ba7a33",
     "isComponent": false,
     "name": "",
     "parents": []
    }
   },
   "outputs": [
    {
     "data": {
      "text/plain": [
       "[<matplotlib.lines.Line2D at 0x2a5e939feb0>]"
      ]
     },
     "execution_count": 64,
     "metadata": {},
     "output_type": "execute_result"
    },
    {
     "data": {
      "image/png": "[encoded data removed]",
      "text/plain": [
       "<Figure size 432x288 with 1 Axes>"
      ]
     },
     "metadata": {
      "needs_background": "light"
     },
     "output_type": "display_data"
    }
   ],
   "source": [
    "# a time series\n",
    "x = np.linspace(0, 10*np.pi, 100)\n",
    "y = np.sin(2*np.pi*x) + np.sin(4*np.pi*x) + 0.1*np.random.randn(len(x))\n",
    "plt.plot(x, y)"
   ]
  },
  {
   "cell_type": "code",
   "execution_count": 65,
   "id": "5a6a0a89-2e2b-4c8e-a1ba-3677b22868f7",
   "metadata": {
    "canvas": {
     "comments": [],
     "componentType": "CodeCell",
     "copiedOriginId": null,
     "diskcache": false,
     "headerColor": "transparent",
     "id": "827b16c7-5ad8-4fe3-9924-c827ea7eddb6",
     "isComponent": false,
     "name": "",
     "parents": []
    }
   },
   "outputs": [],
   "source": [
    "from scipy.fft import fft, fftfreq #fast fourier transform\n",
    "N = len(y)\n",
    "yf = fft(y)[:N//2] # \"//\" is floor division same as math.floor() {https://www.freecodecamp.org/news/what-does-double-slash-mean-in-python/}\n",
    "xf = fftfreq(N, np.diff(x)[0])[:N//2] # delta t of the time series"
   ]
  },
  {
   "cell_type": "code",
   "execution_count": 66,
   "id": "b9e4cc59-f455-4626-93e1-db70075541da",
   "metadata": {
    "canvas": {
     "comments": [],
     "componentType": "CodeCell",
     "copiedOriginId": null,
     "diskcache": false,
     "headerColor": "transparent",
     "id": "423dcf2b-15e4-4ef5-b2fc-ce9afbb6435d",
     "isComponent": false,
     "name": "",
     "parents": []
    }
   },
   "outputs": [
    {
     "data": {
      "image/png": "[encoded data removed]",
      "text/plain": [
       "<Figure size 432x288 with 1 Axes>"
      ]
     },
     "metadata": {
      "needs_background": "light"
     },
     "output_type": "display_data"
    }
   ],
   "source": [
    "plt.plot(xf, np.abs(yf))\n",
    "plt.show()"
   ]
  },
  {
   "cell_type": "markdown",
   "id": "86418b47-f9f7-4998-a2a4-0403044371d8",
   "metadata": {
    "canvas": {
     "comments": [],
     "componentType": "CodeCell",
     "copiedOriginId": null,
     "diskcache": false,
     "headerColor": "transparent",
     "id": "7290d60b-30dc-4152-9057-0e6aacda758d",
     "isComponent": false,
     "name": "",
     "parents": []
    }
   },
   "source": [
    "### Examples"
   ]
  },
  {
   "cell_type": "markdown",
   "id": "0851bd9a-fd58-4605-b33f-a82bbda5eda0",
   "metadata": {
    "canvas": {
     "comments": [],
     "componentType": "CodeCell",
     "copiedOriginId": null,
     "diskcache": false,
     "headerColor": "transparent",
     "id": "cb4c9526-4309-45a5-bfbf-78b1990fbce3",
     "isComponent": false,
     "name": "",
     "parents": []
    }
   },
   "source": [
    "**Example 1**. The energy required to get from point $\\vec{r}_1$ to point $\\vec{r}_2$ for an airplane is given by\n",
    "\n",
    "$$ E = \\alpha \\int_{C} \\left| \\frac{d\\vec{r}}{dt} \\right| dt - \\int_C \\vec{F} \\cdot \\frac{d\\vec{r}}{dt}dt $$\n",
    "\n",
    "Suppose that $\\alpha=5$ and our start and ends points are $\\vec{r}_1 = (0,0)$ and $\\vec{r}_2 = (0, 10)$. On this particular day, the wind produces a force field $\\vec{F} = (0, -2/(x+1)^2)$. Find the optimal value of $A$ in $\\vec{r}(t) = A\\sin(\\pi t/10)\\hat{x} + t\\hat{y}$ that minimizes the work. \n",
    "\n",
    "Then $x=A\\sin(\\pi t/10)$, $y=t$, and\n",
    "\n",
    "$$\\left| \\frac{d\\vec{r}}{dt} \\right| = \\sqrt{1+(\\pi A /10)^2 \\cos^2(\\pi t/10)}$$\n",
    "\n",
    "$$\\vec{F} \\cdot \\frac{d\\vec{r}}{dt} = \\begin{bmatrix} 0 \\\\ -2/(A\\sin(\\pi t/10) +1)^2\\\\ \\end{bmatrix} \\cdot \\begin{bmatrix} \\pi A/10 \\cos(\\pi t/10)\\\\ 1\\\\ \\end{bmatrix} = -2/(A\\sin(\\pi t/10) +1)^2 $$\n",
    "\n",
    "so that\n",
    "\n",
    "$$ E = \\int_{0}^{10} \\left(5\\sqrt{1+(\\pi A /10)^2 \\cos^2(\\pi t/10)} + \\frac{2}{(A\\sin(\\pi t/10) +100)^2}  \\right) dt$$"
   ]
  },
  {
   "cell_type": "code",
   "execution_count": 67,
   "id": "8fbad95e-4cde-4082-a15a-adcfef99e68f",
   "metadata": {
    "canvas": {
     "comments": [],
     "componentType": "CodeCell",
     "copiedOriginId": null,
     "diskcache": false,
     "headerColor": "transparent",
     "id": "598c2ea5-6b61-4b6e-9bb8-6a41dd299132",
     "isComponent": false,
     "name": "",
     "parents": []
    }
   },
   "outputs": [],
   "source": [
    "def f(A): \n",
    "    integrand = lambda t: 2 / (1 + np.abs(A*np.sin(np.pi*t/10)))**2 + 5*np.sqrt(1+(np.pi*A/10)**2 * np.cos(np.pi * t / 10)**2)\n",
    "    return quad(integrand, 0, 10)[0]\n",
    "\n",
    "res = minimize(f, 0.001)"
   ]
  },
  {
   "cell_type": "code",
   "execution_count": 68,
   "id": "ffd2263b-da59-4995-9105-1ae82ad2be2a",
   "metadata": {
    "canvas": {
     "comments": [],
     "componentType": "CodeCell",
     "copiedOriginId": null,
     "diskcache": false,
     "headerColor": "transparent",
     "id": "acddaf1d-2806-455e-a33e-f92d3525b632",
     "isComponent": false,
     "name": "",
     "parents": []
    }
   },
   "outputs": [
    {
     "data": {
      "text/plain": [
       "      fun: 59.166849997375984\n",
       " hess_inv: array([[0.19638529]])\n",
       "      jac: array([-5.24520874e-06])\n",
       "  message: 'Optimization terminated successfully.'\n",
       "     nfev: 14\n",
       "      nit: 6\n",
       "     njev: 7\n",
       "   status: 0\n",
       "  success: True\n",
       "        x: array([1.42591114])"
      ]
     },
     "execution_count": 68,
     "metadata": {},
     "output_type": "execute_result"
    }
   ],
   "source": [
    "res"
   ]
  },
  {
   "cell_type": "code",
   "execution_count": 69,
   "id": "530fb615-d2ca-42da-b402-ac3284dd0b03",
   "metadata": {
    "canvas": {
     "comments": [],
     "componentType": "CodeCell",
     "copiedOriginId": null,
     "diskcache": false,
     "headerColor": "transparent",
     "id": "d77d4370-c8c3-4f75-8f30-e8a3929c97ba",
     "isComponent": false,
     "name": "",
     "parents": []
    }
   },
   "outputs": [
    {
     "data": {
      "text/plain": [
       "array([1.42591114])"
      ]
     },
     "execution_count": 69,
     "metadata": {},
     "output_type": "execute_result"
    }
   ],
   "source": [
    "minimize(f, 0.001).x"
   ]
  },
  {
   "cell_type": "markdown",
   "id": "bcac8b33-3fa1-4ee7-b6aa-af5418491a3f",
   "metadata": {
    "canvas": {
     "comments": [],
     "componentType": "CodeCell",
     "copiedOriginId": null,
     "diskcache": false,
     "headerColor": "transparent",
     "id": "454b275b-dee5-46f3-a76b-cac170f24f81",
     "isComponent": false,
     "name": "",
     "parents": []
    }
   },
   "source": [
    "**Example 2**: Newton's law of cooling is\n",
    "\n",
    "$$\\frac{dT}{dt} = -k(T-T_s(t)) $$\n",
    "\n",
    "where $T$ is the temperature of an object in the surroundings with temperature $T_s(t)$ (which may depend on time). Suppose $T$ represents the temperature of a shallow pool of water and $T_s(t)$ represents the temperature of outside. Find $T(t)$ given that you collected measurements of the outside:\n",
    "\n"
   ]
  },
  {
   "cell_type": "code",
   "execution_count": 70,
   "id": "0eb10367-8e0b-4e06-8616-10c54fd7b265",
   "metadata": {
    "canvas": {
     "comments": [],
     "componentType": "CodeCell",
     "copiedOriginId": null,
     "diskcache": false,
     "headerColor": "transparent",
     "id": "9aa1afe9-f9ab-4713-aa9c-ae3345ed6648",
     "isComponent": false,
     "name": "",
     "parents": []
    }
   },
   "outputs": [],
   "source": [
    "t_m = np.array([ 0.,  1.04347826,  2.08695652,  3.13043478,  4.17391304,\n",
    "        5.2173913 ,  6.26086957,  7.30434783,  8.34782609,  9.39130435,\n",
    "       10.43478261, 11.47826087, 12.52173913, 13.56521739, 14.60869565,\n",
    "       15.65217391, 16.69565217, 17.73913043, 18.7826087 , 19.82608696,\n",
    "       20.86956522, 21.91304348, 22.95652174, 24.        ]) # time stamps\n",
    "\n",
    "temp_m = np.array([283.2322975, 284.6945461, 286.2259041, 287.8603625, 289.6440635,\n",
    "       291.6187583, 293.7939994, 296.1148895, 298.4395788, 300.5430675,\n",
    "       302.1566609, 303.0363609, 303.0363609, 302.1566609, 300.5430675,\n",
    "       298.4395788, 296.1148895, 293.7939994, 291.6187583, 289.6440635,\n",
    "       287.8603625, 286.2259041, 284.6945461, 283.2322975]) # temperature readings corresponding to the time stamps"
   ]
  },
  {
   "cell_type": "code",
   "execution_count": 71,
   "id": "421e8397-76dd-4110-b9ff-eb210e331055",
   "metadata": {
    "canvas": {
     "comments": [],
     "componentType": "CodeCell",
     "copiedOriginId": null,
     "diskcache": false,
     "headerColor": "transparent",
     "id": "2eb42670-cd85-470d-b666-2c1539e053d6",
     "isComponent": false,
     "name": "",
     "parents": []
    }
   },
   "outputs": [
    {
     "data": {
      "text/plain": [
       "Text(0, 0.5, 'Temperature [K]')"
      ]
     },
     "execution_count": 71,
     "metadata": {},
     "output_type": "execute_result"
    },
    {
     "data": {
      "image/png": "[encoded data removed]",
      "text/plain": [
       "<Figure size 432x288 with 1 Axes>"
      ]
     },
     "metadata": {
      "needs_background": "light"
     },
     "output_type": "display_data"
    }
   ],
   "source": [
    "plt.scatter(t_m, temp_m)\n",
    "plt.xlabel('Time [hour]')\n",
    "plt.ylabel('Temperature [K]')"
   ]
  },
  {
   "cell_type": "code",
   "execution_count": 72,
   "id": "80f19255-d7c6-48bb-b153-ce7570a4db7c",
   "metadata": {
    "canvas": {
     "comments": [],
     "componentType": "CodeCell",
     "copiedOriginId": null,
     "diskcache": false,
     "headerColor": "transparent",
     "id": "cdc66d2d-25f6-45a5-8ed1-30f695461325",
     "isComponent": false,
     "name": "",
     "parents": []
    }
   },
   "outputs": [],
   "source": [
    "T_s = interp1d(t_m, temp_m, kind='cubic') #T_s as in the formula"
   ]
  },
  {
   "cell_type": "code",
   "execution_count": 73,
   "id": "0a35d2a9-be4f-4a6d-877d-d4295b8799f7",
   "metadata": {
    "canvas": {
     "comments": [],
     "componentType": "CodeCell",
     "copiedOriginId": null,
     "diskcache": false,
     "headerColor": "transparent",
     "id": "51fe7bbd-d885-4ec2-81fc-50132163c6bc",
     "isComponent": false,
     "name": "",
     "parents": []
    }
   },
   "outputs": [
    {
     "data": {
      "text/plain": [
       "array(285.12786066)"
      ]
     },
     "execution_count": 73,
     "metadata": {},
     "output_type": "execute_result"
    }
   ],
   "source": [
    "T_s(1.3445)"
   ]
  },
  {
   "cell_type": "code",
   "execution_count": 74,
   "id": "2334dea1-4d8b-4ae6-86a7-779195758c7b",
   "metadata": {
    "canvas": {
     "comments": [],
     "componentType": "CodeCell",
     "copiedOriginId": null,
     "diskcache": false,
     "headerColor": "transparent",
     "id": "d9fee0c0-f1fa-4413-a073-289cde5254c4",
     "isComponent": false,
     "name": "",
     "parents": []
    }
   },
   "outputs": [],
   "source": [
    "def dTdt(T, t):\n",
    "    return -0.5*(T-Ts(t))\n",
    "\n",
    "times = np.linspace(1, 23, 1000) #say I want to find the temp distribution for 1 to 23 hours\n",
    "T0 = 284.6945461 #initial temperature of the pool (say)"
   ]
  },
  {
   "cell_type": "code",
   "execution_count": 75,
   "id": "ff522c16-2dff-4e8e-a158-603f129ddd6e",
   "metadata": {
    "canvas": {
     "comments": [],
     "componentType": "CodeCell",
     "copiedOriginId": null,
     "diskcache": false,
     "headerColor": "transparent",
     "id": "66a00801-b80b-410a-96db-0f084039c318",
     "isComponent": false,
     "name": "",
     "parents": []
    }
   },
   "outputs": [
    {
     "ename": "NameError",
     "evalue": "name 'Ts' is not defined",
     "output_type": "error",
     "traceback": [
      "\u001b[1;31m---------------------------------------------------------------------------\u001b[0m",
      "\u001b[1;31mNameError\u001b[0m                                 Traceback (most recent call last)",
      "Input \u001b[1;32mIn [75]\u001b[0m, in \u001b[0;36m<module>\u001b[1;34m\u001b[0m\n\u001b[1;32m----> 1\u001b[0m sol \u001b[38;5;241m=\u001b[39m \u001b[43modeint\u001b[49m\u001b[43m(\u001b[49m\u001b[43mdTdt\u001b[49m\u001b[43m,\u001b[49m\u001b[43m \u001b[49m\u001b[43mT0\u001b[49m\u001b[43m,\u001b[49m\u001b[43m \u001b[49m\u001b[43mtimes\u001b[49m\u001b[43m)\u001b[49m\u001b[38;5;241m.\u001b[39mT[\u001b[38;5;241m0\u001b[39m]\n",
      "File \u001b[1;32m~\\AppData\\Local\\Programs\\Python\\Python310\\lib\\site-packages\\scipy\\integrate\\_odepack_py.py:241\u001b[0m, in \u001b[0;36modeint\u001b[1;34m(func, y0, t, args, Dfun, col_deriv, full_output, ml, mu, rtol, atol, tcrit, h0, hmax, hmin, ixpr, mxstep, mxhnil, mxordn, mxords, printmessg, tfirst)\u001b[0m\n\u001b[0;32m    239\u001b[0m t \u001b[38;5;241m=\u001b[39m copy(t)\n\u001b[0;32m    240\u001b[0m y0 \u001b[38;5;241m=\u001b[39m copy(y0)\n\u001b[1;32m--> 241\u001b[0m output \u001b[38;5;241m=\u001b[39m \u001b[43m_odepack\u001b[49m\u001b[38;5;241;43m.\u001b[39;49m\u001b[43modeint\u001b[49m\u001b[43m(\u001b[49m\u001b[43mfunc\u001b[49m\u001b[43m,\u001b[49m\u001b[43m \u001b[49m\u001b[43my0\u001b[49m\u001b[43m,\u001b[49m\u001b[43m \u001b[49m\u001b[43mt\u001b[49m\u001b[43m,\u001b[49m\u001b[43m \u001b[49m\u001b[43margs\u001b[49m\u001b[43m,\u001b[49m\u001b[43m \u001b[49m\u001b[43mDfun\u001b[49m\u001b[43m,\u001b[49m\u001b[43m \u001b[49m\u001b[43mcol_deriv\u001b[49m\u001b[43m,\u001b[49m\u001b[43m \u001b[49m\u001b[43mml\u001b[49m\u001b[43m,\u001b[49m\u001b[43m \u001b[49m\u001b[43mmu\u001b[49m\u001b[43m,\u001b[49m\n\u001b[0;32m    242\u001b[0m \u001b[43m                         \u001b[49m\u001b[43mfull_output\u001b[49m\u001b[43m,\u001b[49m\u001b[43m \u001b[49m\u001b[43mrtol\u001b[49m\u001b[43m,\u001b[49m\u001b[43m \u001b[49m\u001b[43matol\u001b[49m\u001b[43m,\u001b[49m\u001b[43m \u001b[49m\u001b[43mtcrit\u001b[49m\u001b[43m,\u001b[49m\u001b[43m \u001b[49m\u001b[43mh0\u001b[49m\u001b[43m,\u001b[49m\u001b[43m \u001b[49m\u001b[43mhmax\u001b[49m\u001b[43m,\u001b[49m\u001b[43m \u001b[49m\u001b[43mhmin\u001b[49m\u001b[43m,\u001b[49m\n\u001b[0;32m    243\u001b[0m \u001b[43m                         \u001b[49m\u001b[43mixpr\u001b[49m\u001b[43m,\u001b[49m\u001b[43m \u001b[49m\u001b[43mmxstep\u001b[49m\u001b[43m,\u001b[49m\u001b[43m \u001b[49m\u001b[43mmxhnil\u001b[49m\u001b[43m,\u001b[49m\u001b[43m \u001b[49m\u001b[43mmxordn\u001b[49m\u001b[43m,\u001b[49m\u001b[43m \u001b[49m\u001b[43mmxords\u001b[49m\u001b[43m,\u001b[49m\n\u001b[0;32m    244\u001b[0m \u001b[43m                         \u001b[49m\u001b[38;5;28;43mint\u001b[39;49m\u001b[43m(\u001b[49m\u001b[38;5;28;43mbool\u001b[39;49m\u001b[43m(\u001b[49m\u001b[43mtfirst\u001b[49m\u001b[43m)\u001b[49m\u001b[43m)\u001b[49m\u001b[43m)\u001b[49m\n\u001b[0;32m    245\u001b[0m \u001b[38;5;28;01mif\u001b[39;00m output[\u001b[38;5;241m-\u001b[39m\u001b[38;5;241m1\u001b[39m] \u001b[38;5;241m<\u001b[39m \u001b[38;5;241m0\u001b[39m:\n\u001b[0;32m    246\u001b[0m     warning_msg \u001b[38;5;241m=\u001b[39m _msgs[output[\u001b[38;5;241m-\u001b[39m\u001b[38;5;241m1\u001b[39m]] \u001b[38;5;241m+\u001b[39m \u001b[38;5;124m\"\u001b[39m\u001b[38;5;124m Run with full_output = 1 to get quantitative information.\u001b[39m\u001b[38;5;124m\"\u001b[39m\n",
      "Input \u001b[1;32mIn [74]\u001b[0m, in \u001b[0;36mdTdt\u001b[1;34m(T, t)\u001b[0m\n\u001b[0;32m      1\u001b[0m \u001b[38;5;28;01mdef\u001b[39;00m \u001b[38;5;21mdTdt\u001b[39m(T, t):\n\u001b[1;32m----> 2\u001b[0m     \u001b[38;5;28;01mreturn\u001b[39;00m \u001b[38;5;241m-\u001b[39m\u001b[38;5;241m0.5\u001b[39m\u001b[38;5;241m*\u001b[39m(T\u001b[38;5;241m-\u001b[39m\u001b[43mTs\u001b[49m(t))\n",
      "\u001b[1;31mNameError\u001b[0m: name 'Ts' is not defined"
     ]
    }
   ],
   "source": [
    "sol = odeint(dTdt, T0, times).T[0]"
   ]
  },
  {
   "cell_type": "code",
   "execution_count": null,
   "id": "61567c74-271a-44d5-8a97-f9ac91d45917",
   "metadata": {
    "canvas": {
     "comments": [],
     "componentType": "CodeCell",
     "copiedOriginId": null,
     "diskcache": false,
     "headerColor": "transparent",
     "id": "1a409437-af07-4e7a-9c67-f02517b7fa99",
     "isComponent": false,
     "name": "",
     "parents": []
    }
   },
   "outputs": [],
   "source": [
    "plt.plot(times, sol, label='Shallow Water temp')\n",
    "plt.scatter(t_m, temp_m, color='r', label='Outside Temp')\n",
    "plt.legend()"
   ]
  },
  {
   "cell_type": "markdown",
   "id": "1d26e126-7eed-41fd-ad62-375c1cf791b8",
   "metadata": {
    "canvas": {
     "comments": [],
     "componentType": "CodeCell",
     "copiedOriginId": null,
     "diskcache": false,
     "headerColor": "transparent",
     "id": "8b7517fa-a81f-4531-ab8c-ebb9bb5397de",
     "isComponent": false,
     "name": "",
     "parents": []
    }
   },
   "source": [
    "## Linear Algebra"
   ]
  },
  {
   "cell_type": "markdown",
   "id": "da344ba9-dab9-486a-b5a0-b5990ed63fb9",
   "metadata": {
    "canvas": {
     "comments": [],
     "componentType": "CodeCell",
     "copiedOriginId": null,
     "diskcache": false,
     "headerColor": "transparent",
     "id": "5818f0b7-a4ff-4603-a766-59df67a5f003",
     "isComponent": false,
     "name": "",
     "parents": []
    }
   },
   "source": [
    "### Basics"
   ]
  },
  {
   "cell_type": "markdown",
   "id": "3bc64fa9-918d-433c-9e05-0a134f88298e",
   "metadata": {
    "canvas": {
     "comments": [],
     "componentType": "CodeCell",
     "copiedOriginId": null,
     "diskcache": false,
     "headerColor": "transparent",
     "id": "9ec03146-4c45-4586-94d7-9d436fe34402",
     "isComponent": false,
     "name": "",
     "parents": []
    }
   },
   "source": [
    "Triangular matrices\n",
    "\n",
    "$$ \\begin{bmatrix} 3 & 0 & 0 & 0\\\\ 2 & 1 & 0 & 0 \\\\ 1 & 0 & 1 & 0 \\\\ 1 & 1 & 1 & 1 \\end{bmatrix} \\vec{x} = \\begin{bmatrix} 4\\\\2\\\\4\\\\2 \\end{bmatrix} $$"
   ]
  },
  {
   "cell_type": "code",
   "execution_count": null,
   "id": "09a6070c-9ef2-43d4-97e3-d60cbc4c0349",
   "metadata": {
    "canvas": {
     "comments": [],
     "componentType": "CodeCell",
     "copiedOriginId": null,
     "diskcache": false,
     "headerColor": "transparent",
     "id": "2767a6d3-4bbe-4ac3-8d97-4fa735a3cd24",
     "isComponent": false,
     "name": "",
     "parents": []
    }
   },
   "outputs": [],
   "source": [
    "from scipy.linalg import solve_triangular\n",
    "a = np.array([[3, 0, 0, 0],\n",
    "              [2, 1, 0, 0],\n",
    "              [1, 0, 1, 0],\n",
    "              [1, 1, 1, 1]])\n",
    "b = np.array([4, 2, 4, 2])\n",
    "x = solve_triangular(a, b, lower=True) # lower=True because it is a lower triangular matrix\n",
    "x"
   ]
  },
  {
   "cell_type": "markdown",
   "id": "e47e5f76-0f5f-4699-8482-e9d405165f8e",
   "metadata": {
    "canvas": {
     "comments": [],
     "componentType": "CodeCell",
     "copiedOriginId": null,
     "diskcache": false,
     "headerColor": "transparent",
     "id": "94c29ee8-1d83-4fda-80fa-7435b7645888",
     "isComponent": false,
     "name": "",
     "parents": []
    }
   },
   "source": [
    "Toeplitz Matrices (matrices with constant diagonals)"
   ]
  },
  {
   "cell_type": "markdown",
   "id": "5e5453af-8712-4221-806e-05b2dd9ab644",
   "metadata": {
    "canvas": {
     "comments": [],
     "componentType": "CodeCell",
     "copiedOriginId": null,
     "diskcache": false,
     "headerColor": "transparent",
     "id": "fd968126-07a5-4425-9af5-bfbc8ad4486f",
     "isComponent": false,
     "name": "",
     "parents": []
    }
   },
   "source": [
    "$$ \\begin{bmatrix} 1 & -1 & 2 & 3\\\\ 3 & 1 & -1 & 2 \\\\ 6 & 3 & 1 & -1 \\\\ 10 & 6 & 3 & 1 \\end{bmatrix} \\vec{x} = \\begin{bmatrix} 1\\\\2\\\\2\\\\5 \\end{bmatrix} $$"
   ]
  },
  {
   "cell_type": "code",
   "execution_count": null,
   "id": "73efa8af-278c-4b5b-b89d-b28ffd337508",
   "metadata": {
    "canvas": {
     "comments": [],
     "componentType": "CodeCell",
     "copiedOriginId": null,
     "diskcache": false,
     "headerColor": "transparent",
     "id": "4ef44736-64d1-47a7-bd21-273d5a9612ce",
     "isComponent": false,
     "name": "",
     "parents": []
    }
   },
   "outputs": [],
   "source": [
    "from scipy.linalg import solve_toeplitz, toeplitz\n",
    "\n",
    "c = np.array([1, 3, 6, 10])    # First column of T\n",
    "r = np.array([1, -1, -2, -3])  # First row of T\n",
    "b = np.array([1, 2, 2, 5])\n",
    "\n",
    "x = solve_toeplitz((c, r), b)\n",
    "x"
   ]
  },
  {
   "cell_type": "markdown",
   "id": "8454b3d2-96b7-4844-b13a-40108cb02034",
   "metadata": {
    "canvas": {
     "comments": [],
     "componentType": "CodeCell",
     "copiedOriginId": null,
     "diskcache": false,
     "headerColor": "transparent",
     "id": "20e3fac7-80a6-4ee2-adb7-64215161b67f",
     "isComponent": false,
     "name": "",
     "parents": []
    }
   },
   "source": [
    "### Eigenvalue Problems"
   ]
  },
  {
   "cell_type": "markdown",
   "id": "d5d253e3-0f3c-480f-b368-6cbd6cb0b58b",
   "metadata": {
    "canvas": {
     "comments": [],
     "componentType": "CodeCell",
     "copiedOriginId": null,
     "diskcache": false,
     "headerColor": "transparent",
     "id": "bb6aa5e6-9bc8-4d95-b8be-ac30c7c9a800",
     "isComponent": false,
     "name": "",
     "parents": []
    }
   },
   "source": [
    "Eigenvalue problems can be solved using numpy, so here we focus on particular cases for optimization"
   ]
  },
  {
   "cell_type": "code",
   "execution_count": null,
   "id": "076c6ec4-d757-436f-8b52-c4c8bf2f4275",
   "metadata": {
    "canvas": {
     "comments": [],
     "componentType": "CodeCell",
     "copiedOriginId": null,
     "diskcache": false,
     "headerColor": "transparent",
     "id": "16d9694c-4907-4284-952e-660be71d9bc2",
     "isComponent": false,
     "name": "",
     "parents": []
    }
   },
   "outputs": [],
   "source": [
    "from scipy.linalg import eigh_tridiagonal # for solving tridiagonal matrices"
   ]
  },
  {
   "cell_type": "markdown",
   "id": "0d65dd7c-49ed-48cf-9b22-7f158bbefbff",
   "metadata": {
    "canvas": {
     "comments": [],
     "componentType": "CodeCell",
     "copiedOriginId": null,
     "diskcache": false,
     "headerColor": "transparent",
     "id": "c97112e3-87dc-4c9e-8a8b-90a765fa3b25",
     "isComponent": false,
     "name": "",
     "parents": []
    }
   },
   "source": [
    "$$ \\begin{bmatrix} 3 & -1 & 0 & 0\\\\ -1 & 3 & -1 & 0 \\\\ 0 & -1 & 3 & -1 \\\\ 0 & 0 & -1 & 3 \\end{bmatrix} \\vec{x} = \\lambda x $$"
   ]
  },
  {
   "cell_type": "code",
   "execution_count": null,
   "id": "34a5d73a-4a28-4f38-bbfe-e9d6232fd09b",
   "metadata": {
    "canvas": {
     "comments": [],
     "componentType": "CodeCell",
     "copiedOriginId": null,
     "diskcache": false,
     "headerColor": "transparent",
     "id": "8685f54c-df61-4b03-ad85-f6599a92cd2f",
     "isComponent": false,
     "name": "",
     "parents": []
    }
   },
   "outputs": [],
   "source": [
    "d = 3*np.ones(4) # 3 times an array of four 1's\n",
    "e = -1*np.ones(3)\n",
    "w, v = eigh_tridiagonal(d, e) #w = lambda in the equation"
   ]
  },
  {
   "cell_type": "code",
   "execution_count": null,
   "id": "0ea0c462-d976-44d9-8ff6-acacfc1202f2",
   "metadata": {
    "canvas": {
     "comments": [],
     "componentType": "CodeCell",
     "copiedOriginId": null,
     "diskcache": false,
     "headerColor": "transparent",
     "id": "44f11e5a-98c1-41b4-abb8-a7454a88e1b1",
     "isComponent": false,
     "name": "",
     "parents": []
    }
   },
   "outputs": [],
   "source": [
    "A = np.diag(d) + np.diag(e, k=1) + np.diag(e, k=-1)\n",
    "A"
   ]
  },
  {
   "cell_type": "code",
   "execution_count": null,
   "id": "4c042f67-5b58-42a9-9791-872c523ae310",
   "metadata": {
    "canvas": {
     "comments": [],
     "componentType": "CodeCell",
     "copiedOriginId": null,
     "diskcache": false,
     "headerColor": "transparent",
     "id": "abc620fc-431c-419c-ac45-4e20da495fc5",
     "isComponent": false,
     "name": "",
     "parents": []
    }
   },
   "outputs": [],
   "source": [
    "np.diag(e, k=1)"
   ]
  },
  {
   "cell_type": "code",
   "execution_count": null,
   "id": "c5d6ebf6-1256-4300-b9c8-470df1759d28",
   "metadata": {
    "canvas": {
     "comments": [],
     "componentType": "CodeCell",
     "copiedOriginId": null,
     "diskcache": false,
     "headerColor": "transparent",
     "id": "d2303c9f-7482-48ee-989c-baf503907bd0",
     "isComponent": false,
     "name": "",
     "parents": []
    }
   },
   "outputs": [],
   "source": [
    "np.diag(e, k=-1)"
   ]
  },
  {
   "cell_type": "code",
   "execution_count": null,
   "id": "735ba7cb-a344-43ec-b53b-95ecfdb50547",
   "metadata": {
    "canvas": {
     "comments": [],
     "componentType": "CodeCell",
     "copiedOriginId": null,
     "diskcache": false,
     "headerColor": "transparent",
     "id": "06541f61-c0c6-4ecd-a721-ea19350140ca",
     "isComponent": false,
     "name": "",
     "parents": []
    }
   },
   "outputs": [],
   "source": [
    "np.diag(d)"
   ]
  },
  {
   "cell_type": "code",
   "execution_count": null,
   "id": "4fd4a36b-23d8-4fa2-a29d-34cf47967d9a",
   "metadata": {
    "canvas": {
     "comments": [],
     "componentType": "CodeCell",
     "copiedOriginId": null,
     "diskcache": false,
     "headerColor": "transparent",
     "id": "cc8f454b-3b6a-412b-b233-748385405d33",
     "isComponent": false,
     "name": "",
     "parents": []
    }
   },
   "outputs": [],
   "source": [
    "w #eigenvalues"
   ]
  },
  {
   "cell_type": "code",
   "execution_count": null,
   "id": "ec88537b-9ca9-4807-a5b9-ba9eae17072c",
   "metadata": {
    "canvas": {
     "comments": [],
     "componentType": "CodeCell",
     "copiedOriginId": null,
     "diskcache": false,
     "headerColor": "transparent",
     "id": "297c58c5-41f8-4aa9-ba45-44f6e052481a",
     "isComponent": false,
     "name": "",
     "parents": []
    }
   },
   "outputs": [],
   "source": [
    "v #eigenvectors"
   ]
  },
  {
   "cell_type": "code",
   "execution_count": null,
   "id": "b5e8dc8d-5529-4a12-a213-1de0eb747774",
   "metadata": {
    "canvas": {
     "comments": [],
     "componentType": "CodeCell",
     "copiedOriginId": null,
     "diskcache": false,
     "headerColor": "transparent",
     "id": "ce21920d-6ad0-4c5d-b022-a231c61d60cf",
     "isComponent": false,
     "name": "",
     "parents": []
    }
   },
   "outputs": [],
   "source": [
    "v.T"
   ]
  },
  {
   "cell_type": "code",
   "execution_count": null,
   "id": "93ba1c84-de4c-40b9-b05f-2b48f0926b59",
   "metadata": {
    "canvas": {
     "comments": [],
     "componentType": "CodeCell",
     "copiedOriginId": null,
     "diskcache": false,
     "headerColor": "transparent",
     "id": "09b3bea4-45a2-49b0-a3c0-53d5814b79b9",
     "isComponent": false,
     "name": "",
     "parents": []
    }
   },
   "outputs": [],
   "source": [
    "v.T[0] #first eigenvector"
   ]
  },
  {
   "cell_type": "code",
   "execution_count": null,
   "id": "6088b6ad-8a7c-43e0-9771-973ba782a6a4",
   "metadata": {
    "canvas": {
     "comments": [],
     "componentType": "CodeCell",
     "copiedOriginId": null,
     "diskcache": false,
     "headerColor": "transparent",
     "id": "48824218-0a3d-43b3-8c1e-28820bda31c0",
     "isComponent": false,
     "name": "",
     "parents": []
    }
   },
   "outputs": [],
   "source": [
    "A@v.T[0]"
   ]
  },
  {
   "cell_type": "code",
   "execution_count": null,
   "id": "1db3fc39-b835-42c6-a229-974ae3694e32",
   "metadata": {
    "canvas": {
     "comments": [],
     "componentType": "CodeCell",
     "copiedOriginId": null,
     "diskcache": false,
     "headerColor": "transparent",
     "id": "68371f11-e7ee-4142-a62a-55eedb092cab",
     "isComponent": false,
     "name": "",
     "parents": []
    }
   },
   "outputs": [],
   "source": [
    "w[0] * v.T[0]"
   ]
  },
  {
   "cell_type": "markdown",
   "id": "a0d95028-80c8-40c2-9e8f-bbf52a4f14ef",
   "metadata": {
    "canvas": {
     "comments": [],
     "componentType": "CodeCell",
     "copiedOriginId": null,
     "diskcache": false,
     "headerColor": "transparent",
     "id": "2307ae26-1040-419a-96e3-04464b0550ee",
     "isComponent": false,
     "name": "",
     "parents": []
    }
   },
   "source": [
    "### Special Matrices"
   ]
  },
  {
   "cell_type": "markdown",
   "id": "d794ba39-f829-409d-a0f7-542d9990894e",
   "metadata": {
    "canvas": {
     "comments": [],
     "componentType": "CodeCell",
     "copiedOriginId": null,
     "diskcache": false,
     "headerColor": "transparent",
     "id": "8cfdd513-f032-45b0-a97b-c536bc9d3262",
     "isComponent": false,
     "name": "",
     "parents": []
    }
   },
   "source": [
    "Fiedler matrix $A_{ij} = |a_i - a_j|$ where $a_i$ is some sequence of numbers"
   ]
  },
  {
   "cell_type": "code",
   "execution_count": null,
   "id": "1d629f8e-8b02-4efb-b7bb-67028c3172ee",
   "metadata": {
    "canvas": {
     "comments": [],
     "componentType": "CodeCell",
     "copiedOriginId": null,
     "diskcache": false,
     "headerColor": "transparent",
     "id": "5fbbcdfb-1bb4-4888-9273-4c389d61c1b3",
     "isComponent": false,
     "name": "",
     "parents": []
    }
   },
   "outputs": [],
   "source": [
    "from scipy.linalg import fiedler\n",
    "fiedler([1, 4, 12, 45])"
   ]
  },
  {
   "cell_type": "markdown",
   "id": "cb7d6675-f16e-475a-a6f3-85b8394bbae5",
   "metadata": {
    "canvas": {
     "comments": [],
     "componentType": "CodeCell",
     "copiedOriginId": null,
     "diskcache": false,
     "headerColor": "transparent",
     "id": "bc2b0961-766f-4180-91ae-0d8b2364da0f",
     "isComponent": false,
     "name": "",
     "parents": []
    }
   },
   "source": [
    "Toeplitz matrices (matrices with constant diagonals)"
   ]
  },
  {
   "cell_type": "code",
   "execution_count": null,
   "id": "9564a8ab-c958-40ce-8a59-7fc4f7263433",
   "metadata": {
    "canvas": {
     "comments": [],
     "componentType": "CodeCell",
     "copiedOriginId": null,
     "diskcache": false,
     "headerColor": "transparent",
     "id": "8b6a00e1-d6fe-47df-979d-55cdf7ad27b9",
     "isComponent": false,
     "name": "",
     "parents": []
    }
   },
   "outputs": [],
   "source": [
    "from scipy.linalg import toeplitz\n",
    "toeplitz([1,2,3,6,0,0], [1,4,5,6,0,0])"
   ]
  },
  {
   "cell_type": "markdown",
   "id": "7a6afa69-e44b-46b1-b460-d526c85cc6e3",
   "metadata": {
    "canvas": {
     "comments": [],
     "componentType": "CodeCell",
     "copiedOriginId": null,
     "diskcache": false,
     "headerColor": "transparent",
     "id": "b36c45f4-90b5-443f-b9fa-0b47f81baab2",
     "isComponent": false,
     "name": "",
     "parents": []
    }
   },
   "source": [
    "https://docs.scipy.org/doc/scipy/reference/linalg.html#special-matrices"
   ]
  },
  {
   "cell_type": "markdown",
   "id": "67f4df85-7496-4479-87a2-6400e962a5be",
   "metadata": {
    "canvas": {
     "comments": [],
     "componentType": "CodeCell",
     "copiedOriginId": null,
     "diskcache": false,
     "headerColor": "transparent",
     "id": "00886104-60f9-4095-b3d1-b7f8bd052017",
     "isComponent": false,
     "name": "",
     "parents": []
    }
   },
   "source": [
    "### Decompositions"
   ]
  },
  {
   "cell_type": "markdown",
   "id": "c3c7af1e-9877-4d3f-9dda-22112c273cb1",
   "metadata": {
    "canvas": {
     "comments": [],
     "componentType": "CodeCell",
     "copiedOriginId": null,
     "diskcache": false,
     "headerColor": "transparent",
     "id": "b338dfb0-5095-42aa-be23-fdc77caf8e6a",
     "isComponent": false,
     "name": "",
     "parents": []
    }
   },
   "source": [
    "LU decomposition $A = PLU$ where $P$ is a permutation matrix, $L$ is a lower triangular matrix and $U$ is an upper triangular matrix."
   ]
  },
  {
   "cell_type": "code",
   "execution_count": null,
   "id": "6c55af52-64b0-4006-a830-1ce51304dccb",
   "metadata": {
    "canvas": {
     "comments": [],
     "componentType": "CodeCell",
     "copiedOriginId": null,
     "diskcache": false,
     "headerColor": "transparent",
     "id": "4dc6ab0a-702a-44d2-a949-64dc36cbeeb2",
     "isComponent": false,
     "name": "",
     "parents": []
    }
   },
   "outputs": [],
   "source": [
    "from scipy.linalg import lu"
   ]
  },
  {
   "cell_type": "code",
   "execution_count": null,
   "id": "6811b889-15a8-462e-8497-bede6464184c",
   "metadata": {
    "canvas": {
     "comments": [],
     "componentType": "CodeCell",
     "copiedOriginId": null,
     "diskcache": false,
     "headerColor": "transparent",
     "id": "57e5c2b0-a250-435d-a759-020aabe82020",
     "isComponent": false,
     "name": "",
     "parents": []
    }
   },
   "outputs": [],
   "source": [
    "from scipy.linalg import lu\n",
    "A = np.array([[2, 5, 8, 7], [5, 2, 2, 8], [7, 5, 6, 6], [5, 4, 4, 8]])\n",
    "p, l, u = lu(A) # p: Permutation Matrix, l: Lower Triangular Matrix, u: Upper Triangular Matrix"
   ]
  },
  {
   "cell_type": "code",
   "execution_count": null,
   "id": "348abae3-eba4-4f00-bc64-5db267b226cf",
   "metadata": {
    "canvas": {
     "comments": [],
     "componentType": "CodeCell",
     "copiedOriginId": null,
     "diskcache": false,
     "headerColor": "transparent",
     "id": "7f7c8da5-270e-405a-bbf8-cf7cea7e5470",
     "isComponent": false,
     "name": "",
     "parents": []
    }
   },
   "outputs": [],
   "source": [
    "p"
   ]
  },
  {
   "cell_type": "code",
   "execution_count": null,
   "id": "c48d4ea0-4939-42fc-a20a-9684707f128d",
   "metadata": {
    "canvas": {
     "comments": [],
     "componentType": "CodeCell",
     "copiedOriginId": null,
     "diskcache": false,
     "headerColor": "transparent",
     "id": "4c761099-fef6-4b32-bcb1-5ac7082fcedc",
     "isComponent": false,
     "name": "",
     "parents": []
    }
   },
   "outputs": [],
   "source": [
    "l"
   ]
  },
  {
   "cell_type": "code",
   "execution_count": null,
   "id": "f7aa8184-d1d9-44cf-acfc-239d407525a7",
   "metadata": {
    "canvas": {
     "comments": [],
     "componentType": "CodeCell",
     "copiedOriginId": null,
     "diskcache": false,
     "headerColor": "transparent",
     "id": "71856d6a-e034-42b4-9b7d-2d7668a25e6c",
     "isComponent": false,
     "name": "",
     "parents": []
    }
   },
   "outputs": [],
   "source": [
    "u"
   ]
  },
  {
   "cell_type": "markdown",
   "id": "c2427abd-d682-49af-8b50-f72475f6260f",
   "metadata": {
    "canvas": {
     "comments": [],
     "componentType": "CodeCell",
     "copiedOriginId": null,
     "diskcache": false,
     "headerColor": "transparent",
     "id": "d3890e8f-66f1-4210-bc57-26d034195c60",
     "isComponent": false,
     "name": "",
     "parents": []
    }
   },
   "source": [
    "Choleski decomposition: find matrix $C$ such that $A = CC^T$"
   ]
  },
  {
   "cell_type": "code",
   "execution_count": null,
   "id": "0d6ee9b8-1cac-4269-86e5-dd81888a119f",
   "metadata": {
    "canvas": {
     "comments": [],
     "componentType": "CodeCell",
     "copiedOriginId": null,
     "diskcache": false,
     "headerColor": "transparent",
     "id": "d2a5d06d-a69b-49a1-85e4-552ab4301157",
     "isComponent": false,
     "name": "",
     "parents": []
    }
   },
   "outputs": [],
   "source": [
    "from scipy.linalg import cholesky"
   ]
  },
  {
   "cell_type": "code",
   "execution_count": null,
   "id": "6882265a-312f-4f25-9bdb-cd8aa7bca1b8",
   "metadata": {
    "canvas": {
     "comments": [],
     "componentType": "CodeCell",
     "copiedOriginId": null,
     "diskcache": false,
     "headerColor": "transparent",
     "id": "35d48402-1d68-4b94-b24b-5f8143911021",
     "isComponent": false,
     "name": "",
     "parents": []
    }
   },
   "outputs": [],
   "source": [
    "from scipy.linalg import cholesky\n",
    "A = np.array([[1,0.2],[0.2,1]])\n",
    "C = cholesky(A, lower=True)"
   ]
  },
  {
   "cell_type": "code",
   "execution_count": null,
   "id": "17d56e5d-ecaa-493b-93fe-b51b484dc2a3",
   "metadata": {
    "canvas": {
     "comments": [],
     "componentType": "CodeCell",
     "copiedOriginId": null,
     "diskcache": false,
     "headerColor": "transparent",
     "id": "2dcf35fd-58af-455c-bc3a-760185d4f517",
     "isComponent": false,
     "name": "",
     "parents": []
    }
   },
   "outputs": [],
   "source": [
    "from scipy.linalg import cholesky\n",
    "A = np.array([[1,0.2],[0.2,1]])\n",
    "C_T = cholesky(A, lower=False)"
   ]
  },
  {
   "cell_type": "code",
   "execution_count": null,
   "id": "2adcfafe-0c2a-4a1d-a171-b4c64c13bd90",
   "metadata": {
    "canvas": {
     "comments": [],
     "componentType": "CodeCell",
     "copiedOriginId": null,
     "diskcache": false,
     "headerColor": "transparent",
     "id": "7007661c-abfc-4854-94f3-d4445c4f2ab5",
     "isComponent": false,
     "name": "",
     "parents": []
    }
   },
   "outputs": [],
   "source": [
    "C"
   ]
  },
  {
   "cell_type": "code",
   "execution_count": null,
   "id": "d8f7b7f5-2291-425f-9c2b-209950b80298",
   "metadata": {
    "canvas": {
     "comments": [],
     "componentType": "CodeCell",
     "copiedOriginId": null,
     "diskcache": false,
     "headerColor": "transparent",
     "id": "ddcf208e-10e8-4db4-b953-be5ef9506fc7",
     "isComponent": false,
     "name": "",
     "parents": []
    }
   },
   "outputs": [],
   "source": [
    "C_T"
   ]
  },
  {
   "cell_type": "markdown",
   "id": "e51ba6d4-1b8f-4617-81e8-43d31ec4bfca",
   "metadata": {
    "canvas": {
     "comments": [],
     "componentType": "CodeCell",
     "copiedOriginId": null,
     "diskcache": false,
     "headerColor": "transparent",
     "id": "393642bb-40e6-4224-8ce1-5f866e7f1f0d",
     "isComponent": false,
     "name": "",
     "parents": []
    }
   },
   "source": [
    "### Sparse Matrices"
   ]
  },
  {
   "cell_type": "markdown",
   "id": "311cc8d6-077f-4a05-9e04-5631d712fb9d",
   "metadata": {
    "canvas": {
     "comments": [],
     "componentType": "CodeCell",
     "copiedOriginId": null,
     "diskcache": false,
     "headerColor": "transparent",
     "id": "1083afdc-b002-4a9c-b3e1-da00cdb285f8",
     "isComponent": false,
     "name": "",
     "parents": []
    }
   },
   "source": [
    "Matrices that contain lots of zeros (so lots of space can be reduced)\n",
    "\n",
    "**A Useful Example**:\n",
    "\n",
    "The second derivative of $f(x_i) \\equiv f_i$ is approximated as $\\frac{d^2 f_i}{dx^2} \\approx \\frac{f_{i+1}+f_{i-1}-2f_i}{\\Delta x^2}$. Suppose we have $f_0, ... f_4$ and $f_0=f_4=0$ (boundary conditions). Then the second derivative is approximated as \n",
    "\n",
    "$$ D \\begin{bmatrix} f_1 \\\\ f_2 \\\\ f_3\\end{bmatrix} \\hspace{10mm} \\text{where} \\hspace{2mm} D = \\frac{1}{\\Delta x^2}\\begin{bmatrix} -2 & 1 & 0 \\\\ 1 & -2 & 1 \\\\ 0 & 1 & -2 \\end{bmatrix} $$\n",
    "\n",
    "In 2D our function can be discretized on a grid\n",
    "\n",
    "$$\\begin{bmatrix} 0 & 0 & 0 & 0 & 0 \\\\ 0 & f_{11} & f_{12} & f_{13} & 0 \\\\ 0 & f_{21} & f_{22} & f_{23} & 0 \\\\ 0 & f_{31} & f_{32} & f_{33} & 0 \\\\ 0 & 0 & 0 & 0 & 0 \\end{bmatrix} $$\n",
    "\n",
    "but when doing this sort of work, its always better to store information in a vector\n",
    "\n",
    "$$\\begin{bmatrix} 0 & 0 & 0 & 0 & 0 \\\\ 0 & f_{11} & f_{12} & f_{13} & 0 \\\\ 0 & f_{21} & f_{22} & f_{23} & 0 \\\\ 0 & f_{31} & f_{32} & f_{33} & 0 \\\\ 0 & 0 & 0 & 0 & 0 \\end{bmatrix} \\to \\begin{bmatrix} f_{11} \\\\ f_{12} \\\\ f_{13} \\\\ f_{21} \\\\ f_{22} \\\\ f_{23} \\\\ f_{31} \\\\ f_{32} \\\\ f_{33} \\end{bmatrix}$$\n",
    "\n",
    "What does the 2D laplacian look like? It turns out it is the \"Kroncker sum\" of our original matrix. The second derivative is given by\n",
    "\n",
    "$$(D \\oplus D) \\begin{bmatrix} f_{11} \\\\ f_{12} \\\\ f_{13} \\\\ f_{21} \\\\ f_{22} \\\\ f_{23} \\\\ f_{31} \\\\ f_{32} \\\\ f_{33} \\end{bmatrix} \\hspace{10mm} \\text{where} \\hspace{2mm} D = \\frac{1}{\\Delta x^2}\\begin{bmatrix} -2 & 1 & 0 \\\\ 1 & -2 & 1 \\\\ 0 & 1 & -2 \\end{bmatrix} $$\n",
    "\n",
    "Note that even though $D$ is 3x3, $D \\oplus D$ is 9x9."
   ]
  },
  {
   "cell_type": "code",
   "execution_count": null,
   "id": "efd16786-24d1-4aab-8d4d-167ec4b7f9c7",
   "metadata": {
    "canvas": {
     "comments": [],
     "componentType": "CodeCell",
     "copiedOriginId": null,
     "diskcache": false,
     "headerColor": "transparent",
     "id": "36b56aa4-1a7e-46d4-ac0b-c35bf0cdc18e",
     "isComponent": false,
     "name": "",
     "parents": []
    }
   },
   "outputs": [],
   "source": [
    "from scipy.linalg import kron # kronecker product, NOT sum\n",
    "N= 5\n",
    "d = -2*np.ones(N)\n",
    "e = np.ones(N-1)\n",
    "D = np.diag(d) + np.diag(e, k=1) + np.diag(e, k=-1)\n",
    "D_kronsum = kron(D, np.identity(N)) + kron(np.identity(N),D)\n",
    "\n",
    "# the Kronecker Sum is defined in the terms of the Kronecker Product.It is the Kronecker Product of D with the Identity Matrix + Kronecker Product of the Identity Matrix with D."
   ]
  },
  {
   "cell_type": "code",
   "execution_count": null,
   "id": "ce861d3d-d412-41d3-a221-a28895976e7e",
   "metadata": {
    "canvas": {
     "comments": [],
     "componentType": "CodeCell",
     "copiedOriginId": null,
     "diskcache": false,
     "headerColor": "transparent",
     "id": "3d0c6d58-ebdb-45c4-b479-f7253e539a0c",
     "isComponent": false,
     "name": "",
     "parents": []
    }
   },
   "outputs": [],
   "source": [
    "D"
   ]
  },
  {
   "cell_type": "code",
   "execution_count": null,
   "id": "5ce24685-546b-49bc-9cb3-1505a136a5b2",
   "metadata": {
    "canvas": {
     "comments": [],
     "componentType": "CodeCell",
     "copiedOriginId": null,
     "diskcache": false,
     "headerColor": "transparent",
     "id": "65cfa274-0267-46e4-bbab-46f136e437a2",
     "isComponent": false,
     "name": "",
     "parents": []
    }
   },
   "outputs": [],
   "source": [
    "D_kronsum"
   ]
  },
  {
   "cell_type": "markdown",
   "id": "5af8b33c-5277-48f1-a0df-d0d95eb2a30e",
   "metadata": {
    "canvas": {
     "comments": [],
     "componentType": "CodeCell",
     "copiedOriginId": null,
     "diskcache": false,
     "headerColor": "transparent",
     "id": "c0c35533-98fc-416d-a81c-f3f4bc2296f1",
     "isComponent": false,
     "name": "",
     "parents": []
    }
   },
   "source": [
    "Which is too big for any reasonable calculation! But can use sparse matrices"
   ]
  },
  {
   "cell_type": "code",
   "execution_count": null,
   "id": "daa40d8e-4183-4f7a-ba0a-a0a64f555296",
   "metadata": {
    "canvas": {
     "comments": [],
     "componentType": "CodeCell",
     "copiedOriginId": null,
     "diskcache": false,
     "headerColor": "transparent",
     "id": "8463a6f6-488d-4afd-ad50-cf6253685577",
     "isComponent": false,
     "name": "",
     "parents": []
    }
   },
   "outputs": [],
   "source": [
    "from scipy import sparse\n",
    "N=100\n",
    "diag = np.ones([N]) #creating a vector with N 1's\n",
    "\n",
    "#creating the toeplitz matrix\n",
    "diags = np.array([diag, -2*diag, diag]) # specifying the diagonals\n",
    "\n",
    "D = sparse.spdiags(diags, np.array([-1,0,1]), N, N) # 0 means the main diagonal, -1 means one below the main diagonal, and 1 means one above the main diagonal\n",
    "T = -1/2 * sparse.kronsum(D,D)"
   ]
  },
  {
   "cell_type": "code",
   "execution_count": null,
   "id": "c04fd297-5b03-4bae-893c-65b8c08b5ce1",
   "metadata": {
    "canvas": {
     "comments": [],
     "componentType": "CodeCell",
     "copiedOriginId": null,
     "diskcache": false,
     "headerColor": "transparent",
     "id": "bc173729-3e27-45f5-ac60-752bc3340187",
     "isComponent": false,
     "name": "",
     "parents": []
    }
   },
   "outputs": [],
   "source": [
    "D"
   ]
  },
  {
   "cell_type": "code",
   "execution_count": null,
   "id": "d785712a-dffc-48ea-9a5b-cbf7386f171f",
   "metadata": {
    "canvas": {
     "comments": [],
     "componentType": "CodeCell",
     "copiedOriginId": null,
     "diskcache": false,
     "headerColor": "transparent",
     "id": "98011e1c-1351-40db-9ca8-318d0055bcaa",
     "isComponent": false,
     "name": "",
     "parents": []
    }
   },
   "outputs": [],
   "source": [
    "T"
   ]
  },
  {
   "cell_type": "markdown",
   "id": "e6c299a0-0d05-477f-a929-ca09536debd6",
   "metadata": {
    "canvas": {
     "comments": [],
     "componentType": "CodeCell",
     "copiedOriginId": null,
     "diskcache": false,
     "headerColor": "transparent",
     "id": "fa3301e7-0ddd-4a5f-ada3-4c4d9d2a089a",
     "isComponent": false,
     "name": "",
     "parents": []
    }
   },
   "source": [
    "### Statistics"
   ]
  },
  {
   "cell_type": "markdown",
   "id": "3b884440-00d1-41bb-8ce7-7acec22ee066",
   "metadata": {
    "canvas": {
     "comments": [],
     "componentType": "CodeCell",
     "copiedOriginId": null,
     "diskcache": false,
     "headerColor": "transparent",
     "id": "21b64d23-0abc-4743-a15f-0b39d1a7aff2",
     "isComponent": false,
     "name": "",
     "parents": []
    }
   },
   "source": [
    "**Example 1**: $\\beta$ distribution\n",
    "\n",
    "$$ f(x; a, b) = \\frac{\\Gamma(a+b)x^{a-1}(1-x)^{b-1}}{\\Gamma(a)\\Gamma(b)} \\hspace{20mm} 0 \\leq x \\leq 1$$"
   ]
  },
  {
   "cell_type": "code",
   "execution_count": 77,
   "id": "73ff514c-a6ee-4379-b115-7559f0962239",
   "metadata": {
    "canvas": {
     "comments": [],
     "componentType": "CodeCell",
     "copiedOriginId": null,
     "diskcache": false,
     "headerColor": "transparent",
     "id": "7d9c7cbf-3667-41fd-a21b-a56389666071",
     "isComponent": false,
     "name": "",
     "parents": []
    }
   },
   "outputs": [],
   "source": [
    "from scipy.stats import beta"
   ]
  },
  {
   "cell_type": "markdown",
   "id": "0c1130b9-9bdd-4ebf-8c78-bcde39a3e5eb",
   "metadata": {
    "canvas": {
     "comments": [],
     "componentType": "CodeCell",
     "copiedOriginId": null,
     "diskcache": false,
     "headerColor": "transparent",
     "id": "b8e1168b-4c86-42f8-8158-d9fb3441c70c",
     "isComponent": false,
     "name": "",
     "parents": []
    }
   },
   "source": [
    "Basic Statistics"
   ]
  },
  {
   "cell_type": "code",
   "execution_count": 80,
   "id": "2f8db4d2-8928-4e6b-982a-f3726fd14070",
   "metadata": {
    "canvas": {
     "comments": [],
     "componentType": "CodeCell",
     "copiedOriginId": null,
     "diskcache": false,
     "headerColor": "transparent",
     "id": "f7cb065c-0769-462a-aecc-1f790cf18573",
     "isComponent": false,
     "name": "",
     "parents": []
    }
   },
   "outputs": [],
   "source": [
    "a, b = 2.5, 3.1\n",
    "mean, var, skew, kurt = beta.stats(a, b, moments='mvsk')# mean, variance, skewness, kurtosis = \"mvsk\""
   ]
  },
  {
   "cell_type": "code",
   "execution_count": 81,
   "id": "4eded675-5f0e-4d81-856d-6309020aeda9",
   "metadata": {
    "canvas": {
     "comments": [],
     "componentType": "CodeCell",
     "copiedOriginId": null,
     "diskcache": false,
     "headerColor": "transparent",
     "id": "92fba124-c67f-48f8-a63c-26e50cd9e139",
     "isComponent": false,
     "name": "",
     "parents": []
    }
   },
   "outputs": [
    {
     "data": {
      "text/plain": [
       "array(0.03744395)"
      ]
     },
     "execution_count": 81,
     "metadata": {},
     "output_type": "execute_result"
    }
   ],
   "source": [
    "var"
   ]
  },
  {
   "cell_type": "code",
   "execution_count": 82,
   "id": "79be30c9-3b99-4645-89d3-8f2834fa6acb",
   "metadata": {
    "canvas": {
     "comments": [],
     "componentType": "CodeCell",
     "copiedOriginId": null,
     "diskcache": false,
     "headerColor": "transparent",
     "id": "01dc5dc1-32fb-4507-87ea-22b0dcdd9d32",
     "isComponent": false,
     "name": "",
     "parents": []
    }
   },
   "outputs": [
    {
     "data": {
      "text/plain": [
       "array(-0.66953054)"
      ]
     },
     "execution_count": 82,
     "metadata": {},
     "output_type": "execute_result"
    }
   ],
   "source": [
    "kurt"
   ]
  },
  {
   "cell_type": "markdown",
   "id": "6a6e187b-76f3-4c4f-a4f0-f59e906be82c",
   "metadata": {
    "canvas": {
     "comments": [],
     "componentType": "CodeCell",
     "copiedOriginId": null,
     "diskcache": false,
     "headerColor": "transparent",
     "id": "09d05404-b783-4cae-a29c-9576d2871604",
     "isComponent": false,
     "name": "",
     "parents": []
    }
   },
   "source": [
    "Probability Distribution Function Plotting"
   ]
  },
  {
   "cell_type": "code",
   "execution_count": 83,
   "id": "dfec5d34-b99b-4cf3-a9a0-9b1356506b93",
   "metadata": {
    "canvas": {
     "comments": [],
     "componentType": "CodeCell",
     "copiedOriginId": null,
     "diskcache": false,
     "headerColor": "transparent",
     "id": "e340036b-04ac-4fa0-ada2-e0fc8ea30cfb",
     "isComponent": false,
     "name": "",
     "parents": []
    }
   },
   "outputs": [
    {
     "data": {
      "text/plain": [
       "[<matplotlib.lines.Line2D at 0x2a5e90c2fe0>]"
      ]
     },
     "execution_count": 83,
     "metadata": {},
     "output_type": "execute_result"
    },
    {
     "data": {
      "image/png": "[encoded data removed]",
      "text/plain": [
       "<Figure size 432x288 with 1 Axes>"
      ]
     },
     "metadata": {
      "needs_background": "light"
     },
     "output_type": "display_data"
    }
   ],
   "source": [
    "x = np.linspace(beta.ppf(0, a, b), beta.ppf(1, a, b), 100)\n",
    "plt.plot(x, beta.pdf(x, a, b))"
   ]
  },
  {
   "cell_type": "code",
   "execution_count": 84,
   "id": "7947dab4-db6e-441a-a983-6daa0cf62aa4",
   "metadata": {
    "canvas": {
     "comments": [],
     "componentType": "CodeCell",
     "copiedOriginId": null,
     "diskcache": false,
     "headerColor": "transparent",
     "id": "01e1960c-dc8a-4ae8-8bfb-ef104580f736",
     "isComponent": false,
     "name": "",
     "parents": []
    }
   },
   "outputs": [
    {
     "data": {
      "text/plain": [
       "\u001b[1;31mSignature:\u001b[0m \u001b[0mbeta\u001b[0m\u001b[1;33m.\u001b[0m\u001b[0mppf\u001b[0m\u001b[1;33m(\u001b[0m\u001b[0mq\u001b[0m\u001b[1;33m,\u001b[0m \u001b[1;33m*\u001b[0m\u001b[0margs\u001b[0m\u001b[1;33m,\u001b[0m \u001b[1;33m**\u001b[0m\u001b[0mkwds\u001b[0m\u001b[1;33m)\u001b[0m\u001b[1;33m\u001b[0m\u001b[1;33m\u001b[0m\u001b[0m\n",
       "\u001b[1;31mDocstring:\u001b[0m\n",
       "Percent point function (inverse of `cdf`) at q of the given RV.\n",
       "\n",
       "Parameters\n",
       "----------\n",
       "q : array_like\n",
       "    lower tail probability\n",
       "arg1, arg2, arg3,... : array_like\n",
       "    The shape parameter(s) for the distribution (see docstring of the\n",
       "    instance object for more information)\n",
       "loc : array_like, optional\n",
       "    location parameter (default=0)\n",
       "scale : array_like, optional\n",
       "    scale parameter (default=1)\n",
       "\n",
       "Returns\n",
       "-------\n",
       "x : array_like\n",
       "    quantile corresponding to the lower tail probability q.\n",
       "\u001b[1;31mFile:\u001b[0m      c:\\users\\priya\\appdata\\local\\programs\\python\\python310\\lib\\site-packages\\scipy\\stats\\_distn_infrastructure.py\n",
       "\u001b[1;31mType:\u001b[0m      method\n"
      ]
     },
     "metadata": {},
     "output_type": "display_data"
    }
   ],
   "source": [
    "beta.ppf?"
   ]
  },
  {
   "cell_type": "code",
   "execution_count": 85,
   "id": "a523d24f-8f7a-4aba-87ff-5e556f57b5bf",
   "metadata": {
    "canvas": {
     "comments": [],
     "componentType": "CodeCell",
     "copiedOriginId": null,
     "diskcache": false,
     "headerColor": "transparent",
     "id": "6317d360-2c5c-427b-a0dd-0f3cdf25a1d3",
     "isComponent": false,
     "name": "",
     "parents": []
    }
   },
   "outputs": [
    {
     "data": {
      "text/plain": [
       "\u001b[1;31mSignature:\u001b[0m \u001b[0mbeta\u001b[0m\u001b[1;33m.\u001b[0m\u001b[0mcdf\u001b[0m\u001b[1;33m(\u001b[0m\u001b[0mx\u001b[0m\u001b[1;33m,\u001b[0m \u001b[1;33m*\u001b[0m\u001b[0margs\u001b[0m\u001b[1;33m,\u001b[0m \u001b[1;33m**\u001b[0m\u001b[0mkwds\u001b[0m\u001b[1;33m)\u001b[0m\u001b[1;33m\u001b[0m\u001b[1;33m\u001b[0m\u001b[0m\n",
       "\u001b[1;31mDocstring:\u001b[0m\n",
       "Cumulative distribution function of the given RV.\n",
       "\n",
       "Parameters\n",
       "----------\n",
       "x : array_like\n",
       "    quantiles\n",
       "arg1, arg2, arg3,... : array_like\n",
       "    The shape parameter(s) for the distribution (see docstring of the\n",
       "    instance object for more information)\n",
       "loc : array_like, optional\n",
       "    location parameter (default=0)\n",
       "scale : array_like, optional\n",
       "    scale parameter (default=1)\n",
       "\n",
       "Returns\n",
       "-------\n",
       "cdf : ndarray\n",
       "    Cumulative distribution function evaluated at `x`\n",
       "\u001b[1;31mFile:\u001b[0m      c:\\users\\priya\\appdata\\local\\programs\\python\\python310\\lib\\site-packages\\scipy\\stats\\_distn_infrastructure.py\n",
       "\u001b[1;31mType:\u001b[0m      method\n"
      ]
     },
     "metadata": {},
     "output_type": "display_data"
    }
   ],
   "source": [
    "beta.cdf?"
   ]
  },
  {
   "cell_type": "markdown",
   "id": "c69e13e6-27a9-4931-b2cc-e3d6b8f42515",
   "metadata": {
    "canvas": {
     "comments": [],
     "componentType": "CodeCell",
     "copiedOriginId": null,
     "diskcache": false,
     "headerColor": "transparent",
     "id": "1310e01a-a23b-4fd1-a77d-66718e8200e1",
     "isComponent": false,
     "name": "",
     "parents": []
    }
   },
   "source": [
    "Generating Random Variables"
   ]
  },
  {
   "cell_type": "code",
   "execution_count": 86,
   "id": "548e0e3f-7eb0-4680-b296-fca31541d79d",
   "metadata": {
    "canvas": {
     "comments": [],
     "componentType": "CodeCell",
     "copiedOriginId": null,
     "diskcache": false,
     "headerColor": "transparent",
     "id": "0ed993e8-25de-40e6-9a6b-d5af046a2641",
     "isComponent": false,
     "name": "",
     "parents": []
    }
   },
   "outputs": [
    {
     "data": {
      "text/plain": [
       "array([0.45953668, 0.48299203, 0.405428  , 0.59004405, 0.80873371,\n",
       "       0.24869311, 0.66383656, 0.49507173, 0.77181086, 0.52773511])"
      ]
     },
     "execution_count": 86,
     "metadata": {},
     "output_type": "execute_result"
    }
   ],
   "source": [
    "r = beta.rvs(a, b, size=10)\n",
    "r"
   ]
  },
  {
   "cell_type": "markdown",
   "id": "d1932343-48b6-48ad-a8cb-5cfe080c6b22",
   "metadata": {
    "canvas": {
     "comments": [],
     "componentType": "CodeCell",
     "copiedOriginId": null,
     "diskcache": false,
     "headerColor": "transparent",
     "id": "e1f3c3b2-d5ab-485f-81f1-7bfcee7548d4",
     "isComponent": false,
     "name": "",
     "parents": []
    }
   },
   "source": [
    "**Example 2**: Gaussian Distribution\n",
    "\n",
    "$$ f(x; \\mu, \\sigma) = \\frac{1}{\\sqrt{2 \\pi \\sigma^2}} \\text{exp}\\left(-\\frac{(x-\\mu)^2}{\\sigma^2} \\right) \\hspace{20mm} -\\infty < x \\leq \\infty $$"
   ]
  },
  {
   "cell_type": "code",
   "execution_count": 87,
   "id": "473670dd-f8e6-4977-aaf5-46e706bcb2d6",
   "metadata": {
    "canvas": {
     "comments": [],
     "componentType": "CodeCell",
     "copiedOriginId": null,
     "diskcache": false,
     "headerColor": "transparent",
     "id": "90811a4b-f2a5-46cf-8a65-f239a4d9dbfd",
     "isComponent": false,
     "name": "",
     "parents": []
    }
   },
   "outputs": [],
   "source": [
    "from scipy.stats import norm"
   ]
  },
  {
   "cell_type": "code",
   "execution_count": 89,
   "id": "34a8c44e-0214-4b26-a7ad-071667e3bd40",
   "metadata": {
    "canvas": {
     "comments": [],
     "componentType": "CodeCell",
     "copiedOriginId": null,
     "diskcache": false,
     "headerColor": "transparent",
     "id": "f0721cbe-3517-430d-baf2-d1a8c7f396cb",
     "isComponent": false,
     "name": "",
     "parents": []
    }
   },
   "outputs": [],
   "source": [
    "mu = 1\n",
    "sigma = 2\n",
    "mean, var = norm.stats(loc=mu, scale=sigma, moments='mv') #mu and sigma already give the mean and sqrt(SD)\n",
    "#Technically this is a normal distribution with mean = 0 and SD = 1, but we can specify the location (loc) and scale.\n",
    "# moments = \"mv\" means that the output will contain only mean and variance out of the many things the function can generate"
   ]
  },
  {
   "cell_type": "code",
   "execution_count": 90,
   "id": "b06dfc10-c6e0-4f73-8988-a27afc79c81b",
   "metadata": {
    "canvas": {
     "comments": [],
     "componentType": "CodeCell",
     "copiedOriginId": null,
     "diskcache": false,
     "headerColor": "transparent",
     "id": "d701a25f-2122-471f-a22d-d193315b572a",
     "isComponent": false,
     "name": "",
     "parents": []
    }
   },
   "outputs": [
    {
     "data": {
      "text/plain": [
       "array(1.)"
      ]
     },
     "execution_count": 90,
     "metadata": {},
     "output_type": "execute_result"
    }
   ],
   "source": [
    "mean"
   ]
  },
  {
   "cell_type": "code",
   "execution_count": 91,
   "id": "f3552ea1-d7f6-4667-8f97-231b675b0d4e",
   "metadata": {
    "canvas": {
     "comments": [],
     "componentType": "CodeCell",
     "copiedOriginId": null,
     "diskcache": false,
     "headerColor": "transparent",
     "id": "7217ebcd-88ce-48a7-a1e4-9eb764eb4f99",
     "isComponent": false,
     "name": "",
     "parents": []
    }
   },
   "outputs": [
    {
     "data": {
      "text/plain": [
       "array(4.)"
      ]
     },
     "execution_count": 91,
     "metadata": {},
     "output_type": "execute_result"
    }
   ],
   "source": [
    "var"
   ]
  },
  {
   "cell_type": "code",
   "execution_count": 93,
   "id": "c2c495e6-9de3-4240-bab8-521daa1d3e95",
   "metadata": {
    "canvas": {
     "comments": [],
     "componentType": "CodeCell",
     "copiedOriginId": null,
     "diskcache": false,
     "headerColor": "transparent",
     "id": "293f0ec0-5368-45bf-bbf7-dd6735edfec9",
     "isComponent": false,
     "name": "",
     "parents": []
    }
   },
   "outputs": [
    {
     "data": {
      "text/plain": [
       "[<matplotlib.lines.Line2D at 0x2a5eb316260>]"
      ]
     },
     "execution_count": 93,
     "metadata": {},
     "output_type": "execute_result"
    },
    {
     "data": {
      "image/png": "[encoded data removed]",
      "text/plain": [
       "<Figure size 432x288 with 1 Axes>"
      ]
     },
     "metadata": {
      "needs_background": "light"
     },
     "output_type": "display_data"
    }
   ],
   "source": [
    "x = np.linspace(norm.ppf(0.01, mu, sigma), norm.ppf(0.99, mu, sigma), 100)# the points had to be chosen as 0.01 and 0.99 as 0 annd 1 correspond to negative and positive infinities\n",
    "plt.plot(x, norm.pdf(x, mu, sigma))"
   ]
  },
  {
   "cell_type": "markdown",
   "id": "d0f2e531-4dc5-4fde-b83c-044531442a0f",
   "metadata": {
    "canvas": {
     "comments": [],
     "componentType": "CodeCell",
     "copiedOriginId": null,
     "diskcache": false,
     "headerColor": "transparent",
     "id": "2294b40c-8966-4127-b622-16c9f70f25a6",
     "isComponent": false,
     "name": "",
     "parents": []
    }
   },
   "source": [
    "**Example 3**: Multinomial Distribution\n",
    "\n",
    "$$ f(x_1, x_2, ..., x_k; p_1, p_2, ... p_k, n) = \\frac{n!}{x_1! ... x_k!}p_1^{x_1}p_2^{x_2}...p_k^{x_k}$$"
   ]
  },
  {
   "cell_type": "markdown",
   "id": "8e7b1663-2b5f-41ad-a4ba-f3a4171dc20f",
   "metadata": {
    "canvas": {
     "comments": [],
     "componentType": "CodeCell",
     "copiedOriginId": null,
     "diskcache": false,
     "headerColor": "transparent",
     "id": "642be65e-c23c-4110-b678-2849a0c316d9",
     "isComponent": false,
     "name": "",
     "parents": []
    }
   },
   "source": [
    "Rolling a die"
   ]
  },
  {
   "cell_type": "code",
   "execution_count": 94,
   "id": "8ff40782-d7e7-4fb0-ae73-8c2a86ec700c",
   "metadata": {
    "canvas": {
     "comments": [],
     "componentType": "CodeCell",
     "copiedOriginId": null,
     "diskcache": false,
     "headerColor": "transparent",
     "id": "f5b12299-0ece-49a6-9621-4f334ef1a751",
     "isComponent": false,
     "name": "",
     "parents": []
    }
   },
   "outputs": [
    {
     "data": {
      "text/plain": [
       "2.143347050754453e-05"
      ]
     },
     "execution_count": 94,
     "metadata": {},
     "output_type": "execute_result"
    }
   ],
   "source": [
    "from scipy.stats import multinomial\n",
    "\n",
    "p = np.ones(6)/6\n",
    "multinomial.pmf([6,0,0,0,0,0], n=6, p=p)"
   ]
  },
  {
   "cell_type": "code",
   "execution_count": 95,
   "id": "d055f74f-c119-4605-892c-0130c58e71ea",
   "metadata": {
    "canvas": {
     "comments": [],
     "componentType": "CodeCell",
     "copiedOriginId": null,
     "diskcache": false,
     "headerColor": "transparent",
     "id": "6b567765-f9a2-4d9b-9269-7057881c2bc2",
     "isComponent": false,
     "name": "",
     "parents": []
    }
   },
   "outputs": [
    {
     "data": {
      "text/plain": [
       "\u001b[1;31mSignature:\u001b[0m \u001b[0mmultinomial\u001b[0m\u001b[1;33m.\u001b[0m\u001b[0mpmf\u001b[0m\u001b[1;33m(\u001b[0m\u001b[0mx\u001b[0m\u001b[1;33m,\u001b[0m \u001b[0mn\u001b[0m\u001b[1;33m,\u001b[0m \u001b[0mp\u001b[0m\u001b[1;33m)\u001b[0m\u001b[1;33m\u001b[0m\u001b[1;33m\u001b[0m\u001b[0m\n",
       "\u001b[1;31mDocstring:\u001b[0m\n",
       "Multinomial probability mass function.\n",
       "\n",
       "Parameters\n",
       "----------\n",
       "x : array_like\n",
       "    Quantiles, with the last axis of `x` denoting the components.\n",
       "n : int\n",
       "    Number of trials\n",
       "p : array_like\n",
       "    Probability of a trial falling into each category; should sum to 1\n",
       "\n",
       "Returns\n",
       "-------\n",
       "pmf : ndarray or scalar\n",
       "    Probability density function evaluated at `x`\n",
       "\n",
       "Notes\n",
       "-----\n",
       "`n` should be a positive integer. Each element of `p` should be in the\n",
       "interval :math:`[0,1]` and the elements should sum to 1. If they do not sum to\n",
       "1, the last element of the `p` array is not used and is replaced with the\n",
       "remaining probability left over from the earlier elements.\n",
       "\u001b[1;31mFile:\u001b[0m      c:\\users\\priya\\appdata\\local\\programs\\python\\python310\\lib\\site-packages\\scipy\\stats\\_multivariate.py\n",
       "\u001b[1;31mType:\u001b[0m      method\n"
      ]
     },
     "metadata": {},
     "output_type": "display_data"
    }
   ],
   "source": [
    "multinomial.pmf?"
   ]
  },
  {
   "cell_type": "code",
   "execution_count": 96,
   "id": "448a8e4e-3c4b-42ef-ade9-695381734a24",
   "metadata": {
    "canvas": {
     "comments": [],
     "componentType": "CodeCell",
     "copiedOriginId": null,
     "diskcache": false,
     "headerColor": "transparent",
     "id": "3e508f38-5a87-4f8b-924e-993eb1f35e07",
     "isComponent": false,
     "name": "",
     "parents": []
    }
   },
   "outputs": [
    {
     "data": {
      "text/plain": [
       "array([0.16666667, 0.16666667, 0.16666667, 0.16666667, 0.16666667,\n",
       "       0.16666667])"
      ]
     },
     "execution_count": 96,
     "metadata": {},
     "output_type": "execute_result"
    }
   ],
   "source": [
    "p"
   ]
  },
  {
   "cell_type": "code",
   "execution_count": 98,
   "id": "a1c415ba-6341-4147-894c-86ae0e5ab896",
   "metadata": {
    "canvas": {
     "comments": [],
     "componentType": "CodeCell",
     "copiedOriginId": null,
     "diskcache": false,
     "headerColor": "transparent",
     "id": "b160ddfe-722a-47b4-86a7-a470a24b4421",
     "isComponent": false,
     "name": "",
     "parents": []
    }
   },
   "outputs": [
    {
     "data": {
      "text/plain": [
       "array([[21, 12, 18, 14, 13, 22],\n",
       "       [10, 23, 19, 19, 12, 17],\n",
       "       [11, 16, 18, 20, 15, 20],\n",
       "       [16, 16, 17, 15, 21, 15],\n",
       "       [16, 14, 20, 18, 15, 17]])"
      ]
     },
     "execution_count": 98,
     "metadata": {},
     "output_type": "execute_result"
    }
   ],
   "source": [
    "multinomial.rvs(n=100, p=p, size=5) # this means that I do a hundred rolls (of the die) and I have six diferent options (p). I repeat the process five times (size=5). See that the numbers in each element of the array add up to 100"
   ]
  },
  {
   "cell_type": "markdown",
   "id": "2f866054-92e9-4aed-a347-446af221e27a",
   "metadata": {
    "canvas": {
     "comments": [],
     "componentType": "CodeCell",
     "copiedOriginId": null,
     "diskcache": false,
     "headerColor": "transparent",
     "id": "2cf18928-f35d-409a-a5dc-fc3e4ec41716",
     "isComponent": false,
     "name": "",
     "parents": []
    }
   },
   "source": [
    "**Example 4**: Generating Random Numbers from your own distribution\n",
    "\n",
    "$$ f(x; a_1, a_2, b_1, b_2) = \\frac{1}{2(a_1b_1+a_2b_2)} \\left(b_1\\exp\\left(-\\sqrt{\\frac{x}{a_1}}\\right)+b_2\\exp\\left(-\\sqrt{\\frac{x}{a_2}}\\right)\\right) \\hspace{20mm} 0 \\leq x \\leq \\infty $$"
   ]
  },
  {
   "cell_type": "code",
   "execution_count": 100,
   "id": "edf289a4-ad96-4119-a932-c39f4b93ebf3",
   "metadata": {
    "canvas": {
     "comments": [],
     "componentType": "CodeCell",
     "copiedOriginId": null,
     "diskcache": false,
     "headerColor": "transparent",
     "id": "e4ae7d0e-3dd3-4e61-853c-29e5d2759df5",
     "isComponent": false,
     "name": "",
     "parents": []
    }
   },
   "outputs": [],
   "source": [
    "import scipy.stats as st\n",
    "\n",
    "class mr_p_solver_dist(st.rv_continuous): #OOP\n",
    "    def _pdf(self,x, a1, a2, b1, b2):\n",
    "        return 1/(2*(a1*b1+a2*b2))*(b1*np.exp(-np.sqrt(x/a1)) + b2*np.exp(-np.sqrt(x/a2)))\n",
    "my_rv = mr_p_solver_dist(a=0, b=np.inf)"
   ]
  },
  {
   "cell_type": "code",
   "execution_count": 101,
   "id": "50ba85cd-d89c-4c00-bfb7-92af8e51374b",
   "metadata": {
    "canvas": {
     "comments": [],
     "componentType": "CodeCell",
     "copiedOriginId": null,
     "diskcache": false,
     "headerColor": "transparent",
     "id": "b87ba139-80fc-46eb-97d5-16f2c627c315",
     "isComponent": false,
     "name": "",
     "parents": []
    }
   },
   "outputs": [],
   "source": [
    "a1, a2, b1, b2 = 2, 3, 1, 2\n",
    "x = np.linspace(my_rv.ppf(0.01, a1, a2, b1, b2), my_rv.ppf(0.99, a1, a2, b1, b2), 100)\n",
    "y = my_rv.pdf(x, a1, a2, b1, b2)"
   ]
  },
  {
   "cell_type": "code",
   "execution_count": 102,
   "id": "7db2494c-42e1-42bd-aaf0-e1c8d462f2b4",
   "metadata": {
    "canvas": {
     "comments": [],
     "componentType": "CodeCell",
     "copiedOriginId": null,
     "diskcache": false,
     "headerColor": "transparent",
     "id": "2b0ddd40-2716-4be6-8b16-5da103d460ad",
     "isComponent": false,
     "name": "",
     "parents": []
    }
   },
   "outputs": [
    {
     "data": {
      "image/png": "[encoded data removed]",
      "text/plain": [
       "<Figure size 432x288 with 1 Axes>"
      ]
     },
     "metadata": {
      "needs_background": "light"
     },
     "output_type": "display_data"
    }
   ],
   "source": [
    "plt.plot(x, y)\n",
    "plt.semilogy()\n",
    "plt.show()"
   ]
  },
  {
   "cell_type": "code",
   "execution_count": 103,
   "id": "1994fc6d-d360-46d3-9fb5-3d7a8d736bf4",
   "metadata": {
    "canvas": {
     "comments": [],
     "componentType": "CodeCell",
     "copiedOriginId": null,
     "diskcache": false,
     "headerColor": "transparent",
     "id": "ba254288-f1bc-4669-8f13-8ebd50f0aa60",
     "isComponent": false,
     "name": "",
     "parents": []
    }
   },
   "outputs": [
    {
     "data": {
      "text/plain": [
       "array([11.40880716,  3.38833446,  6.99335181, 36.10280619,  2.0447312 ,\n",
       "       11.96041375,  2.89675457,  7.33755671,  3.04511559, 16.35967539])"
      ]
     },
     "execution_count": 103,
     "metadata": {},
     "output_type": "execute_result"
    }
   ],
   "source": [
    "my_rv.rvs(a1, a2, b1, b2, size=10)"
   ]
  },
  {
   "cell_type": "code",
   "execution_count": null,
   "id": "d8b6941e-e4fa-4edd-a211-43ab18f0d6f1",
   "metadata": {
    "canvas": {
     "comments": [],
     "componentType": "CodeCell",
     "copiedOriginId": null,
     "diskcache": false,
     "headerColor": "transparent",
     "id": "4e8635a3-0757-4305-86e0-e13068aa7a66",
     "isComponent": false,
     "name": "",
     "parents": []
    }
   },
   "outputs": [],
   "source": []
  }
 ],
 "metadata": {
  "canvas": {
   "colorPalette": [
    "inherit",
    "inherit",
    "inherit",
    "inherit",
    "inherit",
    "inherit",
    "inherit",
    "inherit",
    "inherit",
    "inherit"
   ],
   "parameters": []
  },
  "kernelspec": {
   "display_name": "Python 3 (ipykernel)",
   "language": "python",
   "name": "python3"
  },
  "language_info": {
   "codemirror_mode": {
    "name": "ipython",
    "version": 3
   },
   "file_extension": ".py",
   "mimetype": "text/x-python",
   "name": "python",
   "nbconvert_exporter": "python",
   "pygments_lexer": "ipython3",
   "version": "3.10.2"
  }
 },
 "nbformat": 4,
 "nbformat_minor": 5
}
