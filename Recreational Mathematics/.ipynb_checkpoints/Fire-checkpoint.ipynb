{
 "cells": [
  {
   "cell_type": "code",
   "execution_count": 1,
   "id": "cf6fedc3-4825-411a-9d4a-f9f241d0d207",
   "metadata": {},
   "outputs": [
    {
     "name": "stdout",
     "output_type": "stream",
     "text": [
      "pygame 2.5.0 (SDL 2.28.0, Python 3.10.2)\n",
      "Hello from the pygame community. https://www.pygame.org/contribute.html\n"
     ]
    }
   ],
   "source": [
    "import pygame\n",
    "import random\n",
    "import numpy as np\n",
    "\n",
    "cells = None\n",
    "fire_colors = []\n",
    "\n",
    "\n",
    "def init(dimx, dimy):\n",
    "    global fire_colors, cells\n",
    "\n",
    "    cells = np.zeros((dimx, dimy))\n",
    "\n",
    "    for c in range(0, dimx):\n",
    "        cells[c, 0] = random.random()\n",
    "\n",
    "    # create color palette\n",
    "    p1, p2, p3 = (0,0,0), (80, 0, 0), (255, 255, 128)\n",
    "    for i in range(0, 256):\n",
    "        if i < 128:\n",
    "            r, g, b = (p1[0] + (p2[0] - p1[0]) * i/128,\n",
    "                       p1[1] + (p2[1] - p1[1]) * i/128,\n",
    "                       p1[2] + (p2[2] - p1[2]) * i/128)\n",
    "        else:\n",
    "            r, g, b = (p2[0] + (p3[0] - p2[0]) * (i-128)/128,\n",
    "                       p2[1] + (p3[1] - p2[1]) * (i-128)/128,\n",
    "                       p2[2] + (p3[2] - p2[2]) * (i-128)/128)\n",
    "        fire_colors.append((int(r), int(g), int(b)))\n",
    "\n",
    "\n",
    "def update(surface, cells, dimx, dimy):\n",
    "    old = np.copy(cells)\n",
    "    for r in range(0, dimy-1):\n",
    "        for c in range(0, dimx-1):\n",
    "            if r == 0 and 5 < c < dimx-5:\n",
    "                cells[c, r] = cells[c, 1] + random.random() * 0.9\n",
    "            else:\n",
    "                intens = 4.1 + 0.3 * ((abs(c - dimx/2) / (dimx/2)) )\n",
    "                cells[c, r] = (old[c - 1, r - 1] + old[c, r - 1] +\n",
    "                               old[c + 1, r - 1] + old[c, r - 2]) / intens\n",
    "\n",
    "            val = min(int(255 * cells[c, r - 1]), 255) * (r > 2)\n",
    "            surface.set_at((c, r), fire_colors[val])\n",
    "\n",
    "\n",
    "def render(display, surface_fire, dimx, dimy, cellsize):\n",
    "    tmp = pygame.transform.scale(surface_fire, (dimx * cellsize, dimy * cellsize))\n",
    "    tmp = pygame.transform.flip(tmp, False, True)\n",
    "    display.blit(tmp, (0, 0))\n",
    "    pygame.display.update()\n",
    "\n",
    "\n",
    "def main(dimx, dimy, cellsize):\n",
    "    pygame.init()\n",
    "    display = pygame.display.set_mode((dimx*cellsize, dimy*cellsize))\n",
    "    pygame.display.set_caption(\"Fire Effect\")\n",
    "\n",
    "    surface_fire = pygame.Surface((dimx, dimy))\n",
    "    init(dimx, dimy)\n",
    "\n",
    "    while True:\n",
    "        for event in pygame.event.get():\n",
    "            if event.type == pygame.QUIT:\n",
    "                pygame.quit()\n",
    "                return\n",
    "\n",
    "        update(surface_fire, cells, dimx, dimy)\n",
    "        render(display, surface_fire, dimx, dimy, cellsize)\n",
    "\n",
    "\n",
    "if __name__ == \"__main__\":\n",
    "    main(100, 70, 6)"
   ]
  },
  {
   "cell_type": "code",
   "execution_count": null,
   "id": "59f81bf2-90ce-4370-be02-7be887a09fd9",
   "metadata": {},
   "outputs": [],
   "source": []
  }
 ],
 "metadata": {
  "kernelspec": {
   "display_name": "Python 3 (ipykernel)",
   "language": "python",
   "name": "python3"
  },
  "language_info": {
   "codemirror_mode": {
    "name": "ipython",
    "version": 3
   },
   "file_extension": ".py",
   "mimetype": "text/x-python",
   "name": "python",
   "nbconvert_exporter": "python",
   "pygments_lexer": "ipython3",
   "version": "3.10.2"
  }
 },
 "nbformat": 4,
 "nbformat_minor": 5
}
