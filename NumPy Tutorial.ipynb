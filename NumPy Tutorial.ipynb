{
 "cells": [
  {
   "cell_type": "markdown",
   "id": "5878b580",
   "metadata": {
    "canvas": {
     "comments": [],
     "componentType": "CodeCell",
     "copiedOriginId": null,
     "diskcache": false,
     "headerColor": "transparent",
     "id": "551a156f-23f1-4dff-8d99-4e1e29c8b368",
     "isComponent": false,
     "name": "",
     "parents": []
    },
    "tags": []
   },
   "source": [
    "# NumPy Tutorial"
   ]
  },
  {
   "cell_type": "markdown",
   "id": "efe62cd0",
   "metadata": {
    "canvas": {
     "comments": [],
     "componentType": "CodeCell",
     "copiedOriginId": null,
     "diskcache": false,
     "headerColor": "transparent",
     "id": "7a6d9076-4e73-4413-ada3-dc447256706b",
     "isComponent": false,
     "name": "",
     "parents": []
    }
   },
   "source": [
    "importing numpy and matplotlib"
   ]
  },
  {
   "cell_type": "code",
   "execution_count": 1,
   "id": "7ebe645e",
   "metadata": {
    "canvas": {
     "comments": [],
     "componentType": "CodeCell",
     "copiedOriginId": null,
     "diskcache": false,
     "headerColor": "transparent",
     "id": "b68a5658-3367-471a-8229-22ff2a075ad1",
     "isComponent": false,
     "name": "",
     "parents": []
    }
   },
   "outputs": [],
   "source": [
    "import numpy as np\n",
    "import matplotlib.pyplot as plt"
   ]
  },
  {
   "cell_type": "markdown",
   "id": "f8ce6d5b",
   "metadata": {
    "canvas": {
     "comments": [],
     "componentType": "CodeCell",
     "copiedOriginId": null,
     "diskcache": false,
     "headerColor": "transparent",
     "id": "c7e3baa8-4b26-44b1-a644-1e5d855497fc",
     "isComponent": false,
     "name": "",
     "parents": []
    }
   },
   "source": [
    "# Creating Arrays"
   ]
  },
  {
   "cell_type": "code",
   "execution_count": 2,
   "id": "1f414eb9",
   "metadata": {
    "canvas": {
     "comments": [],
     "componentType": "CodeCell",
     "copiedOriginId": null,
     "diskcache": false,
     "headerColor": "transparent",
     "id": "9eac8de6-3a55-437e-bc1e-59c8f7745598",
     "isComponent": false,
     "name": "",
     "parents": []
    }
   },
   "outputs": [],
   "source": [
    "a1 = np.array([1,2,3,4,5,6,7,8,9,10])\n",
    "a2 = np.zeros(10) #for generating an array of 10 0's\n",
    "a3 = np.ones(10) #for generating an array of 10 1's\n",
    "a4 = np.random.random(10) #for generating an array of 10 random numbers\n",
    "a5 = np.random.randn(10) #for generating an array of 10 random gaussian numbers (the 'n' in randn stands for 'n'ormal distribution\n",
    "a6 = np.linspace(0,10,100) #linspace stands for linear spaces. np.linspace(x,y,z) : x=starting point; y=endpoint; z=number of elements you want between x & y to remain in the array/linspace\n",
    "a7 = np.arange(0,10,0.5) #in this, the only difference is that instead of the number of elements, you enter the spacing between the elements. everything else remains the same\n"
   ]
  },
  {
   "cell_type": "code",
   "execution_count": 3,
   "id": "62761735",
   "metadata": {
    "canvas": {
     "comments": [],
     "componentType": "CodeCell",
     "copiedOriginId": null,
     "diskcache": false,
     "headerColor": "transparent",
     "id": "794016ec-f005-4a12-bebc-6b9d6727706a",
     "isComponent": false,
     "name": "",
     "parents": []
    }
   },
   "outputs": [
    {
     "name": "stdout",
     "output_type": "stream",
     "text": [
      "[ 1  2  3  4  5  6  7  8  9 10]\n",
      "[0. 0. 0. 0. 0. 0. 0. 0. 0. 0.]\n",
      "[1. 1. 1. 1. 1. 1. 1. 1. 1. 1.]\n",
      "[0.44775474 0.05569438 0.76213856 0.67339837 0.77635919 0.353811\n",
      " 0.00229141 0.40475599 0.18927839 0.49317398]\n",
      "[ 0.17927035 -0.23242644  0.47365746 -1.17576787 -0.32198093  1.46520472\n",
      " -1.48980886  0.38168271  0.7273957  -0.37016472]\n",
      "[ 0.          0.1010101   0.2020202   0.3030303   0.4040404   0.50505051\n",
      "  0.60606061  0.70707071  0.80808081  0.90909091  1.01010101  1.11111111\n",
      "  1.21212121  1.31313131  1.41414141  1.51515152  1.61616162  1.71717172\n",
      "  1.81818182  1.91919192  2.02020202  2.12121212  2.22222222  2.32323232\n",
      "  2.42424242  2.52525253  2.62626263  2.72727273  2.82828283  2.92929293\n",
      "  3.03030303  3.13131313  3.23232323  3.33333333  3.43434343  3.53535354\n",
      "  3.63636364  3.73737374  3.83838384  3.93939394  4.04040404  4.14141414\n",
      "  4.24242424  4.34343434  4.44444444  4.54545455  4.64646465  4.74747475\n",
      "  4.84848485  4.94949495  5.05050505  5.15151515  5.25252525  5.35353535\n",
      "  5.45454545  5.55555556  5.65656566  5.75757576  5.85858586  5.95959596\n",
      "  6.06060606  6.16161616  6.26262626  6.36363636  6.46464646  6.56565657\n",
      "  6.66666667  6.76767677  6.86868687  6.96969697  7.07070707  7.17171717\n",
      "  7.27272727  7.37373737  7.47474747  7.57575758  7.67676768  7.77777778\n",
      "  7.87878788  7.97979798  8.08080808  8.18181818  8.28282828  8.38383838\n",
      "  8.48484848  8.58585859  8.68686869  8.78787879  8.88888889  8.98989899\n",
      "  9.09090909  9.19191919  9.29292929  9.39393939  9.49494949  9.5959596\n",
      "  9.6969697   9.7979798   9.8989899  10.        ]\n",
      "[0.  0.5 1.  1.5 2.  2.5 3.  3.5 4.  4.5 5.  5.5 6.  6.5 7.  7.5 8.  8.5\n",
      " 9.  9.5]\n"
     ]
    }
   ],
   "source": [
    "print (a1)\n",
    "print (a2)\n",
    "print (a3)\n",
    "print (a4)\n",
    "print (a5)\n",
    "print (a6)\n",
    "print (a7)"
   ]
  },
  {
   "cell_type": "markdown",
   "id": "180a5ff5",
   "metadata": {
    "canvas": {
     "comments": [],
     "componentType": "CodeCell",
     "copiedOriginId": null,
     "diskcache": false,
     "headerColor": "transparent",
     "id": "91a4f126-25c4-4674-b567-f8b3f1e76c84",
     "isComponent": false,
     "name": "",
     "parents": []
    }
   },
   "source": [
    "# Array Operations\n",
    "We use NumPy arrays instead of the usual lists as they have some advantages over the normal ones."
   ]
  },
  {
   "cell_type": "code",
   "execution_count": 4,
   "id": "5817b215",
   "metadata": {
    "canvas": {
     "comments": [],
     "componentType": "CodeCell",
     "copiedOriginId": null,
     "diskcache": false,
     "headerColor": "transparent",
     "id": "cb344400-3d2d-494b-97bd-f89e9a1146f5",
     "isComponent": false,
     "name": "",
     "parents": []
    }
   },
   "outputs": [
    {
     "name": "stdout",
     "output_type": "stream",
     "text": [
      "[ 2  4  6  8 10 12 14 16 18 20]\n"
     ]
    }
   ],
   "source": [
    "print(2*a1) #multiplying a numpy array with a number has the same result as multiplying each element of a simple array by that number"
   ]
  },
  {
   "cell_type": "code",
   "execution_count": 5,
   "id": "6f714b79",
   "metadata": {
    "canvas": {
     "comments": [],
     "componentType": "CodeCell",
     "copiedOriginId": null,
     "diskcache": false,
     "headerColor": "transparent",
     "id": "67afa392-ca33-4ef1-a44a-1b6036a59ae0",
     "isComponent": false,
     "name": "",
     "parents": []
    }
   },
   "outputs": [
    {
     "name": "stdout",
     "output_type": "stream",
     "text": [
      "[1.         0.5        0.33333333 0.25       0.2        0.16666667\n",
      " 0.14285714 0.125      0.11111111 0.1       ]\n"
     ]
    }
   ],
   "source": [
    "print(1/a1) #results in an array with each element as the reciprocal of the corresponding element in a1"
   ]
  },
  {
   "cell_type": "code",
   "execution_count": 6,
   "id": "299b68d3",
   "metadata": {
    "canvas": {
     "comments": [],
     "componentType": "CodeCell",
     "copiedOriginId": null,
     "diskcache": false,
     "headerColor": "transparent",
     "id": "c5ef48e2-d33c-4a56-8a92-d49ca6474e7f",
     "isComponent": false,
     "name": "",
     "parents": []
    }
   },
   "outputs": [
    {
     "name": "stdout",
     "output_type": "stream",
     "text": [
      "[False False False False  True  True  True  True  True  True]\n"
     ]
    }
   ],
   "source": [
    "print(a1>4) #results in a boolean array with elements showing the validity of the expression"
   ]
  },
  {
   "cell_type": "code",
   "execution_count": 7,
   "id": "27aa1638",
   "metadata": {
    "canvas": {
     "comments": [],
     "componentType": "CodeCell",
     "copiedOriginId": null,
     "diskcache": false,
     "headerColor": "transparent",
     "id": "8f532fa7-d862-4081-b7ab-bfc5bcf713f6",
     "isComponent": false,
     "name": "",
     "parents": []
    }
   },
   "outputs": [
    {
     "name": "stdout",
     "output_type": "stream",
     "text": [
      "[3.         2.5        2.33333333 2.25       2.2        2.16666667\n",
      " 2.14285714 2.125      2.11111111 2.1       ]\n"
     ]
    }
   ],
   "source": [
    "print(1/a1 + 2)"
   ]
  },
  {
   "cell_type": "code",
   "execution_count": 8,
   "id": "68238593",
   "metadata": {
    "canvas": {
     "comments": [],
     "componentType": "CodeCell",
     "copiedOriginId": null,
     "diskcache": false,
     "headerColor": "transparent",
     "id": "aed0f8e3-454e-4d31-95c3-9ee8dbed9946",
     "isComponent": false,
     "name": "",
     "parents": []
    }
   },
   "outputs": [
    {
     "data": {
      "image/png": "[encoded data removed]",
      "text/plain": [
       "<Figure size 432x288 with 1 Axes>"
      ]
     },
     "metadata": {
      "needs_background": "light"
     },
     "output_type": "display_data"
    }
   ],
   "source": [
    "x=np.linspace(0,1,100)\n",
    "y=x**2\n",
    "plt.plot(x,y)\n",
    "plt.show()"
   ]
  },
  {
   "cell_type": "code",
   "execution_count": 9,
   "id": "99b913bf",
   "metadata": {
    "canvas": {
     "comments": [],
     "componentType": "CodeCell",
     "copiedOriginId": null,
     "diskcache": false,
     "headerColor": "transparent",
     "id": "adebeb68-15ad-493c-ba5d-a7b1ccb97da2",
     "isComponent": false,
     "name": "",
     "parents": []
    }
   },
   "outputs": [
    {
     "data": {
      "image/png": "[encoded data removed]",
      "text/plain": [
       "<Figure size 432x288 with 1 Axes>"
      ]
     },
     "metadata": {
      "needs_background": "light"
     },
     "output_type": "display_data"
    }
   ],
   "source": [
    "plt.hist(a4)\n",
    "plt.show()"
   ]
  },
  {
   "cell_type": "code",
   "execution_count": 10,
   "id": "d64e8941",
   "metadata": {
    "canvas": {
     "comments": [],
     "componentType": "CodeCell",
     "copiedOriginId": null,
     "diskcache": false,
     "headerColor": "transparent",
     "id": "014c451a-8231-4518-95f7-29a2473c0052",
     "isComponent": false,
     "name": "",
     "parents": []
    }
   },
   "outputs": [
    {
     "data": {
      "image/png": "[encoded data removed]",
      "text/plain": [
       "<Figure size 432x288 with 1 Axes>"
      ]
     },
     "metadata": {
      "needs_background": "light"
     },
     "output_type": "display_data"
    }
   ],
   "source": [
    "def f(a):\n",
    "    return np.sin(a)/(x**2 + np.exp(a))\n",
    "x=np.linspace(0,100,500)\n",
    "y=f(x)\n",
    "plt.plot(x,y)\n",
    "plt.show()\n"
   ]
  },
  {
   "cell_type": "markdown",
   "id": "2303d5cd",
   "metadata": {
    "canvas": {
     "comments": [],
     "componentType": "CodeCell",
     "copiedOriginId": null,
     "diskcache": false,
     "headerColor": "transparent",
     "id": "ceb64294-f1e1-43c5-b632-5f91f08bb5f3",
     "isComponent": false,
     "name": "",
     "parents": []
    }
   },
   "source": [
    "## Creating diagonal matrices"
   ]
  },
  {
   "cell_type": "code",
   "execution_count": 11,
   "id": "88d548d1",
   "metadata": {
    "canvas": {
     "comments": [],
     "componentType": "CodeCell",
     "copiedOriginId": null,
     "diskcache": false,
     "headerColor": "transparent",
     "id": "a27dc1e7-1208-4514-ab20-01ded0bf69f7",
     "isComponent": false,
     "name": "",
     "parents": []
    },
    "scrolled": true
   },
   "outputs": [
    {
     "name": "stdout",
     "output_type": "stream",
     "text": [
      "[[-3.  0.  0.  0.  0.  0.  0.  0.  0.  0.]\n",
      " [ 0. -3.  0.  0.  0.  0.  0.  0.  0.  0.]\n",
      " [ 0.  0. -3.  0.  0.  0.  0.  0.  0.  0.]\n",
      " [ 0.  0.  0. -3.  0.  0.  0.  0.  0.  0.]\n",
      " [ 0.  0.  0.  0. -3.  0.  0.  0.  0.  0.]\n",
      " [ 0.  0.  0.  0.  0. -3.  0.  0.  0.  0.]\n",
      " [ 0.  0.  0.  0.  0.  0. -3.  0.  0.  0.]\n",
      " [ 0.  0.  0.  0.  0.  0.  0. -3.  0.  0.]\n",
      " [ 0.  0.  0.  0.  0.  0.  0.  0. -3.  0.]\n",
      " [ 0.  0.  0.  0.  0.  0.  0.  0.  0. -3.]]\n"
     ]
    }
   ],
   "source": [
    "diag = -3*np.ones(10)\n",
    "print(np.diag(diag))"
   ]
  },
  {
   "cell_type": "code",
   "execution_count": 12,
   "id": "7ac94d2e",
   "metadata": {
    "canvas": {
     "comments": [],
     "componentType": "CodeCell",
     "copiedOriginId": null,
     "diskcache": false,
     "headerColor": "transparent",
     "id": "0980e461-f709-45bc-9b3a-e995fdbd3731",
     "isComponent": false,
     "name": "",
     "parents": []
    }
   },
   "outputs": [
    {
     "name": "stdout",
     "output_type": "stream",
     "text": [
      "[[ 0. -3.  0.  0.  0.  0.  0.  0.  0.  0.  0.]\n",
      " [ 0.  0. -3.  0.  0.  0.  0.  0.  0.  0.  0.]\n",
      " [ 0.  0.  0. -3.  0.  0.  0.  0.  0.  0.  0.]\n",
      " [ 0.  0.  0.  0. -3.  0.  0.  0.  0.  0.  0.]\n",
      " [ 0.  0.  0.  0.  0. -3.  0.  0.  0.  0.  0.]\n",
      " [ 0.  0.  0.  0.  0.  0. -3.  0.  0.  0.  0.]\n",
      " [ 0.  0.  0.  0.  0.  0.  0. -3.  0.  0.  0.]\n",
      " [ 0.  0.  0.  0.  0.  0.  0.  0. -3.  0.  0.]\n",
      " [ 0.  0.  0.  0.  0.  0.  0.  0.  0. -3.  0.]\n",
      " [ 0.  0.  0.  0.  0.  0.  0.  0.  0.  0. -3.]\n",
      " [ 0.  0.  0.  0.  0.  0.  0.  0.  0.  0.  0.]]\n"
     ]
    }
   ],
   "source": [
    "print(np.diag(diag, 1))"
   ]
  },
  {
   "cell_type": "code",
   "execution_count": 13,
   "id": "bf83840b",
   "metadata": {
    "canvas": {
     "comments": [],
     "componentType": "CodeCell",
     "copiedOriginId": null,
     "diskcache": false,
     "headerColor": "transparent",
     "id": "a02517c2-bc49-4020-8b49-725104d59524",
     "isComponent": false,
     "name": "",
     "parents": []
    },
    "scrolled": true
   },
   "outputs": [
    {
     "name": "stdout",
     "output_type": "stream",
     "text": [
      "[[ 0.  0. -3.  0.  0.  0.  0.  0.  0.  0.  0.  0.]\n",
      " [ 0.  0.  0. -3.  0.  0.  0.  0.  0.  0.  0.  0.]\n",
      " [ 0.  0.  0.  0. -3.  0.  0.  0.  0.  0.  0.  0.]\n",
      " [ 0.  0.  0.  0.  0. -3.  0.  0.  0.  0.  0.  0.]\n",
      " [ 0.  0.  0.  0.  0.  0. -3.  0.  0.  0.  0.  0.]\n",
      " [ 0.  0.  0.  0.  0.  0.  0. -3.  0.  0.  0.  0.]\n",
      " [ 0.  0.  0.  0.  0.  0.  0.  0. -3.  0.  0.  0.]\n",
      " [ 0.  0.  0.  0.  0.  0.  0.  0.  0. -3.  0.  0.]\n",
      " [ 0.  0.  0.  0.  0.  0.  0.  0.  0.  0. -3.  0.]\n",
      " [ 0.  0.  0.  0.  0.  0.  0.  0.  0.  0.  0. -3.]\n",
      " [ 0.  0.  0.  0.  0.  0.  0.  0.  0.  0.  0.  0.]\n",
      " [ 0.  0.  0.  0.  0.  0.  0.  0.  0.  0.  0.  0.]]\n"
     ]
    }
   ],
   "source": [
    "print(np.diag(diag, 2))"
   ]
  },
  {
   "cell_type": "code",
   "execution_count": 14,
   "id": "f06391a1",
   "metadata": {
    "canvas": {
     "comments": [],
     "componentType": "CodeCell",
     "copiedOriginId": null,
     "diskcache": false,
     "headerColor": "transparent",
     "id": "266095b7-7cc3-49c4-8615-3bc22e3bbbd0",
     "isComponent": false,
     "name": "",
     "parents": []
    }
   },
   "outputs": [
    {
     "name": "stdout",
     "output_type": "stream",
     "text": [
      "[[ 0.  0.  0.  0.  0.  0.  0.  0.  0.  0.  0.  0.]\n",
      " [ 0.  0.  0.  0.  0.  0.  0.  0.  0.  0.  0.  0.]\n",
      " [-3.  0.  0.  0.  0.  0.  0.  0.  0.  0.  0.  0.]\n",
      " [ 0. -3.  0.  0.  0.  0.  0.  0.  0.  0.  0.  0.]\n",
      " [ 0.  0. -3.  0.  0.  0.  0.  0.  0.  0.  0.  0.]\n",
      " [ 0.  0.  0. -3.  0.  0.  0.  0.  0.  0.  0.  0.]\n",
      " [ 0.  0.  0.  0. -3.  0.  0.  0.  0.  0.  0.  0.]\n",
      " [ 0.  0.  0.  0.  0. -3.  0.  0.  0.  0.  0.  0.]\n",
      " [ 0.  0.  0.  0.  0.  0. -3.  0.  0.  0.  0.  0.]\n",
      " [ 0.  0.  0.  0.  0.  0.  0. -3.  0.  0.  0.  0.]\n",
      " [ 0.  0.  0.  0.  0.  0.  0.  0. -3.  0.  0.  0.]\n",
      " [ 0.  0.  0.  0.  0.  0.  0.  0.  0. -3.  0.  0.]]\n"
     ]
    }
   ],
   "source": [
    "print(np.diag(diag, -2))"
   ]
  },
  {
   "cell_type": "markdown",
   "id": "843cb217",
   "metadata": {
    "canvas": {
     "comments": [],
     "componentType": "CodeCell",
     "copiedOriginId": null,
     "diskcache": false,
     "headerColor": "transparent",
     "id": "04bf440b-74e7-4a6a-971f-02a07ff5d04b",
     "isComponent": false,
     "name": "",
     "parents": []
    }
   },
   "source": [
    "List of many many mathematical functions here:\n",
    "\n",
    "https://numpy.org/doc/stable/reference/routines.math.html"
   ]
  },
  {
   "cell_type": "markdown",
   "id": "517c10e9",
   "metadata": {
    "canvas": {
     "comments": [],
     "componentType": "CodeCell",
     "copiedOriginId": null,
     "diskcache": false,
     "headerColor": "transparent",
     "id": "4fad351a-05a9-4715-9deb-acc2155d173b",
     "isComponent": false,
     "name": "",
     "parents": []
    }
   },
   "source": [
    "## Array Indexing/Slicing"
   ]
  },
  {
   "cell_type": "code",
   "execution_count": 15,
   "id": "a9eb3cc2",
   "metadata": {
    "canvas": {
     "comments": [],
     "componentType": "CodeCell",
     "copiedOriginId": null,
     "diskcache": false,
     "headerColor": "transparent",
     "id": "fa8d4fff-d8cd-49fb-aeab-dcb1dcec019f",
     "isComponent": false,
     "name": "",
     "parents": []
    }
   },
   "outputs": [
    {
     "name": "stdout",
     "output_type": "stream",
     "text": [
      "[ 6  8 10]\n"
     ]
    }
   ],
   "source": [
    "x1=np.array([2,4,6,8,10])\n",
    "print(x1[2:5])"
   ]
  },
  {
   "cell_type": "code",
   "execution_count": 16,
   "id": "cdc5dd50",
   "metadata": {
    "canvas": {
     "comments": [],
     "componentType": "CodeCell",
     "copiedOriginId": null,
     "diskcache": false,
     "headerColor": "transparent",
     "id": "938db42a-86d7-49ed-afe4-e7eb00f1cdc6",
     "isComponent": false,
     "name": "",
     "parents": []
    }
   },
   "outputs": [
    {
     "name": "stdout",
     "output_type": "stream",
     "text": [
      "[2 4 6]\n"
     ]
    }
   ],
   "source": [
    "print(x1[:-2])"
   ]
  },
  {
   "cell_type": "code",
   "execution_count": 17,
   "id": "102f790a",
   "metadata": {
    "canvas": {
     "comments": [],
     "componentType": "CodeCell",
     "copiedOriginId": null,
     "diskcache": false,
     "headerColor": "transparent",
     "id": "707f3fa2-0aa3-4229-b4a6-fa2c9bc9fc9f",
     "isComponent": false,
     "name": "",
     "parents": []
    }
   },
   "outputs": [
    {
     "name": "stdout",
     "output_type": "stream",
     "text": [
      "[4 6]\n"
     ]
    }
   ],
   "source": [
    "print(x1[1:-2])"
   ]
  },
  {
   "cell_type": "code",
   "execution_count": 18,
   "id": "e5ef3f3d",
   "metadata": {
    "canvas": {
     "comments": [],
     "componentType": "CodeCell",
     "copiedOriginId": null,
     "diskcache": false,
     "headerColor": "transparent",
     "id": "f81fc9df-bc20-48a3-b5af-f122c8b3330c",
     "isComponent": false,
     "name": "",
     "parents": []
    }
   },
   "outputs": [
    {
     "name": "stdout",
     "output_type": "stream",
     "text": [
      "[False  True  True  True  True]\n",
      "[ 4  6  8 10]\n"
     ]
    }
   ],
   "source": [
    "print (x1>3)\n",
    "print (x1[x1>3]) # here, x1>3 becomes a condition. So, only those elements of x1 are printed which satisfy the condition"
   ]
  },
  {
   "cell_type": "markdown",
   "id": "7670e23a",
   "metadata": {
    "canvas": {
     "comments": [],
     "componentType": "CodeCell",
     "copiedOriginId": null,
     "diskcache": false,
     "headerColor": "transparent",
     "id": "7fbca8a2-96a6-4cc5-8c17-9be06cbb3436",
     "isComponent": false,
     "name": "",
     "parents": []
    }
   },
   "source": [
    "Using the np.vectorize function"
   ]
  },
  {
   "cell_type": "markdown",
   "id": "ea20de65",
   "metadata": {
    "canvas": {
     "comments": [],
     "componentType": "CodeCell",
     "copiedOriginId": null,
     "diskcache": false,
     "headerColor": "transparent",
     "id": "a001bdbc-9583-497b-9540-6dd017085f3e",
     "isComponent": false,
     "name": "",
     "parents": []
    }
   },
   "source": [
    "Syntax : np.vectorize(manipulative function)(array/list name)"
   ]
  },
  {
   "cell_type": "code",
   "execution_count": 19,
   "id": "d7149925",
   "metadata": {
    "canvas": {
     "comments": [],
     "componentType": "CodeCell",
     "copiedOriginId": null,
     "diskcache": false,
     "headerColor": "transparent",
     "id": "cb3e8efe-9ec6-41d3-8403-1c78b157b665",
     "isComponent": false,
     "name": "",
     "parents": []
    },
    "scrolled": true
   },
   "outputs": [
    {
     "name": "stdout",
     "output_type": "stream",
     "text": [
      "[ True False  True False]\n",
      "['J' 'L' 'J' 'P']\n",
      "[ True False  True False]\n",
      "[ True False  True False]\n",
      "['Jim' 'James']\n"
     ]
    }
   ],
   "source": [
    "# to check which names start with the letter 'J'\n",
    "\n",
    "names = np.array(['Jim', 'Luke', 'James', 'Peter'])\n",
    "\n",
    "def haggu(element):\n",
    "    return element[0]\n",
    "first_letter_J = np.vectorize(haggu)(names)=='J'\n",
    "print(first_letter_J)\n",
    "\n",
    "first_letter_J = np.vectorize(lambda s:s[0])(names) \n",
    "print(first_letter_J)\n",
    "print(first_letter_J=='J')\n",
    "\n",
    "first_letter_J = np.vectorize(lambda s:s[0])(names)=='J'  # using the lambda function reduces the whole code to a single line\n",
    "print(first_letter_J)\n",
    "\n",
    "print(names[first_letter_J])\n",
    "\n",
    "# What does the vectorize() do ?\n",
    "# It acts like a for-loop and applies the conditions mentioned in th first pair of brackets to all the elements of the list\n",
    "# The only difference it has from a for-loop is that a for-loop applies the condition on-by-one to all the elements, but the\n",
    "# vectorize() applies the condition to all the elements parallely/simultaneously\n",
    "# The output is also a list with elements as the results of the conditions applied to the elements"
   ]
  },
  {
   "cell_type": "code",
   "execution_count": 20,
   "id": "79478844",
   "metadata": {
    "canvas": {
     "comments": [],
     "componentType": "CodeCell",
     "copiedOriginId": null,
     "diskcache": false,
     "headerColor": "transparent",
     "id": "a6a796ef-e704-4674-ae92-ea4d1dcf077b",
     "isComponent": false,
     "name": "",
     "parents": []
    },
    "scrolled": true
   },
   "outputs": [
    {
     "name": "stdout",
     "output_type": "stream",
     "text": [
      "[4 8]\n"
     ]
    }
   ],
   "source": [
    "print(a1[a1%4==0])"
   ]
  },
  {
   "cell_type": "markdown",
   "id": "14b7a930",
   "metadata": {
    "canvas": {
     "comments": [],
     "componentType": "CodeCell",
     "copiedOriginId": null,
     "diskcache": false,
     "headerColor": "transparent",
     "id": "d7f9d03c-8735-495d-b9c0-526fafe8c4b8",
     "isComponent": false,
     "name": "",
     "parents": []
    }
   },
   "source": [
    "## .transpose(), .reshape() and .shape() functions"
   ]
  },
  {
   "cell_type": "code",
   "execution_count": 21,
   "id": "be42d181",
   "metadata": {
    "canvas": {
     "comments": [],
     "componentType": "CodeCell",
     "copiedOriginId": null,
     "diskcache": false,
     "headerColor": "transparent",
     "id": "d4917522-d99d-4df1-9b1f-b54c18c1240c",
     "isComponent": false,
     "name": "",
     "parents": []
    },
    "scrolled": true
   },
   "outputs": [
    {
     "name": "stdout",
     "output_type": "stream",
     "text": [
      "[ 1  2  3  4  5  6  7  8  9 10]\n"
     ]
    }
   ],
   "source": [
    "print(a1)"
   ]
  },
  {
   "cell_type": "code",
   "execution_count": 22,
   "id": "e26f6ddc",
   "metadata": {
    "canvas": {
     "comments": [],
     "componentType": "CodeCell",
     "copiedOriginId": null,
     "diskcache": false,
     "headerColor": "transparent",
     "id": "dbc7520d-3b6f-4ef7-ab6e-6679b1a18d27",
     "isComponent": false,
     "name": "",
     "parents": []
    }
   },
   "outputs": [
    {
     "name": "stdout",
     "output_type": "stream",
     "text": [
      "[ 1  2  3  4  5  6  7  8  9 10]\n"
     ]
    }
   ],
   "source": [
    "print(np.transpose(a1))"
   ]
  },
  {
   "cell_type": "code",
   "execution_count": 23,
   "id": "cbedf541",
   "metadata": {
    "canvas": {
     "comments": [],
     "componentType": "CodeCell",
     "copiedOriginId": null,
     "diskcache": false,
     "headerColor": "transparent",
     "id": "6fcafe40-3cdc-4691-8e49-43138004fecd",
     "isComponent": false,
     "name": "",
     "parents": []
    }
   },
   "outputs": [
    {
     "name": "stdout",
     "output_type": "stream",
     "text": [
      "[ 1  2  3  4  5  6  7  8  9 10 11 12 13 14 15 16 17 18 19 20 21 22 23 24]\n",
      "[[ 1  2  3]\n",
      " [ 4  5  6]\n",
      " [ 7  8  9]\n",
      " [10 11 12]\n",
      " [13 14 15]\n",
      " [16 17 18]\n",
      " [19 20 21]\n",
      " [22 23 24]]\n",
      "[[[ 1  2  3  4]\n",
      "  [ 5  6  7  8]\n",
      "  [ 9 10 11 12]]\n",
      "\n",
      " [[13 14 15 16]\n",
      "  [17 18 19 20]\n",
      "  [21 22 23 24]]]\n"
     ]
    }
   ],
   "source": [
    "print(np.arange(1,25)) #1D array\n",
    "print(np.arange(1,25).reshape(8,3)) #2D array (the array contains 8 arrays with 3 elements each)\n",
    "print(np.arange(1,25).reshape(2,3,4)) #3D array (contains 2 arrays, with 3 arrays each, each of them having 4 elements)"
   ]
  },
  {
   "cell_type": "code",
   "execution_count": 24,
   "id": "63b30a08",
   "metadata": {
    "canvas": {
     "comments": [],
     "componentType": "CodeCell",
     "copiedOriginId": null,
     "diskcache": false,
     "headerColor": "transparent",
     "id": "8b367eb3-69b8-4a4c-8173-1261c8a28754",
     "isComponent": false,
     "name": "",
     "parents": []
    },
    "scrolled": true
   },
   "outputs": [
    {
     "name": "stdout",
     "output_type": "stream",
     "text": [
      "[ 1  2  3  4  5  6  7  8  9 10 11 12 13 14 15 16 17 18 19 20 21 22 23 24]\n",
      "[[ 1  4  7 10 13 16 19 22]\n",
      " [ 2  5  8 11 14 17 20 23]\n",
      " [ 3  6  9 12 15 18 21 24]]\n",
      "[[[ 1 13]\n",
      "  [ 5 17]\n",
      "  [ 9 21]]\n",
      "\n",
      " [[ 2 14]\n",
      "  [ 6 18]\n",
      "  [10 22]]\n",
      "\n",
      " [[ 3 15]\n",
      "  [ 7 19]\n",
      "  [11 23]]\n",
      "\n",
      " [[ 4 16]\n",
      "  [ 8 20]\n",
      "  [12 24]]]\n"
     ]
    }
   ],
   "source": [
    "print(np.transpose(np.arange(1,25)))\n",
    "print(np.transpose(np.arange(1,25).reshape(8,3)))\n",
    "print(np.transpose(np.arange(1,25).reshape(2,3,4)))"
   ]
  },
  {
   "cell_type": "code",
   "execution_count": 25,
   "id": "b3febea3",
   "metadata": {
    "canvas": {
     "comments": [],
     "componentType": "CodeCell",
     "copiedOriginId": null,
     "diskcache": false,
     "headerColor": "transparent",
     "id": "dc264956-992d-412e-95b5-d908504d40b8",
     "isComponent": false,
     "name": "",
     "parents": []
    }
   },
   "outputs": [
    {
     "name": "stdout",
     "output_type": "stream",
     "text": [
      "(24,)\n",
      "(24,)\n",
      "(8, 3)\n",
      "(3, 8)\n",
      "(2, 3, 4)\n",
      "(4, 3, 2)\n"
     ]
    }
   ],
   "source": [
    "print(np.arange(1,25).shape)\n",
    "print(np.transpose(np.arange(1,25)).shape)\n",
    "\n",
    "print(np.arange(1,25).reshape(8,3).shape)\n",
    "print(np.transpose(np.arange(1,25).reshape(8,3)).shape)\n",
    "\n",
    "print(np.arange(1,25).reshape(2,3,4).shape)\n",
    "print(np.transpose(np.arange(1,25).reshape(2,3,4)).shape)"
   ]
  },
  {
   "cell_type": "markdown",
   "id": "45e8a4c3",
   "metadata": {
    "canvas": {
     "comments": [],
     "componentType": "CodeCell",
     "copiedOriginId": null,
     "diskcache": false,
     "headerColor": "transparent",
     "id": "e3afb1f3-fa48-46e1-9195-505e73230773",
     "isComponent": false,
     "name": "",
     "parents": []
    }
   },
   "source": [
    "## Calculus/Statsitical Functions"
   ]
  },
  {
   "cell_type": "code",
   "execution_count": 26,
   "id": "52593ea6",
   "metadata": {
    "canvas": {
     "comments": [],
     "componentType": "CodeCell",
     "copiedOriginId": null,
     "diskcache": false,
     "headerColor": "transparent",
     "id": "11c77d9f-73a4-483b-a614-b59ece7aa984",
     "isComponent": false,
     "name": "",
     "parents": []
    }
   },
   "outputs": [
    {
     "name": "stdout",
     "output_type": "stream",
     "text": [
      "[3.69963727 1.99950131 0.75724566 ... 5.6097348  1.01661047 1.28447867]\n"
     ]
    }
   ],
   "source": [
    "a1=2*np.random.randn(10000)+2\n",
    "print(a1)"
   ]
  },
  {
   "cell_type": "markdown",
   "id": "e28aa902",
   "metadata": {
    "canvas": {
     "comments": [],
     "componentType": "CodeCell",
     "copiedOriginId": null,
     "diskcache": false,
     "headerColor": "transparent",
     "id": "f6a62f35-7185-4ebe-b4d4-372d9a725820",
     "isComponent": false,
     "name": "",
     "parents": []
    }
   },
   "source": [
    "Mean, Standard Deviation, and Percentiles of Arrays :-"
   ]
  },
  {
   "cell_type": "code",
   "execution_count": 27,
   "id": "6536fef3",
   "metadata": {
    "canvas": {
     "comments": [],
     "componentType": "CodeCell",
     "copiedOriginId": null,
     "diskcache": false,
     "headerColor": "transparent",
     "id": "0c6a25f8-8118-4990-adc4-37c723c4ec17",
     "isComponent": false,
     "name": "",
     "parents": []
    }
   },
   "outputs": [
    {
     "name": "stdout",
     "output_type": "stream",
     "text": [
      "Mean = 1.974637169895092\n",
      "Standard Deviation = 1.9908566658418543\n",
      "80 Percentile = 3.6617086789564253\n"
     ]
    }
   ],
   "source": [
    "print('Mean =', np.mean(a1))\n",
    "print('Standard Deviation =', np.std(a1)) # std stands for standard deviation\n",
    "print('80 Percentile =', np.percentile(a1, 80)) # gives a number such that 80% of the numbers in the array are smaller than that number"
   ]
  },
  {
   "cell_type": "markdown",
   "id": "7eca962a",
   "metadata": {
    "canvas": {
     "comments": [],
     "componentType": "CodeCell",
     "copiedOriginId": null,
     "diskcache": false,
     "headerColor": "transparent",
     "id": "fa887fc1-26b1-401b-8ecf-5d061a65e534",
     "isComponent": false,
     "name": "",
     "parents": []
    }
   },
   "source": [
    "Integrals and  Derivatives"
   ]
  },
  {
   "cell_type": "markdown",
   "id": "4224a320",
   "metadata": {
    "canvas": {
     "comments": [],
     "componentType": "CodeCell",
     "copiedOriginId": null,
     "diskcache": false,
     "headerColor": "transparent",
     "id": "17c24d38-b130-4bc9-b3de-63b29ea1dcec",
     "isComponent": false,
     "name": "",
     "parents": []
    }
   },
   "source": [
    "(NumPy provides the basic functions to do these caculations, but SciPy offers many advanced ways to do these as well as more complex calculations)"
   ]
  },
  {
   "cell_type": "code",
   "execution_count": 28,
   "id": "f6d53919",
   "metadata": {
    "canvas": {
     "comments": [],
     "componentType": "CodeCell",
     "copiedOriginId": null,
     "diskcache": false,
     "headerColor": "transparent",
     "id": "682d5527-d0db-4a04-ab91-9216ce903405",
     "isComponent": false,
     "name": "",
     "parents": []
    }
   },
   "outputs": [
    {
     "data": {
      "image/png": "[encoded data removed]",
      "text/plain": [
       "<Figure size 432x288 with 1 Axes>"
      ]
     },
     "metadata": {
      "needs_background": "light"
     },
     "output_type": "display_data"
    }
   ],
   "source": [
    "x = np.linspace(1,10,200)\n",
    "y = 1/x**2 * np.sin(x)\n",
    "dydx = np.gradient(y, x) # gradient = slope = derivative first variable is the function whose derivative you wanna find w.r.t. to the second variable in the parenthesis\n",
    "y_integral = np.cumsum(y) * (x[1]-x[0]) # cumsum stands for 'cumulative sum' which is exactly integration. the first variable is the function you wanna integrate, and it is multiplied by (x[1]-x[0]) which is sort of like delta(x) or dx, but we don't take dx as this cumulative sum function is a discrete function !\n",
    "plt.plot(x,y)\n",
    "plt.plot(x, dydx)\n",
    "plt.plot(x, y_integral)\n",
    "plt.show() # the function is in blue,the graph of its derivative is in orange, and the graph of it's integral is in green"
   ]
  },
  {
   "cell_type": "markdown",
   "id": "fe0a20b9",
   "metadata": {
    "canvas": {
     "comments": [],
     "componentType": "CodeCell",
     "copiedOriginId": null,
     "diskcache": false,
     "headerColor": "transparent",
     "id": "af985b64-301f-4ed1-bb71-89b3133a9172",
     "isComponent": false,
     "name": "",
     "parents": []
    }
   },
   "source": [
    "# Examples\n",
    "## Question 1 : "
   ]
  },
  {
   "cell_type": "markdown",
   "id": "71a9ab8b",
   "metadata": {
    "canvas": {
     "comments": [],
     "componentType": "CodeCell",
     "copiedOriginId": null,
     "diskcache": false,
     "headerColor": "transparent",
     "id": "bb19db14-8706-44ed-a29f-662f05979da3",
     "isComponent": false,
     "name": "",
     "parents": []
    }
   },
   "source": [
    "Let $y\\ =\\ e^\\left({\\frac{-x}{10}}\\right) \\sin (x) $. Consider $10000\\ x$ intervals in the range $[0, 10]$ :  "
   ]
  },
  {
   "cell_type": "markdown",
   "id": "d2977a2f",
   "metadata": {
    "canvas": {
     "comments": [],
     "componentType": "CodeCell",
     "copiedOriginId": null,
     "diskcache": false,
     "headerColor": "transparent",
     "id": "ece93f78-1d80-49be-8877-97f1a5d1250f",
     "isComponent": false,
     "name": "",
     "parents": []
    }
   },
   "source": [
    "1. Plot the function $y$ vs. $x$, in the range $[0,10]$."
   ]
  },
  {
   "cell_type": "markdown",
   "id": "b1737038",
   "metadata": {
    "canvas": {
     "comments": [],
     "componentType": "CodeCell",
     "copiedOriginId": null,
     "diskcache": false,
     "headerColor": "transparent",
     "id": "354a0fc1-eb20-4a8a-934f-267f873ea878",
     "isComponent": false,
     "name": "",
     "parents": []
    }
   },
   "source": [
    "2. Compute the mean and standard deviation of $y$ for $x$ values in $[4,7]$."
   ]
  },
  {
   "cell_type": "markdown",
   "id": "a2332d62",
   "metadata": {
    "canvas": {
     "comments": [],
     "componentType": "CodeCell",
     "copiedOriginId": null,
     "diskcache": false,
     "headerColor": "transparent",
     "id": "c90b544f-5b14-432e-a146-d2b9e9539fab",
     "isComponent": false,
     "name": "",
     "parents": []
    }
   },
   "source": [
    "3. For $x$ in the range $[4,7]$, find the value $y_{m}$ such that 80% of $y$ values are less than $y_{m}$."
   ]
  },
  {
   "cell_type": "markdown",
   "id": "e1bfbd0b",
   "metadata": {
    "canvas": {
     "comments": [],
     "componentType": "CodeCell",
     "copiedOriginId": null,
     "diskcache": false,
     "headerColor": "transparent",
     "id": "164a6ddc-cf5b-4f0a-8006-278bfe7386e9",
     "isComponent": false,
     "name": "",
     "parents": []
    }
   },
   "source": [
    "4. Plot $\\dfrac{dy}{dx}$ vs. $x$\n"
   ]
  },
  {
   "cell_type": "markdown",
   "id": "043bf6f0",
   "metadata": {
    "canvas": {
     "comments": [],
     "componentType": "CodeCell",
     "copiedOriginId": null,
     "diskcache": false,
     "headerColor": "transparent",
     "id": "1fe2e7d1-495f-4950-8ffa-e17360751e03",
     "isComponent": false,
     "name": "",
     "parents": []
    }
   },
   "source": [
    "5. Find the locations where $\\dfrac{dy}{dx}\\ =\\ 0$"
   ]
  },
  {
   "cell_type": "code",
   "execution_count": 29,
   "id": "5f9ebb00",
   "metadata": {
    "canvas": {
     "comments": [],
     "componentType": "CodeCell",
     "copiedOriginId": null,
     "diskcache": false,
     "headerColor": "transparent",
     "id": "78259386-a11a-463d-b50d-1a38aede7403",
     "isComponent": false,
     "name": "",
     "parents": []
    }
   },
   "outputs": [
    {
     "data": {
      "image/png": "[encoded data removed]",
      "text/plain": [
       "<Figure size 432x288 with 1 Axes>"
      ]
     },
     "metadata": {
      "needs_background": "light"
     },
     "output_type": "display_data"
    }
   ],
   "source": [
    "#1\n",
    "N=10000\n",
    "x = np.linspace(0,10,N+1) # for 10000 intervals, you need 10000+1 x values/points\n",
    "y = np.exp(-x/10)*np.sin(x)\n",
    "plt.plot(x,y)\n",
    "plt.show()"
   ]
  },
  {
   "cell_type": "code",
   "execution_count": 30,
   "id": "f2876d5f",
   "metadata": {
    "canvas": {
     "comments": [],
     "componentType": "CodeCell",
     "copiedOriginId": null,
     "diskcache": false,
     "headerColor": "transparent",
     "id": "43f4b688-2567-4f13-af3a-d76861a18cc0",
     "isComponent": false,
     "name": "",
     "parents": []
    }
   },
   "outputs": [
    {
     "name": "stdout",
     "output_type": "stream",
     "text": [
      "Mean = -0.2956023068963138\n",
      "Standard Deviation = 0.31448753875085117\n"
     ]
    }
   ],
   "source": [
    "#2\n",
    "print('Mean =', np.mean(y[((x>=4)*(x<=7))]))\n",
    "print('Standard Deviation =', np.std(y[((x>=4)*(x<=7))]))"
   ]
  },
  {
   "cell_type": "code",
   "execution_count": 31,
   "id": "6bde3cbb",
   "metadata": {
    "canvas": {
     "comments": [],
     "componentType": "CodeCell",
     "copiedOriginId": null,
     "diskcache": false,
     "headerColor": "transparent",
     "id": "5e70f78e-4284-4dc6-9cb2-ae794ec1055b",
     "isComponent": false,
     "name": "",
     "parents": []
    }
   },
   "outputs": [
    {
     "name": "stdout",
     "output_type": "stream",
     "text": [
      "y_m = 0.06145551274590662\n"
     ]
    }
   ],
   "source": [
    "#3\n",
    "y1 = y[((x>=4)*(x<=7))]\n",
    "print('y_m =', np.percentile(y1, 80))"
   ]
  },
  {
   "cell_type": "code",
   "execution_count": 32,
   "id": "1dcb3c40",
   "metadata": {
    "canvas": {
     "comments": [],
     "componentType": "CodeCell",
     "copiedOriginId": null,
     "diskcache": false,
     "headerColor": "transparent",
     "id": "f555c02d-d61d-4cdc-9fbc-345111c1c07b",
     "isComponent": false,
     "name": "",
     "parents": []
    }
   },
   "outputs": [
    {
     "data": {
      "image/png": "[encoded data removed]",
      "text/plain": [
       "<Figure size 432x288 with 1 Axes>"
      ]
     },
     "metadata": {
      "needs_background": "light"
     },
     "output_type": "display_data"
    }
   ],
   "source": [
    "#4\n",
    "dydx = np.gradient(y, x)\n",
    "plt.plot(x, dydx)\n",
    "plt.show()"
   ]
  },
  {
   "cell_type": "code",
   "execution_count": 33,
   "id": "8c43e38a",
   "metadata": {
    "canvas": {
     "comments": [],
     "componentType": "CodeCell",
     "copiedOriginId": null,
     "diskcache": false,
     "headerColor": "transparent",
     "id": "988b4732-4a4c-47df-a661-10027152a11d",
     "isComponent": false,
     "name": "",
     "parents": []
    }
   },
   "outputs": [
    {
     "name": "stdout",
     "output_type": "stream",
     "text": [
      "[1.472 4.613 7.755]\n"
     ]
    }
   ],
   "source": [
    "#5\n",
    "# print(y[dydx==0]) this is not gonna work as were not actually doing calculus here. we're dealing with discrete functions !\n",
    "\n",
    "# So, the logic we're following here is that, since points are discerete, gradient can be calculated for each point.\n",
    "# If we multiply the gradient of every point with the gradient of the next point, it will be positive, unless the two poinnts are of opposite signs, which indicates that the slope of the curve has changed, which again implies that it must have become zero somewhere in between\n",
    "print(x[1:][dydx[1:] * dydx[:-1] < 0])\n",
    "# multiplying all elements of the array leaving the first one with all the elements of the array leaving the last one\n",
    "# but before that we need to change the length of x that we consider, cause the length of the new array in np.len(x)-1"
   ]
  },
  {
   "cell_type": "markdown",
   "id": "19103b23",
   "metadata": {
    "canvas": {
     "comments": [],
     "componentType": "CodeCell",
     "copiedOriginId": null,
     "diskcache": false,
     "headerColor": "transparent",
     "id": "1e854c67-431b-41ab-aa9c-a3fad1ab2cd3",
     "isComponent": false,
     "name": "",
     "parents": []
    }
   },
   "source": [
    "## Question 2 :"
   ]
  },
  {
   "cell_type": "markdown",
   "id": "076bb223",
   "metadata": {
    "canvas": {
     "comments": [],
     "componentType": "CodeCell",
     "copiedOriginId": null,
     "diskcache": false,
     "headerColor": "transparent",
     "id": "5b63d88d-4baa-4dd2-aad8-c6bf7bbe8de1",
     "isComponent": false,
     "name": "",
     "parents": []
    }
   },
   "source": [
    "Sum together every number from 1 to 10000 except for those which can be divided by 4 or 7. Do this in one line of code!"
   ]
  },
  {
   "cell_type": "code",
   "execution_count": 34,
   "id": "dd83a945",
   "metadata": {
    "canvas": {
     "comments": [],
     "componentType": "CodeCell",
     "copiedOriginId": null,
     "diskcache": false,
     "headerColor": "transparent",
     "id": "972ddba3-1d0a-42fd-9858-f000e9a318cd",
     "isComponent": false,
     "name": "",
     "parents": []
    },
    "scrolled": true
   },
   "outputs": [
    {
     "name": "stdout",
     "output_type": "stream",
     "text": [
      "32147142\n"
     ]
    }
   ],
   "source": [
    "print(np.arange(1, 10001, 1)[(np.arange(1, 10001, 1)%4 !=0) * (np.arange(1, 10001, 1)%7 !=0)].sum())\n",
    "# notice the use of .sum() and the conditional statement inside [...] after np.arange()"
   ]
  },
  {
   "cell_type": "markdown",
   "id": "aec4f7a9",
   "metadata": {
    "canvas": {
     "comments": [],
     "componentType": "CodeCell",
     "copiedOriginId": null,
     "diskcache": false,
     "headerColor": "transparent",
     "id": "148837bd-9315-457f-8e89-2b0805080546",
     "isComponent": false,
     "name": "",
     "parents": []
    }
   },
   "source": [
    "## Question 3 :"
   ]
  },
  {
   "cell_type": "markdown",
   "id": "5ac62b4b",
   "metadata": {
    "canvas": {
     "comments": [],
     "componentType": "CodeCell",
     "copiedOriginId": null,
     "diskcache": false,
     "headerColor": "transparent",
     "id": "fc90feed-780f-4ab1-a9a6-140524bfc055",
     "isComponent": false,
     "name": "",
     "parents": []
    }
   },
   "source": [
    "Consider the flower petal $r(\\theta)\\ =\\ 1 + \\dfrac{3}{4} \\sin (3 \\theta)$ for $0 \\leqslant \\theta \\leqslant 2 \\pi$ ."
   ]
  },
  {
   "cell_type": "markdown",
   "id": "c48d6da9",
   "metadata": {
    "canvas": {
     "comments": [],
     "componentType": "CodeCell",
     "copiedOriginId": null,
     "diskcache": false,
     "headerColor": "transparent",
     "id": "3e641d73-9256-4fef-a4cf-a7ea82e6f9b1",
     "isComponent": false,
     "name": "",
     "parents": []
    }
   },
   "source": [
    "1. Make a plot of the flower (find the x and y points)"
   ]
  },
  {
   "cell_type": "markdown",
   "id": "b61d3825",
   "metadata": {
    "canvas": {
     "comments": [],
     "componentType": "CodeCell",
     "copiedOriginId": null,
     "diskcache": false,
     "headerColor": "transparent",
     "id": "3bfa0d0a-5b2d-4917-86be-3dbd8365861c",
     "isComponent": false,
     "name": "",
     "parents": []
    }
   },
   "source": [
    "2. Compute the area using the calculus formula : $A\\ =\\ \\displaystyle {\\int \\limits_{0}^{2 \\pi}} \\dfrac{1}{2} r^{2}\\ d \\theta$"
   ]
  },
  {
   "cell_type": "markdown",
   "id": "d44d02ea",
   "metadata": {
    "canvas": {
     "comments": [],
     "componentType": "CodeCell",
     "copiedOriginId": null,
     "diskcache": false,
     "headerColor": "transparent",
     "id": "35b4fbbf-2875-4c01-92db-0e40fa991b4a",
     "isComponent": false,
     "name": "",
     "parents": []
    }
   },
   "source": [
    "3. Compute arclength using the calculus formula : $L\\ =\\ \\displaystyle {\\int \\limits_{0}^{2 \\pi}} \\sqrt{r^{2} + \\left( \\frac{dr}{d \\theta}\\right)^{2}}\\ d \\theta$"
   ]
  },
  {
   "cell_type": "code",
   "execution_count": 35,
   "id": "9a257ee3",
   "metadata": {
    "canvas": {
     "comments": [],
     "componentType": "CodeCell",
     "copiedOriginId": null,
     "diskcache": false,
     "headerColor": "transparent",
     "id": "ab8a9de0-cba6-4e15-8883-8aec845756f5",
     "isComponent": false,
     "name": "",
     "parents": []
    }
   },
   "outputs": [
    {
     "data": {
      "image/png": "[encoded data removed]",
      "text/plain": [
       "<Figure size 432x288 with 1 Axes>"
      ]
     },
     "metadata": {
      "needs_background": "light"
     },
     "output_type": "display_data"
    }
   ],
   "source": [
    "#1\n",
    "theta = np.linspace(0, 2*np.pi, 10000)\n",
    "r = 1 + 3/4 * np.sin(3*theta)\n",
    "x = r * np.cos(theta)\n",
    "y = r * np.sin(theta)\n",
    "plt.plot(x,y)\n",
    "plt.show()"
   ]
  },
  {
   "cell_type": "code",
   "execution_count": 36,
   "id": "9ff6729b",
   "metadata": {
    "canvas": {
     "comments": [],
     "componentType": "CodeCell",
     "copiedOriginId": null,
     "diskcache": false,
     "headerColor": "transparent",
     "id": "77bce4c3-d9d2-43ba-b3f6-eea65ad9ee2f",
     "isComponent": false,
     "name": "",
     "parents": []
    }
   },
   "outputs": [
    {
     "name": "stdout",
     "output_type": "stream",
     "text": [
      "Area = 4.025479778096348\n"
     ]
    }
   ],
   "source": [
    "#2\n",
    "area = (1/2) * sum(r**2) * (theta[1]-theta[0])\n",
    "print(\"Area =\", area)"
   ]
  },
  {
   "cell_type": "code",
   "execution_count": 37,
   "id": "e55006fc",
   "metadata": {
    "canvas": {
     "comments": [],
     "componentType": "CodeCell",
     "copiedOriginId": null,
     "diskcache": false,
     "headerColor": "transparent",
     "id": "366e2ba4-3f5b-49d5-9bf2-c3ea4ce83a26",
     "isComponent": false,
     "name": "",
     "parents": []
    }
   },
   "outputs": [
    {
     "name": "stdout",
     "output_type": "stream",
     "text": [
      "Arclength = 11.626531213518831\n"
     ]
    }
   ],
   "source": [
    "#3\n",
    "L = sum(np.sqrt(r**2 + np.gradient(r, theta)**2)) * (theta[1]-theta[0])\n",
    "print('Arclength =', L)\n",
    "\n",
    "# notice the difference between np.cumsum()*() and sum()*(). cumsum gives an array as output, which is helpful for plotting graphs as the elements act as the coordinates of points.\n",
    "# The sum() gives a single float output, summing up all the values in the cumsum array, to give numeric value of the integral.\n",
    "# Simply stating, the np.cumsum()*() is for graphing, and the sum()*() is for finding the numeric value"
   ]
  },
  {
   "cell_type": "markdown",
   "id": "2fa5eafc",
   "metadata": {
    "canvas": {
     "comments": [],
     "componentType": "CodeCell",
     "copiedOriginId": null,
     "diskcache": false,
     "headerColor": "transparent",
     "id": "6f5ec1c7-68b7-40dd-9a8f-d190787f5a02",
     "isComponent": false,
     "name": "",
     "parents": []
    }
   },
   "source": [
    "## Question 4 : "
   ]
  },
  {
   "cell_type": "markdown",
   "id": "286ac50d",
   "metadata": {
    "canvas": {
     "comments": [],
     "componentType": "CodeCell",
     "copiedOriginId": null,
     "diskcache": false,
     "headerColor": "transparent",
     "id": "c349124f-dcbb-4505-b78e-0ee7fa78afda",
     "isComponent": false,
     "name": "",
     "parents": []
    }
   },
   "source": [
    "The power emitted by a blackbody is $P\\ =\\ A \\sigma \\epsilon T^{4}$. After measuring the temperature of a star, you find that $T(t)\\ =\\ T_{0} \\dfrac{1}{1 + e^{-kt}}$. Plot the total energy emitted by the star as function of time using the fact that, $E(t)\\ =\\ \\displaystyle{\\int \\limits_{t'=0}^{t'=t}} P(t')\\ dt'$."
   ]
  },
  {
   "cell_type": "markdown",
   "id": "b1fe847f",
   "metadata": {
    "canvas": {
     "comments": [],
     "componentType": "CodeCell",
     "copiedOriginId": null,
     "diskcache": false,
     "headerColor": "transparent",
     "id": "5a21f986-c2aa-4e9d-8047-4ee2cf91c4e6",
     "isComponent": false,
     "name": "",
     "parents": []
    }
   },
   "source": [
    "$$\\dfrac{P}{A \\sigma \\epsilon T_{0}^{4}}\\ =\\ \\left(\\dfrac{1}{1 + e^{-kt}}\\right)^{4} $$"
   ]
  },
  {
   "cell_type": "code",
   "execution_count": 38,
   "id": "a7033dfa",
   "metadata": {
    "canvas": {
     "comments": [],
     "componentType": "CodeCell",
     "copiedOriginId": null,
     "diskcache": false,
     "headerColor": "transparent",
     "id": "a5cfe4da-2709-450b-83bc-751d4d64cedc",
     "isComponent": false,
     "name": "",
     "parents": []
    }
   },
   "outputs": [
    {
     "data": {
      "image/png": "[encoded data removed]",
      "text/plain": [
       "<Figure size 432x288 with 1 Axes>"
      ]
     },
     "metadata": {
      "needs_background": "light"
     },
     "output_type": "display_data"
    }
   ],
   "source": [
    "# In the last equation, both sides are dimensionless quantities. The LHS can be taken as a single variable (say, p_const), as we \n",
    "# don't know the values of the constants. The right side is what we have to evaluate.\n",
    "# We also don't know the value of the constant 'k', so we take kt together. Overall, the constants can be neglected for graphing\n",
    "# as the constants don't change/interfere with the proportionalities.\n",
    "kt = np.linspace(0,3,100)\n",
    "p_const = (1/(1+np.exp(-kt)))**4\n",
    "E = np.cumsum(p_const)*(kt[1]-kt[0]) # taking integral wrt 'kt' and not 't'\n",
    "# plt.plot(kt,p_const) # Time vs. Power\n",
    "plt.plot(kt, E) # Time vs. Energy\n",
    "plt.xlabel('$kt$', fontsize=15)\n",
    "plt.ylabel(r'$\\left(\\frac{k}{A \\sigma \\epsilon T_0^4}\\right) E(kt)$', fontsize=15) \n",
    "plt.show()\n",
    "\n",
    "# In Python, strings prefixed with r or R, such as r'...' and r\"...\", are called raw strings and treat backslashes \\ as literal \n",
    "# characters. Raw strings are useful when handling with strings that use a lot of backslashes, such as Windows paths and regular\n",
    "# expression patterns."
   ]
  },
  {
   "cell_type": "markdown",
   "id": "e37c2978",
   "metadata": {
    "canvas": {
     "comments": [],
     "componentType": "CodeCell",
     "copiedOriginId": null,
     "diskcache": false,
     "headerColor": "transparent",
     "id": "623ef28e-bc57-48d3-b7c0-8715c54d5fdd",
     "isComponent": false,
     "name": "",
     "parents": []
    }
   },
   "source": [
    "# Multi-Dimensional Arrays"
   ]
  },
  {
   "cell_type": "markdown",
   "id": "a54d819a",
   "metadata": {
    "canvas": {
     "comments": [],
     "componentType": "CodeCell",
     "copiedOriginId": null,
     "diskcache": false,
     "headerColor": "transparent",
     "id": "197fc979-6ffb-457c-b8d2-09f5ee2b8f42",
     "isComponent": false,
     "name": "",
     "parents": []
    }
   },
   "source": [
    " Creating Multidimensional Arrays"
   ]
  },
  {
   "cell_type": "code",
   "execution_count": 39,
   "id": "59a16447",
   "metadata": {
    "canvas": {
     "comments": [],
     "componentType": "CodeCell",
     "copiedOriginId": null,
     "diskcache": false,
     "headerColor": "transparent",
     "id": "8d3427ab-1053-4529-b1ee-d7c5bdc9ae25",
     "isComponent": false,
     "name": "",
     "parents": []
    }
   },
   "outputs": [
    {
     "name": "stdout",
     "output_type": "stream",
     "text": [
      "[[4 6 4]\n",
      " [1 2 2]\n",
      " [6 8 7]]\n"
     ]
    }
   ],
   "source": [
    "a1 = np.array([[4,6,4], [1,2,2], [6,8,7]])\n",
    "print(a1)"
   ]
  },
  {
   "cell_type": "markdown",
   "id": "b0d91f2c",
   "metadata": {
    "canvas": {
     "comments": [],
     "componentType": "CodeCell",
     "copiedOriginId": null,
     "diskcache": false,
     "headerColor": "transparent",
     "id": "9e1276e8-ee4a-45af-b335-07978c5b2db9",
     "isComponent": false,
     "name": "",
     "parents": []
    }
   },
   "source": [
    "Operations work in the same way as in 1D arrays"
   ]
  },
  {
   "cell_type": "code",
   "execution_count": 40,
   "id": "ec8bc7ed",
   "metadata": {
    "canvas": {
     "comments": [],
     "componentType": "CodeCell",
     "copiedOriginId": null,
     "diskcache": false,
     "headerColor": "transparent",
     "id": "50132ee1-d2a2-4737-b3c2-44779f1ee0eb",
     "isComponent": false,
     "name": "",
     "parents": []
    }
   },
   "outputs": [
    {
     "name": "stdout",
     "output_type": "stream",
     "text": [
      "[[0.5        0.33333333 0.5       ]\n",
      " [2.         1.         1.        ]\n",
      " [0.33333333 0.25       0.28571429]]\n",
      "[[40 60 40]\n",
      " [10 20 20]\n",
      " [60 80 70]]\n",
      "[[2.25       1.83333333 2.25      ]\n",
      " [6.         3.5        3.5       ]\n",
      " [1.83333333 1.625      1.71428571]]\n"
     ]
    }
   ],
   "source": [
    "print(2/a1)\n",
    "print(a1*10)\n",
    "print(1 + 5/a1)"
   ]
  },
  {
   "cell_type": "markdown",
   "id": "73fa95d2",
   "metadata": {
    "canvas": {
     "comments": [],
     "componentType": "CodeCell",
     "copiedOriginId": null,
     "diskcache": false,
     "headerColor": "transparent",
     "id": "28e4e4c4-bbca-4659-89bb-42b2ae6107f1",
     "isComponent": false,
     "name": "",
     "parents": []
    }
   },
   "source": [
    "You can convert any n-Dimensional array into a 1D array using the .ravel()"
   ]
  },
  {
   "cell_type": "code",
   "execution_count": 41,
   "id": "b5a631d5",
   "metadata": {
    "canvas": {
     "comments": [],
     "componentType": "CodeCell",
     "copiedOriginId": null,
     "diskcache": false,
     "headerColor": "transparent",
     "id": "6a5ed868-58e7-49ca-804c-41a5bf5d35f7",
     "isComponent": false,
     "name": "",
     "parents": []
    }
   },
   "outputs": [
    {
     "name": "stdout",
     "output_type": "stream",
     "text": [
      "[4 6 4 1 2 2 6 8 7]\n"
     ]
    }
   ],
   "source": [
    "print(a1.ravel())"
   ]
  },
  {
   "cell_type": "markdown",
   "id": "cf1cb780",
   "metadata": {
    "canvas": {
     "comments": [],
     "componentType": "CodeCell",
     "copiedOriginId": null,
     "diskcache": false,
     "headerColor": "transparent",
     "id": "cdf95e2b-569f-4f5a-86b3-9aacc04c304e",
     "isComponent": false,
     "name": "",
     "parents": []
    }
   },
   "source": [
    "Boolean Indexing also works in the same way as in 1D arrays"
   ]
  },
  {
   "cell_type": "code",
   "execution_count": 42,
   "id": "635254dc",
   "metadata": {
    "canvas": {
     "comments": [],
     "componentType": "CodeCell",
     "copiedOriginId": null,
     "diskcache": false,
     "headerColor": "transparent",
     "id": "df03b979-e426-4348-85cb-2e7f580c408f",
     "isComponent": false,
     "name": "",
     "parents": []
    }
   },
   "outputs": [
    {
     "name": "stdout",
     "output_type": "stream",
     "text": [
      "[[False  True False]\n",
      " [False False False]\n",
      " [ True  True  True]]\n",
      "[6 6 8 7]\n",
      "[[ 0.41028469 -0.43830325  0.2371771 ]\n",
      " [ 0.07096079  0.04852359  1.01328706]\n",
      " [-0.37475926 -0.32878242 -1.00849917]]\n",
      "[-0.43830325 -0.37475926 -0.32878242 -1.00849917]\n"
     ]
    }
   ],
   "source": [
    "print(a1>5)\n",
    "print(a1[a1>5])\n",
    "a2 = np.random.randn(3, 3)\n",
    "print(a2)\n",
    "print(a2[a1>5])"
   ]
  },
  {
   "cell_type": "markdown",
   "id": "5b100bd4",
   "metadata": {
    "canvas": {
     "comments": [],
     "componentType": "CodeCell",
     "copiedOriginId": null,
     "diskcache": false,
     "headerColor": "transparent",
     "id": "6012fd2d-a599-4143-a913-0ff280cd504d",
     "isComponent": false,
     "name": "",
     "parents": []
    }
   },
   "source": [
    "Element Indexing (a bit complex to understand)"
   ]
  },
  {
   "cell_type": "code",
   "execution_count": 43,
   "id": "719c9e27",
   "metadata": {
    "canvas": {
     "comments": [],
     "componentType": "CodeCell",
     "copiedOriginId": null,
     "diskcache": false,
     "headerColor": "transparent",
     "id": "d5647e53-06b8-4d2e-a46f-7ee51b1b47d6",
     "isComponent": false,
     "name": "",
     "parents": []
    }
   },
   "outputs": [
    {
     "name": "stdout",
     "output_type": "stream",
     "text": [
      "[[4 6 4]\n",
      " [1 2 2]\n",
      " [6 8 7]]\n"
     ]
    }
   ],
   "source": [
    "print(a1)\n"
   ]
  },
  {
   "cell_type": "code",
   "execution_count": 44,
   "id": "56ba80af",
   "metadata": {
    "canvas": {
     "comments": [],
     "componentType": "CodeCell",
     "copiedOriginId": null,
     "diskcache": false,
     "headerColor": "transparent",
     "id": "12a6f6c6-84d2-4acb-8a8b-d222613e5830",
     "isComponent": false,
     "name": "",
     "parents": []
    }
   },
   "outputs": [
    {
     "name": "stdout",
     "output_type": "stream",
     "text": [
      "[1 2 2]\n"
     ]
    }
   ],
   "source": [
    "print(a1[1])\n"
   ]
  },
  {
   "cell_type": "code",
   "execution_count": 45,
   "id": "a8e450a7",
   "metadata": {
    "canvas": {
     "comments": [],
     "componentType": "CodeCell",
     "copiedOriginId": null,
     "diskcache": false,
     "headerColor": "transparent",
     "id": "2c1a1ff0-50d6-41ba-a19c-66e41ce55794",
     "isComponent": false,
     "name": "",
     "parents": []
    }
   },
   "outputs": [
    {
     "name": "stdout",
     "output_type": "stream",
     "text": [
      "[6 2 8]\n"
     ]
    }
   ],
   "source": [
    "print(a1[:,1]) # prints second element of each row\n"
   ]
  },
  {
   "cell_type": "code",
   "execution_count": 46,
   "id": "ce4fb9a5",
   "metadata": {
    "canvas": {
     "comments": [],
     "componentType": "CodeCell",
     "copiedOriginId": null,
     "diskcache": false,
     "headerColor": "transparent",
     "id": "afb7e86d-0e55-48a7-8584-41fe000b19a8",
     "isComponent": false,
     "name": "",
     "parents": []
    }
   },
   "outputs": [
    {
     "name": "stdout",
     "output_type": "stream",
     "text": [
      "[[4]\n",
      " [1]]\n"
     ]
    }
   ],
   "source": [
    "print(a1[:2,:1])"
   ]
  },
  {
   "cell_type": "code",
   "execution_count": 47,
   "id": "5db56cbd",
   "metadata": {
    "canvas": {
     "comments": [],
     "componentType": "CodeCell",
     "copiedOriginId": null,
     "diskcache": false,
     "headerColor": "transparent",
     "id": "189b3e5d-7eae-4852-adb1-38bb7daff53a",
     "isComponent": false,
     "name": "",
     "parents": []
    }
   },
   "outputs": [
    {
     "name": "stdout",
     "output_type": "stream",
     "text": [
      "[[1 2]\n",
      " [6 8]]\n"
     ]
    }
   ],
   "source": [
    "print(a1[1:,:2]) # leaving first row, print the first two elements of each row"
   ]
  },
  {
   "cell_type": "markdown",
   "id": "8ccc0cbb",
   "metadata": {
    "canvas": {
     "comments": [],
     "componentType": "CodeCell",
     "copiedOriginId": null,
     "diskcache": false,
     "headerColor": "transparent",
     "id": "607c25ea-6aff-4ed7-9ec6-bf65833d13fa",
     "isComponent": false,
     "name": "",
     "parents": []
    }
   },
   "source": [
    "## Dealing with 2D Functions"
   ]
  },
  {
   "cell_type": "markdown",
   "id": "5a690b3a",
   "metadata": {
    "canvas": {
     "comments": [],
     "componentType": "CodeCell",
     "copiedOriginId": null,
     "diskcache": false,
     "headerColor": "transparent",
     "id": "e12aadbc-7866-4239-9f66-6e9094928c16",
     "isComponent": false,
     "name": "",
     "parents": []
    }
   },
   "source": [
    "Functions in 2 dimensions. Try this..."
   ]
  },
  {
   "cell_type": "code",
   "execution_count": 48,
   "id": "39500719",
   "metadata": {
    "canvas": {
     "comments": [],
     "componentType": "CodeCell",
     "copiedOriginId": null,
     "diskcache": false,
     "headerColor": "transparent",
     "id": "8161c4e3-3a80-4d0f-b7eb-d3960815a3a9",
     "isComponent": false,
     "name": "",
     "parents": []
    }
   },
   "outputs": [
    {
     "name": "stdout",
     "output_type": "stream",
     "text": [
      "[0.00000000e+00 2.00400601e-04 8.01602403e-04 1.80360541e-03\n",
      " 3.20640961e-03 5.01001502e-03 7.21442163e-03 9.81962944e-03\n",
      " 1.28256385e-02 1.62324487e-02 2.00400601e-02 2.42484727e-02\n",
      " 2.88576865e-02 3.38677015e-02 3.92785178e-02 4.50901352e-02\n",
      " 5.13025538e-02 5.79157736e-02 6.49297947e-02 7.23446169e-02\n",
      " 8.01602403e-02 8.83766650e-02 9.69938908e-02 1.06011918e-01\n",
      " 1.15430746e-01 1.25250376e-01 1.35470806e-01 1.46092038e-01\n",
      " 1.57114071e-01 1.68536905e-01 1.80360541e-01 1.92584977e-01\n",
      " 2.05210215e-01 2.18236254e-01 2.31663095e-01 2.45490736e-01\n",
      " 2.59719179e-01 2.74348422e-01 2.89378468e-01 3.04809314e-01\n",
      " 3.20640961e-01 3.36873410e-01 3.53506660e-01 3.70540711e-01\n",
      " 3.87975563e-01 4.05811217e-01 4.24047671e-01 4.42684927e-01\n",
      " 4.61722984e-01 4.81161843e-01 5.01001502e-01 5.21241963e-01\n",
      " 5.41883225e-01 5.62925288e-01 5.84368152e-01 6.06211817e-01\n",
      " 6.28456284e-01 6.51101552e-01 6.74147621e-01 6.97594491e-01\n",
      " 7.21442163e-01 7.45690636e-01 7.70339909e-01 7.95389985e-01\n",
      " 8.20840861e-01 8.46692538e-01 8.72945017e-01 8.99598297e-01\n",
      " 9.26652378e-01 9.54107260e-01 9.81962944e-01 1.01021943e+00\n",
      " 1.03887671e+00 1.06793480e+00 1.09739369e+00 1.12725338e+00\n",
      " 1.15751387e+00 1.18817516e+00 1.21923726e+00 1.25070015e+00\n",
      " 1.28256385e+00 1.31482834e+00 1.34749364e+00 1.38055974e+00\n",
      " 1.41402664e+00 1.44789434e+00 1.48216284e+00 1.51683215e+00\n",
      " 1.55190225e+00 1.58737316e+00 1.62324487e+00 1.65951738e+00\n",
      " 1.69619069e+00 1.73326480e+00 1.77073971e+00 1.80861542e+00\n",
      " 1.84689194e+00 1.88556925e+00 1.92464737e+00 1.96412629e+00\n",
      " 2.00400601e+00 2.04428653e+00 2.08496785e+00 2.12604997e+00\n",
      " 2.16753290e+00 2.20941662e+00 2.25170115e+00 2.29438648e+00\n",
      " 2.33747261e+00 2.38095954e+00 2.42484727e+00 2.46913580e+00\n",
      " 2.51382514e+00 2.55891527e+00 2.60440621e+00 2.65029795e+00\n",
      " 2.69659048e+00 2.74328382e+00 2.79037797e+00 2.83787291e+00\n",
      " 2.88576865e+00 2.93406520e+00 2.98276254e+00 3.03186069e+00\n",
      " 3.08135964e+00 3.13125939e+00 3.18155994e+00 3.23226129e+00\n",
      " 3.28336344e+00 3.33486640e+00 3.38677015e+00 3.43907471e+00\n",
      " 3.49178007e+00 3.54488623e+00 3.59839319e+00 3.65230095e+00\n",
      " 3.70660951e+00 3.76131888e+00 3.81642904e+00 3.87194001e+00\n",
      " 3.92785178e+00 3.98416434e+00 4.04087771e+00 4.09799189e+00\n",
      " 4.15550686e+00 4.21342263e+00 4.27173921e+00 4.33045658e+00\n",
      " 4.38957476e+00 4.44909374e+00 4.50901352e+00 4.56933410e+00\n",
      " 4.63005548e+00 4.69117766e+00 4.75270065e+00 4.81462443e+00\n",
      " 4.87694902e+00 4.93967441e+00 5.00280060e+00 5.06632759e+00\n",
      " 5.13025538e+00 5.19458397e+00 5.25931337e+00 5.32444356e+00\n",
      " 5.38997456e+00 5.45590636e+00 5.52223896e+00 5.58897236e+00\n",
      " 5.65610656e+00 5.72364156e+00 5.79157736e+00 5.85991397e+00\n",
      " 5.92865137e+00 5.99778958e+00 6.06732859e+00 6.13726840e+00\n",
      " 6.20760901e+00 6.27835042e+00 6.34949264e+00 6.42103565e+00\n",
      " 6.49297947e+00 6.56532408e+00 6.63806950e+00 6.71121572e+00\n",
      " 6.78476274e+00 6.85871056e+00 6.93305919e+00 7.00780861e+00\n",
      " 7.08295883e+00 7.15850986e+00 7.23446169e+00 7.31081432e+00\n",
      " 7.38756775e+00 7.46472198e+00 7.54227701e+00 7.62023285e+00\n",
      " 7.69858948e+00 7.77734692e+00 7.85650515e+00 7.93606419e+00\n",
      " 8.01602403e+00 8.09638467e+00 8.17714612e+00 8.25830836e+00\n",
      " 8.33987140e+00 8.42183525e+00 8.50419990e+00 8.58696534e+00\n",
      " 8.67013159e+00 8.75369864e+00 8.83766650e+00 8.92203515e+00\n",
      " 9.00680460e+00 9.09197486e+00 9.17754591e+00 9.26351777e+00\n",
      " 9.34989043e+00 9.43666389e+00 9.52383815e+00 9.61141322e+00\n",
      " 9.69938908e+00 9.78776574e+00 9.87654321e+00 9.96572148e+00\n",
      " 1.00553005e+01 1.01452804e+01 1.02356611e+01 1.03264426e+01\n",
      " 1.04176248e+01 1.05092079e+01 1.06011918e+01 1.06935765e+01\n",
      " 1.07863619e+01 1.08795482e+01 1.09731353e+01 1.10671232e+01\n",
      " 1.11615119e+01 1.12563013e+01 1.13514916e+01 1.14470827e+01\n",
      " 1.15430746e+01 1.16394673e+01 1.17362608e+01 1.18334551e+01\n",
      " 1.19310502e+01 1.20290461e+01 1.21274428e+01 1.22262403e+01\n",
      " 1.23254386e+01 1.24250377e+01 1.25250376e+01 1.26254383e+01\n",
      " 1.27262398e+01 1.28274421e+01 1.29290452e+01 1.30310491e+01\n",
      " 1.31334538e+01 1.32362593e+01 1.33394656e+01 1.34430727e+01\n",
      " 1.35470806e+01 1.36514893e+01 1.37562988e+01 1.38615092e+01\n",
      " 1.39671203e+01 1.40731322e+01 1.41795449e+01 1.42863584e+01\n",
      " 1.43935728e+01 1.45011879e+01 1.46092038e+01 1.47176205e+01\n",
      " 1.48264380e+01 1.49356564e+01 1.50452755e+01 1.51552954e+01\n",
      " 1.52657162e+01 1.53765377e+01 1.54877600e+01 1.55993832e+01\n",
      " 1.57114071e+01 1.58238318e+01 1.59366574e+01 1.60498837e+01\n",
      " 1.61635109e+01 1.62775388e+01 1.63919675e+01 1.65067971e+01\n",
      " 1.66220274e+01 1.67376586e+01 1.68536905e+01 1.69701233e+01\n",
      " 1.70869568e+01 1.72041912e+01 1.73218263e+01 1.74398623e+01\n",
      " 1.75582990e+01 1.76771366e+01 1.77963750e+01 1.79160141e+01\n",
      " 1.80360541e+01 1.81564948e+01 1.82773364e+01 1.83985788e+01\n",
      " 1.85202219e+01 1.86422659e+01 1.87647107e+01 1.88875562e+01\n",
      " 1.90108026e+01 1.91344498e+01 1.92584977e+01 1.93829465e+01\n",
      " 1.95077961e+01 1.96330465e+01 1.97586976e+01 1.98847496e+01\n",
      " 2.00112024e+01 2.01380560e+01 2.02653104e+01 2.03929655e+01\n",
      " 2.05210215e+01 2.06494783e+01 2.07783359e+01 2.09075943e+01\n",
      " 2.10372535e+01 2.11673135e+01 2.12977743e+01 2.14286358e+01\n",
      " 2.15598982e+01 2.16915614e+01 2.18236254e+01 2.19560902e+01\n",
      " 2.20889558e+01 2.22222222e+01 2.23558894e+01 2.24899574e+01\n",
      " 2.26244262e+01 2.27592958e+01 2.28945662e+01 2.30302374e+01\n",
      " 2.31663095e+01 2.33027823e+01 2.34396559e+01 2.35769303e+01\n",
      " 2.37146055e+01 2.38526815e+01 2.39911583e+01 2.41300359e+01\n",
      " 2.42693144e+01 2.44089936e+01 2.45490736e+01 2.46895544e+01\n",
      " 2.48304360e+01 2.49717185e+01 2.51134017e+01 2.52554857e+01\n",
      " 2.53979705e+01 2.55408562e+01 2.56841426e+01 2.58278298e+01\n",
      " 2.59719179e+01 2.61164067e+01 2.62612963e+01 2.64065868e+01\n",
      " 2.65522780e+01 2.66983700e+01 2.68448629e+01 2.69917565e+01\n",
      " 2.71390510e+01 2.72867462e+01 2.74348422e+01 2.75833391e+01\n",
      " 2.77322367e+01 2.78815352e+01 2.80312344e+01 2.81813345e+01\n",
      " 2.83318353e+01 2.84827370e+01 2.86340394e+01 2.87857427e+01\n",
      " 2.89378468e+01 2.90903516e+01 2.92432573e+01 2.93965637e+01\n",
      " 2.95502710e+01 2.97043791e+01 2.98588879e+01 3.00137976e+01\n",
      " 3.01691080e+01 3.03248193e+01 3.04809314e+01 3.06374443e+01\n",
      " 3.07943579e+01 3.09516724e+01 3.11093877e+01 3.12675037e+01\n",
      " 3.14260206e+01 3.15849383e+01 3.17442568e+01 3.19039760e+01\n",
      " 3.20640961e+01 3.22246170e+01 3.23855387e+01 3.25468612e+01\n",
      " 3.27085845e+01 3.28707085e+01 3.30332334e+01 3.31961591e+01\n",
      " 3.33594856e+01 3.35232129e+01 3.36873410e+01 3.38518699e+01\n",
      " 3.40167996e+01 3.41821301e+01 3.43478614e+01 3.45139935e+01\n",
      " 3.46805264e+01 3.48474601e+01 3.50147946e+01 3.51825299e+01\n",
      " 3.53506660e+01 3.55192029e+01 3.56881406e+01 3.58574791e+01\n",
      " 3.60272184e+01 3.61973585e+01 3.63678994e+01 3.65388411e+01\n",
      " 3.67101837e+01 3.68819270e+01 3.70540711e+01 3.72266160e+01\n",
      " 3.73995617e+01 3.75729082e+01 3.77466556e+01 3.79208037e+01\n",
      " 3.80953526e+01 3.82703023e+01 3.84456529e+01 3.86214042e+01\n",
      " 3.87975563e+01 3.89741092e+01 3.91510630e+01 3.93284175e+01\n",
      " 3.95061728e+01 3.96843290e+01 3.98628859e+01 4.00418436e+01\n",
      " 4.02212022e+01 4.04009615e+01 4.05811217e+01 4.07616826e+01\n",
      " 4.09426443e+01 4.11240069e+01 4.13057702e+01 4.14879344e+01\n",
      " 4.16704993e+01 4.18534651e+01 4.20368316e+01 4.22205990e+01\n",
      " 4.24047671e+01 4.25893361e+01 4.27743058e+01 4.29596764e+01\n",
      " 4.31454478e+01 4.33316199e+01 4.35181929e+01 4.37051666e+01\n",
      " 4.38925412e+01 4.40803166e+01 4.42684927e+01 4.44570697e+01\n",
      " 4.46460474e+01 4.48354260e+01 4.50252054e+01 4.52153856e+01\n",
      " 4.54059665e+01 4.55969483e+01 4.57883309e+01 4.59801142e+01\n",
      " 4.61722984e+01 4.63648834e+01 4.65578692e+01 4.67512558e+01\n",
      " 4.69450431e+01 4.71392313e+01 4.73338203e+01 4.75288101e+01\n",
      " 4.77242007e+01 4.79199921e+01 4.81161843e+01 4.83127772e+01\n",
      " 4.85097710e+01 4.87071656e+01 4.89049610e+01 4.91031572e+01\n",
      " 4.93017542e+01 4.95007520e+01 4.97001506e+01 4.98999500e+01\n",
      " 5.01001502e+01 5.03007512e+01 5.05017530e+01 5.07031556e+01\n",
      " 5.09049590e+01 5.11071632e+01 5.13097682e+01 5.15127740e+01\n",
      " 5.17161806e+01 5.19199881e+01 5.21241963e+01 5.23288053e+01\n",
      " 5.25338151e+01 5.27392257e+01 5.29450371e+01 5.31512493e+01\n",
      " 5.33578624e+01 5.35648762e+01 5.37722908e+01 5.39801062e+01\n",
      " 5.41883225e+01 5.43969395e+01 5.46059573e+01 5.48153759e+01\n",
      " 5.50251954e+01 5.52354156e+01 5.54460366e+01 5.56570585e+01\n",
      " 5.58684811e+01 5.60803045e+01 5.62925288e+01 5.65051538e+01\n",
      " 5.67181796e+01 5.69316063e+01 5.71454337e+01 5.73596620e+01\n",
      " 5.75742910e+01 5.77893209e+01 5.80047515e+01 5.82205829e+01\n",
      " 5.84368152e+01 5.86534482e+01 5.88704821e+01 5.90879167e+01\n",
      " 5.93057522e+01 5.95239885e+01 5.97426255e+01 5.99616634e+01\n",
      " 6.01811020e+01 6.04009415e+01 6.06211817e+01 6.08418228e+01\n",
      " 6.10628647e+01 6.12843073e+01 6.15061508e+01 6.17283951e+01\n",
      " 6.19510401e+01 6.21740860e+01 6.23975327e+01 6.26213801e+01\n",
      " 6.28456284e+01 6.30702775e+01 6.32953274e+01 6.35207780e+01\n",
      " 6.37466295e+01 6.39728818e+01 6.41995349e+01 6.44265888e+01\n",
      " 6.46540434e+01 6.48818989e+01 6.51101552e+01 6.53388123e+01\n",
      " 6.55678702e+01 6.57973289e+01 6.60271883e+01 6.62574486e+01\n",
      " 6.64881097e+01 6.67191716e+01 6.69506343e+01 6.71824978e+01\n",
      " 6.74147621e+01 6.76474272e+01 6.78804931e+01 6.81139598e+01\n",
      " 6.83478273e+01 6.85820956e+01 6.88167647e+01 6.90518346e+01\n",
      " 6.92873053e+01 6.95231768e+01 6.97594491e+01 6.99961222e+01\n",
      " 7.02331962e+01 7.04706709e+01 7.07085464e+01 7.09468227e+01\n",
      " 7.11854998e+01 7.14245777e+01 7.16640564e+01 7.19039360e+01\n",
      " 7.21442163e+01 7.23848974e+01 7.26259793e+01 7.28674621e+01\n",
      " 7.31093456e+01 7.33516299e+01 7.35943150e+01 7.38374010e+01\n",
      " 7.40808877e+01 7.43247752e+01 7.45690636e+01 7.48137527e+01\n",
      " 7.50588426e+01 7.53043334e+01 7.55502249e+01 7.57965172e+01\n",
      " 7.60432104e+01 7.62903043e+01 7.65377991e+01 7.67856946e+01\n",
      " 7.70339909e+01 7.72826881e+01 7.75317860e+01 7.77812848e+01\n",
      " 7.80311843e+01 7.82814847e+01 7.85321858e+01 7.87832878e+01\n",
      " 7.90347905e+01 7.92866941e+01 7.95389985e+01 7.97917036e+01\n",
      " 8.00448096e+01 8.02983163e+01 8.05522239e+01 8.08065323e+01\n",
      " 8.10612414e+01 8.13163514e+01 8.15718622e+01 8.18277737e+01\n",
      " 8.20840861e+01 8.23407993e+01 8.25979132e+01 8.28554280e+01\n",
      " 8.31133436e+01 8.33716599e+01 8.36303771e+01 8.38894951e+01\n",
      " 8.41490139e+01 8.44089335e+01 8.46692538e+01 8.49299750e+01\n",
      " 8.51910970e+01 8.54526198e+01 8.57145434e+01 8.59768678e+01\n",
      " 8.62395929e+01 8.65027189e+01 8.67662457e+01 8.70301733e+01\n",
      " 8.72945017e+01 8.75592309e+01 8.78243609e+01 8.80898917e+01\n",
      " 8.83558233e+01 8.86221557e+01 8.88888889e+01 8.91560229e+01\n",
      " 8.94235577e+01 8.96914933e+01 8.99598297e+01 9.02285669e+01\n",
      " 9.04977049e+01 9.07672437e+01 9.10371833e+01 9.13075237e+01\n",
      " 9.15782650e+01 9.18494070e+01 9.21209498e+01 9.23928934e+01\n",
      " 9.26652378e+01 9.29379830e+01 9.32111290e+01 9.34846759e+01\n",
      " 9.37586235e+01 9.40329719e+01 9.43077211e+01 9.45828712e+01\n",
      " 9.48584220e+01 9.51343736e+01 9.54107260e+01 9.56874793e+01\n",
      " 9.59646333e+01 9.62421881e+01 9.65201438e+01 9.67985002e+01\n",
      " 9.70772574e+01 9.73564155e+01 9.76359743e+01 9.79159340e+01\n",
      " 9.81962944e+01 9.84770556e+01 9.87582177e+01 9.90397805e+01\n",
      " 9.93217442e+01 9.96041086e+01 9.98868739e+01 1.00170040e+02\n",
      " 1.00453607e+02 1.00737574e+02 1.01021943e+02 1.01306712e+02\n",
      " 1.01591882e+02 1.01877453e+02 1.02163425e+02 1.02449797e+02\n",
      " 1.02736570e+02 1.03023744e+02 1.03311319e+02 1.03599295e+02\n",
      " 1.03887671e+02 1.04176449e+02 1.04465627e+02 1.04755206e+02\n",
      " 1.05045185e+02 1.05335566e+02 1.05626347e+02 1.05917529e+02\n",
      " 1.06209112e+02 1.06501096e+02 1.06793480e+02 1.07086265e+02\n",
      " 1.07379452e+02 1.07673038e+02 1.07967026e+02 1.08261415e+02\n",
      " 1.08556204e+02 1.08851394e+02 1.09146985e+02 1.09442977e+02\n",
      " 1.09739369e+02 1.10036162e+02 1.10333356e+02 1.10630951e+02\n",
      " 1.10928947e+02 1.11227343e+02 1.11526141e+02 1.11825339e+02\n",
      " 1.12124938e+02 1.12424937e+02 1.12725338e+02 1.13026139e+02\n",
      " 1.13327341e+02 1.13628944e+02 1.13930948e+02 1.14233352e+02\n",
      " 1.14536158e+02 1.14839364e+02 1.15142971e+02 1.15446979e+02\n",
      " 1.15751387e+02 1.16056196e+02 1.16361406e+02 1.16667017e+02\n",
      " 1.16973029e+02 1.17279442e+02 1.17586255e+02 1.17893469e+02\n",
      " 1.18201084e+02 1.18509100e+02 1.18817516e+02 1.19126334e+02\n",
      " 1.19435552e+02 1.19745171e+02 1.20055190e+02 1.20365611e+02\n",
      " 1.20676432e+02 1.20987654e+02 1.21299277e+02 1.21611301e+02\n",
      " 1.21923726e+02 1.22236551e+02 1.22549777e+02 1.22863404e+02\n",
      " 1.23177432e+02 1.23491860e+02 1.23806690e+02 1.24121920e+02\n",
      " 1.24437551e+02 1.24753582e+02 1.25070015e+02 1.25386848e+02\n",
      " 1.25704082e+02 1.26021717e+02 1.26339753e+02 1.26658190e+02\n",
      " 1.26977027e+02 1.27296265e+02 1.27615904e+02 1.27935944e+02\n",
      " 1.28256385e+02 1.28577226e+02 1.28898468e+02 1.29220111e+02\n",
      " 1.29542155e+02 1.29864599e+02 1.30187445e+02 1.30510691e+02\n",
      " 1.30834338e+02 1.31158386e+02 1.31482834e+02 1.31807684e+02\n",
      " 1.32132934e+02 1.32458585e+02 1.32784636e+02 1.33111089e+02\n",
      " 1.33437942e+02 1.33765197e+02 1.34092852e+02 1.34420907e+02\n",
      " 1.34749364e+02 1.35078221e+02 1.35407480e+02 1.35737139e+02\n",
      " 1.36067198e+02 1.36397659e+02 1.36728520e+02 1.37059783e+02\n",
      " 1.37391445e+02 1.37723509e+02 1.38055974e+02 1.38388839e+02\n",
      " 1.38722105e+02 1.39055772e+02 1.39389840e+02 1.39724309e+02\n",
      " 1.40059178e+02 1.40394449e+02 1.40730120e+02 1.41066191e+02\n",
      " 1.41402664e+02 1.41739537e+02 1.42076812e+02 1.42414487e+02\n",
      " 1.42752562e+02 1.43091039e+02 1.43429916e+02 1.43769195e+02\n",
      " 1.44108874e+02 1.44448953e+02 1.44789434e+02 1.45130316e+02\n",
      " 1.45471598e+02 1.45813281e+02 1.46155365e+02 1.46497849e+02\n",
      " 1.46840735e+02 1.47184021e+02 1.47527708e+02 1.47871796e+02\n",
      " 1.48216284e+02 1.48561174e+02 1.48906464e+02 1.49252155e+02\n",
      " 1.49598247e+02 1.49944740e+02 1.50291633e+02 1.50638927e+02\n",
      " 1.50986622e+02 1.51334718e+02 1.51683215e+02 1.52032112e+02\n",
      " 1.52381410e+02 1.52731109e+02 1.53081209e+02 1.53431710e+02\n",
      " 1.53782611e+02 1.54133914e+02 1.54485617e+02 1.54837721e+02\n",
      " 1.55190225e+02 1.55543131e+02 1.55896437e+02 1.56250144e+02\n",
      " 1.56604252e+02 1.56958761e+02 1.57313670e+02 1.57668980e+02\n",
      " 1.58024691e+02 1.58380803e+02 1.58737316e+02 1.59094229e+02\n",
      " 1.59451544e+02 1.59809259e+02 1.60167375e+02 1.60525891e+02\n",
      " 1.60884809e+02 1.61244127e+02 1.61603846e+02 1.61963966e+02\n",
      " 1.62324487e+02 1.62685408e+02 1.63046730e+02 1.63408453e+02\n",
      " 1.63770577e+02 1.64133102e+02 1.64496028e+02 1.64859354e+02\n",
      " 1.65223081e+02 1.65587209e+02 1.65951738e+02 1.66316667e+02\n",
      " 1.66681997e+02 1.67047728e+02 1.67413860e+02 1.67780393e+02\n",
      " 1.68147327e+02 1.68514661e+02 1.68882396e+02 1.69250532e+02\n",
      " 1.69619069e+02 1.69988006e+02 1.70357344e+02 1.70727083e+02\n",
      " 1.71097223e+02 1.71467764e+02 1.71838706e+02 1.72210048e+02\n",
      " 1.72581791e+02 1.72953935e+02 1.73326480e+02 1.73699425e+02\n",
      " 1.74072771e+02 1.74446519e+02 1.74820667e+02 1.75195215e+02\n",
      " 1.75570165e+02 1.75945515e+02 1.76321266e+02 1.76697418e+02\n",
      " 1.77073971e+02 1.77450924e+02 1.77828279e+02 1.78206034e+02\n",
      " 1.78584190e+02 1.78962747e+02 1.79341704e+02 1.79721062e+02\n",
      " 1.80100822e+02 1.80480981e+02 1.80861542e+02 1.81242504e+02\n",
      " 1.81623866e+02 1.82005629e+02 1.82387793e+02 1.82770358e+02\n",
      " 1.83153323e+02 1.83536690e+02 1.83920457e+02 1.84304625e+02\n",
      " 1.84689194e+02 1.85074163e+02 1.85459534e+02 1.85845305e+02\n",
      " 1.86231477e+02 1.86618049e+02 1.87005023e+02 1.87392397e+02\n",
      " 1.87780173e+02 1.88168349e+02 1.88556925e+02 1.88945903e+02\n",
      " 1.89335281e+02 1.89725060e+02 1.90115240e+02 1.90505821e+02\n",
      " 1.90896803e+02 1.91288185e+02 1.91679968e+02 1.92072152e+02\n",
      " 1.92464737e+02 1.92857723e+02 1.93251109e+02 1.93644896e+02\n",
      " 1.94039084e+02 1.94433673e+02 1.94828662e+02 1.95224053e+02\n",
      " 1.95619844e+02 1.96016036e+02 1.96412629e+02 1.96809622e+02\n",
      " 1.97207017e+02 1.97604812e+02 1.98003008e+02 1.98401605e+02\n",
      " 1.98800602e+02 1.99200001e+02 1.99599800e+02 2.00000000e+02]\n"
     ]
    }
   ],
   "source": [
    "x = np.linspace(0, 10, 1000)\n",
    "y = np.linspace(0, 10, 1000)\n",
    "\n",
    "z = x**2 + y**2\n",
    "print(z)\n",
    "\n",
    "# This isn't gonna give you the results you want i.e., (x^2, y^2) array. This gonna result in a 1D array with each element equal\n",
    "# to (x[i]^2 + y[i]^2). So, what to do if I want a 2D array with elements of the form (x[i]^2, y[i]^2) ?"
   ]
  },
  {
   "cell_type": "markdown",
   "id": "0e1f23ff",
   "metadata": {
    "canvas": {
     "comments": [],
     "componentType": "CodeCell",
     "copiedOriginId": null,
     "diskcache": false,
     "headerColor": "transparent",
     "id": "005609b9-22bd-4ca0-a49f-2ec04e850f85",
     "isComponent": false,
     "name": "",
     "parents": []
    }
   },
   "source": [
    "Need to use meshgrids"
   ]
  },
  {
   "cell_type": "code",
   "execution_count": 49,
   "id": "77f90d00",
   "metadata": {
    "canvas": {
     "comments": [],
     "componentType": "CodeCell",
     "copiedOriginId": null,
     "diskcache": false,
     "headerColor": "transparent",
     "id": "318cf6a4-970b-4870-b5e6-049868830122",
     "isComponent": false,
     "name": "",
     "parents": []
    }
   },
   "outputs": [],
   "source": [
    "xv, yv = np.meshgrid(x, y)\n",
    "\n",
    "# This creates a 2 2D arrays of x and y named xv and yv. See below :-"
   ]
  },
  {
   "cell_type": "code",
   "execution_count": 50,
   "id": "99942a42",
   "metadata": {
    "canvas": {
     "comments": [],
     "componentType": "CodeCell",
     "copiedOriginId": null,
     "diskcache": false,
     "headerColor": "transparent",
     "id": "54fc4f2d-395e-405e-a126-2811b9a9c7ee",
     "isComponent": false,
     "name": "",
     "parents": []
    }
   },
   "outputs": [
    {
     "name": "stdout",
     "output_type": "stream",
     "text": [
      "[[ 0.          0.01001001  0.02002002 ...  9.97997998  9.98998999\n",
      "  10.        ]\n",
      " [ 0.          0.01001001  0.02002002 ...  9.97997998  9.98998999\n",
      "  10.        ]\n",
      " [ 0.          0.01001001  0.02002002 ...  9.97997998  9.98998999\n",
      "  10.        ]\n",
      " ...\n",
      " [ 0.          0.01001001  0.02002002 ...  9.97997998  9.98998999\n",
      "  10.        ]\n",
      " [ 0.          0.01001001  0.02002002 ...  9.97997998  9.98998999\n",
      "  10.        ]\n",
      " [ 0.          0.01001001  0.02002002 ...  9.97997998  9.98998999\n",
      "  10.        ]]\n"
     ]
    }
   ],
   "source": [
    "print(xv)"
   ]
  },
  {
   "cell_type": "code",
   "execution_count": 51,
   "id": "65a7e4c0",
   "metadata": {
    "canvas": {
     "comments": [],
     "componentType": "CodeCell",
     "copiedOriginId": null,
     "diskcache": false,
     "headerColor": "transparent",
     "id": "b833c000-c3fc-4ab8-8dcc-4966d95ff9ca",
     "isComponent": false,
     "name": "",
     "parents": []
    }
   },
   "outputs": [
    {
     "name": "stdout",
     "output_type": "stream",
     "text": [
      "[[ 0.          0.          0.         ...  0.          0.\n",
      "   0.        ]\n",
      " [ 0.01001001  0.01001001  0.01001001 ...  0.01001001  0.01001001\n",
      "   0.01001001]\n",
      " [ 0.02002002  0.02002002  0.02002002 ...  0.02002002  0.02002002\n",
      "   0.02002002]\n",
      " ...\n",
      " [ 9.97997998  9.97997998  9.97997998 ...  9.97997998  9.97997998\n",
      "   9.97997998]\n",
      " [ 9.98998999  9.98998999  9.98998999 ...  9.98998999  9.98998999\n",
      "   9.98998999]\n",
      " [10.         10.         10.         ... 10.         10.\n",
      "  10.        ]]\n"
     ]
    }
   ],
   "source": [
    "print(yv) # try visualising these values on the 2D Cartesian Plane"
   ]
  },
  {
   "cell_type": "code",
   "execution_count": 52,
   "id": "9adaa566",
   "metadata": {
    "canvas": {
     "comments": [],
     "componentType": "CodeCell",
     "copiedOriginId": null,
     "diskcache": false,
     "headerColor": "transparent",
     "id": "10623b5f-2068-4b48-8ae7-9c3988ceb09a",
     "isComponent": false,
     "name": "",
     "parents": []
    }
   },
   "outputs": [
    {
     "name": "stdout",
     "output_type": "stream",
     "text": [
      "[[0.00000000e+00 1.00200300e-04 4.00801202e-04 ... 9.96000004e+01\n",
      "  9.97999000e+01 1.00000000e+02]\n",
      " [1.00200300e-04 2.00400601e-04 5.01001502e-04 ... 9.96001006e+01\n",
      "  9.98000002e+01 1.00000100e+02]\n",
      " [4.00801202e-04 5.01001502e-04 8.01602403e-04 ... 9.96004012e+01\n",
      "  9.98003008e+01 1.00000401e+02]\n",
      " ...\n",
      " [9.96000004e+01 9.96001006e+01 9.96004012e+01 ... 1.99200001e+02\n",
      "  1.99399900e+02 1.99600000e+02]\n",
      " [9.97999000e+01 9.98000002e+01 9.98003008e+01 ... 1.99399900e+02\n",
      "  1.99599800e+02 1.99799900e+02]\n",
      " [1.00000000e+02 1.00000100e+02 1.00000401e+02 ... 1.99600000e+02\n",
      "  1.99799900e+02 2.00000000e+02]]\n"
     ]
    }
   ],
   "source": [
    "zv= xv**2 + yv**2\n",
    "print(zv)"
   ]
  },
  {
   "cell_type": "code",
   "execution_count": 53,
   "id": "839ffefb",
   "metadata": {
    "canvas": {
     "comments": [],
     "componentType": "CodeCell",
     "copiedOriginId": null,
     "diskcache": false,
     "headerColor": "transparent",
     "id": "e9f8ece9-f158-4316-9761-947bdeb648e4",
     "isComponent": false,
     "name": "",
     "parents": []
    }
   },
   "outputs": [
    {
     "data": {
      "image/png": "[encoded data removed]",
      "text/plain": [
       "<Figure size 432x288 with 2 Axes>"
      ]
     },
     "metadata": {
      "needs_background": "light"
     },
     "output_type": "display_data"
    },
    {
     "data": {
      "image/png": "[encoded data removed]",
      "text/plain": [
       "<Figure size 432x288 with 2 Axes>"
      ]
     },
     "metadata": {
      "needs_background": "light"
     },
     "output_type": "display_data"
    }
   ],
   "source": [
    "# plt.plot() won't work in this case as this is not a single variable function. It is a multivariable function.\n",
    "# We have to use plt.contourf()\n",
    "plt.contourf(xv, yv, zv, levels = 60)\n",
    "plt.colorbar()\n",
    "plt.show()\n",
    "plt.contourf(xv, yv, zv, levels = 20)\n",
    "plt.colorbar()\n",
    "plt.show()"
   ]
  },
  {
   "cell_type": "markdown",
   "id": "eeab7852",
   "metadata": {
    "canvas": {
     "comments": [],
     "componentType": "CodeCell",
     "copiedOriginId": null,
     "diskcache": false,
     "headerColor": "transparent",
     "id": "3be364e2-fb67-428f-b175-85d892aa60d3",
     "isComponent": false,
     "name": "",
     "parents": []
    }
   },
   "source": [
    "# Basic Linear Algebra"
   ]
  },
  {
   "cell_type": "markdown",
   "id": "059ecdd7",
   "metadata": {
    "canvas": {
     "comments": [],
     "componentType": "CodeCell",
     "copiedOriginId": null,
     "diskcache": false,
     "headerColor": "transparent",
     "id": "306ef239-b8d5-4330-a89e-b350e9ba6da7",
     "isComponent": false,
     "name": "",
     "parents": []
    }
   },
   "source": [
    "## Matrix Operations"
   ]
  },
  {
   "cell_type": "code",
   "execution_count": 54,
   "id": "3c8d872b",
   "metadata": {
    "canvas": {
     "comments": [],
     "componentType": "CodeCell",
     "copiedOriginId": null,
     "diskcache": false,
     "headerColor": "transparent",
     "id": "b57fb4f6-3d94-4c31-b320-b55ad6bbee64",
     "isComponent": false,
     "name": "",
     "parents": []
    }
   },
   "outputs": [],
   "source": [
    "A = np.array([[1, 2, 3], [4, -5, 5], [12, 24, 56]]) # Matrix\n",
    "b1 = np.array([1, 2, 3]) # Vector\n",
    "b2 = np.array([-1, 2, -5]) # Vector"
   ]
  },
  {
   "cell_type": "code",
   "execution_count": 55,
   "id": "93e959ed",
   "metadata": {
    "canvas": {
     "comments": [],
     "componentType": "CodeCell",
     "copiedOriginId": null,
     "diskcache": false,
     "headerColor": "transparent",
     "id": "cafa7d68-8d6b-4496-8c48-8171f73bfc4b",
     "isComponent": false,
     "name": "",
     "parents": []
    }
   },
   "outputs": [
    {
     "name": "stdout",
     "output_type": "stream",
     "text": [
      "[[ 1  2  3]\n",
      " [ 4 -5  5]\n",
      " [12 24 56]]\n"
     ]
    }
   ],
   "source": [
    "print(A)"
   ]
  },
  {
   "cell_type": "markdown",
   "id": "6d390520",
   "metadata": {
    "canvas": {
     "comments": [],
     "componentType": "CodeCell",
     "copiedOriginId": null,
     "diskcache": false,
     "headerColor": "transparent",
     "id": "14230720-c474-4a36-ba8e-cfb731b0a994",
     "isComponent": false,
     "name": "",
     "parents": []
    }
   },
   "source": [
    "Transpose of a Matrix"
   ]
  },
  {
   "cell_type": "code",
   "execution_count": 56,
   "id": "4e831513",
   "metadata": {
    "canvas": {
     "comments": [],
     "componentType": "CodeCell",
     "copiedOriginId": null,
     "diskcache": false,
     "headerColor": "transparent",
     "id": "b6227bfe-9275-4aa3-ac54-53332dd13103",
     "isComponent": false,
     "name": "",
     "parents": []
    }
   },
   "outputs": [
    {
     "name": "stdout",
     "output_type": "stream",
     "text": [
      "[[ 1  4 12]\n",
      " [ 2 -5 24]\n",
      " [ 3  5 56]]\n"
     ]
    }
   ],
   "source": [
    "print(A.T) "
   ]
  },
  {
   "cell_type": "markdown",
   "id": "b42e94a3",
   "metadata": {
    "canvas": {
     "comments": [],
     "componentType": "CodeCell",
     "copiedOriginId": null,
     "diskcache": false,
     "headerColor": "transparent",
     "id": "74d649fb-82e1-4d5e-b518-90373ff0327a",
     "isComponent": false,
     "name": "",
     "parents": []
    }
   },
   "source": [
    "Multiplication of a Matrix with a Vector"
   ]
  },
  {
   "cell_type": "code",
   "execution_count": 57,
   "id": "2feeb226",
   "metadata": {
    "canvas": {
     "comments": [],
     "componentType": "CodeCell",
     "copiedOriginId": null,
     "diskcache": false,
     "headerColor": "transparent",
     "id": "820a4fb7-f83c-4ecc-b3a5-9e37a6112400",
     "isComponent": false,
     "name": "",
     "parents": []
    }
   },
   "outputs": [
    {
     "name": "stdout",
     "output_type": "stream",
     "text": [
      "[ 14   9 228]\n"
     ]
    }
   ],
   "source": [
    "print(A@b1)"
   ]
  },
  {
   "cell_type": "markdown",
   "id": "42215b95",
   "metadata": {
    "canvas": {
     "comments": [],
     "componentType": "CodeCell",
     "copiedOriginId": null,
     "diskcache": false,
     "headerColor": "transparent",
     "id": "5cd35fb3-fde3-49bf-af5e-b1924146d81a",
     "isComponent": false,
     "name": "",
     "parents": []
    }
   },
   "source": [
    "Dot Product of two Vectors"
   ]
  },
  {
   "cell_type": "code",
   "execution_count": 58,
   "id": "34abcb57",
   "metadata": {
    "canvas": {
     "comments": [],
     "componentType": "CodeCell",
     "copiedOriginId": null,
     "diskcache": false,
     "headerColor": "transparent",
     "id": "233972d6-d737-4bd2-a6df-075eb241ebff",
     "isComponent": false,
     "name": "",
     "parents": []
    }
   },
   "outputs": [
    {
     "name": "stdout",
     "output_type": "stream",
     "text": [
      "-12\n"
     ]
    }
   ],
   "source": [
    "print(np.dot(b1, b2))"
   ]
  },
  {
   "cell_type": "markdown",
   "id": "1973b0fb",
   "metadata": {
    "canvas": {
     "comments": [],
     "componentType": "CodeCell",
     "copiedOriginId": null,
     "diskcache": false,
     "headerColor": "transparent",
     "id": "5f6f362a-d35d-448f-8ecb-9ca0ef0b5c3a",
     "isComponent": false,
     "name": "",
     "parents": []
    }
   },
   "source": [
    "Cross Product of Two Vectors"
   ]
  },
  {
   "cell_type": "code",
   "execution_count": 59,
   "id": "d62a57b3",
   "metadata": {
    "canvas": {
     "comments": [],
     "componentType": "CodeCell",
     "copiedOriginId": null,
     "diskcache": false,
     "headerColor": "transparent",
     "id": "8d8370c9-e0e7-487e-9a14-1aeb0a24ecf5",
     "isComponent": false,
     "name": "",
     "parents": []
    }
   },
   "outputs": [
    {
     "name": "stdout",
     "output_type": "stream",
     "text": [
      "[-16   2   4]\n"
     ]
    }
   ],
   "source": [
    "print(np.cross(b1, b2))"
   ]
  },
  {
   "cell_type": "markdown",
   "id": "53585f53",
   "metadata": {
    "canvas": {
     "comments": [],
     "componentType": "CodeCell",
     "copiedOriginId": null,
     "diskcache": false,
     "headerColor": "transparent",
     "id": "70b5d4ba-8b7c-4e41-b68b-5578bf320bb0",
     "isComponent": false,
     "name": "",
     "parents": []
    }
   },
   "source": [
    "## Systems Of Equation"
   ]
  },
  {
   "cell_type": "markdown",
   "id": "2cce00c6",
   "metadata": {
    "canvas": {
     "comments": [],
     "componentType": "CodeCell",
     "copiedOriginId": null,
     "diskcache": false,
     "headerColor": "transparent",
     "id": "80e2f696-0177-42e8-93b7-117a984b0ba6",
     "isComponent": false,
     "name": "",
     "parents": []
    }
   },
   "source": [
    "$$3x + 2y + z\\ =\\ 4$$"
   ]
  },
  {
   "cell_type": "markdown",
   "id": "8017f0b6",
   "metadata": {
    "canvas": {
     "comments": [],
     "componentType": "CodeCell",
     "copiedOriginId": null,
     "diskcache": false,
     "headerColor": "transparent",
     "id": "2d8a9285-00fc-4e68-ab9f-7a915421efd1",
     "isComponent": false,
     "name": "",
     "parents": []
    }
   },
   "source": [
    "$$5x - 5y + 4z\\ =\\ 3$$"
   ]
  },
  {
   "cell_type": "markdown",
   "id": "a3f517a9",
   "metadata": {
    "canvas": {
     "comments": [],
     "componentType": "CodeCell",
     "copiedOriginId": null,
     "diskcache": false,
     "headerColor": "transparent",
     "id": "330389d4-5bae-48af-89fa-3e083072fc9f",
     "isComponent": false,
     "name": "",
     "parents": []
    }
   },
   "source": [
    "$$6x + z\\ =\\ 0$$"
   ]
  },
  {
   "cell_type": "code",
   "execution_count": 60,
   "id": "f82ca7f5",
   "metadata": {
    "canvas": {
     "comments": [],
     "componentType": "CodeCell",
     "copiedOriginId": null,
     "diskcache": false,
     "headerColor": "transparent",
     "id": "c8bf2f91-c833-4de1-ab89-46ac024fdb48",
     "isComponent": false,
     "name": "",
     "parents": []
    }
   },
   "outputs": [],
   "source": [
    "A = np.array([[3, 2, 1], [5, -5, 4], [6, 0, 1]]) #Coefficient Matrix\n",
    "B = np.array([4, 3, 0]) #Value Vector"
   ]
  },
  {
   "cell_type": "markdown",
   "id": "98dbf12f",
   "metadata": {
    "canvas": {
     "comments": [],
     "componentType": "CodeCell",
     "copiedOriginId": null,
     "diskcache": false,
     "headerColor": "transparent",
     "id": "be15dc22-38e4-4735-ac4f-dba56c50ed14",
     "isComponent": false,
     "name": "",
     "parents": []
    }
   },
   "source": [
    "Solving the set of Equations"
   ]
  },
  {
   "cell_type": "code",
   "execution_count": 61,
   "id": "457a8770",
   "metadata": {
    "canvas": {
     "comments": [],
     "componentType": "CodeCell",
     "copiedOriginId": null,
     "diskcache": false,
     "headerColor": "transparent",
     "id": "0c60b1e6-7188-42b7-ac2e-7dac592af345",
     "isComponent": false,
     "name": "",
     "parents": []
    }
   },
   "outputs": [
    {
     "name": "stdout",
     "output_type": "stream",
     "text": [
      "[-0.49056604  1.26415094  2.94339623]\n"
     ]
    }
   ],
   "source": [
    "print(np.linalg.solve(A, B)) # gives me the values of x, y and z"
   ]
  },
  {
   "cell_type": "markdown",
   "id": "16f3b97b",
   "metadata": {
    "canvas": {
     "comments": [],
     "componentType": "CodeCell",
     "copiedOriginId": null,
     "diskcache": false,
     "headerColor": "transparent",
     "id": "cfc517e7-8a59-457d-aabb-4da1e8d223d2",
     "isComponent": false,
     "name": "",
     "parents": []
    }
   },
   "source": [
    "## Finding Eigenvalues"
   ]
  },
  {
   "cell_type": "code",
   "execution_count": 62,
   "id": "6b1b868f",
   "metadata": {
    "canvas": {
     "comments": [],
     "componentType": "CodeCell",
     "copiedOriginId": null,
     "diskcache": false,
     "headerColor": "transparent",
     "id": "4d359018-43ba-4e88-a3bf-af5dd52afdc9",
     "isComponent": false,
     "name": "",
     "parents": []
    }
   },
   "outputs": [],
   "source": [
    "A = np.array([[4, 2, 2], [2, 4, 2], [2, 2, 4]])\n",
    "eigvalues, eigvectors = np.linalg.eig(A)"
   ]
  },
  {
   "cell_type": "code",
   "execution_count": 63,
   "id": "8d22f19c",
   "metadata": {
    "canvas": {
     "comments": [],
     "componentType": "CodeCell",
     "copiedOriginId": null,
     "diskcache": false,
     "headerColor": "transparent",
     "id": "feb3b3a3-b34c-445b-8ddf-e3485b9a9b7e",
     "isComponent": false,
     "name": "",
     "parents": []
    }
   },
   "outputs": [
    {
     "name": "stdout",
     "output_type": "stream",
     "text": [
      "[2. 8. 2.]\n"
     ]
    }
   ],
   "source": [
    "print(eigvalues)"
   ]
  },
  {
   "cell_type": "code",
   "execution_count": 64,
   "id": "ada9bbfc",
   "metadata": {
    "canvas": {
     "comments": [],
     "componentType": "CodeCell",
     "copiedOriginId": null,
     "diskcache": false,
     "headerColor": "transparent",
     "id": "5108bc79-5017-41a7-83d5-0fa443774a45",
     "isComponent": false,
     "name": "",
     "parents": []
    }
   },
   "outputs": [
    {
     "name": "stdout",
     "output_type": "stream",
     "text": [
      "[[-0.81649658  0.57735027 -0.32444284]\n",
      " [ 0.40824829  0.57735027 -0.48666426]\n",
      " [ 0.40824829  0.57735027  0.81110711]]\n"
     ]
    }
   ],
   "source": [
    "print(eigvectors) \n",
    "# Now, contrary to common notation, the eigen vectors do not correspond to each row of the matrix, but instead to each column\n",
    "# of the matrix."
   ]
  },
  {
   "cell_type": "code",
   "execution_count": 65,
   "id": "b7a86825",
   "metadata": {
    "canvas": {
     "comments": [],
     "componentType": "CodeCell",
     "copiedOriginId": null,
     "diskcache": false,
     "headerColor": "transparent",
     "id": "e520982c-8cea-4949-8116-6ef857941f32",
     "isComponent": false,
     "name": "",
     "parents": []
    }
   },
   "outputs": [
    {
     "name": "stdout",
     "output_type": "stream",
     "text": [
      "[-0.81649658  0.40824829  0.40824829]\n",
      "[0.57735027 0.57735027 0.57735027]\n",
      "[-0.32444284 -0.48666426  0.81110711]\n"
     ]
    }
   ],
   "source": [
    "print(eigvectors[:,0]) # first eigenvector\n",
    "print(eigvectors[:,1]) # second eigenvector\n",
    "print(eigvectors[:,2]) # third eigenvector"
   ]
  },
  {
   "cell_type": "markdown",
   "id": "8d960d1a",
   "metadata": {
    "canvas": {
     "comments": [],
     "componentType": "CodeCell",
     "copiedOriginId": null,
     "diskcache": false,
     "headerColor": "transparent",
     "id": "97c392ac-e633-4a1c-b0da-91b43cb30ea0",
     "isComponent": false,
     "name": "",
     "parents": []
    }
   },
   "source": [
    "# Examples"
   ]
  },
  {
   "cell_type": "markdown",
   "id": "ca8da12e",
   "metadata": {
    "canvas": {
     "comments": [],
     "componentType": "CodeCell",
     "copiedOriginId": null,
     "diskcache": false,
     "headerColor": "transparent",
     "id": "fc654262-cbd6-451e-9e1e-0439489a5821",
     "isComponent": false,
     "name": "",
     "parents": []
    }
   },
   "source": [
    "## Question 1 :"
   ]
  },
  {
   "cell_type": "markdown",
   "id": "ebd260ef",
   "metadata": {
    "canvas": {
     "comments": [],
     "componentType": "CodeCell",
     "copiedOriginId": null,
     "diskcache": false,
     "headerColor": "transparent",
     "id": "e7f2d293-19ca-401b-9dc0-d0a1ac1ddd86",
     "isComponent": false,
     "name": "",
     "parents": []
    }
   },
   "source": [
    "Let $f(x,y)\\ =\\ e^{-(x^{2}+y^{2})}.\\sin (x)$ for $-2 \\leqslant x \\leqslant 2$ and $-2 \\leqslant y \\leqslant 2$"
   ]
  },
  {
   "cell_type": "markdown",
   "id": "c01a5720",
   "metadata": {
    "canvas": {
     "comments": [],
     "componentType": "CodeCell",
     "copiedOriginId": null,
     "diskcache": false,
     "headerColor": "transparent",
     "id": "9e00bb8d-7f1c-492c-b880-a4ddd8728ffe",
     "isComponent": false,
     "name": "",
     "parents": []
    }
   },
   "source": [
    "1. Make a contour plot of $f$."
   ]
  },
  {
   "cell_type": "markdown",
   "id": "179d93c7",
   "metadata": {
    "canvas": {
     "comments": [],
     "componentType": "CodeCell",
     "copiedOriginId": null,
     "diskcache": false,
     "headerColor": "transparent",
     "id": "cf74c494-d9bc-426d-a0bb-75adbc2cddb5",
     "isComponent": false,
     "name": "",
     "parents": []
    }
   },
   "source": [
    "2. Find the volume $\\left| f(x,y) \\right|$ in the specified $x$ and $y$ range."
   ]
  },
  {
   "cell_type": "markdown",
   "id": "041c6154",
   "metadata": {
    "canvas": {
     "comments": [],
     "componentType": "CodeCell",
     "copiedOriginId": null,
     "diskcache": false,
     "headerColor": "transparent",
     "id": "5ca5fb41-6633-4fda-8de2-3de52eded524",
     "isComponent": false,
     "name": "",
     "parents": []
    }
   },
   "source": [
    "3. Find the volume $|f(x,y)|$ only in the regions where $\\sqrt[2]{x^{2}+y^{2}} > 0.5$."
   ]
  },
  {
   "cell_type": "code",
   "execution_count": 66,
   "id": "733d89ab",
   "metadata": {
    "canvas": {
     "comments": [],
     "componentType": "CodeCell",
     "copiedOriginId": null,
     "diskcache": false,
     "headerColor": "transparent",
     "id": "e947bee9-d050-4ce4-8838-4a1272da4af0",
     "isComponent": false,
     "name": "",
     "parents": []
    }
   },
   "outputs": [
    {
     "data": {
      "image/png": "[encoded data removed]",
      "text/plain": [
       "<Figure size 432x288 with 2 Axes>"
      ]
     },
     "metadata": {
      "needs_background": "light"
     },
     "output_type": "display_data"
    }
   ],
   "source": [
    "#1\n",
    "x = np.linspace(-2, 2, 1000)\n",
    "y = np.linspace(-2, 2, 1000)\n",
    "xv, yv = np.meshgrid(x, y)\n",
    "f = np.exp(-(xv**2 + yv**2)) * np.sin(xv)\n",
    "plt.contourf(xv, yv, f, levels = 200)\n",
    "plt.colorbar()\n",
    "plt.show()"
   ]
  },
  {
   "cell_type": "code",
   "execution_count": 67,
   "id": "9aa6e336",
   "metadata": {
    "canvas": {
     "comments": [],
     "componentType": "CodeCell",
     "copiedOriginId": null,
     "diskcache": false,
     "headerColor": "transparent",
     "id": "b32b602b-6f30-42e2-8b9a-e4d467671f7b",
     "isComponent": false,
     "name": "",
     "parents": []
    }
   },
   "outputs": [
    {
     "name": "stdout",
     "output_type": "stream",
     "text": [
      "Volume = 1.4861858145124311\n"
     ]
    }
   ],
   "source": [
    "#2 \n",
    "res = np.abs(f.ravel()).sum()*(x[1]-x[0])*(y[1]-y[0]) #np.abs gives absolute value (mod)\n",
    "print('Volume =', res)"
   ]
  },
  {
   "cell_type": "code",
   "execution_count": 68,
   "id": "c7892ab5",
   "metadata": {
    "canvas": {
     "comments": [],
     "componentType": "CodeCell",
     "copiedOriginId": null,
     "diskcache": false,
     "headerColor": "transparent",
     "id": "e7d9bd99-6b96-4958-95be-d9aee6779734",
     "isComponent": false,
     "name": "",
     "parents": []
    }
   },
   "outputs": [
    {
     "name": "stdout",
     "output_type": "stream",
     "text": [
      "0.9162231217746594\n",
      "0.9162231217746594\n",
      "0.9162231217746194\n"
     ]
    }
   ],
   "source": [
    "#3\n",
    "print(np.abs(f[x**2+y**2 > 0.5**2].ravel()).sum() * (x[1]-x[0]) * (y[1]-y[0]))\n",
    "print(np.sum(np.abs(f[x**2+y**2 > 0.5**2].ravel())) * (x[1]-x[0]) * (y[1]-y[0]))\n",
    "print(sum(np.abs(f[x**2+y**2 > 0.5**2].ravel())) * np.diff(x)[0] * np.diff(y)[0])\n",
    "# 3 ways of doing the same thing"
   ]
  },
  {
   "cell_type": "markdown",
   "id": "b9b83108",
   "metadata": {
    "canvas": {
     "comments": [],
     "componentType": "CodeCell",
     "copiedOriginId": null,
     "diskcache": false,
     "headerColor": "transparent",
     "id": "1290d6df-4a07-4bd9-96eb-dd28a859db36",
     "isComponent": false,
     "name": "",
     "parents": []
    }
   },
   "source": [
    "## Question 2 :"
   ]
  },
  {
   "cell_type": "markdown",
   "id": "f4601c9f",
   "metadata": {
    "canvas": {
     "comments": [],
     "componentType": "CodeCell",
     "copiedOriginId": null,
     "diskcache": false,
     "headerColor": "transparent",
     "id": "5bc77c97-bc5e-42bc-a5b1-23246b3fb9a8",
     "isComponent": false,
     "name": "",
     "parents": []
    }
   },
   "source": [
    "After examining a circuit full of resistors, you find that the voltage at 4 specified points is given by,"
   ]
  },
  {
   "cell_type": "markdown",
   "id": "79e55c13",
   "metadata": {
    "canvas": {
     "comments": [],
     "componentType": "CodeCell",
     "copiedOriginId": null,
     "diskcache": false,
     "headerColor": "transparent",
     "id": "9b5734fd-362a-406e-8aec-ac48dedfb6ad",
     "isComponent": false,
     "name": "",
     "parents": []
    }
   },
   "source": [
    "$3V_{1} + 2V_{2} + 3V_{3} + 10V_{4}\\ =\\ 4$ "
   ]
  },
  {
   "cell_type": "markdown",
   "id": "0a4e1734",
   "metadata": {
    "canvas": {
     "comments": [],
     "componentType": "CodeCell",
     "copiedOriginId": null,
     "diskcache": false,
     "headerColor": "transparent",
     "id": "6b510eed-1278-405c-810b-09d96ca3775d",
     "isComponent": false,
     "name": "",
     "parents": []
    }
   },
   "source": [
    "$2V_{1} - 2V_{2} + 5V_{3} + 8V_{4}\\ =\\ 1$"
   ]
  },
  {
   "cell_type": "markdown",
   "id": "ce1daaa7",
   "metadata": {
    "canvas": {
     "comments": [],
     "componentType": "CodeCell",
     "copiedOriginId": null,
     "diskcache": false,
     "headerColor": "transparent",
     "id": "da794ce9-c91e-430f-8b41-6d992e33a63f",
     "isComponent": false,
     "name": "",
     "parents": []
    }
   },
   "source": [
    "$3V_{1} + 3V_{2} + 4V_{3} + 9V_{4}\\ =\\ 3$"
   ]
  },
  {
   "cell_type": "markdown",
   "id": "8456f06c",
   "metadata": {
    "canvas": {
     "comments": [],
     "componentType": "CodeCell",
     "copiedOriginId": null,
     "diskcache": false,
     "headerColor": "transparent",
     "id": "01d88210-8977-475b-9470-aa5bef588d7f",
     "isComponent": false,
     "name": "",
     "parents": []
    }
   },
   "source": [
    "$3V_{1} + 4V_{2} - 3V_{3} - 7V_{4}\\ =\\ 2$"
   ]
  },
  {
   "cell_type": "markdown",
   "id": "1440714f",
   "metadata": {
    "canvas": {
     "comments": [],
     "componentType": "CodeCell",
     "copiedOriginId": null,
     "diskcache": false,
     "headerColor": "transparent",
     "id": "686d5e8e-0279-4e26-abf2-5ea4617566e5",
     "isComponent": false,
     "name": "",
     "parents": []
    }
   },
   "source": [
    "Find all the voltages"
   ]
  },
  {
   "cell_type": "code",
   "execution_count": 69,
   "id": "a4efcf4b",
   "metadata": {
    "canvas": {
     "comments": [],
     "componentType": "CodeCell",
     "copiedOriginId": null,
     "diskcache": false,
     "headerColor": "transparent",
     "id": "93fc42bd-48c1-4499-9ec5-5ed89f28956e",
     "isComponent": false,
     "name": "",
     "parents": []
    }
   },
   "outputs": [
    {
     "name": "stdout",
     "output_type": "stream",
     "text": [
      "V1 = 0.7837837837837839\n",
      "V2 = 0.03603603603603603\n",
      "V3 = -0.6756756756756758\n",
      "V4 = 0.36036036036036034\n"
     ]
    }
   ],
   "source": [
    "coeff = np.array([[3, 2, 3, 10], [2, -2, 5, 8], [3, 3, 4, 9], [3, 4, -3, -7]])\n",
    "val = np.array([4, 1, 3, 2])\n",
    "result = np.linalg.solve(coeff, val)\n",
    "print('V1 =', result[0])\n",
    "print('V2 =', result[1])\n",
    "print('V3 =', result[2])\n",
    "print('V4 =', result[3])"
   ]
  },
  {
   "cell_type": "markdown",
   "id": "b150d14a",
   "metadata": {
    "canvas": {
     "comments": [],
     "componentType": "CodeCell",
     "copiedOriginId": null,
     "diskcache": false,
     "headerColor": "transparent",
     "id": "4406384f-f3d9-40fd-b607-f5192dcbaa21",
     "isComponent": false,
     "name": "",
     "parents": []
    }
   },
   "source": [
    "## Question 3 (tougher) :"
   ]
  },
  {
   "cell_type": "markdown",
   "id": "edd2c72b",
   "metadata": {
    "canvas": {
     "comments": [],
     "componentType": "CodeCell",
     "copiedOriginId": null,
     "diskcache": false,
     "headerColor": "transparent",
     "id": "982cb1d3-fc0d-4483-bd5f-deaa0bf147fc",
     "isComponent": false,
     "name": "",
     "parents": []
    }
   },
   "source": [
    "An electric field is given by $\\vec{E} (z,t)\\ =\\ E_{0} \\cos (z-t) \\hat{x} + 2E_{0} \\cos (z-t+\\pi /2) \\hat{y}$"
   ]
  },
  {
   "cell_type": "markdown",
   "id": "e10d910f",
   "metadata": {
    "canvas": {
     "comments": [],
     "componentType": "CodeCell",
     "copiedOriginId": null,
     "diskcache": false,
     "headerColor": "transparent",
     "id": "8d518fce-b70a-49dd-a17f-8cef811759fb",
     "isComponent": false,
     "name": "",
     "parents": []
    }
   },
   "source": [
    "1. Find magnetic field for all $z\\ \\in\\ [0,4\\pi]$ and $t\\ \\in\\ [0,10]$ using $\\vec{B} (z,t)\\ =\\ \\hat{z}$ x $\\vec{E}(z,t)$"
   ]
  },
  {
   "cell_type": "markdown",
   "id": "e0209152",
   "metadata": {
    "canvas": {
     "comments": [],
     "componentType": "CodeCell",
     "copiedOriginId": null,
     "diskcache": false,
     "headerColor": "transparent",
     "id": "9e5e5ceb-1532-4e8c-a750-3358da305eea",
     "isComponent": false,
     "name": "",
     "parents": []
    }
   },
   "source": [
    "2. Compute the Poynting Vector $\\vec{S} = \\vec{E}$ x $\\vec{B}$ $\\forall$ $z$ and $t$."
   ]
  },
  {
   "cell_type": "code",
   "execution_count": 70,
   "id": "e6b58d27",
   "metadata": {
    "canvas": {
     "comments": [],
     "componentType": "CodeCell",
     "copiedOriginId": null,
     "diskcache": false,
     "headerColor": "transparent",
     "id": "106e1d24-670f-4b65-aed5-7157cd8ac3f7",
     "isComponent": false,
     "name": "",
     "parents": []
    }
   },
   "outputs": [],
   "source": [
    "#1\n",
    "z = np.linspace(0, 4*np.pi, 100)\n",
    "t = np.linspace(0, 10, 100)\n",
    "\n",
    "tv, zv = np.meshgrid(t, z)\n",
    "\n",
    "Ex = np.cos(zv - tv)\n",
    "Ey = 2*np.cos(zv - tv + np.pi/2)\n",
    "Ez = 0*tv # for a 2D array of zeroes"
   ]
  },
  {
   "cell_type": "markdown",
   "id": "ea146a5c",
   "metadata": {
    "canvas": {
     "comments": [],
     "componentType": "CodeCell",
     "copiedOriginId": null,
     "diskcache": false,
     "headerColor": "transparent",
     "id": "f7d0fdb1-fa3f-42d6-b00d-1c0fe9c0237a",
     "isComponent": false,
     "name": "",
     "parents": []
    }
   },
   "source": [
    "$E_{x}$ as a function of $t$ at $z\\ =\\ 0$"
   ]
  },
  {
   "cell_type": "code",
   "execution_count": 71,
   "id": "fed53a3c",
   "metadata": {
    "canvas": {
     "comments": [],
     "componentType": "CodeCell",
     "copiedOriginId": null,
     "diskcache": false,
     "headerColor": "transparent",
     "id": "bcb76ab2-1da7-46f9-9b12-081305699bff",
     "isComponent": false,
     "name": "",
     "parents": []
    }
   },
   "outputs": [
    {
     "data": {
      "image/png": "[encoded data removed]",
      "text/plain": [
       "<Figure size 432x288 with 1 Axes>"
      ]
     },
     "metadata": {
      "needs_background": "light"
     },
     "output_type": "display_data"
    }
   ],
   "source": [
    "plt.plot(Ex[0,:])\n",
    "plt.show()"
   ]
  },
  {
   "cell_type": "markdown",
   "id": "d1932b47",
   "metadata": {
    "canvas": {
     "comments": [],
     "componentType": "CodeCell",
     "copiedOriginId": null,
     "diskcache": false,
     "headerColor": "transparent",
     "id": "e1d9d491-6f75-441c-9074-4365059ae663",
     "isComponent": false,
     "name": "",
     "parents": []
    }
   },
   "source": [
    "$E_{x}$ as a function of $z$ at $t = 0$"
   ]
  },
  {
   "cell_type": "code",
   "execution_count": 72,
   "id": "1c3075f8",
   "metadata": {
    "canvas": {
     "comments": [],
     "componentType": "CodeCell",
     "copiedOriginId": null,
     "diskcache": false,
     "headerColor": "transparent",
     "id": "42862262-5ad7-49b1-9f14-cd81510bc2d4",
     "isComponent": false,
     "name": "",
     "parents": []
    }
   },
   "outputs": [
    {
     "data": {
      "image/png": "[encoded data removed]",
      "text/plain": [
       "<Figure size 432x288 with 1 Axes>"
      ]
     },
     "metadata": {
      "needs_background": "light"
     },
     "output_type": "display_data"
    }
   ],
   "source": [
    "plt.plot(Ex[:,0])\n",
    "plt.show()"
   ]
  },
  {
   "cell_type": "code",
   "execution_count": 73,
   "id": "87613072",
   "metadata": {
    "canvas": {
     "comments": [],
     "componentType": "CodeCell",
     "copiedOriginId": null,
     "diskcache": false,
     "headerColor": "transparent",
     "id": "df9c6443-f583-4763-aec6-00f4423ffb32",
     "isComponent": false,
     "name": "",
     "parents": []
    }
   },
   "outputs": [
    {
     "name": "stdout",
     "output_type": "stream",
     "text": [
      "[[[ 1.00000000e+00  1.22464680e-16  0.00000000e+00]\n",
      "  [ 9.91954813e-01 -2.53184907e-01  0.00000000e+00]\n",
      "  [ 9.67948701e-01 -5.02295974e-01  0.00000000e+00]\n",
      "  ...\n",
      "  [ 9.67948701e-01  5.02295974e-01  0.00000000e+00]\n",
      "  [ 9.91954813e-01  2.53184907e-01  0.00000000e+00]\n",
      "  [ 1.00000000e+00  1.10218212e-15  0.00000000e+00]]\n",
      "\n",
      " [[ 9.94902816e-01  2.01676841e-01  0.00000000e+00]\n",
      "  [ 9.99664020e-01 -5.18400645e-02  0.00000000e+00]\n",
      "  [ 9.88340255e-01 -3.04522843e-01  0.00000000e+00]\n",
      "  ...\n",
      "  [ 9.37689522e-01  6.94948515e-01  0.00000000e+00]\n",
      "  [ 9.74133253e-01  4.51948690e-01  0.00000000e+00]\n",
      "  [ 9.94902816e-01  2.01676841e-01  0.00000000e+00]]\n",
      "\n",
      " [[ 9.79663226e-01  4.01297713e-01  0.00000000e+00]\n",
      "  [ 9.97182283e-01  1.50033255e-01  0.00000000e+00]\n",
      "  [ 9.98656304e-01 -1.03645294e-01  0.00000000e+00]\n",
      "  ...\n",
      "  [ 8.97871191e-01  8.80516495e-01  0.00000000e+00]\n",
      "  [ 9.46381021e-01  6.46105141e-01  0.00000000e+00]\n",
      "  [ 9.79663226e-01  4.01297713e-01  0.00000000e+00]]\n",
      "\n",
      " ...\n",
      "\n",
      " [[-9.31164735e-01 -7.29197467e-01  0.00000000e+00]\n",
      "  [-9.69828789e-01 -4.87574080e-01  0.00000000e+00]\n",
      "  [-9.92887934e-01 -2.38105444e-01  0.00000000e+00]\n",
      "  ...\n",
      "  [-8.09751458e-01 -1.17354604e+00  0.00000000e+00]\n",
      "  [-8.77517892e-01 -9.59087794e-01  0.00000000e+00]\n",
      "  [-9.31164735e-01 -7.29197467e-01  0.00000000e+00]]\n",
      "\n",
      " [[-8.89652856e-01 -9.13274975e-01  0.00000000e+00]\n",
      "  [-9.40302293e-01 -6.80680831e-01  0.00000000e+00]\n",
      "  [-9.75821913e-01 -4.37134278e-01  0.00000000e+00]\n",
      "  ...\n",
      "  [-7.46454741e-01 -1.33087237e+00  0.00000000e+00]\n",
      "  [-8.24688573e-01 -1.13117418e+00  0.00000000e+00]\n",
      "  [-8.89652856e-01 -9.13274975e-01  0.00000000e+00]]\n",
      "\n",
      " [[-8.39071529e-01 -1.08804222e+00  0.00000000e+00]\n",
      "  [-9.01190009e-01 -8.66848471e-01  0.00000000e+00]\n",
      "  [-9.48808004e-01 -6.31706804e-01  0.00000000e+00]\n",
      "  ...\n",
      "  [-6.75548390e-01 -1.47463131e+00  0.00000000e+00]\n",
      "  [-7.63452074e-01 -1.29172897e+00  0.00000000e+00]\n",
      "  [-8.39071529e-01 -1.08804222e+00  0.00000000e+00]]]\n"
     ]
    }
   ],
   "source": [
    "E = np.array([Ex, Ey, Ez]) # 3D Array\n",
    "E = np.swapaxes(E, 0, -1) \n",
    "# 0: X-Axis, 1: Y-Axis, 2: Z-Axis\n",
    "# np.swapaxes() can be used to swap any two axes of an array\n",
    "# here, we're swapping 0 Axis with -1 i.e., 1 Axis, but in reverse order\n",
    "print(E)\n",
    "# This converts E array into the form <Ex, Ey, Ez> which can be treated as a vector"
   ]
  },
  {
   "cell_type": "code",
   "execution_count": 74,
   "id": "d422cdb4",
   "metadata": {
    "canvas": {
     "comments": [],
     "componentType": "CodeCell",
     "copiedOriginId": null,
     "diskcache": false,
     "headerColor": "transparent",
     "id": "bae23af4-f78a-4a93-9ce7-385c8e9ed520",
     "isComponent": false,
     "name": "",
     "parents": []
    }
   },
   "outputs": [
    {
     "name": "stdout",
     "output_type": "stream",
     "text": [
      "[[[-1.22464680e-16 -2.01676841e-01 -4.01297713e-01 ...  7.29197467e-01\n",
      "    9.13274975e-01  1.08804222e+00]\n",
      "  [ 2.53184907e-01  5.18400645e-02 -1.50033255e-01 ...  4.87574080e-01\n",
      "    6.80680831e-01  8.66848471e-01]\n",
      "  [ 5.02295974e-01  3.04522843e-01  1.03645294e-01 ...  2.38105444e-01\n",
      "    4.37134278e-01  6.31706804e-01]\n",
      "  ...\n",
      "  [-5.02295974e-01 -6.94948515e-01 -8.80516495e-01 ...  1.17354604e+00\n",
      "    1.33087237e+00  1.47463131e+00]\n",
      "  [-2.53184907e-01 -4.51948690e-01 -6.46105141e-01 ...  9.59087794e-01\n",
      "    1.13117418e+00  1.29172897e+00]\n",
      "  [-1.10218212e-15 -2.01676841e-01 -4.01297713e-01 ...  7.29197467e-01\n",
      "    9.13274975e-01  1.08804222e+00]]\n",
      "\n",
      " [[ 1.00000000e+00  9.94902816e-01  9.79663226e-01 ... -9.31164735e-01\n",
      "   -8.89652856e-01 -8.39071529e-01]\n",
      "  [ 9.91954813e-01  9.99664020e-01  9.97182283e-01 ... -9.69828789e-01\n",
      "   -9.40302293e-01 -9.01190009e-01]\n",
      "  [ 9.67948701e-01  9.88340255e-01  9.98656304e-01 ... -9.92887934e-01\n",
      "   -9.75821913e-01 -9.48808004e-01]\n",
      "  ...\n",
      "  [ 9.67948701e-01  9.37689522e-01  8.97871191e-01 ... -8.09751458e-01\n",
      "   -7.46454741e-01 -6.75548390e-01]\n",
      "  [ 9.91954813e-01  9.74133253e-01  9.46381021e-01 ... -8.77517892e-01\n",
      "   -8.24688573e-01 -7.63452074e-01]\n",
      "  [ 1.00000000e+00  9.94902816e-01  9.79663226e-01 ... -9.31164735e-01\n",
      "   -8.89652856e-01 -8.39071529e-01]]\n",
      "\n",
      " [[ 0.00000000e+00  0.00000000e+00  0.00000000e+00 ...  0.00000000e+00\n",
      "    0.00000000e+00  0.00000000e+00]\n",
      "  [-0.00000000e+00 -0.00000000e+00  0.00000000e+00 ...  0.00000000e+00\n",
      "    0.00000000e+00  0.00000000e+00]\n",
      "  [-0.00000000e+00 -0.00000000e+00 -0.00000000e+00 ...  0.00000000e+00\n",
      "    0.00000000e+00  0.00000000e+00]\n",
      "  ...\n",
      "  [ 0.00000000e+00  0.00000000e+00  0.00000000e+00 ...  0.00000000e+00\n",
      "    0.00000000e+00  0.00000000e+00]\n",
      "  [ 0.00000000e+00  0.00000000e+00  0.00000000e+00 ...  0.00000000e+00\n",
      "    0.00000000e+00  0.00000000e+00]\n",
      "  [ 0.00000000e+00  0.00000000e+00  0.00000000e+00 ...  0.00000000e+00\n",
      "    0.00000000e+00  0.00000000e+00]]]\n"
     ]
    }
   ],
   "source": [
    "B = np.cross(np.array([0, 0, 1]), E)\n",
    "# unit vector of 'z' can be written as <0,0,1>\n",
    "# taking cross product of each element of E with 'z' unit vector\n",
    "\n",
    "B = np.swapaxes(B, 0, -1) # returns B to original form as E\n",
    "\n",
    "print(B)"
   ]
  },
  {
   "cell_type": "code",
   "execution_count": 75,
   "id": "5f11b9b0",
   "metadata": {
    "canvas": {
     "comments": [],
     "componentType": "CodeCell",
     "copiedOriginId": null,
     "diskcache": false,
     "headerColor": "transparent",
     "id": "55251abf-47c8-4c3e-85e1-b29aa9bac40c",
     "isComponent": false,
     "name": "",
     "parents": []
    }
   },
   "outputs": [
    {
     "name": "stdout",
     "output_type": "stream",
     "text": [
      "[[-1.22464680e-16 -2.01676841e-01 -4.01297713e-01 ...  7.29197467e-01\n",
      "   9.13274975e-01  1.08804222e+00]\n",
      " [ 2.53184907e-01  5.18400645e-02 -1.50033255e-01 ...  4.87574080e-01\n",
      "   6.80680831e-01  8.66848471e-01]\n",
      " [ 5.02295974e-01  3.04522843e-01  1.03645294e-01 ...  2.38105444e-01\n",
      "   4.37134278e-01  6.31706804e-01]\n",
      " ...\n",
      " [-5.02295974e-01 -6.94948515e-01 -8.80516495e-01 ...  1.17354604e+00\n",
      "   1.33087237e+00  1.47463131e+00]\n",
      " [-2.53184907e-01 -4.51948690e-01 -6.46105141e-01 ...  9.59087794e-01\n",
      "   1.13117418e+00  1.29172897e+00]\n",
      " [-1.10218212e-15 -2.01676841e-01 -4.01297713e-01 ...  7.29197467e-01\n",
      "   9.13274975e-01  1.08804222e+00]]\n"
     ]
    }
   ],
   "source": [
    "Bx, By, Bz = B #since B now has 3 elements in the first axis (0), Bx, By and Bz contain one element each from the first axis\n",
    "print(Bx)"
   ]
  },
  {
   "cell_type": "code",
   "execution_count": 76,
   "id": "bcf9c1e6",
   "metadata": {
    "canvas": {
     "comments": [],
     "componentType": "CodeCell",
     "copiedOriginId": null,
     "diskcache": false,
     "headerColor": "transparent",
     "id": "6f78d874-60a0-4650-bcd2-af3a2cda5803",
     "isComponent": false,
     "name": "",
     "parents": []
    }
   },
   "outputs": [
    {
     "name": "stdout",
     "output_type": "stream",
     "text": [
      "[[ 1.          0.99490282  0.97966323 ... -0.93116473 -0.88965286\n",
      "  -0.83907153]\n",
      " [ 0.99195481  0.99966402  0.99718228 ... -0.96982879 -0.94030229\n",
      "  -0.90119001]\n",
      " [ 0.9679487   0.98834025  0.9986563  ... -0.99288793 -0.97582191\n",
      "  -0.948808  ]\n",
      " ...\n",
      " [ 0.9679487   0.93768952  0.89787119 ... -0.80975146 -0.74645474\n",
      "  -0.67554839]\n",
      " [ 0.99195481  0.97413325  0.94638102 ... -0.87751789 -0.82468857\n",
      "  -0.76345207]\n",
      " [ 1.          0.99490282  0.97966323 ... -0.93116473 -0.88965286\n",
      "  -0.83907153]]\n"
     ]
    }
   ],
   "source": [
    "print(By)"
   ]
  },
  {
   "cell_type": "code",
   "execution_count": 77,
   "id": "da06c4d8",
   "metadata": {
    "canvas": {
     "comments": [],
     "componentType": "CodeCell",
     "copiedOriginId": null,
     "diskcache": false,
     "headerColor": "transparent",
     "id": "e35fcc4a-dd98-47fe-a0aa-e281d6701c91",
     "isComponent": false,
     "name": "",
     "parents": []
    }
   },
   "outputs": [
    {
     "name": "stdout",
     "output_type": "stream",
     "text": [
      "[[ 0.  0.  0. ...  0.  0.  0.]\n",
      " [-0. -0.  0. ...  0.  0.  0.]\n",
      " [-0. -0. -0. ...  0.  0.  0.]\n",
      " ...\n",
      " [ 0.  0.  0. ...  0.  0.  0.]\n",
      " [ 0.  0.  0. ...  0.  0.  0.]\n",
      " [ 0.  0.  0. ...  0.  0.  0.]]\n"
     ]
    }
   ],
   "source": [
    "print(Bz)"
   ]
  },
  {
   "cell_type": "code",
   "execution_count": 78,
   "id": "f4d83627",
   "metadata": {
    "canvas": {
     "comments": [],
     "componentType": "CodeCell",
     "copiedOriginId": null,
     "diskcache": false,
     "headerColor": "transparent",
     "id": "1deda1dc-17b7-4501-a865-cafc53e9762c",
     "isComponent": false,
     "name": "",
     "parents": []
    }
   },
   "outputs": [
    {
     "data": {
      "image/png": "[encoded data removed]",
      "text/plain": [
       "<Figure size 432x288 with 1 Axes>"
      ]
     },
     "metadata": {
      "needs_background": "light"
     },
     "output_type": "display_data"
    }
   ],
   "source": [
    "plt.plot(t, Ey[0])\n",
    "plt.plot(t, Bx[0])\n",
    "plt.show()"
   ]
  },
  {
   "cell_type": "code",
   "execution_count": 79,
   "id": "af2b0f30",
   "metadata": {
    "canvas": {
     "comments": [],
     "componentType": "CodeCell",
     "copiedOriginId": null,
     "diskcache": false,
     "headerColor": "transparent",
     "id": "3e83e718-d597-4b56-808b-03f8cade49f9",
     "isComponent": false,
     "name": "",
     "parents": []
    },
    "scrolled": true
   },
   "outputs": [
    {
     "name": "stdout",
     "output_type": "stream",
     "text": [
      "[[[ 0.          0.          0.         ...  0.          0.\n",
      "    0.        ]\n",
      "  [ 0.          0.          0.         ...  0.          0.\n",
      "    0.        ]\n",
      "  [ 0.          0.          0.         ...  0.          0.\n",
      "    0.        ]\n",
      "  ...\n",
      "  [ 0.          0.          0.         ...  0.          0.\n",
      "    0.        ]\n",
      "  [ 0.          0.          0.         ...  0.          0.\n",
      "    0.        ]\n",
      "  [ 0.          0.          0.         ...  0.          0.\n",
      "    0.        ]]\n",
      "\n",
      " [[-0.         -0.         -0.         ...  0.          0.\n",
      "    0.        ]\n",
      "  [ 0.          0.         -0.         ...  0.          0.\n",
      "    0.        ]\n",
      "  [ 0.          0.          0.         ...  0.          0.\n",
      "    0.        ]\n",
      "  ...\n",
      "  [-0.         -0.         -0.         ...  0.          0.\n",
      "    0.        ]\n",
      "  [-0.         -0.         -0.         ...  0.          0.\n",
      "    0.        ]\n",
      "  [-0.         -0.         -0.         ...  0.          0.\n",
      "    0.        ]]\n",
      "\n",
      " [[ 1.          1.03050516  1.12077989 ...  1.39879671  1.62555339\n",
      "    1.88787691]\n",
      "  [ 1.04807695  1.00201554  1.01688248 ...  1.17829636  1.3474948\n",
      "    1.5635697 ]\n",
      "  [ 1.18922593  1.06955062  1.00805676 ...  1.04252065  1.14331478\n",
      "    1.29929012]\n",
      "  ...\n",
      "  [ 1.18922593  1.36221508  1.58148197 ...  2.03290773  2.32841596\n",
      "    2.63090312]\n",
      "  [ 1.04807695  1.15319321  1.31308889 ...  1.68988705  1.95966627\n",
      "    2.25142279]\n",
      "  [ 1.          1.03050516  1.12077989 ...  1.39879671  1.62555339\n",
      "    1.88787691]]]\n"
     ]
    }
   ],
   "source": [
    "#2\n",
    "B = np.swapaxes(B, 0, -1)\n",
    "S = np.cross(E, B)\n",
    "S = np.swapaxes(S, 0, -1)\n",
    "print(S)\n",
    "Sx, Sy, Sz = S"
   ]
  },
  {
   "cell_type": "code",
   "execution_count": 80,
   "id": "fad34ceb",
   "metadata": {
    "canvas": {
     "comments": [],
     "componentType": "CodeCell",
     "copiedOriginId": null,
     "diskcache": false,
     "headerColor": "transparent",
     "id": "942f5258-c9d1-4e86-bc70-083cbf144d84",
     "isComponent": false,
     "name": "",
     "parents": []
    }
   },
   "outputs": [
    {
     "data": {
      "image/png": "[encoded data removed]",
      "text/plain": [
       "<Figure size 432x288 with 1 Axes>"
      ]
     },
     "metadata": {
      "needs_background": "light"
     },
     "output_type": "display_data"
    }
   ],
   "source": [
    "plt.plot(t, Sz[0])\n",
    "plt.show()"
   ]
  },
  {
   "cell_type": "markdown",
   "id": "c0e5acfa",
   "metadata": {
    "canvas": {
     "comments": [],
     "componentType": "CodeCell",
     "copiedOriginId": null,
     "diskcache": false,
     "headerColor": "transparent",
     "id": "6b7278bf-c86a-489c-add6-7cbe04658250",
     "isComponent": false,
     "name": "",
     "parents": []
    }
   },
   "source": [
    "## Question 4 (bhery difficult) :"
   ]
  },
  {
   "cell_type": "markdown",
   "id": "cb92c26f",
   "metadata": {
    "canvas": {
     "comments": [],
     "componentType": "CodeCell",
     "copiedOriginId": null,
     "diskcache": false,
     "headerColor": "transparent",
     "id": "bb45ae02-1b07-455e-89da-b11ea037ac25",
     "isComponent": false,
     "name": "",
     "parents": []
    }
   },
   "source": [
    "Find the solutions to $\\left(\\dfrac{d^{2}}{dx^{2}} + (10x)^{2}\\right)f = \\lambda f$ with boundary conditions $f(0) = f(1) = 0$"
   ]
  },
  {
   "cell_type": "markdown",
   "id": "e6f82506",
   "metadata": {
    "canvas": {
     "comments": [],
     "componentType": "CodeCell",
     "copiedOriginId": null,
     "diskcache": false,
     "headerColor": "transparent",
     "id": "e9f25a65-deca-49a0-bc50-81a42cdc2c06",
     "isComponent": false,
     "name": "",
     "parents": []
    }
   },
   "source": [
    "$\\bullet$ use the eigenvalue method and the fact that $\\dfrac{d^{2}f}{dx^{2}} \\approx \\dfrac{f_{i+1} + f_{i-1} - 2f_{i}}{\\Delta x^{2}}$, where $f_{i} = f(i\\Delta x)$ and $i$ is an integer."
   ]
  },
  {
   "cell_type": "code",
   "execution_count": 81,
   "id": "b99a045a",
   "metadata": {
    "canvas": {
     "comments": [],
     "componentType": "CodeCell",
     "copiedOriginId": null,
     "diskcache": false,
     "headerColor": "transparent",
     "id": "283d629c-226e-4e78-8fb0-5498e694b889",
     "isComponent": false,
     "name": "",
     "parents": []
    }
   },
   "outputs": [],
   "source": [
    "# idk how to solve this one as i don't even have a hint about what linear algebra is :)\n",
    "# https://www.youtube.com/watch?v=DcfYgePyedM (timestamp - 1:17:03)\n",
    "N = 1000\n",
    "x = np.linspace(0,1,N+1)\n",
    "dx = x[1]-x[0]\n",
    "\n",
    "main_diag = -2*np.ones(N-1)\n",
    "off_diag = np.ones(N-2)\n",
    "derivative_matrix = (np.diag(main_diag) + np.diag(off_diag, k=1)+ np.diag(off_diag, k=-1))/dx**2\n",
    "x2_matrix = np.diag((10*x[1:-1])**2)\n",
    "LHS_matrix = derivative_matrix #+ x2_matrix "
   ]
  },
  {
   "cell_type": "code",
   "execution_count": 82,
   "id": "a655905f",
   "metadata": {
    "canvas": {
     "comments": [],
     "componentType": "CodeCell",
     "copiedOriginId": null,
     "diskcache": false,
     "headerColor": "transparent",
     "id": "be275f0a-5732-4ed0-9a37-68fed4c9eb5c",
     "isComponent": false,
     "name": "",
     "parents": []
    }
   },
   "outputs": [],
   "source": [
    "w, v = np.linalg.eigh(LHS_matrix)"
   ]
  },
  {
   "cell_type": "code",
   "execution_count": 83,
   "id": "00b57535",
   "metadata": {
    "canvas": {
     "comments": [],
     "componentType": "CodeCell",
     "copiedOriginId": null,
     "diskcache": false,
     "headerColor": "transparent",
     "id": "08a89de8-38b9-4a1e-b624-e551eea79eab",
     "isComponent": false,
     "name": "",
     "parents": []
    }
   },
   "outputs": [
    {
     "data": {
      "image/png": "[encoded data removed]",
      "text/plain": [
       "<Figure size 432x288 with 1 Axes>"
      ]
     },
     "metadata": {
      "needs_background": "light"
     },
     "output_type": "display_data"
    }
   ],
   "source": [
    "plt.plot(-1*v[:,-1])\n",
    "plt.plot(-1*v[:,-2])\n",
    "plt.plot(-1*v[:,-3])\n",
    "plt.plot(-1*v[:,-4])\n",
    "plt.show()"
   ]
  },
  {
   "cell_type": "markdown",
   "id": "47faebea",
   "metadata": {
    "canvas": {
     "comments": [],
     "componentType": "CodeCell",
     "copiedOriginId": null,
     "diskcache": false,
     "headerColor": "transparent",
     "id": "d474d239-c514-4215-8e53-6b9a54afeb9c",
     "isComponent": false,
     "name": "",
     "parents": []
    }
   },
   "source": [
    "# Basic Datasets"
   ]
  },
  {
   "cell_type": "markdown",
   "id": "921cd167",
   "metadata": {
    "canvas": {
     "comments": [],
     "componentType": "CodeCell",
     "copiedOriginId": null,
     "diskcache": false,
     "headerColor": "transparent",
     "id": "ec688cef-c9ac-4014-b6cc-b256097fd5c8",
     "isComponent": false,
     "name": "",
     "parents": []
    }
   },
   "source": [
    "Syntax: np.loadtxt(fname, dtype, comments, delimiter, converters, skiprows, usecols, unpack, ndmin, encoding, max_rows, like)"
   ]
  },
  {
   "cell_type": "code",
   "execution_count": 84,
   "id": "c4039aa8",
   "metadata": {
    "canvas": {
     "comments": [],
     "componentType": "CodeCell",
     "copiedOriginId": null,
     "diskcache": false,
     "headerColor": "transparent",
     "id": "32cd2872-dbf7-4521-8f74-47fdc357bd2b",
     "isComponent": false,
     "name": "",
     "parents": []
    },
    "scrolled": true
   },
   "outputs": [
    {
     "name": "stdout",
     "output_type": "stream",
     "text": [
      "['Value' '104000000' '96000000' ... '2000000' '1000000' '1000000']\n",
      "['Cumulative' '104000000' '200000000' ... '166000000' '167000000'\n",
      " '168000000']\n"
     ]
    }
   ],
   "source": [
    "value, cumulative = np.loadtxt('COVID.csv', dtype = 'object', delimiter = ',', unpack = True, usecols = [8,9])\n",
    "# 1st param: file path\n",
    "# 2nd param: setting datatype (dtype) as object\n",
    "# 3rd param: setting default delimiter for reading the file\n",
    "# 4th param: unpacking the file allows us to bend and twist data of the file according to our wish\n",
    "# 5th param: assigning which columns to read\n",
    "\n",
    "print(value)\n",
    "print(cumulative)\n",
    "\n",
    "# here value and cumulative, both are of datatype 'object'\n",
    "# to convert them, follow this :-"
   ]
  },
  {
   "cell_type": "code",
   "execution_count": 85,
   "id": "0c738cb4",
   "metadata": {
    "canvas": {
     "comments": [],
     "componentType": "CodeCell",
     "copiedOriginId": null,
     "diskcache": false,
     "headerColor": "transparent",
     "id": "1fb46f68-3950-4cec-823a-8f2df5132c81",
     "isComponent": false,
     "name": "",
     "parents": []
    }
   },
   "outputs": [],
   "source": [
    "data = np.loadtxt('COVID.csv', dtype = 'object', delimiter = ',', unpack = False, usecols = [8,9])"
   ]
  },
  {
   "cell_type": "code",
   "execution_count": 86,
   "id": "2298add6",
   "metadata": {
    "canvas": {
     "comments": [],
     "componentType": "CodeCell",
     "copiedOriginId": null,
     "diskcache": false,
     "headerColor": "transparent",
     "id": "4422c10f-56fc-4183-b2ac-86ed8bb40a77",
     "isComponent": false,
     "name": "",
     "parents": []
    }
   },
   "outputs": [
    {
     "name": "stdout",
     "output_type": "stream",
     "text": [
      "[['Value' 'Cumulative']\n",
      " ['104000000' '104000000']\n",
      " ['96000000' '200000000']\n",
      " ...\n",
      " ['2000000' '166000000']\n",
      " ['1000000' '167000000']\n",
      " ['1000000' '168000000']]\n"
     ]
    }
   ],
   "source": [
    "print(data)"
   ]
  },
  {
   "cell_type": "code",
   "execution_count": 87,
   "id": "a34293de",
   "metadata": {
    "canvas": {
     "comments": [],
     "componentType": "CodeCell",
     "copiedOriginId": null,
     "diskcache": false,
     "headerColor": "transparent",
     "id": "a9bb12ec-cf38-448d-9b64-c62fbf49dae3",
     "isComponent": false,
     "name": "",
     "parents": []
    }
   },
   "outputs": [],
   "source": [
    "data = np.loadtxt('COVID.csv', dtype = 'object', delimiter = ',', unpack = False, usecols = [8,9], skiprows = 1)\n",
    "# the last param tells which rows to skip from the top while reading the file"
   ]
  },
  {
   "cell_type": "code",
   "execution_count": 88,
   "id": "031babdc",
   "metadata": {
    "canvas": {
     "comments": [],
     "componentType": "CodeCell",
     "copiedOriginId": null,
     "diskcache": false,
     "headerColor": "transparent",
     "id": "41551d6d-d4df-499d-9b75-4950abbe4730",
     "isComponent": false,
     "name": "",
     "parents": []
    }
   },
   "outputs": [
    {
     "name": "stdout",
     "output_type": "stream",
     "text": [
      "[['104000000' '104000000']\n",
      " ['96000000' '200000000']\n",
      " ['61000000' '262000000']\n",
      " ...\n",
      " ['2000000' '166000000']\n",
      " ['1000000' '167000000']\n",
      " ['1000000' '168000000']]\n"
     ]
    }
   ],
   "source": [
    "print(data)"
   ]
  },
  {
   "cell_type": "markdown",
   "id": "79c277bd",
   "metadata": {
    "canvas": {
     "comments": [],
     "componentType": "CodeCell",
     "copiedOriginId": null,
     "diskcache": false,
     "headerColor": "transparent",
     "id": "72cbbcc8-ba4e-4d93-b83e-d67f5dd6865b",
     "isComponent": false,
     "name": "",
     "parents": []
    }
   },
   "source": [
    "### Using np.genfromtxt()"
   ]
  },
  {
   "cell_type": "markdown",
   "id": "88c83e4d",
   "metadata": {
    "canvas": {
     "comments": [],
     "componentType": "CodeCell",
     "copiedOriginId": null,
     "diskcache": false,
     "headerColor": "transparent",
     "id": "7a917b36-4d7d-4139-bc94-63b61e7d21c0",
     "isComponent": false,
     "name": "",
     "parents": []
    }
   },
   "source": [
    "Syntax: numpy.genfromtxt(fname, dtype=<class 'float'>, comments='#', delimiter=None, skip_header=0, skip_footer=0, converters=None, missing_values=None, filling_values=None, usecols=None, names=None, excludelist=None, deletechars=\" !#$%&'()*+, -./:;<=>?@[\\\\]^{|}~\", replace_space='_', autostrip=False, case_sensitive=True, defaultfmt='f%i', unpack=None, usemask=False, loose=True, invalid_raise=True, max_rows=None, encoding='bytes', *, like=None)"
   ]
  },
  {
   "cell_type": "code",
   "execution_count": 89,
   "id": "cfa43584",
   "metadata": {
    "canvas": {
     "comments": [],
     "componentType": "CodeCell",
     "copiedOriginId": null,
     "diskcache": false,
     "headerColor": "transparent",
     "id": "c8e9b5ff-38e6-4b7e-a809-2c376baf907a",
     "isComponent": false,
     "name": "",
     "parents": []
    }
   },
   "outputs": [],
   "source": [
    "data1 = np.genfromtxt('COVID.csv',  dtype = 'str', delimiter = ',', unpack = False, usecols = [8,9], skip_header = 1)"
   ]
  },
  {
   "cell_type": "code",
   "execution_count": 90,
   "id": "855e0e7d",
   "metadata": {
    "canvas": {
     "comments": [],
     "componentType": "CodeCell",
     "copiedOriginId": null,
     "diskcache": false,
     "headerColor": "transparent",
     "id": "03213e63-2372-4910-8b7d-e829e5b97a95",
     "isComponent": false,
     "name": "",
     "parents": []
    }
   },
   "outputs": [
    {
     "name": "stdout",
     "output_type": "stream",
     "text": [
      "[['104000000' '104000000']\n",
      " ['96000000' '200000000']\n",
      " ['61000000' '262000000']\n",
      " ...\n",
      " ['2000000' '166000000']\n",
      " ['1000000' '167000000']\n",
      " ['1000000' '168000000']]\n"
     ]
    }
   ],
   "source": [
    "print(data1)"
   ]
  },
  {
   "cell_type": "code",
   "execution_count": 91,
   "id": "f50975f3",
   "metadata": {
    "canvas": {
     "comments": [],
     "componentType": "CodeCell",
     "copiedOriginId": null,
     "diskcache": false,
     "headerColor": "transparent",
     "id": "2c82ca30-1859-46ef-a6b0-ab323474e266",
     "isComponent": false,
     "name": "",
     "parents": []
    }
   },
   "outputs": [],
   "source": [
    "val, cum = np.genfromtxt('COVID.csv',  dtype = 'str', delimiter = ',', unpack = True, usecols = [8,9], skip_header = 111396)"
   ]
  },
  {
   "cell_type": "code",
   "execution_count": 92,
   "id": "ecd7b07d",
   "metadata": {
    "canvas": {
     "comments": [],
     "componentType": "CodeCell",
     "copiedOriginId": null,
     "diskcache": false,
     "headerColor": "transparent",
     "id": "d434f9d8-d495-4125-8e99-6eabf916e001",
     "isComponent": false,
     "name": "",
     "parents": []
    },
    "scrolled": true
   },
   "outputs": [
    {
     "data": {
      "image/png": "[encoded data removed]",
      "text/plain": [
       "<Figure size 432x288 with 1 Axes>"
      ]
     },
     "metadata": {
      "needs_background": "light"
     },
     "output_type": "display_data"
    }
   ],
   "source": [
    "plt.plot(val, cum)\n",
    "plt.show()"
   ]
  },
  {
   "cell_type": "code",
   "execution_count": null,
   "id": "db6e9250-f27d-431b-8c5d-675286127155",
   "metadata": {
    "canvas": {
     "comments": [],
     "componentType": "CodeCell",
     "copiedOriginId": null,
     "diskcache": false,
     "headerColor": "transparent",
     "id": "b1657f8a-6637-4bd6-b596-6abbcdc773db",
     "isComponent": false,
     "name": "",
     "parents": []
    }
   },
   "outputs": [],
   "source": []
  }
 ],
 "metadata": {
  "canvas": {
   "colorPalette": [
    "inherit",
    "inherit",
    "inherit",
    "inherit",
    "inherit",
    "inherit",
    "inherit",
    "inherit",
    "inherit",
    "inherit"
   ],
   "parameters": []
  },
  "kernelspec": {
   "display_name": "Python 3 (ipykernel)",
   "language": "python",
   "name": "python3"
  },
  "language_info": {
   "codemirror_mode": {
    "name": "ipython",
    "version": 3
   },
   "file_extension": ".py",
   "mimetype": "text/x-python",
   "name": "python",
   "nbconvert_exporter": "python",
   "pygments_lexer": "ipython3",
   "version": "3.10.2"
  }
 },
 "nbformat": 4,
 "nbformat_minor": 5
}
