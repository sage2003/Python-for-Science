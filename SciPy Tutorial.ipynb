import numpy as np
import matplotlib.pyplot as plt
import scipy as sp


from scipy.optimize import minimize


def f(x):
    return (x-3)**2

res = minimize(f, 2)# the second parameter is a guess value


res 
#fun: the minimum value of the function
#x: the value of x at which the minimum value is attained


res.x


res.x[0]


f = lambda x: (x[0] - 1)**2 + (x[1] - 2.5)**2

cons = ({'type': 'ineq', 'fun': lambda x:  x[0] - 2 * x[1] + 2},
        {'type': 'ineq', 'fun': lambda x: -x[0] - 2 * x[1] + 6},
        {'type': 'ineq', 'fun': lambda x: -x[0] + 2 * x[1] + 2}) # a tuple of dictionaries with all functions >= 0 of type inequality

bnds = ((0, None), (0, None)) # x and y bounds are (0, None) and (0, None). Here None means no upper bound or infinity!

res = minimize(f, (2, 0), bounds=bnds, constraints=cons)# giving guess values as (2, 0) for (x, y)


res


res.x


get_ipython().run_line_magic('pinfo',  'minimize')


help(minimize)


x = np.linspace(0, 10, 10)
y = x**2 * np.sin(x)
plt.scatter(x,y)


from scipy.interpolate import interp1d


f = interp1d(x, y, kind="linear")
x_dense = np.linspace(0, 10, 200)
y_dense = f(x_dense)


plt.plot(x_dense, y_dense)
plt.scatter(x,y)


f = interp1d(x, y, kind="cubic")
x_dense = np.linspace(0, 10, 200)
y_dense = f(x_dense)
plt.plot(x_dense, y_dense)
plt.scatter(x,y)


x_data = np.linspace(0, 10, 10)
y_data = 3*x_data**2 + 2


plt.scatter(x_data, y_data)


from scipy.optimize import curve_fit

def func(x, a, b):
    return a*x**2 + b

popt, pcov = curve_fit(func, x_data, y_data, p0=(1,0)) #popt: optimal parameters, pcov: sth to do with covariance


popt #the values of the parameters (here, a and b)


pcov #covariance matrix gives an estimate on the errors in the parameters and also how the parameters are related


# sample data

t_data = np.array([ 0.   ,  0.34482759,  0.68965517,  1.03448276,  1.37931034,
        1.72413793,  2.06896552,  2.4137931 ,  2.75862069,  3.10344828,
        3.44827586,  3.79310345,  4.13793103,  4.48275862,  4.82758621,
        5.17241379,  5.51724138,  5.86206897,  6.20689655,  6.55172414,
        6.89655172,  7.24137931,  7.5862069 ,  7.93103448,  8.27586207,
        8.62068966,  8.96551724,  9.31034483,  9.65517241, 10.        ])
y_data = np.array([ 4.3303953 ,  1.61137995, -2.15418696, -3.90137249, -1.67259042,
        2.16884383,  3.86635998,  1.85194506, -1.8489224 , -3.96560495,
       -2.13385255,  1.59425817,  4.06145238,  1.89300594, -1.76870297,
       -4.26791226, -2.46874133,  1.37019912,  4.24945607,  2.27038039,
       -1.50299303, -3.46774049, -2.50845488,  1.20022052,  3.81633703,
        2.91511556, -1.24569189, -3.72716214, -2.54549857,  0.87262548])


plt.plot(t_data,y_data,'o--')


def func(t, A, w, phi):
    return A*np.cos(w*t + phi)

#finding the parameters
popt, pcov = curve_fit(func, t_data, y_data, p0=(4, np.pi, 0))


popt #the optimal parameters


pcov


A, w, phi = popt


t = np.linspace(0, 10, 200)
y = func(t, A, w, phi)


plt.scatter(t_data, y_data)
plt.plot(t, y)


np.sqrt(np.diag(pcov)) # in the order A, w, phi


from scipy.special import legendre
x = np.linspace(0, 1, 100)
plt.plot(x, legendre(6)(x)) # here 6 is the value of 'l' for the Legendre Equation
plt.show()


from scipy.special import jv
x = np.linspace(0, 10, 100)
plt.plot(x, jv(3,x)) # 3 is the value of 'alpha'
plt.show()


from scipy.misc import derivative


def f(x):
    return x**2 * np.sin(2*x) *np.exp(-x)
x = np.linspace(0, 1, 100)


plt.plot(x, f(x))
plt.plot(x, derivative(f, x, dx=1e-6)) # dx is the small separation
plt.plot(x, derivative(f, x, dx=1e-6, n=2)) # n is the number of times you want to differentiate (here, second derivative)
plt.grid()


from scipy.integrate import quad
integrand = lambda x: x**2 * np.sin(2*x) * np.exp(-x)
integral, integral_error = quad(integrand, 0, 1) #0, 1 are the bounds of the integral


integral


integral_error


from scipy.integrate import dblquad #double quad
integrand = lambda x, y: np.sin(x+y**2)
lwr_y = lambda x: -x # lower bound of y
upr_y = lambda x: x**2 # upper bound of y
integral, integral_error = dblquad(integrand, 0, 1, lwr_y, upr_y) # note the order in which bounds should be given


integral


integral_error


from scipy.integrate import nquad
get_ipython().run_line_magic('pinfo',  'nquad')


from scipy.integrate import odeint # other libraries are solve_ivp


def dvdt(v, t):
    return 5*v**2 - 7 # setting values for alpha = 5 and beta = 7
v0 = 0 # condition is given


t = np.linspace(0, 10, 1000)
sol = odeint(dvdt, v0, t)


sol


sol.T


sol.T[0]


v_sol = sol.T[0]
plt.plot(t, v_sol)


def dSdx(S, x):
    y1, y2 = S
    return [y1 + y2**2 + 3*x,
            3*y1 + y2**3 - np.cos(x)]

y1_0 = 0
y2_0 = 0
S_0 = [y1_0, y2_0]


x = np.linspace(0, 1, 100)
sol = odeint(dSdx, S_0, x)


sol


sol.T


y1, y2 = [sol.T[0], sol.T[1]]


y1


y2


plt.plot(x, y1)
plt.plot(x, y2)


def dSdt(S, t):
    theta, omega = S
    return [omega,
            np.sin(theta)]

theta_0 = np.pi/4 # setting initial angle of the pendulum as pi/4
omega_0 = 0 # initial angular velocity is zero
S_0 = [theta_0, omega_0]


t = np.linspace(0, 20, 100)
sol = odeint(dSdt, S_0, t)
theta, omega = sol.T


theta


omega


plt.plot(t, theta) #the actual solution
plt.show()


plt.plot(t, omega)


# a time series
x = np.linspace(0, 10*np.pi, 100)
y = np.sin(2*np.pi*x) + np.sin(4*np.pi*x) + 0.1*np.random.randn(len(x))
plt.plot(x, y)


from scipy.fft import fft, fftfreq #fast fourier transform
N = len(y)
yf = fft(y)[:N//2] # "//" is floor division same as math.floor() {https://www.freecodecamp.org/news/what-does-double-slash-mean-in-python/}
xf = fftfreq(N, np.diff(x)[0])[:N//2] # delta t of the time series


plt.plot(xf, np.abs(yf))
plt.show()


def f(A): 
    integrand = lambda t: 2 / (1 + np.abs(A*np.sin(np.pi*t/10)))**2 + 5*np.sqrt(1+(np.pi*A/10)**2 * np.cos(np.pi * t / 10)**2)
    return quad(integrand, 0, 10)[0]

res = minimize(f, 0.001)


res


minimize(f, 0.001).x


t_m = np.array([ 0.,  1.04347826,  2.08695652,  3.13043478,  4.17391304,
        5.2173913 ,  6.26086957,  7.30434783,  8.34782609,  9.39130435,
       10.43478261, 11.47826087, 12.52173913, 13.56521739, 14.60869565,
       15.65217391, 16.69565217, 17.73913043, 18.7826087 , 19.82608696,
       20.86956522, 21.91304348, 22.95652174, 24.        ]) # time stamps

temp_m = np.array([283.2322975, 284.6945461, 286.2259041, 287.8603625, 289.6440635,
       291.6187583, 293.7939994, 296.1148895, 298.4395788, 300.5430675,
       302.1566609, 303.0363609, 303.0363609, 302.1566609, 300.5430675,
       298.4395788, 296.1148895, 293.7939994, 291.6187583, 289.6440635,
       287.8603625, 286.2259041, 284.6945461, 283.2322975]) # temperature readings corresponding to the time stamps


plt.scatter(t_m, temp_m)
plt.xlabel('Time [hour]')
plt.ylabel('Temperature [K]')


T_s = interp1d(t_m, temp_m, kind='cubic') #T_s as in the formula


T_s(1.3445)


def dTdt(T, t):
    return -0.5*(T-Ts(t))

times = np.linspace(1, 23, 1000) #say I want to find the temp distribution for 1 to 23 hours
T0 = 284.6945461 #initial temperature of the pool (say)


sol = odeint(dTdt, T0, times).T[0]


plt.plot(times, sol, label='Shallow Water temp')
plt.scatter(t_m, temp_m, color='r', label='Outside Temp')
plt.legend()


from scipy.linalg import solve_triangular
a = np.array([[3, 0, 0, 0],
              [2, 1, 0, 0],
              [1, 0, 1, 0],
              [1, 1, 1, 1]])
b = np.array([4, 2, 4, 2])
x = solve_triangular(a, b, lower=True) # lower=True because it is a lower triangular matrix
x


from scipy.linalg import solve_toeplitz, toeplitz

c = np.array([1, 3, 6, 10])    # First column of T
r = np.array([1, -1, -2, -3])  # First row of T
b = np.array([1, 2, 2, 5])

x = solve_toeplitz((c, r), b)
x


from scipy.linalg import eigh_tridiagonal # for solving tridiagonal matrices


d = 3*np.ones(4) # 3 times an array of four 1's
e = -1*np.ones(3)
w, v = eigh_tridiagonal(d, e) #w = lambda in the equation


A = np.diag(d) + np.diag(e, k=1) + np.diag(e, k=-1)
A


np.diag(e, k=1)


np.diag(e, k=-1)


np.diag(d)


w #eigenvalues


v #eigenvectors


v.T


v.T[0] #first eigenvector


A@v.T[0]


w[0] * v.T[0]


from scipy.linalg import fiedler
fiedler([1, 4, 12, 45])


from scipy.linalg import toeplitz
toeplitz([1,2,3,6,0,0], [1,4,5,6,0,0])


from scipy.linalg import lu


from scipy.linalg import lu
A = np.array([[2, 5, 8, 7], [5, 2, 2, 8], [7, 5, 6, 6], [5, 4, 4, 8]])
p, l, u = lu(A) # p: Permutation Matrix, l: Lower Triangular Matrix, u: Upper Triangular Matrix


p


l


u


from scipy.linalg import cholesky


from scipy.linalg import cholesky
A = np.array([[1,0.2],[0.2,1]])
C = cholesky(A, lower=True)


from scipy.linalg import cholesky
A = np.array([[1,0.2],[0.2,1]])
C_T = cholesky(A, lower=False)


C


C_T


from scipy.linalg import kron # kronecker product, NOT sum
N= 5
d = -2*np.ones(N)
e = np.ones(N-1)
D = np.diag(d) + np.diag(e, k=1) + np.diag(e, k=-1)
D_kronsum = kron(D, np.identity(N)) + kron(np.identity(N),D)

# the Kronecker Sum is defined in the terms of the Kronecker Product.It is the Kronecker Product of D with the Identity Matrix + Kronecker Product of the Identity Matrix with D.


D


D_kronsum


from scipy import sparse
N=100
diag = np.ones([N]) #creating a vector with N 1's

#creating the toeplitz matrix
diags = np.array([diag, -2*diag, diag]) # specifying the diagonals

D = sparse.spdiags(diags, np.array([-1,0,1]), N, N) # 0 means the main diagonal, -1 means one below the main diagonal, and 1 means one above the main diagonal
T = -1/2 * sparse.kronsum(D,D)


D


T


from scipy.stats import beta


a, b = 2.5, 3.1
mean, var, skew, kurt = beta.stats(a, b, moments='mvsk')# mean, variance, skewness, kurtosis = "mvsk"


var


kurt


x = np.linspace(beta.ppf(0, a, b), beta.ppf(1, a, b), 100)
plt.plot(x, beta.pdf(x, a, b))


get_ipython().run_line_magic('pinfo',  'beta.ppf')


get_ipython().run_line_magic('pinfo',  'beta.cdf')


r = beta.rvs(a, b, size=10)
r


from scipy.stats import norm


mu = 1
sigma = 2
mean, var = norm.stats(loc=mu, scale=sigma, moments='mv') #mu and sigma already give the mean and sqrt(SD)
#Technically this is a normal distribution with mean = 0 and SD = 1, but we can specify the location (loc) and scale.
# moments = "mv" means that the output will contain only mean and variance out of the many things the function can generate


mean


var


x = np.linspace(norm.ppf(0.01, mu, sigma), norm.ppf(0.99, mu, sigma), 100)# the points had to be chosen as 0.01 and 0.99 as 0 annd 1 correspond to negative and positive infinities
plt.plot(x, norm.pdf(x, mu, sigma))


from scipy.stats import multinomial

p = np.ones(6)/6
multinomial.pmf([6,0,0,0,0,0], n=6, p=p)


get_ipython().run_line_magic('pinfo',  'multinomial.pmf')


p


multinomial.rvs(n=100, p=p, size=5) # this means that I do a hundred rolls (of the die) and I have six diferent options (p). I repeat the process five times (size=5). See that the numbers in each element of the array add up to 100


import scipy.stats as st

class mr_p_solver_dist(st.rv_continuous): #OOP
    def _pdf(self,x, a1, a2, b1, b2):
        return 1/(2*(a1*b1+a2*b2))*(b1*np.exp(-np.sqrt(x/a1)) + b2*np.exp(-np.sqrt(x/a2)))
my_rv = mr_p_solver_dist(a=0, b=np.inf)


a1, a2, b1, b2 = 2, 3, 1, 2
x = np.linspace(my_rv.ppf(0.01, a1, a2, b1, b2), my_rv.ppf(0.99, a1, a2, b1, b2), 100)
y = my_rv.pdf(x, a1, a2, b1, b2)


plt.plot(x, y)
plt.semilogy()
plt.show()


my_rv.rvs(a1, a2, b1, b2, size=10)



