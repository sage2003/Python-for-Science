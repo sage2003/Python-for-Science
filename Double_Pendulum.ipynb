{
 "cells": [
  {
   "cell_type": "code",
   "execution_count": 1,
   "id": "dcd824bb-ae84-46c5-8e8b-ccd007eaddd0",
   "metadata": {
    "tags": []
   },
   "outputs": [],
   "source": [
    "import sympy as smp\n",
    "import numpy as np\n",
    "from scipy.integrate import odeint\n",
    "import matplotlib.pyplot as plt\n",
    "from matplotlib import animation\n",
    "from mpl_toolkits.mplot3d import Axes3D\n",
    "from matplotlib.animation import PillowWriter"
   ]
  },
  {
   "cell_type": "markdown",
   "id": "e5a0ccf6-6447-427a-b6ce-770453a04998",
   "metadata": {},
   "source": [
    "## Let's find the Lagrange's Equations for a Double Pendulum\n",
    "\n",
    "<p align=\"center\">\n",
    "  <img src=\"double_pendulum.webp\" alt=\"drawing\" width=\"400\" align=\"center\"/>\n",
    "</p>"
   ]
  },
  {
   "cell_type": "markdown",
   "id": "1f5ab570-765a-491a-9ebc-caa5a93a553f",
   "metadata": {
    "tags": []
   },
   "source": [
    "Define all appropriate symbols using sympy"
   ]
  },
  {
   "cell_type": "code",
   "execution_count": 2,
   "id": "c39c5001-2be2-4c1d-ad03-6714e81befe1",
   "metadata": {
    "tags": []
   },
   "outputs": [],
   "source": [
    "t, L1, L2, m1, m2, g = smp.symbols('t L_1 L_2 m_1 m_2 g')\n",
    "theta1, theta2 = smp.symbols(r'\\theta_1 \\theta_2', cls=smp.Function)\n",
    "theta1 = theta1(t)\n",
    "theta2 = theta2(t)\n",
    "\n",
    "dth1dt = smp.diff(theta1, t)\n",
    "dth2dt = smp.diff(theta2, t)\n",
    "th1_dd = smp.diff(dth1dt, t)\n",
    "th2_dd = smp.diff(dth2dt, t)"
   ]
  },
  {
   "cell_type": "code",
   "execution_count": 3,
   "id": "b623d050-1d44-489d-b2d5-35539fc8e7c4",
   "metadata": {
    "tags": []
   },
   "outputs": [],
   "source": [
    "x1 = L1*smp.sin(theta1)\n",
    "x2 = L1*smp.sin(theta1) + L2*smp.sin(theta2)\n",
    "y1 = -L1*smp.cos(theta1)\n",
    "y2 = -L1*smp.cos(theta1) - L2*smp.cos(theta2)\n",
    "x1dot = smp.diff(x1, t)\n",
    "x2dot = smp.diff(x2, t)\n",
    "y1dot = smp.diff(y1, t)\n",
    "y2dot = smp.diff(y2, t)"
   ]
  },
  {
   "cell_type": "markdown",
   "id": "e004c5b8-5633-4f60-8563-9fd3e12f7a2c",
   "metadata": {},
   "source": [
    "Find the Kinetic and Potential Energies and then the Lagrangian for the System"
   ]
  },
  {
   "cell_type": "code",
   "execution_count": 4,
   "id": "28652bb7-4707-4d3a-a843-efa6d3034965",
   "metadata": {
    "tags": []
   },
   "outputs": [],
   "source": [
    "T = smp.Rational(1,2)*m1*(x1dot**2 + y1dot**2) + smp.Rational(1,2)*m2*(x2dot**2 + y2dot**2)\n",
    "V = m1*g*y1 + m2*g*y2"
   ]
  },
  {
   "cell_type": "code",
   "execution_count": 5,
   "id": "1ca2f673-6459-4d27-879f-2000d95842c5",
   "metadata": {
    "tags": []
   },
   "outputs": [
    {
     "data": {
      "text/latex": [
       "$\\displaystyle L_{1} g m_{1} \\cos{\\left(\\theta_{1}{\\left(t \\right)} \\right)} - g m_{2} \\left(- L_{1} \\cos{\\left(\\theta_{1}{\\left(t \\right)} \\right)} - L_{2} \\cos{\\left(\\theta_{2}{\\left(t \\right)} \\right)}\\right) + \\frac{m_{1} \\left(L_{1}^{2} \\sin^{2}{\\left(\\theta_{1}{\\left(t \\right)} \\right)} \\left(\\frac{d}{d t} \\theta_{1}{\\left(t \\right)}\\right)^{2} + L_{1}^{2} \\cos^{2}{\\left(\\theta_{1}{\\left(t \\right)} \\right)} \\left(\\frac{d}{d t} \\theta_{1}{\\left(t \\right)}\\right)^{2}\\right)}{2} + \\frac{m_{2} \\left(\\left(L_{1} \\sin{\\left(\\theta_{1}{\\left(t \\right)} \\right)} \\frac{d}{d t} \\theta_{1}{\\left(t \\right)} + L_{2} \\sin{\\left(\\theta_{2}{\\left(t \\right)} \\right)} \\frac{d}{d t} \\theta_{2}{\\left(t \\right)}\\right)^{2} + \\left(L_{1} \\cos{\\left(\\theta_{1}{\\left(t \\right)} \\right)} \\frac{d}{d t} \\theta_{1}{\\left(t \\right)} + L_{2} \\cos{\\left(\\theta_{2}{\\left(t \\right)} \\right)} \\frac{d}{d t} \\theta_{2}{\\left(t \\right)}\\right)^{2}\\right)}{2}$"
      ],
      "text/plain": [
       "L_1*g*m_1*cos(\\theta_1(t)) - g*m_2*(-L_1*cos(\\theta_1(t)) - L_2*cos(\\theta_2(t))) + m_1*(L_1**2*sin(\\theta_1(t))**2*Derivative(\\theta_1(t), t)**2 + L_1**2*cos(\\theta_1(t))**2*Derivative(\\theta_1(t), t)**2)/2 + m_2*((L_1*sin(\\theta_1(t))*Derivative(\\theta_1(t), t) + L_2*sin(\\theta_2(t))*Derivative(\\theta_2(t), t))**2 + (L_1*cos(\\theta_1(t))*Derivative(\\theta_1(t), t) + L_2*cos(\\theta_2(t))*Derivative(\\theta_2(t), t))**2)/2"
      ]
     },
     "execution_count": 5,
     "metadata": {},
     "output_type": "execute_result"
    }
   ],
   "source": [
    "L = T-V\n",
    "L"
   ]
  },
  {
   "cell_type": "markdown",
   "id": "ce63b7be-a54f-43e1-9b2a-dc7a5939a4eb",
   "metadata": {},
   "source": [
    "Get Lagrange's equations\n",
    "\n",
    "$$\\frac{\\partial L}{\\partial \\theta_1} - \\frac{d}{dt}\\frac{\\partial L}{\\partial \\dot{\\theta_1}} = 0$$\n",
    "$$\\frac{\\partial L}{\\partial \\theta_2} - \\frac{d}{dt}\\frac{\\partial L}{\\partial \\dot{\\theta_2}} = 0$$"
   ]
  },
  {
   "cell_type": "code",
   "execution_count": 10,
   "id": "5793f3cc-2793-40e1-a523-823f90678a3d",
   "metadata": {
    "tags": []
   },
   "outputs": [],
   "source": [
    "LE1 = (smp.diff(L, theta1) - smp.diff(smp.diff(L, dth1dt), t)).simplify()\n",
    "LE2 = (smp.diff(L, theta2) - smp.diff(smp.diff(L, dth2dt), t)).simplify()"
   ]
  },
  {
   "cell_type": "code",
   "execution_count": 11,
   "id": "8b2941ee-5c3d-459e-a1bc-abff616ceaf1",
   "metadata": {
    "tags": []
   },
   "outputs": [
    {
     "data": {
      "text/latex": [
       "$\\displaystyle - L_{1} \\left(L_{1} m_{1} \\frac{d^{2}}{d t^{2}} \\theta_{1}{\\left(t \\right)} + L_{1} m_{2} \\frac{d^{2}}{d t^{2}} \\theta_{1}{\\left(t \\right)} + L_{2} m_{2} \\sin{\\left(\\theta_{1}{\\left(t \\right)} - \\theta_{2}{\\left(t \\right)} \\right)} \\left(\\frac{d}{d t} \\theta_{2}{\\left(t \\right)}\\right)^{2} + L_{2} m_{2} \\cos{\\left(\\theta_{1}{\\left(t \\right)} - \\theta_{2}{\\left(t \\right)} \\right)} \\frac{d^{2}}{d t^{2}} \\theta_{2}{\\left(t \\right)} + g m_{1} \\sin{\\left(\\theta_{1}{\\left(t \\right)} \\right)} + g m_{2} \\sin{\\left(\\theta_{1}{\\left(t \\right)} \\right)}\\right)$"
      ],
      "text/plain": [
       "-L_1*(L_1*m_1*Derivative(\\theta_1(t), (t, 2)) + L_1*m_2*Derivative(\\theta_1(t), (t, 2)) + L_2*m_2*sin(\\theta_1(t) - \\theta_2(t))*Derivative(\\theta_2(t), t)**2 + L_2*m_2*cos(\\theta_1(t) - \\theta_2(t))*Derivative(\\theta_2(t), (t, 2)) + g*m_1*sin(\\theta_1(t)) + g*m_2*sin(\\theta_1(t)))"
      ]
     },
     "execution_count": 11,
     "metadata": {},
     "output_type": "execute_result"
    }
   ],
   "source": [
    "LE1"
   ]
  },
  {
   "cell_type": "code",
   "execution_count": 12,
   "id": "2e6cde2d-cacf-4718-a6e2-b919d72690c8",
   "metadata": {
    "tags": []
   },
   "outputs": [
    {
     "data": {
      "text/latex": [
       "$\\displaystyle L_{2} m_{2} \\left(L_{1} \\sin{\\left(\\theta_{1}{\\left(t \\right)} - \\theta_{2}{\\left(t \\right)} \\right)} \\left(\\frac{d}{d t} \\theta_{1}{\\left(t \\right)}\\right)^{2} - L_{1} \\cos{\\left(\\theta_{1}{\\left(t \\right)} - \\theta_{2}{\\left(t \\right)} \\right)} \\frac{d^{2}}{d t^{2}} \\theta_{1}{\\left(t \\right)} - L_{2} \\frac{d^{2}}{d t^{2}} \\theta_{2}{\\left(t \\right)} - g \\sin{\\left(\\theta_{2}{\\left(t \\right)} \\right)}\\right)$"
      ],
      "text/plain": [
       "L_2*m_2*(L_1*sin(\\theta_1(t) - \\theta_2(t))*Derivative(\\theta_1(t), t)**2 - L_1*cos(\\theta_1(t) - \\theta_2(t))*Derivative(\\theta_1(t), (t, 2)) - L_2*Derivative(\\theta_2(t), (t, 2)) - g*sin(\\theta_2(t)))"
      ]
     },
     "execution_count": 12,
     "metadata": {},
     "output_type": "execute_result"
    }
   ],
   "source": [
    "LE2"
   ]
  },
  {
   "cell_type": "markdown",
   "id": "77996dd3-60f0-40a2-9104-846f96ccd751",
   "metadata": {},
   "source": [
    "Solve Lagranges equations (this assumes that `LE1` and `LE2` are both equal to zero)"
   ]
  },
  {
   "cell_type": "code",
   "execution_count": 13,
   "id": "86514849-7724-4ccf-88cd-659ca40a26b9",
   "metadata": {
    "tags": []
   },
   "outputs": [],
   "source": [
    "sols = smp.solve([LE1, LE2], ([th1_dd, th2_dd]), simplify=False, rational=False)"
   ]
  },
  {
   "cell_type": "code",
   "execution_count": 14,
   "id": "adaf714f-f8f6-465b-a731-76d4e3d0261a",
   "metadata": {
    "tags": []
   },
   "outputs": [
    {
     "data": {
      "text/plain": [
       "{Derivative(\\theta_1(t), (t, 2)): L_1*m_2*sin(\\theta_1(t) - \\theta_2(t))*cos(\\theta_1(t) - \\theta_2(t))*Derivative(\\theta_1(t), t)**2/(-L_1*m_1 + L_1*m_2*cos(\\theta_1(t) - \\theta_2(t))**2 - L_1*m_2) + L_2*m_2*sin(\\theta_1(t) - \\theta_2(t))*Derivative(\\theta_2(t), t)**2/(-L_1*m_1 + L_1*m_2*cos(\\theta_1(t) - \\theta_2(t))**2 - L_1*m_2) + g*m_1*sin(\\theta_1(t))/(-L_1*m_1 + L_1*m_2*cos(\\theta_1(t) - \\theta_2(t))**2 - L_1*m_2) + g*m_2*sin(\\theta_1(t))/(-L_1*m_1 + L_1*m_2*cos(\\theta_1(t) - \\theta_2(t))**2 - L_1*m_2) - g*m_2*sin(\\theta_2(t))*cos(\\theta_1(t) - \\theta_2(t))/(-L_1*m_1 + L_1*m_2*cos(\\theta_1(t) - \\theta_2(t))**2 - L_1*m_2),\n",
       " Derivative(\\theta_2(t), (t, 2)): -L_1*m_1*sin(\\theta_1(t) - \\theta_2(t))*Derivative(\\theta_1(t), t)**2/(-L_2*m_1 + L_2*m_2*cos(\\theta_1(t) - \\theta_2(t))**2 - L_2*m_2) - L_1*m_2*sin(\\theta_1(t) - \\theta_2(t))*Derivative(\\theta_1(t), t)**2/(-L_2*m_1 + L_2*m_2*cos(\\theta_1(t) - \\theta_2(t))**2 - L_2*m_2) - L_2*m_2*sin(\\theta_1(t) - \\theta_2(t))*cos(\\theta_1(t) - \\theta_2(t))*Derivative(\\theta_2(t), t)**2/(-L_2*m_1 + L_2*m_2*cos(\\theta_1(t) - \\theta_2(t))**2 - L_2*m_2) - g*m_1*sin(\\theta_1(t))*cos(\\theta_1(t) - \\theta_2(t))/(-L_2*m_1 + L_2*m_2*cos(\\theta_1(t) - \\theta_2(t))**2 - L_2*m_2) + g*m_1*sin(\\theta_2(t))/(-L_2*m_1 + L_2*m_2*cos(\\theta_1(t) - \\theta_2(t))**2 - L_2*m_2) - g*m_2*sin(\\theta_1(t))*cos(\\theta_1(t) - \\theta_2(t))/(-L_2*m_1 + L_2*m_2*cos(\\theta_1(t) - \\theta_2(t))**2 - L_2*m_2) + g*m_2*sin(\\theta_2(t))/(-L_2*m_1 + L_2*m_2*cos(\\theta_1(t) - \\theta_2(t))**2 - L_2*m_2)}"
      ]
     },
     "execution_count": 14,
     "metadata": {},
     "output_type": "execute_result"
    }
   ],
   "source": [
    "sols"
   ]
  },
  {
   "cell_type": "code",
   "execution_count": 15,
   "id": "a4a95cef-8d9f-4130-aa90-b97cef0bb6ce",
   "metadata": {
    "tags": []
   },
   "outputs": [
    {
     "data": {
      "text/latex": [
       "$\\displaystyle \\frac{L_{1} m_{2} \\sin{\\left(\\theta_{1}{\\left(t \\right)} - \\theta_{2}{\\left(t \\right)} \\right)} \\cos{\\left(\\theta_{1}{\\left(t \\right)} - \\theta_{2}{\\left(t \\right)} \\right)} \\left(\\frac{d}{d t} \\theta_{1}{\\left(t \\right)}\\right)^{2}}{- L_{1} m_{1} + L_{1} m_{2} \\cos^{2}{\\left(\\theta_{1}{\\left(t \\right)} - \\theta_{2}{\\left(t \\right)} \\right)} - L_{1} m_{2}} + \\frac{L_{2} m_{2} \\sin{\\left(\\theta_{1}{\\left(t \\right)} - \\theta_{2}{\\left(t \\right)} \\right)} \\left(\\frac{d}{d t} \\theta_{2}{\\left(t \\right)}\\right)^{2}}{- L_{1} m_{1} + L_{1} m_{2} \\cos^{2}{\\left(\\theta_{1}{\\left(t \\right)} - \\theta_{2}{\\left(t \\right)} \\right)} - L_{1} m_{2}} + \\frac{g m_{1} \\sin{\\left(\\theta_{1}{\\left(t \\right)} \\right)}}{- L_{1} m_{1} + L_{1} m_{2} \\cos^{2}{\\left(\\theta_{1}{\\left(t \\right)} - \\theta_{2}{\\left(t \\right)} \\right)} - L_{1} m_{2}} + \\frac{g m_{2} \\sin{\\left(\\theta_{1}{\\left(t \\right)} \\right)}}{- L_{1} m_{1} + L_{1} m_{2} \\cos^{2}{\\left(\\theta_{1}{\\left(t \\right)} - \\theta_{2}{\\left(t \\right)} \\right)} - L_{1} m_{2}} - \\frac{g m_{2} \\sin{\\left(\\theta_{2}{\\left(t \\right)} \\right)} \\cos{\\left(\\theta_{1}{\\left(t \\right)} - \\theta_{2}{\\left(t \\right)} \\right)}}{- L_{1} m_{1} + L_{1} m_{2} \\cos^{2}{\\left(\\theta_{1}{\\left(t \\right)} - \\theta_{2}{\\left(t \\right)} \\right)} - L_{1} m_{2}}$"
      ],
      "text/plain": [
       "L_1*m_2*sin(\\theta_1(t) - \\theta_2(t))*cos(\\theta_1(t) - \\theta_2(t))*Derivative(\\theta_1(t), t)**2/(-L_1*m_1 + L_1*m_2*cos(\\theta_1(t) - \\theta_2(t))**2 - L_1*m_2) + L_2*m_2*sin(\\theta_1(t) - \\theta_2(t))*Derivative(\\theta_2(t), t)**2/(-L_1*m_1 + L_1*m_2*cos(\\theta_1(t) - \\theta_2(t))**2 - L_1*m_2) + g*m_1*sin(\\theta_1(t))/(-L_1*m_1 + L_1*m_2*cos(\\theta_1(t) - \\theta_2(t))**2 - L_1*m_2) + g*m_2*sin(\\theta_1(t))/(-L_1*m_1 + L_1*m_2*cos(\\theta_1(t) - \\theta_2(t))**2 - L_1*m_2) - g*m_2*sin(\\theta_2(t))*cos(\\theta_1(t) - \\theta_2(t))/(-L_1*m_1 + L_1*m_2*cos(\\theta_1(t) - \\theta_2(t))**2 - L_1*m_2)"
      ]
     },
     "execution_count": 15,
     "metadata": {},
     "output_type": "execute_result"
    }
   ],
   "source": [
    "sols[th1_dd]"
   ]
  },
  {
   "cell_type": "code",
   "execution_count": 16,
   "id": "90117774-6751-434c-a196-87fe8285b4e3",
   "metadata": {
    "tags": []
   },
   "outputs": [
    {
     "data": {
      "text/latex": [
       "$\\displaystyle - \\frac{L_{1} m_{1} \\sin{\\left(\\theta_{1}{\\left(t \\right)} - \\theta_{2}{\\left(t \\right)} \\right)} \\left(\\frac{d}{d t} \\theta_{1}{\\left(t \\right)}\\right)^{2}}{- L_{2} m_{1} + L_{2} m_{2} \\cos^{2}{\\left(\\theta_{1}{\\left(t \\right)} - \\theta_{2}{\\left(t \\right)} \\right)} - L_{2} m_{2}} - \\frac{L_{1} m_{2} \\sin{\\left(\\theta_{1}{\\left(t \\right)} - \\theta_{2}{\\left(t \\right)} \\right)} \\left(\\frac{d}{d t} \\theta_{1}{\\left(t \\right)}\\right)^{2}}{- L_{2} m_{1} + L_{2} m_{2} \\cos^{2}{\\left(\\theta_{1}{\\left(t \\right)} - \\theta_{2}{\\left(t \\right)} \\right)} - L_{2} m_{2}} - \\frac{L_{2} m_{2} \\sin{\\left(\\theta_{1}{\\left(t \\right)} - \\theta_{2}{\\left(t \\right)} \\right)} \\cos{\\left(\\theta_{1}{\\left(t \\right)} - \\theta_{2}{\\left(t \\right)} \\right)} \\left(\\frac{d}{d t} \\theta_{2}{\\left(t \\right)}\\right)^{2}}{- L_{2} m_{1} + L_{2} m_{2} \\cos^{2}{\\left(\\theta_{1}{\\left(t \\right)} - \\theta_{2}{\\left(t \\right)} \\right)} - L_{2} m_{2}} - \\frac{g m_{1} \\sin{\\left(\\theta_{1}{\\left(t \\right)} \\right)} \\cos{\\left(\\theta_{1}{\\left(t \\right)} - \\theta_{2}{\\left(t \\right)} \\right)}}{- L_{2} m_{1} + L_{2} m_{2} \\cos^{2}{\\left(\\theta_{1}{\\left(t \\right)} - \\theta_{2}{\\left(t \\right)} \\right)} - L_{2} m_{2}} + \\frac{g m_{1} \\sin{\\left(\\theta_{2}{\\left(t \\right)} \\right)}}{- L_{2} m_{1} + L_{2} m_{2} \\cos^{2}{\\left(\\theta_{1}{\\left(t \\right)} - \\theta_{2}{\\left(t \\right)} \\right)} - L_{2} m_{2}} - \\frac{g m_{2} \\sin{\\left(\\theta_{1}{\\left(t \\right)} \\right)} \\cos{\\left(\\theta_{1}{\\left(t \\right)} - \\theta_{2}{\\left(t \\right)} \\right)}}{- L_{2} m_{1} + L_{2} m_{2} \\cos^{2}{\\left(\\theta_{1}{\\left(t \\right)} - \\theta_{2}{\\left(t \\right)} \\right)} - L_{2} m_{2}} + \\frac{g m_{2} \\sin{\\left(\\theta_{2}{\\left(t \\right)} \\right)}}{- L_{2} m_{1} + L_{2} m_{2} \\cos^{2}{\\left(\\theta_{1}{\\left(t \\right)} - \\theta_{2}{\\left(t \\right)} \\right)} - L_{2} m_{2}}$"
      ],
      "text/plain": [
       "-L_1*m_1*sin(\\theta_1(t) - \\theta_2(t))*Derivative(\\theta_1(t), t)**2/(-L_2*m_1 + L_2*m_2*cos(\\theta_1(t) - \\theta_2(t))**2 - L_2*m_2) - L_1*m_2*sin(\\theta_1(t) - \\theta_2(t))*Derivative(\\theta_1(t), t)**2/(-L_2*m_1 + L_2*m_2*cos(\\theta_1(t) - \\theta_2(t))**2 - L_2*m_2) - L_2*m_2*sin(\\theta_1(t) - \\theta_2(t))*cos(\\theta_1(t) - \\theta_2(t))*Derivative(\\theta_2(t), t)**2/(-L_2*m_1 + L_2*m_2*cos(\\theta_1(t) - \\theta_2(t))**2 - L_2*m_2) - g*m_1*sin(\\theta_1(t))*cos(\\theta_1(t) - \\theta_2(t))/(-L_2*m_1 + L_2*m_2*cos(\\theta_1(t) - \\theta_2(t))**2 - L_2*m_2) + g*m_1*sin(\\theta_2(t))/(-L_2*m_1 + L_2*m_2*cos(\\theta_1(t) - \\theta_2(t))**2 - L_2*m_2) - g*m_2*sin(\\theta_1(t))*cos(\\theta_1(t) - \\theta_2(t))/(-L_2*m_1 + L_2*m_2*cos(\\theta_1(t) - \\theta_2(t))**2 - L_2*m_2) + g*m_2*sin(\\theta_2(t))/(-L_2*m_1 + L_2*m_2*cos(\\theta_1(t) - \\theta_2(t))**2 - L_2*m_2)"
      ]
     },
     "execution_count": 16,
     "metadata": {},
     "output_type": "execute_result"
    }
   ],
   "source": [
    "sols[th2_dd]"
   ]
  },
  {
   "cell_type": "markdown",
   "id": "85139fa0-1695-4ffb-aef2-b6739674cb63",
   "metadata": {},
   "source": [
    "Now we have \n",
    "\n",
    "* $\\frac{d^2 \\theta_1}{dt^2} = ...$\n",
    "* $\\frac{d^2 \\theta_2}{dt^2} = ...$\n",
    "\n",
    "These are two second order ODEs! In python we can only solve systems of first order ODEs. Any system of second order ODEs can be converted as follows:\n",
    "\n",
    "1. Define $z_1 = d\\theta_1/dt$ and $z_2=d\\theta_2/dt$\n",
    "2. Then $dz_1/dt = d^2\\theta_1/dt^2$ and $dz_2/dt = d^2\\theta_2/dt^2$\n",
    "\n",
    "Now we get a system of 4 first order ODEs (as opposed to 2 second order ones)\n",
    "\n",
    "* $d z_1/dt = ...$\n",
    "* $d\\theta_1/dt = z_1$\n",
    "* $d z_2/dt = ...$\n",
    "* $d\\theta_2/dt = z_1$\n",
    "\n",
    "We need to convert the **symbolic** expressions above to numerical functions so we can use them in a numerical python solver. For this we use `smp.lambdify`"
   ]
  },
  {
   "cell_type": "code",
   "execution_count": 17,
   "id": "0d324d67-7e17-422f-b9e5-b29604021e2d",
   "metadata": {
    "tags": []
   },
   "outputs": [],
   "source": [
    "dz1dt_f = smp.lambdify((t,g,m1,m2,L1,L2,theta1,theta2,dth1dt,dth2dt), sols[th1_dd])\n",
    "dz2dt_f = smp.lambdify((t,g,m1,m2,L1,L2,theta1,theta2,dth1dt,dth2dt), sols[th2_dd])\n",
    "dth1dt_f = smp.lambdify(dth1dt, dth1dt)\n",
    "dth2dt_f = smp.lambdify(dth2dt, dth2dt)"
   ]
  },
  {
   "cell_type": "markdown",
   "id": "40bf1b8e-ac45-424f-98f6-c39de1d09f11",
   "metadata": {},
   "source": [
    "Now define $\\vec{S} = (\\theta_1, z_1, \\theta_2, z_2)$. IF we're going to use an ODE solver in python, we need to write a function that takes in $\\vec{S}$ and $t$ and returns $d\\vec{S}/dt$. In other words, we need to define $d\\vec{S}/dt (\\vec{S}, t)$\n",
    "\n",
    "* Our system of ODEs can be fully specified using $d\\vec{S}/dt$ and depends only on $\\vec{S}$ and $t$"
   ]
  },
  {
   "cell_type": "code",
   "execution_count": 18,
   "id": "d544db0d-4404-40bd-9c43-4fefbb32517f",
   "metadata": {
    "tags": []
   },
   "outputs": [],
   "source": [
    "def dSdt(S, t, g, m1, m2, L1, L2):\n",
    "    theta1, z1, theta2, z2 = S\n",
    "    return [\n",
    "        dth1dt_f(z1),\n",
    "        dz1dt_f(t, g, m1, m2, L1, L2, theta1, theta2, z1, z2),\n",
    "        dth2dt_f(z2),\n",
    "        dz2dt_f(t, g, m1, m2, L1, L2, theta1, theta2, z1, z2),\n",
    "    ]"
   ]
  },
  {
   "cell_type": "markdown",
   "id": "421db8d1-c414-4117-b657-5ef775778f83",
   "metadata": {},
   "source": [
    "Solve the system of ODEs using scipys `odeint` method"
   ]
  },
  {
   "cell_type": "code",
   "execution_count": 23,
   "id": "05e13ca0-bb8d-4de7-8006-68053ece4bf6",
   "metadata": {
    "tags": []
   },
   "outputs": [],
   "source": [
    "t = np.linspace(0, 40, 1001)\n",
    "g = 9.81\n",
    "m1=1\n",
    "m2=1\n",
    "L1 = 1\n",
    "L2 = 1\n",
    "res = odeint(dSdt, y0=[2.3, 5, 1, 2], t=t, args=(g,m1,m2,L1,L2))"
   ]
  },
  {
   "cell_type": "code",
   "execution_count": 24,
   "id": "c0b8a824-6264-49f8-a243-b49606048ef4",
   "metadata": {
    "tags": []
   },
   "outputs": [
    {
     "data": {
      "text/plain": [
       "array([[  2.3       ,   2.49095255,   2.66494819, ..., 109.96232191,\n",
       "        110.10185633, 110.24532026],\n",
       "       [  5.        ,   4.55565901,   4.14928285, ...,   3.46023055,\n",
       "          3.52661243,   3.65832415],\n",
       "       [  1.        ,   1.09367081,   1.20914692, ..., 211.62092931,\n",
       "        211.65439271, 211.68320626],\n",
       "       [  2.        ,   2.64734603,   3.09645182, ...,   0.88559002,\n",
       "          0.78401101,   0.64906359]])"
      ]
     },
     "execution_count": 24,
     "metadata": {},
     "output_type": "execute_result"
    }
   ],
   "source": [
    "res.T"
   ]
  },
  {
   "cell_type": "markdown",
   "id": "e3c6d86f-db68-4b2f-a7be-b513d2854e97",
   "metadata": {},
   "source": [
    "Can obtain $\\theta_1(t)$ and $\\theta_2(t)$ from the res"
   ]
  },
  {
   "cell_type": "code",
   "execution_count": 25,
   "id": "059a6457-3578-4afb-bc43-8e9d187e4099",
   "metadata": {
    "tags": []
   },
   "outputs": [],
   "source": [
    "theta1 = res.T[0]\n",
    "theta2 = res.T[2]"
   ]
  },
  {
   "cell_type": "code",
   "execution_count": 26,
   "id": "c3a670e7-f27e-4380-9021-184b5e836103",
   "metadata": {
    "tags": []
   },
   "outputs": [
    {
     "data": {
      "text/plain": [
       "[<matplotlib.lines.Line2D at 0x7fd1bab753d0>]"
      ]
     },
     "execution_count": 26,
     "metadata": {},
     "output_type": "execute_result"
    },
    {
     "data": {
      "image/png": "[encoded data removed]",
      "text/plain": [
       "<Figure size 640x480 with 1 Axes>"
      ]
     },
     "metadata": {},
     "output_type": "display_data"
    }
   ],
   "source": [
    "plt.xlabel(r\"Time (t)\")\n",
    "plt.ylabel(r\"$\\theta_2(t)$\")\n",
    "plt.plot(t, theta2)"
   ]
  },
  {
   "cell_type": "markdown",
   "id": "6c6b247f-27fb-4a8d-b328-9fb8eab568bd",
   "metadata": {},
   "source": [
    "Here's a function that takes in $\\theta_1$ and $\\theta_2$ and returns the location (x,y) of the two masses."
   ]
  },
  {
   "cell_type": "code",
   "execution_count": 27,
   "id": "9e62869d-1271-4a74-80f3-dafb7a62699e",
   "metadata": {
    "tags": []
   },
   "outputs": [],
   "source": [
    "def get_x1y1x2y2(t, the1, the2, L1, L2):\n",
    "    return (L1*np.sin(the1),\n",
    "            -L1*np.cos(the1),\n",
    "            L1*np.sin(the1) + L2*np.sin(the2),\n",
    "            -L1*np.cos(the1) - L2*np.cos(the2))\n",
    "\n",
    "x1, y1, x2, y2 = get_x1y1x2y2(t, res.T[0], res.T[2], L1, L2)"
   ]
  },
  {
   "cell_type": "code",
   "execution_count": 28,
   "id": "f6e8772b-981e-4f54-aa2e-91f5f1e5bed9",
   "metadata": {
    "tags": []
   },
   "outputs": [
    {
     "data": {
      "image/png": "[encoded data removed]",
      "text/plain": [
       "<Figure size 800x800 with 1 Axes>"
      ]
     },
     "metadata": {},
     "output_type": "display_data"
    }
   ],
   "source": [
    "def animate(i):\n",
    "    ln1.set_data([0, x1[i], x2[i]], [0, y1[i], y2[i]])\n",
    "    \n",
    "fig, ax = plt.subplots(1,1, figsize=(8,8))\n",
    "ax.set_facecolor('white')\n",
    "#ax.get_xaxis().set_ticks([])    # enable this to hide x axis ticks\n",
    "#ax.get_yaxis().set_ticks([])    # enable this to hide y axis ticks\n",
    "ln1, = plt.plot([], [], 'ko-', lw=2, markersize=10)\n",
    "ax.set_ylim(-2.5,2.5)\n",
    "ax.set_xlim(-2.5,2.5)\n",
    "ani = animation.FuncAnimation(fig, animate, frames=1000, interval=50)\n",
    "ani.save('double_pendulum.gif',writer='pillow',fps=25)"
   ]
  },
  {
   "cell_type": "code",
   "execution_count": null,
   "id": "0830fee9-e1ee-487d-b0a6-b25700db5996",
   "metadata": {},
   "outputs": [],
   "source": []
  }
 ],
 "metadata": {
  "kernelspec": {
   "display_name": "Python 3 (ipykernel)",
   "language": "python",
   "name": "python3"
  },
  "language_info": {
   "codemirror_mode": {
    "name": "ipython",
    "version": 3
   },
   "file_extension": ".py",
   "mimetype": "text/x-python",
   "name": "python",
   "nbconvert_exporter": "python",
   "pygments_lexer": "ipython3",
   "version": "3.11.4"
  }
 },
 "nbformat": 4,
 "nbformat_minor": 5
}
