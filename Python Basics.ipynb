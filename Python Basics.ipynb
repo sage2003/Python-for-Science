{
 "cells": [
  {
   "cell_type": "markdown",
   "id": "5fc9200d",
   "metadata": {},
   "source": [
    "# Basics Of Python"
   ]
  },
  {
   "cell_type": "markdown",
   "id": "f6177608",
   "metadata": {},
   "source": [
    "Basic print and comment statements"
   ]
  },
  {
   "cell_type": "code",
   "execution_count": 3,
   "id": "72d5b286",
   "metadata": {},
   "outputs": [
    {
     "name": "stdout",
     "output_type": "stream",
     "text": [
      "Hello\tHello\n",
      "HelloWorld\n"
     ]
    }
   ],
   "source": [
    "print(\"Hello\", end =\"\\t\")\n",
    "print(\"Hello\")\n",
    "print(\"Hello\" + \"World\")\n",
    "#single line comment"
   ]
  },
  {
   "cell_type": "markdown",
   "id": "32b51e6a",
   "metadata": {},
   "source": [
    "For python, no need to mention the data type and you can enclose strings in '' as well as \"\""
   ]
  },
  {
   "cell_type": "code",
   "execution_count": 6,
   "id": "b7afcd99",
   "metadata": {},
   "outputs": [
    {
     "name": "stdout",
     "output_type": "stream",
     "text": [
      "x=4\n",
      "y= 4.5\n",
      "z=&tatti\n",
      "z1 = tatti\n"
     ]
    }
   ],
   "source": [
    "x=4\n",
    "y=4.5\n",
    "z=\"tatti\"\n",
    "z1='tatti'\n",
    "print (\"x=\",x,sep='')\n",
    "print ('y=',y) #putting just a comma by default puts a space in between\n",
    "print('z=',z,sep='&') #if you want something else to be printed between the items, then you need to use the sep command after one more comma\n",
    "print('z1 =',z1)"
   ]
  },
  {
   "cell_type": "markdown",
   "id": "c43c2532",
   "metadata": {},
   "source": [
    "Basic Mathematical Calculations"
   ]
  },
  {
   "cell_type": "code",
   "execution_count": 8,
   "id": "a9c04600",
   "metadata": {},
   "outputs": [
    {
     "name": "stdout",
     "output_type": "stream",
     "text": [
      "p = 0.75\n",
      "p1 = 0\n",
      "q = 256\n",
      "e = 0\n"
     ]
    }
   ],
   "source": [
    "p=3/4\n",
    "print(\"p =\",p)\n",
    "p1=3//4 # // gives what in java is int x=3/4 (here, it is called floor division)\n",
    "print(\"p1 =\",p1)\n",
    "q=2**8 #in python, ** gives what in java is Math.pow()\n",
    "print('q =',q)\n",
    "e=4%2 # mod is same as in java i.e., %\n",
    "print(\"e =\",e)"
   ]
  },
  {
   "cell_type": "markdown",
   "id": "cc4a3527",
   "metadata": {},
   "source": [
    "Type casting is also same as in java, just instead of (int)x , write int(x)"
   ]
  },
  {
   "cell_type": "code",
   "execution_count": 9,
   "id": "c6ac8f01",
   "metadata": {},
   "outputs": [
    {
     "name": "stdout",
     "output_type": "stream",
     "text": [
      "t= 5\n"
     ]
    }
   ],
   "source": [
    "t=5.6\n",
    "t=int(5.6)\n",
    "print('t=',t)"
   ]
  },
  {
   "cell_type": "markdown",
   "id": "9696187e",
   "metadata": {},
   "source": [
    "Maximum and Minimum"
   ]
  },
  {
   "cell_type": "code",
   "execution_count": 10,
   "id": "4279b0e6",
   "metadata": {},
   "outputs": [
    {
     "name": "stdout",
     "output_type": "stream",
     "text": [
      "o= 5\n",
      "o= 4\n"
     ]
    }
   ],
   "source": [
    "o=max(4,5)\n",
    "print(\"o=\",o)\n",
    "o=min(4,5)\n",
    "print(\"o=\",o)"
   ]
  },
  {
   "cell_type": "markdown",
   "id": "65eee76d",
   "metadata": {},
   "source": [
    "## Taking Input"
   ]
  },
  {
   "cell_type": "code",
   "execution_count": 11,
   "id": "c96e7bbe",
   "metadata": {},
   "outputs": [
    {
     "name": "stdout",
     "output_type": "stream",
     "text": [
      "Enter a number :\n",
      "50\n",
      "You entered : 50\n",
      "Enter a Number : 25\n",
      "You entered : 25.0\n"
     ]
    }
   ],
   "source": [
    "print(\"Enter a number :\")\n",
    "x=input()\n",
    "print(\"You entered :\",x)\n",
    "x=float(input(\"Enter a Number : \"))\n",
    "print(\"You entered :\",x)"
   ]
  },
  {
   "cell_type": "markdown",
   "id": "50a65c14",
   "metadata": {},
   "source": [
    "## Working with Strings"
   ]
  },
  {
   "cell_type": "code",
   "execution_count": 12,
   "id": "0d4e767a",
   "metadata": {},
   "outputs": [
    {
     "name": "stdout",
     "output_type": "stream",
     "text": [
      "Length = 5\n",
      "Substring 1 = put\n",
      "Substring 2 = pu\n",
      "Substring 3 = inp\n",
      "Substring 4 = nput\n",
      "Enter a String :  inputouput\n",
      "Contains: True\n"
     ]
    }
   ],
   "source": [
    "#there is a built-in function len() in Python to calculate length of strings  \n",
    "str=\"input\"\n",
    "print(\"Length =\",len(str))\n",
    "print(\"Substring 1 =\", str[2: ])\n",
    "print(\"Substring 2 =\", str[2:4])\n",
    "print(\"Substring 3 =\", str[ :3])\n",
    "print(\"Substring 4 =\", str[-4: ])\n",
    "#for the str.contains(\"\") in java,we have the <\"\" in str> in python\n",
    "str=input(\"Enter a String :  \")\n",
    "print(\"Contains:\",\"put\" in str)"
   ]
  },
  {
   "cell_type": "markdown",
   "id": "fb10d99e",
   "metadata": {},
   "source": [
    "Removing the leading and trailing spaces"
   ]
  },
  {
   "cell_type": "code",
   "execution_count": 6,
   "id": "a1e32001",
   "metadata": {},
   "outputs": [
    {
     "name": "stdout",
     "output_type": "stream",
     "text": [
      "tatti\n"
     ]
    }
   ],
   "source": [
    "fn=\" tatti \"\n",
    "print(fn.strip())"
   ]
  },
  {
   "cell_type": "markdown",
   "id": "05e083e6",
   "metadata": {},
   "source": [
    "Making the first letter capital"
   ]
  },
  {
   "cell_type": "code",
   "execution_count": 3,
   "id": "6971f6b1",
   "metadata": {},
   "outputs": [
    {
     "name": "stdout",
     "output_type": "stream",
     "text": [
      "Tatti\n"
     ]
    }
   ],
   "source": [
    "print(fn.strip().title())"
   ]
  },
  {
   "cell_type": "markdown",
   "id": "8efef5f8",
   "metadata": {},
   "source": [
    "Converting to Upper or Lower Case"
   ]
  },
  {
   "cell_type": "code",
   "execution_count": 9,
   "id": "70a24683",
   "metadata": {},
   "outputs": [
    {
     "name": "stdout",
     "output_type": "stream",
     "text": [
      " TATTI \n",
      " tatti \n"
     ]
    }
   ],
   "source": [
    "print(fn.upper())\n",
    "print(fn.lower())"
   ]
  },
  {
   "cell_type": "markdown",
   "id": "2d680ae8",
   "metadata": {},
   "source": [
    "Reversing a String"
   ]
  },
  {
   "cell_type": "code",
   "execution_count": 10,
   "id": "34ca7627",
   "metadata": {
    "scrolled": true,
    "tags": []
   },
   "outputs": [
    {
     "name": "stdout",
     "output_type": "stream",
     "text": [
      "<reversed object at 0x000001A5542481C0>\n",
      "god yzal eht revo spmuj xof nworb kciuq ehT\n",
      "god yzal eht revo spmuj xof nworb kciuq ehT\n"
     ]
    }
   ],
   "source": [
    "x = \"The quick brown fox jumps over the lazy dog\"\n",
    "print(reversed(x))\n",
    "print(\"\".join(reversed(x))) #this uses concatenation\n",
    "print(x[::-1]) # this uses element indexing in lists. the last number tells python to run that many steps in each iteration"
   ]
  },
  {
   "cell_type": "code",
   "execution_count": 28,
   "id": "542c9c2a",
   "metadata": {},
   "outputs": [
    {
     "name": "stdout",
     "output_type": "stream",
     "text": [
      "[1, 2, 3, 4, 5, 6, 7, 8, 9, 10, 11, 12, 13, 14, 15, 16, 17, 18, 19, 20]\n",
      "[1, 2, 3, 4, 5, 6, 7, 8, 9, 10, 11, 12, 13, 14, 15, 16, 17, 18, 19, 20]\n",
      "[1, 2, 3, 4, 5, 6, 7, 8, 9, 10, 11, 12, 13, 14, 15, 16, 17, 18, 19, 20]\n",
      "[1, 2, 3, 4, 5, 6, 7, 8, 9, 10, 11, 12, 13, 14, 15, 16, 17, 18, 19, 20]\n",
      "[2, 3, 4, 5, 6, 7, 8, 9, 10, 11, 12, 13, 14, 15, 16, 17, 18, 19, 20]\n",
      "[20, 19, 18, 17, 16, 15, 14, 13, 12, 11, 10, 9, 8, 7, 6, 5, 4, 3, 2, 1]\n",
      "[1, 3, 5, 7, 9, 11, 13, 15, 17, 19]\n",
      "[1, 4, 7, 10, 13, 16, 19]\n"
     ]
    }
   ],
   "source": [
    "# example\n",
    "x = [1,2,3,4,5,6,7,8,9,10,11,12,13,14,15,16,17,18,19,20]\n",
    "print(x[::])\n",
    "print(x[:])\n",
    "print(x[0:20])\n",
    "print(x)\n",
    "print(x[1:20])\n",
    "print(x[::-1])\n",
    "print(x[0:20:2])\n",
    "print(x[0:20:3])"
   ]
  },
  {
   "cell_type": "markdown",
   "id": "cd9f69ef",
   "metadata": {},
   "source": [
    "Concatenation"
   ]
  },
  {
   "cell_type": "code",
   "execution_count": 9,
   "id": "cc11dfe8",
   "metadata": {},
   "outputs": [
    {
     "name": "stdout",
     "output_type": "stream",
     "text": [
      "Priyanshu\n",
      "P^r^i^y^a^n^s^h^u\n"
     ]
    }
   ],
   "source": [
    "x = ['P', 'r', 'i', 'y', 'a', 'n', 's', 'h', 'u']\n",
    "print(''.join(x)) # concatenates all the characters without any space\n",
    "print('^'.join(x)) # concatenates all the characters with $ in between every character"
   ]
  },
  {
   "cell_type": "markdown",
   "id": "6f92ecc1",
   "metadata": {},
   "source": [
    "Splitting a String"
   ]
  },
  {
   "cell_type": "code",
   "execution_count": 3,
   "id": "f84cca19",
   "metadata": {},
   "outputs": [
    {
     "name": "stdout",
     "output_type": "stream",
     "text": [
      "['The', 'quick,', 'brown', 'fox,', 'jumps', 'over,', 'the', 'lazy,', 'dog']\n",
      "['T', 'h', 'e', ' ', 'q', 'u', 'i', 'c', 'k', ',', ' ', 'b', 'r', 'o', 'w', 'n', ' ', 'f', 'o', 'x', ',', ' ', 'j', 'u', 'm', 'p', 's', ' ', 'o', 'v', 'e', 'r', ',', ' ', 't', 'h', 'e', ' ', 'l', 'a', 'z', 'y', ',', ' ', 'd', 'o', 'g']\n",
      "['The quick', ' brown fox', ' jumps over', ' the lazy', ' dog']\n"
     ]
    }
   ],
   "source": [
    "x = \"The quick, brown fox, jumps over, the lazy, dog\"\n",
    "print(x.split())\n",
    "print(list(x))\n",
    "print(x.split(','))"
   ]
  },
  {
   "cell_type": "markdown",
   "id": "94676b4c",
   "metadata": {},
   "source": [
    "## Working with Arrays/Lists"
   ]
  },
  {
   "cell_type": "code",
   "execution_count": 14,
   "id": "7b1d5af1",
   "metadata": {},
   "outputs": [
    {
     "name": "stdout",
     "output_type": "stream",
     "text": [
      "['house', 'mouse', 'blouse']\n",
      "Length: 3\n",
      "Index 1: mouse\n",
      "Index 2: blouse\n",
      "Index 2&3: ['mouse', 'blouse']\n",
      "['house', 'grouse', 'mouse', 'blouse']\n",
      "['house', 'mouse', 'blouse']\n",
      "['house']\n",
      "['house', 'mouse', 'blouse', 'house', 'mouse', 'blouse']\n",
      "['house', 'mouse', 'blouse', 'house', 'mouse', 'blouse', 'house', 'mouse', 'blouse']\n",
      "[['house', 'mouse', 'blouse', 'house', 'mouse', 'blouse'], ['house', 'mouse', 'blouse']]\n",
      "blouse\n",
      "[4, ['house', 'mouse', 'blouse']]\n"
     ]
    }
   ],
   "source": [
    "#arrays are called lists in python\n",
    "list=[] #this creates an empty list x=[]\n",
    "list.append(\"house\")\n",
    "list.append(\"mouse\")\n",
    "list.append(\"blouse\")\n",
    "print(list)\n",
    "print(\"Length:\", len(list))\n",
    "print(\"Index 1:\", list[1])\n",
    "print(\"Index 2:\",list[2])\n",
    "print(\"Index 2&3:\", list[1:3])\n",
    "list.insert(1,\"grouse\")\n",
    "print(list)\n",
    "#for deleting items from the list, there is an inbuilt function called del()\n",
    "del(list[1])\n",
    "print(list)\n",
    "del(list[1:3])\n",
    "print(list)\n",
    "list=[]\n",
    "list.append(\"house\")\n",
    "list.append(\"mouse\")\n",
    "list.append(\"blouse\")\n",
    "list2=[]\n",
    "list2.append(\"house\")\n",
    "list2.append(\"mouse\")\n",
    "list2.append(\"blouse\")\n",
    "\n",
    "list.extend(list2)\n",
    "print(list)\n",
    "list3=list+list2\n",
    "print(list3)\n",
    "list4=[]\n",
    "list4.append(list)\n",
    "list4.append(list2)\n",
    "print(list4)\n",
    "print(list4[0][5]) #to print fifth element of 0th element of list4\n",
    "list4[0]=4 # changing the 0th element of list4 to the number '4'\n",
    "print(list4)"
   ]
  },
  {
   "cell_type": "markdown",
   "id": "ec73ddaa",
   "metadata": {},
   "source": [
    "## Sorting using built-in functions"
   ]
  },
  {
   "cell_type": "code",
   "execution_count": 12,
   "id": "ee16f03a",
   "metadata": {},
   "outputs": [
    {
     "name": "stdout",
     "output_type": "stream",
     "text": [
      "Help on class list in module builtins:\n",
      "\n",
      "class list(object)\n",
      " |  list(iterable=(), /)\n",
      " |  \n",
      " |  Built-in mutable sequence.\n",
      " |  \n",
      " |  If no argument is given, the constructor creates a new empty list.\n",
      " |  The argument must be an iterable if specified.\n",
      " |  \n",
      " |  Methods defined here:\n",
      " |  \n",
      " |  __add__(self, value, /)\n",
      " |      Return self+value.\n",
      " |  \n",
      " |  __contains__(self, key, /)\n",
      " |      Return key in self.\n",
      " |  \n",
      " |  __delitem__(self, key, /)\n",
      " |      Delete self[key].\n",
      " |  \n",
      " |  __eq__(self, value, /)\n",
      " |      Return self==value.\n",
      " |  \n",
      " |  __ge__(self, value, /)\n",
      " |      Return self>=value.\n",
      " |  \n",
      " |  __getattribute__(self, name, /)\n",
      " |      Return getattr(self, name).\n",
      " |  \n",
      " |  __getitem__(...)\n",
      " |      x.__getitem__(y) <==> x[y]\n",
      " |  \n",
      " |  __gt__(self, value, /)\n",
      " |      Return self>value.\n",
      " |  \n",
      " |  __iadd__(self, value, /)\n",
      " |      Implement self+=value.\n",
      " |  \n",
      " |  __imul__(self, value, /)\n",
      " |      Implement self*=value.\n",
      " |  \n",
      " |  __init__(self, /, *args, **kwargs)\n",
      " |      Initialize self.  See help(type(self)) for accurate signature.\n",
      " |  \n",
      " |  __iter__(self, /)\n",
      " |      Implement iter(self).\n",
      " |  \n",
      " |  __le__(self, value, /)\n",
      " |      Return self<=value.\n",
      " |  \n",
      " |  __len__(self, /)\n",
      " |      Return len(self).\n",
      " |  \n",
      " |  __lt__(self, value, /)\n",
      " |      Return self<value.\n",
      " |  \n",
      " |  __mul__(self, value, /)\n",
      " |      Return self*value.\n",
      " |  \n",
      " |  __ne__(self, value, /)\n",
      " |      Return self!=value.\n",
      " |  \n",
      " |  __repr__(self, /)\n",
      " |      Return repr(self).\n",
      " |  \n",
      " |  __reversed__(self, /)\n",
      " |      Return a reverse iterator over the list.\n",
      " |  \n",
      " |  __rmul__(self, value, /)\n",
      " |      Return value*self.\n",
      " |  \n",
      " |  __setitem__(self, key, value, /)\n",
      " |      Set self[key] to value.\n",
      " |  \n",
      " |  __sizeof__(self, /)\n",
      " |      Return the size of the list in memory, in bytes.\n",
      " |  \n",
      " |  append(self, object, /)\n",
      " |      Append object to the end of the list.\n",
      " |  \n",
      " |  clear(self, /)\n",
      " |      Remove all items from list.\n",
      " |  \n",
      " |  copy(self, /)\n",
      " |      Return a shallow copy of the list.\n",
      " |  \n",
      " |  count(self, value, /)\n",
      " |      Return number of occurrences of value.\n",
      " |  \n",
      " |  extend(self, iterable, /)\n",
      " |      Extend list by appending elements from the iterable.\n",
      " |  \n",
      " |  index(self, value, start=0, stop=9223372036854775807, /)\n",
      " |      Return first index of value.\n",
      " |      \n",
      " |      Raises ValueError if the value is not present.\n",
      " |  \n",
      " |  insert(self, index, object, /)\n",
      " |      Insert object before index.\n",
      " |  \n",
      " |  pop(self, index=-1, /)\n",
      " |      Remove and return item at index (default last).\n",
      " |      \n",
      " |      Raises IndexError if list is empty or index is out of range.\n",
      " |  \n",
      " |  remove(self, value, /)\n",
      " |      Remove first occurrence of value.\n",
      " |      \n",
      " |      Raises ValueError if the value is not present.\n",
      " |  \n",
      " |  reverse(self, /)\n",
      " |      Reverse *IN PLACE*.\n",
      " |  \n",
      " |  sort(self, /, *, key=None, reverse=False)\n",
      " |      Sort the list in ascending order and return None.\n",
      " |      \n",
      " |      The sort is in-place (i.e. the list itself is modified) and stable (i.e. the\n",
      " |      order of two equal elements is maintained).\n",
      " |      \n",
      " |      If a key function is given, apply it once to each list item and sort them,\n",
      " |      ascending or descending, according to their function values.\n",
      " |      \n",
      " |      The reverse flag can be set to sort in descending order.\n",
      " |  \n",
      " |  ----------------------------------------------------------------------\n",
      " |  Class methods defined here:\n",
      " |  \n",
      " |  __class_getitem__(...) from builtins.type\n",
      " |      See PEP 585\n",
      " |  \n",
      " |  ----------------------------------------------------------------------\n",
      " |  Static methods defined here:\n",
      " |  \n",
      " |  __new__(*args, **kwargs) from builtins.type\n",
      " |      Create and return a new object.  See help(type) for accurate signature.\n",
      " |  \n",
      " |  ----------------------------------------------------------------------\n",
      " |  Data and other attributes defined here:\n",
      " |  \n",
      " |  __hash__ = None\n",
      "\n"
     ]
    }
   ],
   "source": [
    "help(list)"
   ]
  },
  {
   "cell_type": "code",
   "execution_count": 10,
   "id": "7cfa0a7c",
   "metadata": {},
   "outputs": [
    {
     "name": "stdout",
     "output_type": "stream",
     "text": [
      "[5, 10, 15, 20, 25, 30, 35, 40, 45, 50]\n",
      "[50, 45, 40, 35, 30, 25, 20, 15, 10, 5]\n"
     ]
    }
   ],
   "source": [
    "a = [5,10,15,20,25,30,35,40,45,50]\n",
    "a.sort() #ascending order\n",
    "print(a)\n",
    "a.sort(reverse=True) #descending order\n",
    "print(a)"
   ]
  },
  {
   "cell_type": "markdown",
   "id": "f9da9001",
   "metadata": {},
   "source": [
    "Sorting according to our own wish by changing the key values"
   ]
  },
  {
   "cell_type": "code",
   "execution_count": 13,
   "id": "324a8868",
   "metadata": {},
   "outputs": [
    {
     "name": "stdout",
     "output_type": "stream",
     "text": [
      "['Raju', 'Shyam', 'Mohan', 'Palash', 'Shreshth', 'Deenbandhu']\n"
     ]
    }
   ],
   "source": [
    "names = ['Raju', 'Shyam', 'Palash', 'Deenbandhu', 'Mohan', 'Shreshth']\n",
    "names.sort(key=len)\n",
    "print(names)"
   ]
  },
  {
   "cell_type": "code",
   "execution_count": 15,
   "id": "655b9259",
   "metadata": {
    "scrolled": true
   },
   "outputs": [
    {
     "name": "stdout",
     "output_type": "stream",
     "text": [
      "['Deenbandhu', 'Mohan', 'Palash', 'Raju', 'Shyam', 'Shreshth']\n"
     ]
    }
   ],
   "source": [
    "names = ['Raju', 'Shyam', 'Palash', 'Deenbandhu', 'Mohan', 'Shreshth']\n",
    "def SortByFirstLetter(element):\n",
    "    return element[0]\n",
    "names.sort(key=SortByFirstLetter)\n",
    "print(names)"
   ]
  },
  {
   "cell_type": "markdown",
   "id": "9361f5cf",
   "metadata": {},
   "source": [
    "Working with numerical lists"
   ]
  },
  {
   "cell_type": "code",
   "execution_count": 4,
   "id": "2ec3da5a",
   "metadata": {},
   "outputs": [
    {
     "name": "stdout",
     "output_type": "stream",
     "text": [
      "10,1\n"
     ]
    }
   ],
   "source": [
    "x = [1,2,3,4,5,6,7,8,9,10]\n",
    "print(max(x), min(x), sep=',')"
   ]
  },
  {
   "cell_type": "markdown",
   "id": "eb79c0c4",
   "metadata": {},
   "source": [
    "## How to Replace Values in a List in Python?"
   ]
  },
  {
   "cell_type": "markdown",
   "id": "57de9f43",
   "metadata": {},
   "source": [
    "1. Using List Indexing"
   ]
  },
  {
   "cell_type": "code",
   "execution_count": 15,
   "id": "59fc1122",
   "metadata": {},
   "outputs": [
    {
     "name": "stdout",
     "output_type": "stream",
     "text": [
      "['Shardul', 'Rohit', 'Rahul', 'Virat', 'Pant']\n"
     ]
    }
   ],
   "source": [
    "# Replace Values in a List using indexing\n",
    "  \n",
    "# define list\n",
    "l = [ 'Hardik','Rohit', 'Rahul', 'Virat', 'Pant']\n",
    "  \n",
    "# replace first value\n",
    "l[0] = 'Shardul'\n",
    "  \n",
    "# print list\n",
    "print(l)"
   ]
  },
  {
   "cell_type": "markdown",
   "id": "281df90a",
   "metadata": {},
   "source": [
    "2. Using For-Loop"
   ]
  },
  {
   "cell_type": "code",
   "execution_count": 16,
   "id": "5b4b684d",
   "metadata": {},
   "outputs": [
    {
     "name": "stdout",
     "output_type": "stream",
     "text": [
      "['Shardul', 'Rohit', 'Rahul', 'Virat', 'Ishan']\n"
     ]
    }
   ],
   "source": [
    "# Replace Values in a List using For Loop\n",
    "\n",
    "# define list\n",
    "l = ['Hardik', 'Rohit', 'Rahul', 'Virat', 'Pant']\n",
    "\n",
    "for i in range(len(l)):\n",
    "\n",
    "\t# replace hardik with shardul\n",
    "\tif l[i] == 'Hardik':\n",
    "\t\tl[i] = 'Shardul'\n",
    "\n",
    "\t# replace pant with ishan\n",
    "\tif l[i] == 'Pant':\n",
    "\t\tl[i] = 'Ishan'\n",
    "\n",
    "# print list\n",
    "print(l)\n"
   ]
  },
  {
   "cell_type": "markdown",
   "id": "4b70e0e1",
   "metadata": {},
   "source": [
    "3. Using While-Loop"
   ]
  },
  {
   "cell_type": "code",
   "execution_count": 17,
   "id": "cffc2efe",
   "metadata": {},
   "outputs": [
    {
     "name": "stdout",
     "output_type": "stream",
     "text": [
      "['Shardul', 'Rohit', 'Rahul', 'Virat', 'Ishan']\n"
     ]
    }
   ],
   "source": [
    "# Replace Values in a List using While Loop\n",
    "\n",
    "# define list\n",
    "l = ['Hardik', 'Rohit', 'Rahul', 'Virat', 'Pant']\n",
    "\n",
    "i = 0\n",
    "while i < len(l):\n",
    "\n",
    "\t# replace hardik with shardul\n",
    "\tif l[i] == 'Hardik':\n",
    "\t\tl[i] = 'Shardul'\n",
    "\n",
    "\t# replace pant with ishan\n",
    "\tif l[i] == 'Pant':\n",
    "\t\tl[i] = 'Ishan'\n",
    "\n",
    "\ti += 1\n",
    "\n",
    "# print list\n",
    "print(l)\n"
   ]
  },
  {
   "cell_type": "markdown",
   "id": "a0ea3206",
   "metadata": {},
   "source": [
    "4. Using List Slicing (idk how this works)"
   ]
  },
  {
   "cell_type": "markdown",
   "id": "027d9377",
   "metadata": {},
   "source": [
    "Syntax: l=l[:index]+[‘new_value’]+l[index+1:]"
   ]
  },
  {
   "cell_type": "code",
   "execution_count": 18,
   "id": "91441c1c",
   "metadata": {},
   "outputs": [
    {
     "name": "stdout",
     "output_type": "stream",
     "text": [
      "['Hardik', 'Rohit', 'Shikhar', 'Virat', 'Pant']\n"
     ]
    }
   ],
   "source": [
    "# Replace Values in a List using Slicing\n",
    "\n",
    "# define list\n",
    "l = ['Hardik', 'Rohit', 'Rahul', 'Virat', 'Pant']\n",
    "\n",
    "# find the index of Rahul\n",
    "i = l.index('Rahul')\n",
    "\n",
    "# replace Rahul with Shikhar\n",
    "l = l[:i]+['Shikhar']+l[i+1:]\n",
    "\n",
    "# print list\n",
    "print(l)\n"
   ]
  },
  {
   "cell_type": "markdown",
   "id": "2fd76dfe",
   "metadata": {},
   "source": [
    "## filter()"
   ]
  },
  {
   "cell_type": "code",
   "execution_count": 1,
   "id": "8a9e3284",
   "metadata": {},
   "outputs": [
    {
     "name": "stdout",
     "output_type": "stream",
     "text": [
      "[1, 3, 5, 13]\n",
      "[0, 2, 8]\n"
     ]
    }
   ],
   "source": [
    "# a list contains both even and odd numbers. \n",
    "seq = [0, 1, 2, 3, 5, 8, 13]\n",
    "  \n",
    "# result contains odd numbers of the list\n",
    "result = filter(lambda x: x % 2 != 0, seq)\n",
    "print(list(result))\n",
    "  \n",
    "# result contains even numbers of the list\n",
    "print(list(filter(lambda x: x % 2 == 0, seq)))"
   ]
  },
  {
   "cell_type": "markdown",
   "id": "4af545ed",
   "metadata": {},
   "source": [
    "## Tuples"
   ]
  },
  {
   "cell_type": "markdown",
   "id": "49376124",
   "metadata": {},
   "source": [
    "Strings in both java and python are considered immutable. Lists in python are mutable, but immutable arrays/lists in python are called tuples."
   ]
  },
  {
   "cell_type": "code",
   "execution_count": 22,
   "id": "c30ca1bc",
   "metadata": {},
   "outputs": [
    {
     "name": "stdout",
     "output_type": "stream",
     "text": [
      "(2, 3, 4, 5)\n",
      "('house', 'mouse', 'goose')\n",
      "(('house', 'mouse', 'goose'), 5, 'tea')\n"
     ]
    }
   ],
   "source": [
    "x = 2, 3, 4, 5 \n",
    "#x[0]=3 : this statement leads to an error\n",
    "print (x) \n",
    "#on printing tuples are enclosed in (), instead of [] as in case of conventional arrays\n",
    "x=\"house\",\"mouse\",\"goose\"\n",
    "print(x)\n",
    "y=x,5,\"tea\"\n",
    "print(y[:])"
   ]
  },
  {
   "cell_type": "code",
   "execution_count": 23,
   "id": "1f0e7ab4",
   "metadata": {},
   "outputs": [
    {
     "name": "stdout",
     "output_type": "stream",
     "text": [
      "('potty',)\n"
     ]
    }
   ],
   "source": [
    "#to create a tuple with only one element, enter the element followed by a comma\n",
    "x=\"potty\",\n",
    "print(x)"
   ]
  },
  {
   "cell_type": "code",
   "execution_count": 24,
   "id": "b566891c",
   "metadata": {},
   "outputs": [
    {
     "name": "stdout",
     "output_type": "stream",
     "text": [
      "5\n",
      "False\n"
     ]
    }
   ],
   "source": [
    "x=5,4,3,2,1  \n",
    "print(len(x))\n",
    "print(7 in x)"
   ]
  },
  {
   "cell_type": "markdown",
   "id": "94cd4e00",
   "metadata": {},
   "source": [
    "== and \"is\" (which in Java was .equals()) work in the opposite way as in Java. In python, == checks if the values are same whereas \"is\" checks if the object/instance is same\n"
   ]
  },
  {
   "cell_type": "code",
   "execution_count": 29,
   "id": "60800238",
   "metadata": {},
   "outputs": [
    {
     "name": "stdout",
     "output_type": "stream",
     "text": [
      "False\n",
      "Enter test value/string: house\n",
      "True\n",
      "False\n",
      "True\n",
      "True\n"
     ]
    }
   ],
   "source": [
    "x=4\n",
    "y=5\n",
    "print(x==y)\n",
    "x=input(\"Enter test value/string: \")\n",
    "y=\"house\"\n",
    "print(x==y)\n",
    "print(x is y)\n",
    "print(x is x)\n",
    "print(y is y)"
   ]
  },
  {
   "cell_type": "markdown",
   "id": "14cad4f4",
   "metadata": {},
   "source": [
    "## Logical Operators"
   ]
  },
  {
   "cell_type": "code",
   "execution_count": 48,
   "id": "a9e4d32c",
   "metadata": {},
   "outputs": [
    {
     "name": "stdout",
     "output_type": "stream",
     "text": [
      "True\n",
      "False\n",
      "True\n",
      "False\n",
      "True\n",
      "True\n"
     ]
    }
   ],
   "source": [
    "print(4<5)\n",
    "print(not(4<5)) # in python we use not() instead of !()\n",
    "print(4<5 and 6<7)\n",
    "print(4<5 and 6>7)\n",
    "print(4<5 or 6<7)\n",
    "print(4<5 or 6>7)"
   ]
  },
  {
   "cell_type": "markdown",
   "id": "97aeedf2",
   "metadata": {},
   "source": [
    "## Conditional Statements"
   ]
  },
  {
   "cell_type": "code",
   "execution_count": 35,
   "id": "13f7151a",
   "metadata": {},
   "outputs": [
    {
     "name": "stdout",
     "output_type": "stream",
     "text": [
      "3\n"
     ]
    }
   ],
   "source": [
    "#in python, indentation is used instead of brackets as in Java\n",
    "''' if(4<5):\n",
    "    print('1')\n",
    "    this will yield an error'''\n",
    "\n",
    "if(4>5):\n",
    "    print('1')\n",
    "elif(4>3):\n",
    "    print('3') #in python, we use elif: instead of \"else if\" as in Java\n",
    "else:\n",
    "    print('2')"
   ]
  },
  {
   "cell_type": "markdown",
   "id": "e978f09d",
   "metadata": {},
   "source": [
    "# Working with Loops\n",
    "## While-Loop"
   ]
  },
  {
   "cell_type": "code",
   "execution_count": 36,
   "id": "dc0b34f7",
   "metadata": {},
   "outputs": [
    {
     "name": "stdout",
     "output_type": "stream",
     "text": [
      "0\n",
      "1\n",
      "2\n",
      "3\n",
      "4\n"
     ]
    }
   ],
   "source": [
    "x=0\n",
    "#while loop\n",
    "while(x<5):\n",
    "    print(x)\n",
    "    x+=1 #in python, you can't use prefix and postfix operators ++ and --. You have to use the += "
   ]
  },
  {
   "cell_type": "markdown",
   "id": "c8762d23",
   "metadata": {},
   "source": [
    "## For-Loop"
   ]
  },
  {
   "cell_type": "code",
   "execution_count": 40,
   "id": "7f2f07f0",
   "metadata": {},
   "outputs": [
    {
     "name": "stdout",
     "output_type": "stream",
     "text": [
      "2,3,4,5,6,7,8,9,\n"
     ]
    }
   ],
   "source": [
    "for x in range(2,10):\n",
    "    print(x,end=\",\")\n",
    "print()"
   ]
  },
  {
   "cell_type": "markdown",
   "id": "57284e11",
   "metadata": {},
   "source": [
    "Variations"
   ]
  },
  {
   "cell_type": "code",
   "execution_count": 41,
   "id": "00c54686",
   "metadata": {},
   "outputs": [
    {
     "name": "stdout",
     "output_type": "stream",
     "text": [
      "2\n",
      "5\n",
      "8\n"
     ]
    }
   ],
   "source": [
    "for x in range(2,10,3): # first number is the starting value, second is the limit and third is the number of steps to take in each iteration (updation)\n",
    "    print(x)"
   ]
  },
  {
   "cell_type": "code",
   "execution_count": 44,
   "id": "9287258b",
   "metadata": {},
   "outputs": [
    {
     "name": "stdout",
     "output_type": "stream",
     "text": [
      "else entered test 1\n"
     ]
    }
   ],
   "source": [
    "for x in range(5):\n",
    "    if x==6:\n",
    "        break\n",
    "else:\n",
    "    print(\"else entered test 1\") #this is a unique feature of python that this else statement will execute only if the for loop executes completely and ends naturally. it will not work/execute if the loop breaks prematurely\n",
    "    \n",
    "for x in range(5):\n",
    "    if x==3:\n",
    "        break\n",
    "else:\n",
    "    print(\"else entered test 2\")"
   ]
  },
  {
   "cell_type": "markdown",
   "id": "3497bcf2",
   "metadata": {},
   "source": [
    "## Functions"
   ]
  },
  {
   "cell_type": "code",
   "execution_count": 45,
   "id": "d3d0d077",
   "metadata": {},
   "outputs": [
    {
     "name": "stdout",
     "output_type": "stream",
     "text": [
      "6\n",
      "6\n"
     ]
    }
   ],
   "source": [
    "def sum(a,b,c): #defining a function\n",
    "    return a+b+c \n",
    "\n",
    "mystery = sum #python has this unique feature called mystery variable\n",
    "\n",
    "print(mystery(1,2,3))\n",
    "print(sum(1,2,3))\n",
    "#both yield same results"
   ]
  },
  {
   "cell_type": "markdown",
   "id": "36d6ed33",
   "metadata": {},
   "source": [
    "Python provides you a feature using which you can set an optional parameter with a default value. If you provide a value for this parameter when calling the function, it will use that value, but if you don't, it will use the default value."
   ]
  },
  {
   "cell_type": "code",
   "execution_count": 47,
   "id": "bfcef45a",
   "metadata": {},
   "outputs": [
    {
     "name": "stdout",
     "output_type": "stream",
     "text": [
      "17\n",
      "12\n"
     ]
    }
   ],
   "source": [
    "def sum(a,b,c=10): \n",
    "    return a+b+c \n",
    "print(sum(3,4))\n",
    "print(sum(3,4,5))"
   ]
  },
  {
   "cell_type": "markdown",
   "id": "962c2b9a",
   "metadata": {},
   "source": [
    "## Anonymous/Lambda Functions"
   ]
  },
  {
   "cell_type": "markdown",
   "id": "263b2f95",
   "metadata": {},
   "source": [
    "Syntax - lambda arguments:manipulate (arguments)"
   ]
  },
  {
   "cell_type": "markdown",
   "id": "b9bb7829",
   "metadata": {},
   "source": [
    "This is used only for creating functions with single line code execution"
   ]
  },
  {
   "cell_type": "code",
   "execution_count": 1,
   "id": "870d1379",
   "metadata": {},
   "outputs": [
    {
     "name": "stdout",
     "output_type": "stream",
     "text": [
      "3\n"
     ]
    }
   ],
   "source": [
    "#Suppose I want to execute the following code snippet using lambda function :-\n",
    "# def add(a,b):\n",
    "#    return (a+b)\n",
    "# x=1\n",
    "# y=2\n",
    "# print(add(x,y))\n",
    "\n",
    "add = lambda x,y:x+y\n",
    "print(add(1,2))"
   ]
  },
  {
   "cell_type": "code",
   "execution_count": 4,
   "id": "44cd56fb",
   "metadata": {},
   "outputs": [
    {
     "name": "stdout",
     "output_type": "stream",
     "text": [
      "Enter a number : 5\n",
      "Enter a number : 6\n",
      "False\n"
     ]
    }
   ],
   "source": [
    "check_validity = lambda x,y:x>y\n",
    "x=input(\"Enter a number : \")\n",
    "y=input(\"Enter a number : \")\n",
    "print(check_validity(x,y))"
   ]
  },
  {
   "cell_type": "code",
   "execution_count": 5,
   "id": "04e27816",
   "metadata": {},
   "outputs": [
    {
     "name": "stdout",
     "output_type": "stream",
     "text": [
      "Enter a String : Priyanshu mahato\n",
      "P\n"
     ]
    }
   ],
   "source": [
    "first_letter = lambda s:s[0]\n",
    "str = input(\"Enter a String : \")\n",
    "str.strip()\n",
    "str.upper() #this converts the whole string to upper case\n",
    "print(first_letter(str))"
   ]
  },
  {
   "cell_type": "markdown",
   "id": "60e63840",
   "metadata": {},
   "source": [
    "Sorting lists using lambda functions"
   ]
  },
  {
   "cell_type": "code",
   "execution_count": 16,
   "id": "78c9c132",
   "metadata": {},
   "outputs": [
    {
     "name": "stdout",
     "output_type": "stream",
     "text": [
      "['Deenbandhu', 'Mohan', 'Palash', 'Raju', 'Shyam', 'Shreshth']\n"
     ]
    }
   ],
   "source": [
    "# names = ['Raju', 'Shyam', 'Palash', 'Deenbandhu', 'Mohan', 'Shreshth']\n",
    "# def SortByFirstLetter(element):\n",
    "#     return element[0]\n",
    "# names.sort(key=SortByFirstLetter)\n",
    "# print(names)\n",
    "# I will now attempt to execute this code snippet in one line using lambda function\n",
    "list1 = ['Raju', 'Shyam', 'Palash', 'Deenbandhu', 'Mohan', 'Shreshth']\n",
    "list1.sort(key=lambda x:x[0])\n",
    "print(list1)"
   ]
  },
  {
   "cell_type": "code",
   "execution_count": 18,
   "id": "867a67a5",
   "metadata": {},
   "outputs": [
    {
     "name": "stdout",
     "output_type": "stream",
     "text": [
      "[(3, 2, 4, 6, 7, 4), (2, 3, 43, 5), (3, 5, 3, 2, 5, 67), (2, 7, 4, 9, 132), (6, 24, 6, 34)]\n"
     ]
    }
   ],
   "source": [
    "list2 = [(2,3,43,5),(6,24,6,34),(2,7,4,9,132),(3,5,3,2,5,67),(3,2,4,6,7,4)]\n",
    "list2.sort(key=lambda y:y[1]) # sorting based on the 2nd element of each tuple\n",
    "print(list2)"
   ]
  },
  {
   "cell_type": "code",
   "execution_count": null,
   "id": "19f856c5",
   "metadata": {},
   "outputs": [],
   "source": []
  }
 ],
 "metadata": {
  "kernelspec": {
   "display_name": "Python 3 (ipykernel)",
   "language": "python",
   "name": "python3"
  },
  "language_info": {
   "codemirror_mode": {
    "name": "ipython",
    "version": 3
   },
   "file_extension": ".py",
   "mimetype": "text/x-python",
   "name": "python",
   "nbconvert_exporter": "python",
   "pygments_lexer": "ipython3",
   "version": "3.10.2"
  }
 },
 "nbformat": 4,
 "nbformat_minor": 5
}
